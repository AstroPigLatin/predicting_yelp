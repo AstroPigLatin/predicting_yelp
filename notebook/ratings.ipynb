{
 "cells": [
  {
   "cell_type": "code",
   "execution_count": 87,
   "metadata": {
    "execution": {
     "iopub.execute_input": "2020-08-27T18:55:18.607549Z",
     "iopub.status.busy": "2020-08-27T18:55:18.607231Z",
     "iopub.status.idle": "2020-08-27T18:55:18.612740Z",
     "shell.execute_reply": "2020-08-27T18:55:18.611293Z",
     "shell.execute_reply.started": "2020-08-27T18:55:18.607492Z"
    }
   },
   "outputs": [],
   "source": [
    "import json\n",
    "import pandas as pd\n",
    "import numpy as np\n",
    "import re\n",
    "from pandas import *"
   ]
  },
  {
   "cell_type": "code",
   "execution_count": 88,
   "metadata": {
    "execution": {
     "iopub.execute_input": "2020-08-27T18:55:18.614665Z",
     "iopub.status.busy": "2020-08-27T18:55:18.614435Z",
     "iopub.status.idle": "2020-08-27T18:55:18.618509Z",
     "shell.execute_reply": "2020-08-27T18:55:18.617740Z",
     "shell.execute_reply.started": "2020-08-27T18:55:18.614632Z"
    }
   },
   "outputs": [],
   "source": [
    "#word clouds\n",
    "import heapq\n",
    "from wordcloud import WordCloud, STOPWORDS\n",
    "from PIL import Image\n",
    "import collections\n",
    "import matplotlib.cm as cm\n",
    "from matplotlib import rcParams\n",
    "from tqdm import tqdm"
   ]
  },
  {
   "cell_type": "code",
   "execution_count": 89,
   "metadata": {
    "execution": {
     "iopub.execute_input": "2020-08-27T18:55:18.620142Z",
     "iopub.status.busy": "2020-08-27T18:55:18.619923Z",
     "iopub.status.idle": "2020-08-27T18:55:18.632914Z",
     "shell.execute_reply": "2020-08-27T18:55:18.631587Z",
     "shell.execute_reply.started": "2020-08-27T18:55:18.620116Z"
    }
   },
   "outputs": [
    {
     "name": "stderr",
     "output_type": "stream",
     "text": [
      "[nltk_data] Downloading package stopwords to\n",
      "[nltk_data]     /Users/globemain/nltk_data...\n",
      "[nltk_data]   Package stopwords is already up-to-date!\n",
      "[nltk_data] Downloading package wordnet to\n",
      "[nltk_data]     /Users/globemain/nltk_data...\n",
      "[nltk_data]   Package wordnet is already up-to-date!\n"
     ]
    },
    {
     "data": {
      "text/plain": [
       "True"
      ]
     },
     "execution_count": 89,
     "metadata": {},
     "output_type": "execute_result"
    }
   ],
   "source": [
    "#sentiment analysis\n",
    "from textblob import TextBlob\n",
    "\n",
    "#text preprocessing\n",
    "from nltk.corpus import stopwords\n",
    "import nltk\n",
    "from nltk.stem import WordNetLemmatizer \n",
    "nltk.download('stopwords')\n",
    "nltk.download('wordnet')"
   ]
  },
  {
   "cell_type": "code",
   "execution_count": 90,
   "metadata": {
    "execution": {
     "iopub.execute_input": "2020-08-27T18:55:18.634652Z",
     "iopub.status.busy": "2020-08-27T18:55:18.634323Z",
     "iopub.status.idle": "2020-08-27T18:55:18.641045Z",
     "shell.execute_reply": "2020-08-27T18:55:18.638677Z",
     "shell.execute_reply.started": "2020-08-27T18:55:18.634604Z"
    }
   },
   "outputs": [],
   "source": [
    "#hide warning\n",
    "import warnings\n",
    "warnings.filterwarnings(\"ignore\",category=DeprecationWarning)\n",
    "\n",
    "#plotting\n",
    "import matplotlib.pyplot as plt\n",
    "import seaborn as sns\n",
    "import plotly.express as px"
   ]
  },
  {
   "cell_type": "code",
   "execution_count": 91,
   "metadata": {
    "execution": {
     "iopub.execute_input": "2020-08-27T18:55:18.642748Z",
     "iopub.status.busy": "2020-08-27T18:55:18.642437Z",
     "iopub.status.idle": "2020-08-27T18:55:18.935268Z",
     "shell.execute_reply": "2020-08-27T18:55:18.933479Z",
     "shell.execute_reply.started": "2020-08-27T18:55:18.642717Z"
    }
   },
   "outputs": [],
   "source": [
    "df_final = pd.read_csv('data/mcdonalds_final.csv')"
   ]
  },
  {
   "cell_type": "code",
   "execution_count": 92,
   "metadata": {
    "execution": {
     "iopub.execute_input": "2020-08-27T18:55:18.941703Z",
     "iopub.status.busy": "2020-08-27T18:55:18.941129Z",
     "iopub.status.idle": "2020-08-27T18:55:18.956176Z",
     "shell.execute_reply": "2020-08-27T18:55:18.951454Z",
     "shell.execute_reply.started": "2020-08-27T18:55:18.941664Z"
    }
   },
   "outputs": [
    {
     "data": {
      "text/plain": [
       "(20414, 18)"
      ]
     },
     "execution_count": 92,
     "metadata": {},
     "output_type": "execute_result"
    }
   ],
   "source": [
    "df_final.shape"
   ]
  },
  {
   "cell_type": "code",
   "execution_count": 93,
   "metadata": {
    "execution": {
     "iopub.execute_input": "2020-08-27T18:55:18.963586Z",
     "iopub.status.busy": "2020-08-27T18:55:18.962771Z",
     "iopub.status.idle": "2020-08-27T18:55:19.023419Z",
     "shell.execute_reply": "2020-08-27T18:55:19.019802Z",
     "shell.execute_reply.started": "2020-08-27T18:55:18.963513Z"
    }
   },
   "outputs": [
    {
     "data": {
      "text/html": [
       "<div>\n",
       "<style scoped>\n",
       "    .dataframe tbody tr th:only-of-type {\n",
       "        vertical-align: middle;\n",
       "    }\n",
       "\n",
       "    .dataframe tbody tr th {\n",
       "        vertical-align: top;\n",
       "    }\n",
       "\n",
       "    .dataframe thead th {\n",
       "        text-align: right;\n",
       "    }\n",
       "</style>\n",
       "<table border=\"1\" class=\"dataframe\">\n",
       "  <thead>\n",
       "    <tr style=\"text-align: right;\">\n",
       "      <th></th>\n",
       "      <th>Unnamed: 0</th>\n",
       "      <th>business_id</th>\n",
       "      <th>name</th>\n",
       "      <th>city</th>\n",
       "      <th>state</th>\n",
       "      <th>latitude</th>\n",
       "      <th>longitude</th>\n",
       "      <th>stars_x</th>\n",
       "      <th>review_count</th>\n",
       "      <th>is_open</th>\n",
       "      <th>review_id</th>\n",
       "      <th>user_id</th>\n",
       "      <th>stars_y</th>\n",
       "      <th>useful</th>\n",
       "      <th>funny</th>\n",
       "      <th>cool</th>\n",
       "      <th>text</th>\n",
       "      <th>date</th>\n",
       "    </tr>\n",
       "  </thead>\n",
       "  <tbody>\n",
       "    <tr>\n",
       "      <th>0</th>\n",
       "      <td>0</td>\n",
       "      <td>CfwrsG76Wm4iLS22v_wAcg</td>\n",
       "      <td>McDonald's</td>\n",
       "      <td>Parma Heights</td>\n",
       "      <td>OH</td>\n",
       "      <td>41.385949</td>\n",
       "      <td>-81.768113</td>\n",
       "      <td>2.5</td>\n",
       "      <td>15</td>\n",
       "      <td>1</td>\n",
       "      <td>Jop9vLXGgLY5wccfxh08hg</td>\n",
       "      <td>VULFcmvS5-zp1wt-aokPwA</td>\n",
       "      <td>1.0</td>\n",
       "      <td>0</td>\n",
       "      <td>0</td>\n",
       "      <td>0</td>\n",
       "      <td>Try cleaning your play area once in a while. I...</td>\n",
       "      <td>2016-02-13 22:57:36</td>\n",
       "    </tr>\n",
       "    <tr>\n",
       "      <th>1</th>\n",
       "      <td>1</td>\n",
       "      <td>CfwrsG76Wm4iLS22v_wAcg</td>\n",
       "      <td>McDonald's</td>\n",
       "      <td>Parma Heights</td>\n",
       "      <td>OH</td>\n",
       "      <td>41.385949</td>\n",
       "      <td>-81.768113</td>\n",
       "      <td>2.5</td>\n",
       "      <td>15</td>\n",
       "      <td>1</td>\n",
       "      <td>14nFvaihx4rwTAETm9BJEA</td>\n",
       "      <td>83zQAHCvZGYgm8bjQoJ5wg</td>\n",
       "      <td>3.0</td>\n",
       "      <td>0</td>\n",
       "      <td>0</td>\n",
       "      <td>0</td>\n",
       "      <td>It is what it is, a McDonalds.  You get what y...</td>\n",
       "      <td>2014-08-02 16:19:00</td>\n",
       "    </tr>\n",
       "    <tr>\n",
       "      <th>2</th>\n",
       "      <td>2</td>\n",
       "      <td>CfwrsG76Wm4iLS22v_wAcg</td>\n",
       "      <td>McDonald's</td>\n",
       "      <td>Parma Heights</td>\n",
       "      <td>OH</td>\n",
       "      <td>41.385949</td>\n",
       "      <td>-81.768113</td>\n",
       "      <td>2.5</td>\n",
       "      <td>15</td>\n",
       "      <td>1</td>\n",
       "      <td>E8GI0Dkub-QHg1g0_4OiBg</td>\n",
       "      <td>wd02D3NPbIZWr67qfrDldw</td>\n",
       "      <td>1.0</td>\n",
       "      <td>2</td>\n",
       "      <td>1</td>\n",
       "      <td>0</td>\n",
       "      <td>Not one of the better McDonald's,  I'm not usu...</td>\n",
       "      <td>2016-02-06 00:55:30</td>\n",
       "    </tr>\n",
       "    <tr>\n",
       "      <th>3</th>\n",
       "      <td>3</td>\n",
       "      <td>CfwrsG76Wm4iLS22v_wAcg</td>\n",
       "      <td>McDonald's</td>\n",
       "      <td>Parma Heights</td>\n",
       "      <td>OH</td>\n",
       "      <td>41.385949</td>\n",
       "      <td>-81.768113</td>\n",
       "      <td>2.5</td>\n",
       "      <td>15</td>\n",
       "      <td>1</td>\n",
       "      <td>iwXKXdm2Vgi8qT2JKAbkBQ</td>\n",
       "      <td>PJ6LYU0111nU6ybRktbdpQ</td>\n",
       "      <td>5.0</td>\n",
       "      <td>0</td>\n",
       "      <td>0</td>\n",
       "      <td>0</td>\n",
       "      <td>We barely waited in the fast food line, and th...</td>\n",
       "      <td>2017-11-29 02:26:24</td>\n",
       "    </tr>\n",
       "    <tr>\n",
       "      <th>4</th>\n",
       "      <td>4</td>\n",
       "      <td>CfwrsG76Wm4iLS22v_wAcg</td>\n",
       "      <td>McDonald's</td>\n",
       "      <td>Parma Heights</td>\n",
       "      <td>OH</td>\n",
       "      <td>41.385949</td>\n",
       "      <td>-81.768113</td>\n",
       "      <td>2.5</td>\n",
       "      <td>15</td>\n",
       "      <td>1</td>\n",
       "      <td>MSyd64ek4d8K0-4uaxmfFQ</td>\n",
       "      <td>ofsfbDuMRXZm1NPfudAM2Q</td>\n",
       "      <td>3.0</td>\n",
       "      <td>1</td>\n",
       "      <td>0</td>\n",
       "      <td>0</td>\n",
       "      <td>The only reason they get three stars is becaus...</td>\n",
       "      <td>2018-04-22 18:22:53</td>\n",
       "    </tr>\n",
       "  </tbody>\n",
       "</table>\n",
       "</div>"
      ],
      "text/plain": [
       "   Unnamed: 0             business_id        name           city state  \\\n",
       "0           0  CfwrsG76Wm4iLS22v_wAcg  McDonald's  Parma Heights    OH   \n",
       "1           1  CfwrsG76Wm4iLS22v_wAcg  McDonald's  Parma Heights    OH   \n",
       "2           2  CfwrsG76Wm4iLS22v_wAcg  McDonald's  Parma Heights    OH   \n",
       "3           3  CfwrsG76Wm4iLS22v_wAcg  McDonald's  Parma Heights    OH   \n",
       "4           4  CfwrsG76Wm4iLS22v_wAcg  McDonald's  Parma Heights    OH   \n",
       "\n",
       "    latitude  longitude  stars_x  review_count  is_open  \\\n",
       "0  41.385949 -81.768113      2.5            15        1   \n",
       "1  41.385949 -81.768113      2.5            15        1   \n",
       "2  41.385949 -81.768113      2.5            15        1   \n",
       "3  41.385949 -81.768113      2.5            15        1   \n",
       "4  41.385949 -81.768113      2.5            15        1   \n",
       "\n",
       "                review_id                 user_id  stars_y  useful  funny  \\\n",
       "0  Jop9vLXGgLY5wccfxh08hg  VULFcmvS5-zp1wt-aokPwA      1.0       0      0   \n",
       "1  14nFvaihx4rwTAETm9BJEA  83zQAHCvZGYgm8bjQoJ5wg      3.0       0      0   \n",
       "2  E8GI0Dkub-QHg1g0_4OiBg  wd02D3NPbIZWr67qfrDldw      1.0       2      1   \n",
       "3  iwXKXdm2Vgi8qT2JKAbkBQ  PJ6LYU0111nU6ybRktbdpQ      5.0       0      0   \n",
       "4  MSyd64ek4d8K0-4uaxmfFQ  ofsfbDuMRXZm1NPfudAM2Q      3.0       1      0   \n",
       "\n",
       "   cool                                               text  \\\n",
       "0     0  Try cleaning your play area once in a while. I...   \n",
       "1     0  It is what it is, a McDonalds.  You get what y...   \n",
       "2     0  Not one of the better McDonald's,  I'm not usu...   \n",
       "3     0  We barely waited in the fast food line, and th...   \n",
       "4     0  The only reason they get three stars is becaus...   \n",
       "\n",
       "                  date  \n",
       "0  2016-02-13 22:57:36  \n",
       "1  2014-08-02 16:19:00  \n",
       "2  2016-02-06 00:55:30  \n",
       "3  2017-11-29 02:26:24  \n",
       "4  2018-04-22 18:22:53  "
      ]
     },
     "execution_count": 93,
     "metadata": {},
     "output_type": "execute_result"
    }
   ],
   "source": [
    "df_final.head()"
   ]
  },
  {
   "cell_type": "code",
   "execution_count": 94,
   "metadata": {
    "execution": {
     "iopub.execute_input": "2020-08-27T18:55:19.028323Z",
     "iopub.status.busy": "2020-08-27T18:55:19.027978Z",
     "iopub.status.idle": "2020-08-27T18:55:19.108172Z",
     "shell.execute_reply": "2020-08-27T18:55:19.106285Z",
     "shell.execute_reply.started": "2020-08-27T18:55:19.028279Z"
    }
   },
   "outputs": [
    {
     "data": {
      "text/html": [
       "<div>\n",
       "<style scoped>\n",
       "    .dataframe tbody tr th:only-of-type {\n",
       "        vertical-align: middle;\n",
       "    }\n",
       "\n",
       "    .dataframe tbody tr th {\n",
       "        vertical-align: top;\n",
       "    }\n",
       "\n",
       "    .dataframe thead th {\n",
       "        text-align: right;\n",
       "    }\n",
       "</style>\n",
       "<table border=\"1\" class=\"dataframe\">\n",
       "  <thead>\n",
       "    <tr style=\"text-align: right;\">\n",
       "      <th></th>\n",
       "      <th>business_id</th>\n",
       "      <th>city</th>\n",
       "      <th>state</th>\n",
       "      <th>latitude</th>\n",
       "      <th>longitude</th>\n",
       "      <th>stars_x</th>\n",
       "      <th>review_count</th>\n",
       "      <th>is_open</th>\n",
       "      <th>stars_y</th>\n",
       "      <th>useful</th>\n",
       "      <th>funny</th>\n",
       "      <th>cool</th>\n",
       "      <th>text</th>\n",
       "      <th>date</th>\n",
       "    </tr>\n",
       "  </thead>\n",
       "  <tbody>\n",
       "    <tr>\n",
       "      <th>0</th>\n",
       "      <td>CfwrsG76Wm4iLS22v_wAcg</td>\n",
       "      <td>Parma Heights</td>\n",
       "      <td>OH</td>\n",
       "      <td>41.385949</td>\n",
       "      <td>-81.768113</td>\n",
       "      <td>2.5</td>\n",
       "      <td>15</td>\n",
       "      <td>1</td>\n",
       "      <td>1.0</td>\n",
       "      <td>0</td>\n",
       "      <td>0</td>\n",
       "      <td>0</td>\n",
       "      <td>Try cleaning your play area once in a while. I...</td>\n",
       "      <td>2016-02-13 22:57:36</td>\n",
       "    </tr>\n",
       "    <tr>\n",
       "      <th>1</th>\n",
       "      <td>CfwrsG76Wm4iLS22v_wAcg</td>\n",
       "      <td>Parma Heights</td>\n",
       "      <td>OH</td>\n",
       "      <td>41.385949</td>\n",
       "      <td>-81.768113</td>\n",
       "      <td>2.5</td>\n",
       "      <td>15</td>\n",
       "      <td>1</td>\n",
       "      <td>3.0</td>\n",
       "      <td>0</td>\n",
       "      <td>0</td>\n",
       "      <td>0</td>\n",
       "      <td>It is what it is, a McDonalds.  You get what y...</td>\n",
       "      <td>2014-08-02 16:19:00</td>\n",
       "    </tr>\n",
       "    <tr>\n",
       "      <th>2</th>\n",
       "      <td>CfwrsG76Wm4iLS22v_wAcg</td>\n",
       "      <td>Parma Heights</td>\n",
       "      <td>OH</td>\n",
       "      <td>41.385949</td>\n",
       "      <td>-81.768113</td>\n",
       "      <td>2.5</td>\n",
       "      <td>15</td>\n",
       "      <td>1</td>\n",
       "      <td>1.0</td>\n",
       "      <td>2</td>\n",
       "      <td>1</td>\n",
       "      <td>0</td>\n",
       "      <td>Not one of the better McDonald's,  I'm not usu...</td>\n",
       "      <td>2016-02-06 00:55:30</td>\n",
       "    </tr>\n",
       "    <tr>\n",
       "      <th>3</th>\n",
       "      <td>CfwrsG76Wm4iLS22v_wAcg</td>\n",
       "      <td>Parma Heights</td>\n",
       "      <td>OH</td>\n",
       "      <td>41.385949</td>\n",
       "      <td>-81.768113</td>\n",
       "      <td>2.5</td>\n",
       "      <td>15</td>\n",
       "      <td>1</td>\n",
       "      <td>5.0</td>\n",
       "      <td>0</td>\n",
       "      <td>0</td>\n",
       "      <td>0</td>\n",
       "      <td>We barely waited in the fast food line, and th...</td>\n",
       "      <td>2017-11-29 02:26:24</td>\n",
       "    </tr>\n",
       "    <tr>\n",
       "      <th>4</th>\n",
       "      <td>CfwrsG76Wm4iLS22v_wAcg</td>\n",
       "      <td>Parma Heights</td>\n",
       "      <td>OH</td>\n",
       "      <td>41.385949</td>\n",
       "      <td>-81.768113</td>\n",
       "      <td>2.5</td>\n",
       "      <td>15</td>\n",
       "      <td>1</td>\n",
       "      <td>3.0</td>\n",
       "      <td>1</td>\n",
       "      <td>0</td>\n",
       "      <td>0</td>\n",
       "      <td>The only reason they get three stars is becaus...</td>\n",
       "      <td>2018-04-22 18:22:53</td>\n",
       "    </tr>\n",
       "    <tr>\n",
       "      <th>...</th>\n",
       "      <td>...</td>\n",
       "      <td>...</td>\n",
       "      <td>...</td>\n",
       "      <td>...</td>\n",
       "      <td>...</td>\n",
       "      <td>...</td>\n",
       "      <td>...</td>\n",
       "      <td>...</td>\n",
       "      <td>...</td>\n",
       "      <td>...</td>\n",
       "      <td>...</td>\n",
       "      <td>...</td>\n",
       "      <td>...</td>\n",
       "      <td>...</td>\n",
       "    </tr>\n",
       "    <tr>\n",
       "      <th>20409</th>\n",
       "      <td>Y-vxPbvPKcaLiYa9ZBXoDg</td>\n",
       "      <td>Pittsburgh</td>\n",
       "      <td>PA</td>\n",
       "      <td>40.440433</td>\n",
       "      <td>-79.998637</td>\n",
       "      <td>1.5</td>\n",
       "      <td>24</td>\n",
       "      <td>0</td>\n",
       "      <td>1.0</td>\n",
       "      <td>1</td>\n",
       "      <td>0</td>\n",
       "      <td>0</td>\n",
       "      <td>This location is actually closed. Was always u...</td>\n",
       "      <td>2019-09-29 17:39:23</td>\n",
       "    </tr>\n",
       "    <tr>\n",
       "      <th>20410</th>\n",
       "      <td>Y-vxPbvPKcaLiYa9ZBXoDg</td>\n",
       "      <td>Pittsburgh</td>\n",
       "      <td>PA</td>\n",
       "      <td>40.440433</td>\n",
       "      <td>-79.998637</td>\n",
       "      <td>1.5</td>\n",
       "      <td>24</td>\n",
       "      <td>0</td>\n",
       "      <td>2.0</td>\n",
       "      <td>2</td>\n",
       "      <td>1</td>\n",
       "      <td>1</td>\n",
       "      <td>The egg in the egg McGriddle was very dry, but...</td>\n",
       "      <td>2018-04-21 17:41:46</td>\n",
       "    </tr>\n",
       "    <tr>\n",
       "      <th>20411</th>\n",
       "      <td>Y-vxPbvPKcaLiYa9ZBXoDg</td>\n",
       "      <td>Pittsburgh</td>\n",
       "      <td>PA</td>\n",
       "      <td>40.440433</td>\n",
       "      <td>-79.998637</td>\n",
       "      <td>1.5</td>\n",
       "      <td>24</td>\n",
       "      <td>0</td>\n",
       "      <td>1.0</td>\n",
       "      <td>0</td>\n",
       "      <td>0</td>\n",
       "      <td>0</td>\n",
       "      <td>TRASH! THIS IS THE MOST GHETTO MCDONALDS I HAV...</td>\n",
       "      <td>2019-08-28 19:48:41</td>\n",
       "    </tr>\n",
       "    <tr>\n",
       "      <th>20412</th>\n",
       "      <td>Y-vxPbvPKcaLiYa9ZBXoDg</td>\n",
       "      <td>Pittsburgh</td>\n",
       "      <td>PA</td>\n",
       "      <td>40.440433</td>\n",
       "      <td>-79.998637</td>\n",
       "      <td>1.5</td>\n",
       "      <td>24</td>\n",
       "      <td>0</td>\n",
       "      <td>2.0</td>\n",
       "      <td>1</td>\n",
       "      <td>0</td>\n",
       "      <td>0</td>\n",
       "      <td>Went to this McDonald's because it was the clo...</td>\n",
       "      <td>2018-09-29 19:58:45</td>\n",
       "    </tr>\n",
       "    <tr>\n",
       "      <th>20413</th>\n",
       "      <td>Y-vxPbvPKcaLiYa9ZBXoDg</td>\n",
       "      <td>Pittsburgh</td>\n",
       "      <td>PA</td>\n",
       "      <td>40.440433</td>\n",
       "      <td>-79.998637</td>\n",
       "      <td>1.5</td>\n",
       "      <td>24</td>\n",
       "      <td>0</td>\n",
       "      <td>1.0</td>\n",
       "      <td>0</td>\n",
       "      <td>0</td>\n",
       "      <td>0</td>\n",
       "      <td>This place is absolutely filthy and scary.  Al...</td>\n",
       "      <td>2019-07-06 23:01:03</td>\n",
       "    </tr>\n",
       "  </tbody>\n",
       "</table>\n",
       "<p>20414 rows × 14 columns</p>\n",
       "</div>"
      ],
      "text/plain": [
       "                  business_id           city state   latitude  longitude  \\\n",
       "0      CfwrsG76Wm4iLS22v_wAcg  Parma Heights    OH  41.385949 -81.768113   \n",
       "1      CfwrsG76Wm4iLS22v_wAcg  Parma Heights    OH  41.385949 -81.768113   \n",
       "2      CfwrsG76Wm4iLS22v_wAcg  Parma Heights    OH  41.385949 -81.768113   \n",
       "3      CfwrsG76Wm4iLS22v_wAcg  Parma Heights    OH  41.385949 -81.768113   \n",
       "4      CfwrsG76Wm4iLS22v_wAcg  Parma Heights    OH  41.385949 -81.768113   \n",
       "...                       ...            ...   ...        ...        ...   \n",
       "20409  Y-vxPbvPKcaLiYa9ZBXoDg     Pittsburgh    PA  40.440433 -79.998637   \n",
       "20410  Y-vxPbvPKcaLiYa9ZBXoDg     Pittsburgh    PA  40.440433 -79.998637   \n",
       "20411  Y-vxPbvPKcaLiYa9ZBXoDg     Pittsburgh    PA  40.440433 -79.998637   \n",
       "20412  Y-vxPbvPKcaLiYa9ZBXoDg     Pittsburgh    PA  40.440433 -79.998637   \n",
       "20413  Y-vxPbvPKcaLiYa9ZBXoDg     Pittsburgh    PA  40.440433 -79.998637   \n",
       "\n",
       "       stars_x  review_count  is_open  stars_y  useful  funny  cool  \\\n",
       "0          2.5            15        1      1.0       0      0     0   \n",
       "1          2.5            15        1      3.0       0      0     0   \n",
       "2          2.5            15        1      1.0       2      1     0   \n",
       "3          2.5            15        1      5.0       0      0     0   \n",
       "4          2.5            15        1      3.0       1      0     0   \n",
       "...        ...           ...      ...      ...     ...    ...   ...   \n",
       "20409      1.5            24        0      1.0       1      0     0   \n",
       "20410      1.5            24        0      2.0       2      1     1   \n",
       "20411      1.5            24        0      1.0       0      0     0   \n",
       "20412      1.5            24        0      2.0       1      0     0   \n",
       "20413      1.5            24        0      1.0       0      0     0   \n",
       "\n",
       "                                                    text                 date  \n",
       "0      Try cleaning your play area once in a while. I...  2016-02-13 22:57:36  \n",
       "1      It is what it is, a McDonalds.  You get what y...  2014-08-02 16:19:00  \n",
       "2      Not one of the better McDonald's,  I'm not usu...  2016-02-06 00:55:30  \n",
       "3      We barely waited in the fast food line, and th...  2017-11-29 02:26:24  \n",
       "4      The only reason they get three stars is becaus...  2018-04-22 18:22:53  \n",
       "...                                                  ...                  ...  \n",
       "20409  This location is actually closed. Was always u...  2019-09-29 17:39:23  \n",
       "20410  The egg in the egg McGriddle was very dry, but...  2018-04-21 17:41:46  \n",
       "20411  TRASH! THIS IS THE MOST GHETTO MCDONALDS I HAV...  2019-08-28 19:48:41  \n",
       "20412  Went to this McDonald's because it was the clo...  2018-09-29 19:58:45  \n",
       "20413  This place is absolutely filthy and scary.  Al...  2019-07-06 23:01:03  \n",
       "\n",
       "[20414 rows x 14 columns]"
      ]
     },
     "execution_count": 94,
     "metadata": {},
     "output_type": "execute_result"
    }
   ],
   "source": [
    "# Drop unnecessary columns\n",
    "df_final = df_final.drop(['Unnamed: 0', 'name', 'user_id', 'review_id'], axis=1)\n",
    "df_final"
   ]
  },
  {
   "cell_type": "code",
   "execution_count": 95,
   "metadata": {
    "execution": {
     "iopub.execute_input": "2020-08-27T18:55:19.112719Z",
     "iopub.status.busy": "2020-08-27T18:55:19.111740Z",
     "iopub.status.idle": "2020-08-27T18:55:19.159152Z",
     "shell.execute_reply": "2020-08-27T18:55:19.158213Z",
     "shell.execute_reply.started": "2020-08-27T18:55:19.112664Z"
    }
   },
   "outputs": [
    {
     "data": {
      "text/html": [
       "<div>\n",
       "<style scoped>\n",
       "    .dataframe tbody tr th:only-of-type {\n",
       "        vertical-align: middle;\n",
       "    }\n",
       "\n",
       "    .dataframe tbody tr th {\n",
       "        vertical-align: top;\n",
       "    }\n",
       "\n",
       "    .dataframe thead th {\n",
       "        text-align: right;\n",
       "    }\n",
       "</style>\n",
       "<table border=\"1\" class=\"dataframe\">\n",
       "  <thead>\n",
       "    <tr style=\"text-align: right;\">\n",
       "      <th></th>\n",
       "      <th>business_id</th>\n",
       "      <th>city</th>\n",
       "      <th>state</th>\n",
       "      <th>latitude</th>\n",
       "      <th>longitude</th>\n",
       "      <th>stars_x</th>\n",
       "      <th>review_count</th>\n",
       "      <th>is_open</th>\n",
       "      <th>stars_y</th>\n",
       "      <th>useful</th>\n",
       "      <th>funny</th>\n",
       "      <th>cool</th>\n",
       "      <th>text</th>\n",
       "      <th>date</th>\n",
       "    </tr>\n",
       "  </thead>\n",
       "  <tbody>\n",
       "    <tr>\n",
       "      <th>0</th>\n",
       "      <td>CfwrsG76Wm4iLS22v_wAcg</td>\n",
       "      <td>Parma Heights</td>\n",
       "      <td>OH</td>\n",
       "      <td>41.385949</td>\n",
       "      <td>-81.768113</td>\n",
       "      <td>2.5</td>\n",
       "      <td>15</td>\n",
       "      <td>1</td>\n",
       "      <td>1.0</td>\n",
       "      <td>0</td>\n",
       "      <td>0</td>\n",
       "      <td>0</td>\n",
       "      <td>Try cleaning your play area once in a while. I...</td>\n",
       "      <td>2016-02-13 22:57:36</td>\n",
       "    </tr>\n",
       "    <tr>\n",
       "      <th>1</th>\n",
       "      <td>CfwrsG76Wm4iLS22v_wAcg</td>\n",
       "      <td>Parma Heights</td>\n",
       "      <td>OH</td>\n",
       "      <td>41.385949</td>\n",
       "      <td>-81.768113</td>\n",
       "      <td>2.5</td>\n",
       "      <td>15</td>\n",
       "      <td>1</td>\n",
       "      <td>3.0</td>\n",
       "      <td>0</td>\n",
       "      <td>0</td>\n",
       "      <td>0</td>\n",
       "      <td>It is what it is, a McDonalds.  You get what y...</td>\n",
       "      <td>2014-08-02 16:19:00</td>\n",
       "    </tr>\n",
       "    <tr>\n",
       "      <th>2</th>\n",
       "      <td>CfwrsG76Wm4iLS22v_wAcg</td>\n",
       "      <td>Parma Heights</td>\n",
       "      <td>OH</td>\n",
       "      <td>41.385949</td>\n",
       "      <td>-81.768113</td>\n",
       "      <td>2.5</td>\n",
       "      <td>15</td>\n",
       "      <td>1</td>\n",
       "      <td>1.0</td>\n",
       "      <td>2</td>\n",
       "      <td>1</td>\n",
       "      <td>0</td>\n",
       "      <td>Not one of the better McDonald's,  I'm not usu...</td>\n",
       "      <td>2016-02-06 00:55:30</td>\n",
       "    </tr>\n",
       "    <tr>\n",
       "      <th>3</th>\n",
       "      <td>CfwrsG76Wm4iLS22v_wAcg</td>\n",
       "      <td>Parma Heights</td>\n",
       "      <td>OH</td>\n",
       "      <td>41.385949</td>\n",
       "      <td>-81.768113</td>\n",
       "      <td>2.5</td>\n",
       "      <td>15</td>\n",
       "      <td>1</td>\n",
       "      <td>5.0</td>\n",
       "      <td>0</td>\n",
       "      <td>0</td>\n",
       "      <td>0</td>\n",
       "      <td>We barely waited in the fast food line, and th...</td>\n",
       "      <td>2017-11-29 02:26:24</td>\n",
       "    </tr>\n",
       "    <tr>\n",
       "      <th>4</th>\n",
       "      <td>CfwrsG76Wm4iLS22v_wAcg</td>\n",
       "      <td>Parma Heights</td>\n",
       "      <td>OH</td>\n",
       "      <td>41.385949</td>\n",
       "      <td>-81.768113</td>\n",
       "      <td>2.5</td>\n",
       "      <td>15</td>\n",
       "      <td>1</td>\n",
       "      <td>3.0</td>\n",
       "      <td>1</td>\n",
       "      <td>0</td>\n",
       "      <td>0</td>\n",
       "      <td>The only reason they get three stars is becaus...</td>\n",
       "      <td>2018-04-22 18:22:53</td>\n",
       "    </tr>\n",
       "    <tr>\n",
       "      <th>...</th>\n",
       "      <td>...</td>\n",
       "      <td>...</td>\n",
       "      <td>...</td>\n",
       "      <td>...</td>\n",
       "      <td>...</td>\n",
       "      <td>...</td>\n",
       "      <td>...</td>\n",
       "      <td>...</td>\n",
       "      <td>...</td>\n",
       "      <td>...</td>\n",
       "      <td>...</td>\n",
       "      <td>...</td>\n",
       "      <td>...</td>\n",
       "      <td>...</td>\n",
       "    </tr>\n",
       "    <tr>\n",
       "      <th>20409</th>\n",
       "      <td>Y-vxPbvPKcaLiYa9ZBXoDg</td>\n",
       "      <td>Pittsburgh</td>\n",
       "      <td>PA</td>\n",
       "      <td>40.440433</td>\n",
       "      <td>-79.998637</td>\n",
       "      <td>1.5</td>\n",
       "      <td>24</td>\n",
       "      <td>0</td>\n",
       "      <td>1.0</td>\n",
       "      <td>1</td>\n",
       "      <td>0</td>\n",
       "      <td>0</td>\n",
       "      <td>This location is actually closed. Was always u...</td>\n",
       "      <td>2019-09-29 17:39:23</td>\n",
       "    </tr>\n",
       "    <tr>\n",
       "      <th>20410</th>\n",
       "      <td>Y-vxPbvPKcaLiYa9ZBXoDg</td>\n",
       "      <td>Pittsburgh</td>\n",
       "      <td>PA</td>\n",
       "      <td>40.440433</td>\n",
       "      <td>-79.998637</td>\n",
       "      <td>1.5</td>\n",
       "      <td>24</td>\n",
       "      <td>0</td>\n",
       "      <td>2.0</td>\n",
       "      <td>2</td>\n",
       "      <td>1</td>\n",
       "      <td>1</td>\n",
       "      <td>The egg in the egg McGriddle was very dry, but...</td>\n",
       "      <td>2018-04-21 17:41:46</td>\n",
       "    </tr>\n",
       "    <tr>\n",
       "      <th>20411</th>\n",
       "      <td>Y-vxPbvPKcaLiYa9ZBXoDg</td>\n",
       "      <td>Pittsburgh</td>\n",
       "      <td>PA</td>\n",
       "      <td>40.440433</td>\n",
       "      <td>-79.998637</td>\n",
       "      <td>1.5</td>\n",
       "      <td>24</td>\n",
       "      <td>0</td>\n",
       "      <td>1.0</td>\n",
       "      <td>0</td>\n",
       "      <td>0</td>\n",
       "      <td>0</td>\n",
       "      <td>TRASH! THIS IS THE MOST GHETTO MCDONALDS I HAV...</td>\n",
       "      <td>2019-08-28 19:48:41</td>\n",
       "    </tr>\n",
       "    <tr>\n",
       "      <th>20412</th>\n",
       "      <td>Y-vxPbvPKcaLiYa9ZBXoDg</td>\n",
       "      <td>Pittsburgh</td>\n",
       "      <td>PA</td>\n",
       "      <td>40.440433</td>\n",
       "      <td>-79.998637</td>\n",
       "      <td>1.5</td>\n",
       "      <td>24</td>\n",
       "      <td>0</td>\n",
       "      <td>2.0</td>\n",
       "      <td>1</td>\n",
       "      <td>0</td>\n",
       "      <td>0</td>\n",
       "      <td>Went to this McDonald's because it was the clo...</td>\n",
       "      <td>2018-09-29 19:58:45</td>\n",
       "    </tr>\n",
       "    <tr>\n",
       "      <th>20413</th>\n",
       "      <td>Y-vxPbvPKcaLiYa9ZBXoDg</td>\n",
       "      <td>Pittsburgh</td>\n",
       "      <td>PA</td>\n",
       "      <td>40.440433</td>\n",
       "      <td>-79.998637</td>\n",
       "      <td>1.5</td>\n",
       "      <td>24</td>\n",
       "      <td>0</td>\n",
       "      <td>1.0</td>\n",
       "      <td>0</td>\n",
       "      <td>0</td>\n",
       "      <td>0</td>\n",
       "      <td>This place is absolutely filthy and scary.  Al...</td>\n",
       "      <td>2019-07-06 23:01:03</td>\n",
       "    </tr>\n",
       "  </tbody>\n",
       "</table>\n",
       "<p>20414 rows × 14 columns</p>\n",
       "</div>"
      ],
      "text/plain": [
       "                  business_id           city state   latitude  longitude  \\\n",
       "0      CfwrsG76Wm4iLS22v_wAcg  Parma Heights    OH  41.385949 -81.768113   \n",
       "1      CfwrsG76Wm4iLS22v_wAcg  Parma Heights    OH  41.385949 -81.768113   \n",
       "2      CfwrsG76Wm4iLS22v_wAcg  Parma Heights    OH  41.385949 -81.768113   \n",
       "3      CfwrsG76Wm4iLS22v_wAcg  Parma Heights    OH  41.385949 -81.768113   \n",
       "4      CfwrsG76Wm4iLS22v_wAcg  Parma Heights    OH  41.385949 -81.768113   \n",
       "...                       ...            ...   ...        ...        ...   \n",
       "20409  Y-vxPbvPKcaLiYa9ZBXoDg     Pittsburgh    PA  40.440433 -79.998637   \n",
       "20410  Y-vxPbvPKcaLiYa9ZBXoDg     Pittsburgh    PA  40.440433 -79.998637   \n",
       "20411  Y-vxPbvPKcaLiYa9ZBXoDg     Pittsburgh    PA  40.440433 -79.998637   \n",
       "20412  Y-vxPbvPKcaLiYa9ZBXoDg     Pittsburgh    PA  40.440433 -79.998637   \n",
       "20413  Y-vxPbvPKcaLiYa9ZBXoDg     Pittsburgh    PA  40.440433 -79.998637   \n",
       "\n",
       "       stars_x  review_count  is_open  stars_y  useful  funny  cool  \\\n",
       "0          2.5            15        1      1.0       0      0     0   \n",
       "1          2.5            15        1      3.0       0      0     0   \n",
       "2          2.5            15        1      1.0       2      1     0   \n",
       "3          2.5            15        1      5.0       0      0     0   \n",
       "4          2.5            15        1      3.0       1      0     0   \n",
       "...        ...           ...      ...      ...     ...    ...   ...   \n",
       "20409      1.5            24        0      1.0       1      0     0   \n",
       "20410      1.5            24        0      2.0       2      1     1   \n",
       "20411      1.5            24        0      1.0       0      0     0   \n",
       "20412      1.5            24        0      2.0       1      0     0   \n",
       "20413      1.5            24        0      1.0       0      0     0   \n",
       "\n",
       "                                                    text                 date  \n",
       "0      Try cleaning your play area once in a while. I...  2016-02-13 22:57:36  \n",
       "1      It is what it is, a McDonalds.  You get what y...  2014-08-02 16:19:00  \n",
       "2      Not one of the better McDonald's,  I'm not usu...  2016-02-06 00:55:30  \n",
       "3      We barely waited in the fast food line, and th...  2017-11-29 02:26:24  \n",
       "4      The only reason they get three stars is becaus...  2018-04-22 18:22:53  \n",
       "...                                                  ...                  ...  \n",
       "20409  This location is actually closed. Was always u...  2019-09-29 17:39:23  \n",
       "20410  The egg in the egg McGriddle was very dry, but...  2018-04-21 17:41:46  \n",
       "20411  TRASH! THIS IS THE MOST GHETTO MCDONALDS I HAV...  2019-08-28 19:48:41  \n",
       "20412  Went to this McDonald's because it was the clo...  2018-09-29 19:58:45  \n",
       "20413  This place is absolutely filthy and scary.  Al...  2019-07-06 23:01:03  \n",
       "\n",
       "[20414 rows x 14 columns]"
      ]
     },
     "execution_count": 95,
     "metadata": {},
     "output_type": "execute_result"
    }
   ],
   "source": [
    "df_final"
   ]
  },
  {
   "cell_type": "code",
   "execution_count": 96,
   "metadata": {
    "execution": {
     "iopub.execute_input": "2020-08-27T18:55:19.160381Z",
     "iopub.status.busy": "2020-08-27T18:55:19.160188Z",
     "iopub.status.idle": "2020-08-27T18:55:19.219191Z",
     "shell.execute_reply": "2020-08-27T18:55:19.218107Z",
     "shell.execute_reply.started": "2020-08-27T18:55:19.160354Z"
    }
   },
   "outputs": [],
   "source": [
    "# Separate into date, year, month, year_month and time\n",
    "df_final['time']= df_final['date'].apply(lambda x: x.split()[1])\n",
    "df_final['date']= df_final['date'].apply(lambda x: x.split()[0])\n",
    "df_final['date'] = pd.to_datetime(df_final['date'])\n",
    "df_final['year'] = df_final['date'].dt.to_period('Y')\n",
    "df_final['month'] = df_final['date'].dt.month\n",
    "df_final['year_month'] = df_final['date'].dt.to_period('M')"
   ]
  },
  {
   "cell_type": "code",
   "execution_count": 97,
   "metadata": {
    "execution": {
     "iopub.execute_input": "2020-08-27T18:55:19.223497Z",
     "iopub.status.busy": "2020-08-27T18:55:19.221316Z",
     "iopub.status.idle": "2020-08-27T18:55:19.313129Z",
     "shell.execute_reply": "2020-08-27T18:55:19.312084Z",
     "shell.execute_reply.started": "2020-08-27T18:55:19.223444Z"
    }
   },
   "outputs": [
    {
     "data": {
      "text/html": [
       "<div>\n",
       "<style scoped>\n",
       "    .dataframe tbody tr th:only-of-type {\n",
       "        vertical-align: middle;\n",
       "    }\n",
       "\n",
       "    .dataframe tbody tr th {\n",
       "        vertical-align: top;\n",
       "    }\n",
       "\n",
       "    .dataframe thead th {\n",
       "        text-align: right;\n",
       "    }\n",
       "</style>\n",
       "<table border=\"1\" class=\"dataframe\">\n",
       "  <thead>\n",
       "    <tr style=\"text-align: right;\">\n",
       "      <th></th>\n",
       "      <th>latitude</th>\n",
       "      <th>longitude</th>\n",
       "      <th>stars_x</th>\n",
       "      <th>review_count</th>\n",
       "      <th>is_open</th>\n",
       "      <th>stars_y</th>\n",
       "      <th>useful</th>\n",
       "      <th>funny</th>\n",
       "      <th>cool</th>\n",
       "      <th>month</th>\n",
       "    </tr>\n",
       "  </thead>\n",
       "  <tbody>\n",
       "    <tr>\n",
       "      <th>count</th>\n",
       "      <td>20414.000000</td>\n",
       "      <td>20414.000000</td>\n",
       "      <td>20414.000000</td>\n",
       "      <td>20414.000000</td>\n",
       "      <td>20414.000000</td>\n",
       "      <td>20414.000000</td>\n",
       "      <td>20414.000000</td>\n",
       "      <td>20414.000000</td>\n",
       "      <td>20414.000000</td>\n",
       "      <td>20414.000000</td>\n",
       "    </tr>\n",
       "    <tr>\n",
       "      <th>mean</th>\n",
       "      <td>37.125346</td>\n",
       "      <td>-101.757389</td>\n",
       "      <td>1.887749</td>\n",
       "      <td>45.169394</td>\n",
       "      <td>0.972323</td>\n",
       "      <td>1.889928</td>\n",
       "      <td>0.740227</td>\n",
       "      <td>0.453267</td>\n",
       "      <td>0.330557</td>\n",
       "      <td>6.694621</td>\n",
       "    </tr>\n",
       "    <tr>\n",
       "      <th>std</th>\n",
       "      <td>4.111376</td>\n",
       "      <td>15.853411</td>\n",
       "      <td>0.503017</td>\n",
       "      <td>31.027847</td>\n",
       "      <td>0.164050</td>\n",
       "      <td>1.358338</td>\n",
       "      <td>2.719963</td>\n",
       "      <td>1.739500</td>\n",
       "      <td>2.236007</td>\n",
       "      <td>3.323790</td>\n",
       "    </tr>\n",
       "    <tr>\n",
       "      <th>min</th>\n",
       "      <td>33.218044</td>\n",
       "      <td>-115.320341</td>\n",
       "      <td>1.000000</td>\n",
       "      <td>3.000000</td>\n",
       "      <td>0.000000</td>\n",
       "      <td>1.000000</td>\n",
       "      <td>0.000000</td>\n",
       "      <td>0.000000</td>\n",
       "      <td>0.000000</td>\n",
       "      <td>1.000000</td>\n",
       "    </tr>\n",
       "    <tr>\n",
       "      <th>25%</th>\n",
       "      <td>33.599358</td>\n",
       "      <td>-115.097766</td>\n",
       "      <td>1.500000</td>\n",
       "      <td>20.000000</td>\n",
       "      <td>1.000000</td>\n",
       "      <td>1.000000</td>\n",
       "      <td>0.000000</td>\n",
       "      <td>0.000000</td>\n",
       "      <td>0.000000</td>\n",
       "      <td>4.000000</td>\n",
       "    </tr>\n",
       "    <tr>\n",
       "      <th>50%</th>\n",
       "      <td>36.064026</td>\n",
       "      <td>-111.963815</td>\n",
       "      <td>2.000000</td>\n",
       "      <td>38.000000</td>\n",
       "      <td>1.000000</td>\n",
       "      <td>1.000000</td>\n",
       "      <td>0.000000</td>\n",
       "      <td>0.000000</td>\n",
       "      <td>0.000000</td>\n",
       "      <td>7.000000</td>\n",
       "    </tr>\n",
       "    <tr>\n",
       "      <th>75%</th>\n",
       "      <td>40.444636</td>\n",
       "      <td>-80.997633</td>\n",
       "      <td>2.000000</td>\n",
       "      <td>64.000000</td>\n",
       "      <td>1.000000</td>\n",
       "      <td>3.000000</td>\n",
       "      <td>1.000000</td>\n",
       "      <td>0.000000</td>\n",
       "      <td>0.000000</td>\n",
       "      <td>10.000000</td>\n",
       "    </tr>\n",
       "    <tr>\n",
       "      <th>max</th>\n",
       "      <td>51.291157</td>\n",
       "      <td>-73.211689</td>\n",
       "      <td>4.500000</td>\n",
       "      <td>126.000000</td>\n",
       "      <td>1.000000</td>\n",
       "      <td>5.000000</td>\n",
       "      <td>119.000000</td>\n",
       "      <td>63.000000</td>\n",
       "      <td>99.000000</td>\n",
       "      <td>12.000000</td>\n",
       "    </tr>\n",
       "  </tbody>\n",
       "</table>\n",
       "</div>"
      ],
      "text/plain": [
       "           latitude     longitude       stars_x  review_count       is_open  \\\n",
       "count  20414.000000  20414.000000  20414.000000  20414.000000  20414.000000   \n",
       "mean      37.125346   -101.757389      1.887749     45.169394      0.972323   \n",
       "std        4.111376     15.853411      0.503017     31.027847      0.164050   \n",
       "min       33.218044   -115.320341      1.000000      3.000000      0.000000   \n",
       "25%       33.599358   -115.097766      1.500000     20.000000      1.000000   \n",
       "50%       36.064026   -111.963815      2.000000     38.000000      1.000000   \n",
       "75%       40.444636    -80.997633      2.000000     64.000000      1.000000   \n",
       "max       51.291157    -73.211689      4.500000    126.000000      1.000000   \n",
       "\n",
       "            stars_y        useful         funny          cool         month  \n",
       "count  20414.000000  20414.000000  20414.000000  20414.000000  20414.000000  \n",
       "mean       1.889928      0.740227      0.453267      0.330557      6.694621  \n",
       "std        1.358338      2.719963      1.739500      2.236007      3.323790  \n",
       "min        1.000000      0.000000      0.000000      0.000000      1.000000  \n",
       "25%        1.000000      0.000000      0.000000      0.000000      4.000000  \n",
       "50%        1.000000      0.000000      0.000000      0.000000      7.000000  \n",
       "75%        3.000000      1.000000      0.000000      0.000000     10.000000  \n",
       "max        5.000000    119.000000     63.000000     99.000000     12.000000  "
      ]
     },
     "execution_count": 97,
     "metadata": {},
     "output_type": "execute_result"
    }
   ],
   "source": [
    "df_final.describe()"
   ]
  },
  {
   "cell_type": "code",
   "execution_count": 98,
   "metadata": {
    "execution": {
     "iopub.execute_input": "2020-08-27T18:55:19.314981Z",
     "iopub.status.busy": "2020-08-27T18:55:19.314766Z",
     "iopub.status.idle": "2020-08-27T18:55:19.348984Z",
     "shell.execute_reply": "2020-08-27T18:55:19.346752Z",
     "shell.execute_reply.started": "2020-08-27T18:55:19.314954Z"
    }
   },
   "outputs": [
    {
     "name": "stdout",
     "output_type": "stream",
     "text": [
      "Number of Stores Currently Open:  799\n",
      "Number of Stores Currently Closed:  56\n",
      "Total Number of Unique Stores:  855\n",
      "Number of Total Reviews:  20414\n"
     ]
    }
   ],
   "source": [
    "# Show stats of stores and reviews\n",
    "print(\"Number of Stores Currently Open: \",len(df_final[df_final['is_open']==1][\"business_id\"].value_counts()))\n",
    "print(\"Number of Stores Currently Closed: \",len(df_final[df_final['is_open']==0][\"business_id\"].value_counts()))\n",
    "print(\"Total Number of Unique Stores: \", df_final['business_id'].nunique())\n",
    "print(\"Number of Total Reviews: \",len(df_final))"
   ]
  },
  {
   "cell_type": "code",
   "execution_count": 99,
   "metadata": {
    "execution": {
     "iopub.execute_input": "2020-08-27T18:55:19.351621Z",
     "iopub.status.busy": "2020-08-27T18:55:19.350859Z",
     "iopub.status.idle": "2020-08-27T18:55:19.363815Z",
     "shell.execute_reply": "2020-08-27T18:55:19.359222Z",
     "shell.execute_reply.started": "2020-08-27T18:55:19.351587Z"
    }
   },
   "outputs": [
    {
     "data": {
      "text/plain": [
       "array([1, 0])"
      ]
     },
     "execution_count": 99,
     "metadata": {},
     "output_type": "execute_result"
    }
   ],
   "source": [
    "df_final['is_open'].unique()"
   ]
  },
  {
   "cell_type": "code",
   "execution_count": 100,
   "metadata": {
    "execution": {
     "iopub.execute_input": "2020-08-27T18:55:19.366332Z",
     "iopub.status.busy": "2020-08-27T18:55:19.365819Z",
     "iopub.status.idle": "2020-08-27T18:55:19.449587Z",
     "shell.execute_reply": "2020-08-27T18:55:19.448601Z",
     "shell.execute_reply.started": "2020-08-27T18:55:19.366275Z"
    }
   },
   "outputs": [
    {
     "data": {
      "text/html": [
       "<div>\n",
       "<style scoped>\n",
       "    .dataframe tbody tr th:only-of-type {\n",
       "        vertical-align: middle;\n",
       "    }\n",
       "\n",
       "    .dataframe tbody tr th {\n",
       "        vertical-align: top;\n",
       "    }\n",
       "\n",
       "    .dataframe thead th {\n",
       "        text-align: right;\n",
       "    }\n",
       "</style>\n",
       "<table border=\"1\" class=\"dataframe\">\n",
       "  <thead>\n",
       "    <tr style=\"text-align: right;\">\n",
       "      <th></th>\n",
       "      <th>latitude</th>\n",
       "      <th>longitude</th>\n",
       "      <th>stars_x</th>\n",
       "      <th>review_count</th>\n",
       "      <th>is_open</th>\n",
       "      <th>stars_y</th>\n",
       "      <th>useful</th>\n",
       "      <th>funny</th>\n",
       "      <th>cool</th>\n",
       "      <th>month</th>\n",
       "    </tr>\n",
       "  </thead>\n",
       "  <tbody>\n",
       "    <tr>\n",
       "      <th>count</th>\n",
       "      <td>20414.000000</td>\n",
       "      <td>20414.000000</td>\n",
       "      <td>20414.000000</td>\n",
       "      <td>20414.000000</td>\n",
       "      <td>20414.000000</td>\n",
       "      <td>20414.000000</td>\n",
       "      <td>20414.000000</td>\n",
       "      <td>20414.000000</td>\n",
       "      <td>20414.000000</td>\n",
       "      <td>20414.000000</td>\n",
       "    </tr>\n",
       "    <tr>\n",
       "      <th>mean</th>\n",
       "      <td>37.125346</td>\n",
       "      <td>-101.757389</td>\n",
       "      <td>1.887749</td>\n",
       "      <td>45.169394</td>\n",
       "      <td>0.972323</td>\n",
       "      <td>1.889928</td>\n",
       "      <td>0.740227</td>\n",
       "      <td>0.453267</td>\n",
       "      <td>0.330557</td>\n",
       "      <td>6.694621</td>\n",
       "    </tr>\n",
       "    <tr>\n",
       "      <th>std</th>\n",
       "      <td>4.111376</td>\n",
       "      <td>15.853411</td>\n",
       "      <td>0.503017</td>\n",
       "      <td>31.027847</td>\n",
       "      <td>0.164050</td>\n",
       "      <td>1.358338</td>\n",
       "      <td>2.719963</td>\n",
       "      <td>1.739500</td>\n",
       "      <td>2.236007</td>\n",
       "      <td>3.323790</td>\n",
       "    </tr>\n",
       "    <tr>\n",
       "      <th>min</th>\n",
       "      <td>33.218044</td>\n",
       "      <td>-115.320341</td>\n",
       "      <td>1.000000</td>\n",
       "      <td>3.000000</td>\n",
       "      <td>0.000000</td>\n",
       "      <td>1.000000</td>\n",
       "      <td>0.000000</td>\n",
       "      <td>0.000000</td>\n",
       "      <td>0.000000</td>\n",
       "      <td>1.000000</td>\n",
       "    </tr>\n",
       "    <tr>\n",
       "      <th>25%</th>\n",
       "      <td>33.599358</td>\n",
       "      <td>-115.097766</td>\n",
       "      <td>1.500000</td>\n",
       "      <td>20.000000</td>\n",
       "      <td>1.000000</td>\n",
       "      <td>1.000000</td>\n",
       "      <td>0.000000</td>\n",
       "      <td>0.000000</td>\n",
       "      <td>0.000000</td>\n",
       "      <td>4.000000</td>\n",
       "    </tr>\n",
       "    <tr>\n",
       "      <th>50%</th>\n",
       "      <td>36.064026</td>\n",
       "      <td>-111.963815</td>\n",
       "      <td>2.000000</td>\n",
       "      <td>38.000000</td>\n",
       "      <td>1.000000</td>\n",
       "      <td>1.000000</td>\n",
       "      <td>0.000000</td>\n",
       "      <td>0.000000</td>\n",
       "      <td>0.000000</td>\n",
       "      <td>7.000000</td>\n",
       "    </tr>\n",
       "    <tr>\n",
       "      <th>75%</th>\n",
       "      <td>40.444636</td>\n",
       "      <td>-80.997633</td>\n",
       "      <td>2.000000</td>\n",
       "      <td>64.000000</td>\n",
       "      <td>1.000000</td>\n",
       "      <td>3.000000</td>\n",
       "      <td>1.000000</td>\n",
       "      <td>0.000000</td>\n",
       "      <td>0.000000</td>\n",
       "      <td>10.000000</td>\n",
       "    </tr>\n",
       "    <tr>\n",
       "      <th>max</th>\n",
       "      <td>51.291157</td>\n",
       "      <td>-73.211689</td>\n",
       "      <td>4.500000</td>\n",
       "      <td>126.000000</td>\n",
       "      <td>1.000000</td>\n",
       "      <td>5.000000</td>\n",
       "      <td>119.000000</td>\n",
       "      <td>63.000000</td>\n",
       "      <td>99.000000</td>\n",
       "      <td>12.000000</td>\n",
       "    </tr>\n",
       "  </tbody>\n",
       "</table>\n",
       "</div>"
      ],
      "text/plain": [
       "           latitude     longitude       stars_x  review_count       is_open  \\\n",
       "count  20414.000000  20414.000000  20414.000000  20414.000000  20414.000000   \n",
       "mean      37.125346   -101.757389      1.887749     45.169394      0.972323   \n",
       "std        4.111376     15.853411      0.503017     31.027847      0.164050   \n",
       "min       33.218044   -115.320341      1.000000      3.000000      0.000000   \n",
       "25%       33.599358   -115.097766      1.500000     20.000000      1.000000   \n",
       "50%       36.064026   -111.963815      2.000000     38.000000      1.000000   \n",
       "75%       40.444636    -80.997633      2.000000     64.000000      1.000000   \n",
       "max       51.291157    -73.211689      4.500000    126.000000      1.000000   \n",
       "\n",
       "            stars_y        useful         funny          cool         month  \n",
       "count  20414.000000  20414.000000  20414.000000  20414.000000  20414.000000  \n",
       "mean       1.889928      0.740227      0.453267      0.330557      6.694621  \n",
       "std        1.358338      2.719963      1.739500      2.236007      3.323790  \n",
       "min        1.000000      0.000000      0.000000      0.000000      1.000000  \n",
       "25%        1.000000      0.000000      0.000000      0.000000      4.000000  \n",
       "50%        1.000000      0.000000      0.000000      0.000000      7.000000  \n",
       "75%        3.000000      1.000000      0.000000      0.000000     10.000000  \n",
       "max        5.000000    119.000000     63.000000     99.000000     12.000000  "
      ]
     },
     "execution_count": 100,
     "metadata": {},
     "output_type": "execute_result"
    }
   ],
   "source": [
    "df_final.describe()"
   ]
  },
  {
   "cell_type": "code",
   "execution_count": 101,
   "metadata": {
    "execution": {
     "iopub.execute_input": "2020-08-27T18:55:19.451593Z",
     "iopub.status.busy": "2020-08-27T18:55:19.451353Z",
     "iopub.status.idle": "2020-08-27T18:55:19.495864Z",
     "shell.execute_reply": "2020-08-27T18:55:19.492598Z",
     "shell.execute_reply.started": "2020-08-27T18:55:19.451564Z"
    }
   },
   "outputs": [
    {
     "name": "stdout",
     "output_type": "stream",
     "text": [
      "<class 'pandas.core.frame.DataFrame'>\n",
      "RangeIndex: 20414 entries, 0 to 20413\n",
      "Data columns (total 18 columns):\n",
      " #   Column        Non-Null Count  Dtype         \n",
      "---  ------        --------------  -----         \n",
      " 0   business_id   20414 non-null  object        \n",
      " 1   city          20414 non-null  object        \n",
      " 2   state         20414 non-null  object        \n",
      " 3   latitude      20414 non-null  float64       \n",
      " 4   longitude     20414 non-null  float64       \n",
      " 5   stars_x       20414 non-null  float64       \n",
      " 6   review_count  20414 non-null  int64         \n",
      " 7   is_open       20414 non-null  int64         \n",
      " 8   stars_y       20414 non-null  float64       \n",
      " 9   useful        20414 non-null  int64         \n",
      " 10  funny         20414 non-null  int64         \n",
      " 11  cool          20414 non-null  int64         \n",
      " 12  text          20414 non-null  object        \n",
      " 13  date          20414 non-null  datetime64[ns]\n",
      " 14  time          20414 non-null  object        \n",
      " 15  year          20414 non-null  period[A-DEC] \n",
      " 16  month         20414 non-null  int64         \n",
      " 17  year_month    20414 non-null  period[M]     \n",
      "dtypes: datetime64[ns](1), float64(4), int64(6), object(5), period[A-DEC](1), period[M](1)\n",
      "memory usage: 2.8+ MB\n"
     ]
    }
   ],
   "source": [
    "df_final.info()"
   ]
  },
  {
   "cell_type": "code",
   "execution_count": 102,
   "metadata": {
    "execution": {
     "iopub.execute_input": "2020-08-27T18:55:19.498541Z",
     "iopub.status.busy": "2020-08-27T18:55:19.497806Z",
     "iopub.status.idle": "2020-08-27T18:55:19.517319Z",
     "shell.execute_reply": "2020-08-27T18:55:19.514597Z",
     "shell.execute_reply.started": "2020-08-27T18:55:19.498496Z"
    }
   },
   "outputs": [
    {
     "data": {
      "text/plain": [
       "Index(['business_id', 'city', 'state', 'latitude', 'longitude', 'stars_x',\n",
       "       'review_count', 'is_open', 'stars_y', 'useful', 'funny', 'cool', 'text',\n",
       "       'date', 'time', 'year', 'month', 'year_month'],\n",
       "      dtype='object')"
      ]
     },
     "execution_count": 102,
     "metadata": {},
     "output_type": "execute_result"
    }
   ],
   "source": [
    "df_final.columns"
   ]
  },
  {
   "cell_type": "code",
   "execution_count": 103,
   "metadata": {
    "execution": {
     "iopub.execute_input": "2020-08-27T18:55:19.529586Z",
     "iopub.status.busy": "2020-08-27T18:55:19.527217Z",
     "iopub.status.idle": "2020-08-27T18:55:19.540930Z",
     "shell.execute_reply": "2020-08-27T18:55:19.539427Z",
     "shell.execute_reply.started": "2020-08-27T18:55:19.529534Z"
    }
   },
   "outputs": [
    {
     "data": {
      "text/plain": [
       "array(['OH', 'ON', 'AZ', 'NV', 'NC', 'WI', 'IL', 'PA', 'QC', 'AB', 'SC',\n",
       "       'NY'], dtype=object)"
      ]
     },
     "execution_count": 103,
     "metadata": {},
     "output_type": "execute_result"
    }
   ],
   "source": [
    "df_final.state.unique()"
   ]
  },
  {
   "cell_type": "code",
   "execution_count": 104,
   "metadata": {
    "execution": {
     "iopub.execute_input": "2020-08-27T18:55:19.544163Z",
     "iopub.status.busy": "2020-08-27T18:55:19.543812Z",
     "iopub.status.idle": "2020-08-27T18:55:19.565544Z",
     "shell.execute_reply": "2020-08-27T18:55:19.563606Z",
     "shell.execute_reply.started": "2020-08-27T18:55:19.544116Z"
    }
   },
   "outputs": [
    {
     "data": {
      "text/plain": [
       "216"
      ]
     },
     "execution_count": 104,
     "metadata": {},
     "output_type": "execute_result"
    }
   ],
   "source": [
    "df_final.city.nunique()"
   ]
  },
  {
   "cell_type": "code",
   "execution_count": 105,
   "metadata": {
    "execution": {
     "iopub.execute_input": "2020-08-27T18:55:19.569735Z",
     "iopub.status.busy": "2020-08-27T18:55:19.569411Z",
     "iopub.status.idle": "2020-08-27T18:55:20.300759Z",
     "shell.execute_reply": "2020-08-27T18:55:20.298816Z",
     "shell.execute_reply.started": "2020-08-27T18:55:19.569688Z"
    }
   },
   "outputs": [
    {
     "data": {
      "image/png": "[encoded data removed]",
      "text/plain": [
       "<Figure size 864x288 with 1 Axes>"
      ]
     },
     "metadata": {
      "needs_background": "light"
     },
     "output_type": "display_data"
    }
   ],
   "source": [
    "fig = plt.figure(figsize = (12,4))\n",
    "sns.countplot(df_final['state'],order = df_final[\"state\"].value_counts().index)\n",
    "plt.title(\"Number of Yelp Reviews for McDonald's restaurants by state/province\")\n",
    "plt.xlabel('States')\n",
    "plt.xticks(rotation = 90)\n",
    "plt.savefig('by_state.png')"
   ]
  },
  {
   "cell_type": "code",
   "execution_count": 106,
   "metadata": {
    "execution": {
     "iopub.execute_input": "2020-08-27T18:55:20.302648Z",
     "iopub.status.busy": "2020-08-27T18:55:20.302323Z",
     "iopub.status.idle": "2020-08-27T18:55:21.810261Z",
     "shell.execute_reply": "2020-08-27T18:55:21.807407Z",
     "shell.execute_reply.started": "2020-08-27T18:55:20.302604Z"
    }
   },
   "outputs": [
    {
     "data": {
      "image/png": "[encoded data removed]",
      "text/plain": [
       "<Figure size 720x360 with 1 Axes>"
      ]
     },
     "metadata": {
      "needs_background": "light"
     },
     "output_type": "display_data"
    }
   ],
   "source": [
    "\n",
    "main_cities = list(df_final[\"city\"].value_counts().index[0:15])\n",
    "mcd_main_cities = df_final[df_final['city'].isin(main_cities)]\n",
    "\n",
    "fig= plt.figure(figsize = (10,5))\n",
    "sns.countplot(mcd_main_cities['city'],order = mcd_main_cities[\"city\"].value_counts().index, hue = mcd_main_cities['state'])\n",
    "plt.title(\"Number of Yelp Reviews for McDonald's restaurants by city\")\n",
    "plt.xlabel('city')\n",
    "plt.xticks(rotation = 90)\n",
    "fig.subplots_adjust(bottom=0.25)\n",
    "plt.savefig('by_city.png')"
   ]
  },
  {
   "cell_type": "markdown",
   "metadata": {},
   "source": [
    "## Text Preprocessing"
   ]
  },
  {
   "cell_type": "code",
   "execution_count": 107,
   "metadata": {
    "execution": {
     "iopub.execute_input": "2020-08-27T18:55:21.815674Z",
     "iopub.status.busy": "2020-08-27T18:55:21.815310Z",
     "iopub.status.idle": "2020-08-27T18:55:21.822481Z",
     "shell.execute_reply": "2020-08-27T18:55:21.821413Z",
     "shell.execute_reply.started": "2020-08-27T18:55:21.815626Z"
    }
   },
   "outputs": [
    {
     "data": {
      "text/plain": [
       "\"I think most of us have certain expectations of any restaurant. My experience with this location has poisoned me against all McDonald's. It started when my wife said she wanted a fruit smoothy. We ordered our smoothies which came to $8 for 2 larges. Cool fun thing to do right...\\n\\nThe next day I saw my card had been double charged. So I went back and asked the manager if she could make it right. I said I didn't even need a cash refund it would have been fine to just take it off the order I was about to make. She said she could not do that and that she had no way to look it up. She gave me a phone number to their office in Mentor. I called the person in Mentor who looked up my order she said I needed to wait 10 days or so because the card had been authorized but not charged twice. \\n\\n10 days later the charge came off but I expect when I go out for food my card will not be double authorized. Be that as it may $8 worth of food would have fixed this. I will NEVER go back to McDonald's because of how this was handled.\""
      ]
     },
     "execution_count": 107,
     "metadata": {},
     "output_type": "execute_result"
    }
   ],
   "source": [
    "# Show sample of a review before preprocessing\n",
    "df_final['text'][15]"
   ]
  },
  {
   "cell_type": "code",
   "execution_count": 108,
   "metadata": {
    "execution": {
     "iopub.execute_input": "2020-08-27T18:55:21.824384Z",
     "iopub.status.busy": "2020-08-27T18:55:21.823764Z",
     "iopub.status.idle": "2020-08-27T18:55:21.880129Z",
     "shell.execute_reply": "2020-08-27T18:55:21.848719Z",
     "shell.execute_reply.started": "2020-08-27T18:55:21.824337Z"
    }
   },
   "outputs": [],
   "source": [
    "# Clean data with regular expressions (Round: 01)\n",
    "import re\n",
    "import string\n",
    "\n",
    "def clean_text_round1(text):\n",
    "    '''Make text lowercase, remove text in square brackets, remove punctuation and remove words containing numbers.'''\n",
    "    text = text.lower()\n",
    "    text = re.sub('\\[.*?\\]', '', text)\n",
    "    text = re.sub('[%s]' % re.escape(string.punctuation), '', text)\n",
    "    text = re.sub('\\w*\\d\\w*', '', text)\n",
    "    return text\n",
    "\n",
    "round1 = lambda x: clean_text_round1(x)"
   ]
  },
  {
   "cell_type": "code",
   "execution_count": 109,
   "metadata": {
    "execution": {
     "iopub.execute_input": "2020-08-27T18:55:21.882785Z",
     "iopub.status.busy": "2020-08-27T18:55:21.882434Z",
     "iopub.status.idle": "2020-08-27T18:55:24.546139Z",
     "shell.execute_reply": "2020-08-27T18:55:24.545289Z",
     "shell.execute_reply.started": "2020-08-27T18:55:21.882741Z"
    }
   },
   "outputs": [
    {
     "data": {
      "text/html": [
       "<div>\n",
       "<style scoped>\n",
       "    .dataframe tbody tr th:only-of-type {\n",
       "        vertical-align: middle;\n",
       "    }\n",
       "\n",
       "    .dataframe tbody tr th {\n",
       "        vertical-align: top;\n",
       "    }\n",
       "\n",
       "    .dataframe thead th {\n",
       "        text-align: right;\n",
       "    }\n",
       "</style>\n",
       "<table border=\"1\" class=\"dataframe\">\n",
       "  <thead>\n",
       "    <tr style=\"text-align: right;\">\n",
       "      <th></th>\n",
       "      <th>text</th>\n",
       "    </tr>\n",
       "  </thead>\n",
       "  <tbody>\n",
       "    <tr>\n",
       "      <th>0</th>\n",
       "      <td>try cleaning your play area once in a while it...</td>\n",
       "    </tr>\n",
       "    <tr>\n",
       "      <th>1</th>\n",
       "      <td>it is what it is a mcdonalds  you get what you...</td>\n",
       "    </tr>\n",
       "    <tr>\n",
       "      <th>2</th>\n",
       "      <td>not one of the better mcdonalds  im not usuall...</td>\n",
       "    </tr>\n",
       "    <tr>\n",
       "      <th>3</th>\n",
       "      <td>we barely waited in the fast food line and the...</td>\n",
       "    </tr>\n",
       "    <tr>\n",
       "      <th>4</th>\n",
       "      <td>the only reason they get three stars is becaus...</td>\n",
       "    </tr>\n",
       "    <tr>\n",
       "      <th>...</th>\n",
       "      <td>...</td>\n",
       "    </tr>\n",
       "    <tr>\n",
       "      <th>20409</th>\n",
       "      <td>this location is actually closed was always un...</td>\n",
       "    </tr>\n",
       "    <tr>\n",
       "      <th>20410</th>\n",
       "      <td>the egg in the egg mcgriddle was very dry but ...</td>\n",
       "    </tr>\n",
       "    <tr>\n",
       "      <th>20411</th>\n",
       "      <td>trash this is the most ghetto mcdonalds i have...</td>\n",
       "    </tr>\n",
       "    <tr>\n",
       "      <th>20412</th>\n",
       "      <td>went to this mcdonalds because it was the clos...</td>\n",
       "    </tr>\n",
       "    <tr>\n",
       "      <th>20413</th>\n",
       "      <td>this place is absolutely filthy and scary  all...</td>\n",
       "    </tr>\n",
       "  </tbody>\n",
       "</table>\n",
       "<p>20414 rows × 1 columns</p>\n",
       "</div>"
      ],
      "text/plain": [
       "                                                    text\n",
       "0      try cleaning your play area once in a while it...\n",
       "1      it is what it is a mcdonalds  you get what you...\n",
       "2      not one of the better mcdonalds  im not usuall...\n",
       "3      we barely waited in the fast food line and the...\n",
       "4      the only reason they get three stars is becaus...\n",
       "...                                                  ...\n",
       "20409  this location is actually closed was always un...\n",
       "20410  the egg in the egg mcgriddle was very dry but ...\n",
       "20411  trash this is the most ghetto mcdonalds i have...\n",
       "20412  went to this mcdonalds because it was the clos...\n",
       "20413  this place is absolutely filthy and scary  all...\n",
       "\n",
       "[20414 rows x 1 columns]"
      ]
     },
     "execution_count": 109,
     "metadata": {},
     "output_type": "execute_result"
    }
   ],
   "source": [
    "# Use the \"clean_text_round1\" function to clean the data for Round: 01\n",
    "data_clean = pd.DataFrame(df_final['text'].apply(round1))\n",
    "data_clean"
   ]
  },
  {
   "cell_type": "code",
   "execution_count": 110,
   "metadata": {
    "execution": {
     "iopub.execute_input": "2020-08-27T18:55:24.548227Z",
     "iopub.status.busy": "2020-08-27T18:55:24.547940Z",
     "iopub.status.idle": "2020-08-27T18:55:24.555789Z",
     "shell.execute_reply": "2020-08-27T18:55:24.554785Z",
     "shell.execute_reply.started": "2020-08-27T18:55:24.548196Z"
    }
   },
   "outputs": [
    {
     "data": {
      "text/plain": [
       "'i think most of us have certain expectations of any restaurant my experience with this location has poisoned me against all mcdonalds it started when my wife said she wanted a fruit smoothy we ordered our smoothies which came to  for  larges cool fun thing to do right\\n\\nthe next day i saw my card had been double charged so i went back and asked the manager if she could make it right i said i didnt even need a cash refund it would have been fine to just take it off the order i was about to make she said she could not do that and that she had no way to look it up she gave me a phone number to their office in mentor i called the person in mentor who looked up my order she said i needed to wait  days or so because the card had been authorized but not charged twice \\n\\n days later the charge came off but i expect when i go out for food my card will not be double authorized be that as it may  worth of food would have fixed this i will never go back to mcdonalds because of how this was handled'"
      ]
     },
     "execution_count": 110,
     "metadata": {},
     "output_type": "execute_result"
    }
   ],
   "source": [
    "data_clean.text[15]"
   ]
  },
  {
   "cell_type": "code",
   "execution_count": 111,
   "metadata": {
    "execution": {
     "iopub.execute_input": "2020-08-27T18:55:24.557665Z",
     "iopub.status.busy": "2020-08-27T18:55:24.557434Z",
     "iopub.status.idle": "2020-08-27T18:55:24.563311Z",
     "shell.execute_reply": "2020-08-27T18:55:24.561258Z",
     "shell.execute_reply.started": "2020-08-27T18:55:24.557630Z"
    }
   },
   "outputs": [],
   "source": [
    "# Apply second round of cleaning -- Round: 02\n",
    "# clean whitespace and reserved symbols or character escape like \\t or \\n\n",
    "def clean_text_round2(text):\n",
    "    '''Get rid of some additional punctuation and non-sensical text that was missed the first time around.'''\n",
    "    text = re.sub('[‘’“”…]', '', text)\n",
    "    text = re.sub('\\n', '', text)\n",
    "    return text\n",
    "\n",
    "round2 = lambda x: clean_text_round2(x)"
   ]
  },
  {
   "cell_type": "code",
   "execution_count": 112,
   "metadata": {
    "execution": {
     "iopub.execute_input": "2020-08-27T18:55:24.565613Z",
     "iopub.status.busy": "2020-08-27T18:55:24.565089Z",
     "iopub.status.idle": "2020-08-27T18:55:24.837877Z",
     "shell.execute_reply": "2020-08-27T18:55:24.837102Z",
     "shell.execute_reply.started": "2020-08-27T18:55:24.565564Z"
    }
   },
   "outputs": [
    {
     "data": {
      "text/html": [
       "<div>\n",
       "<style scoped>\n",
       "    .dataframe tbody tr th:only-of-type {\n",
       "        vertical-align: middle;\n",
       "    }\n",
       "\n",
       "    .dataframe tbody tr th {\n",
       "        vertical-align: top;\n",
       "    }\n",
       "\n",
       "    .dataframe thead th {\n",
       "        text-align: right;\n",
       "    }\n",
       "</style>\n",
       "<table border=\"1\" class=\"dataframe\">\n",
       "  <thead>\n",
       "    <tr style=\"text-align: right;\">\n",
       "      <th></th>\n",
       "      <th>text</th>\n",
       "    </tr>\n",
       "  </thead>\n",
       "  <tbody>\n",
       "    <tr>\n",
       "      <th>0</th>\n",
       "      <td>try cleaning your play area once in a while it...</td>\n",
       "    </tr>\n",
       "    <tr>\n",
       "      <th>1</th>\n",
       "      <td>it is what it is a mcdonalds  you get what you...</td>\n",
       "    </tr>\n",
       "    <tr>\n",
       "      <th>2</th>\n",
       "      <td>not one of the better mcdonalds  im not usuall...</td>\n",
       "    </tr>\n",
       "    <tr>\n",
       "      <th>3</th>\n",
       "      <td>we barely waited in the fast food line and the...</td>\n",
       "    </tr>\n",
       "    <tr>\n",
       "      <th>4</th>\n",
       "      <td>the only reason they get three stars is becaus...</td>\n",
       "    </tr>\n",
       "    <tr>\n",
       "      <th>...</th>\n",
       "      <td>...</td>\n",
       "    </tr>\n",
       "    <tr>\n",
       "      <th>20409</th>\n",
       "      <td>this location is actually closed was always un...</td>\n",
       "    </tr>\n",
       "    <tr>\n",
       "      <th>20410</th>\n",
       "      <td>the egg in the egg mcgriddle was very dry but ...</td>\n",
       "    </tr>\n",
       "    <tr>\n",
       "      <th>20411</th>\n",
       "      <td>trash this is the most ghetto mcdonalds i have...</td>\n",
       "    </tr>\n",
       "    <tr>\n",
       "      <th>20412</th>\n",
       "      <td>went to this mcdonalds because it was the clos...</td>\n",
       "    </tr>\n",
       "    <tr>\n",
       "      <th>20413</th>\n",
       "      <td>this place is absolutely filthy and scary  all...</td>\n",
       "    </tr>\n",
       "  </tbody>\n",
       "</table>\n",
       "<p>20414 rows × 1 columns</p>\n",
       "</div>"
      ],
      "text/plain": [
       "                                                    text\n",
       "0      try cleaning your play area once in a while it...\n",
       "1      it is what it is a mcdonalds  you get what you...\n",
       "2      not one of the better mcdonalds  im not usuall...\n",
       "3      we barely waited in the fast food line and the...\n",
       "4      the only reason they get three stars is becaus...\n",
       "...                                                  ...\n",
       "20409  this location is actually closed was always un...\n",
       "20410  the egg in the egg mcgriddle was very dry but ...\n",
       "20411  trash this is the most ghetto mcdonalds i have...\n",
       "20412  went to this mcdonalds because it was the clos...\n",
       "20413  this place is absolutely filthy and scary  all...\n",
       "\n",
       "[20414 rows x 1 columns]"
      ]
     },
     "execution_count": 112,
     "metadata": {},
     "output_type": "execute_result"
    }
   ],
   "source": [
    "data_clean = pd.DataFrame(data_clean['text'].apply(round2))\n",
    "data_clean"
   ]
  },
  {
   "cell_type": "code",
   "execution_count": 113,
   "metadata": {
    "execution": {
     "iopub.execute_input": "2020-08-27T18:55:24.840720Z",
     "iopub.status.busy": "2020-08-27T18:55:24.839913Z",
     "iopub.status.idle": "2020-08-27T18:55:24.851095Z",
     "shell.execute_reply": "2020-08-27T18:55:24.849984Z",
     "shell.execute_reply.started": "2020-08-27T18:55:24.840669Z"
    }
   },
   "outputs": [
    {
     "data": {
      "text/plain": [
       "'i think most of us have certain expectations of any restaurant my experience with this location has poisoned me against all mcdonalds it started when my wife said she wanted a fruit smoothy we ordered our smoothies which came to  for  larges cool fun thing to do rightthe next day i saw my card had been double charged so i went back and asked the manager if she could make it right i said i didnt even need a cash refund it would have been fine to just take it off the order i was about to make she said she could not do that and that she had no way to look it up she gave me a phone number to their office in mentor i called the person in mentor who looked up my order she said i needed to wait  days or so because the card had been authorized but not charged twice  days later the charge came off but i expect when i go out for food my card will not be double authorized be that as it may  worth of food would have fixed this i will never go back to mcdonalds because of how this was handled'"
      ]
     },
     "execution_count": 113,
     "metadata": {},
     "output_type": "execute_result"
    }
   ],
   "source": [
    "data_clean.text[15]"
   ]
  },
  {
   "cell_type": "code",
   "execution_count": 114,
   "metadata": {
    "execution": {
     "iopub.execute_input": "2020-08-27T18:55:24.852727Z",
     "iopub.status.busy": "2020-08-27T18:55:24.852488Z",
     "iopub.status.idle": "2020-08-27T18:55:29.728754Z",
     "shell.execute_reply": "2020-08-27T18:55:29.728040Z",
     "shell.execute_reply.started": "2020-08-27T18:55:24.852688Z"
    }
   },
   "outputs": [
    {
     "data": {
      "text/html": [
       "<div>\n",
       "<style scoped>\n",
       "    .dataframe tbody tr th:only-of-type {\n",
       "        vertical-align: middle;\n",
       "    }\n",
       "\n",
       "    .dataframe tbody tr th {\n",
       "        vertical-align: top;\n",
       "    }\n",
       "\n",
       "    .dataframe thead th {\n",
       "        text-align: right;\n",
       "    }\n",
       "</style>\n",
       "<table border=\"1\" class=\"dataframe\">\n",
       "  <thead>\n",
       "    <tr style=\"text-align: right;\">\n",
       "      <th></th>\n",
       "      <th>aa</th>\n",
       "      <th>aaa</th>\n",
       "      <th>aaaaand</th>\n",
       "      <th>aaaaassssss</th>\n",
       "      <th>aaarghthat</th>\n",
       "      <th>aaddress</th>\n",
       "      <th>aalso</th>\n",
       "      <th>aand</th>\n",
       "      <th>aaron</th>\n",
       "      <th>aas</th>\n",
       "      <th>...</th>\n",
       "      <th>记得以前系路口位</th>\n",
       "      <th>试了新品安格斯牛肉汉堡</th>\n",
       "      <th>转角零舍易看到</th>\n",
       "      <th>都算几nice有礼貌</th>\n",
       "      <th>门口系地下一楼</th>\n",
       "      <th>门面不大</th>\n",
       "      <th>隔离有超市</th>\n",
       "      <th>靠近学校的原因</th>\n",
       "      <th>顺便系新整好的food</th>\n",
       "      <th>麥當勞門口保安的溝通技巧給我整個完美的旅行帶來的最惡劣的留念</th>\n",
       "    </tr>\n",
       "  </thead>\n",
       "  <tbody>\n",
       "    <tr>\n",
       "      <th>0</th>\n",
       "      <td>0</td>\n",
       "      <td>0</td>\n",
       "      <td>0</td>\n",
       "      <td>0</td>\n",
       "      <td>0</td>\n",
       "      <td>0</td>\n",
       "      <td>0</td>\n",
       "      <td>0</td>\n",
       "      <td>0</td>\n",
       "      <td>0</td>\n",
       "      <td>...</td>\n",
       "      <td>0</td>\n",
       "      <td>0</td>\n",
       "      <td>0</td>\n",
       "      <td>0</td>\n",
       "      <td>0</td>\n",
       "      <td>0</td>\n",
       "      <td>0</td>\n",
       "      <td>0</td>\n",
       "      <td>0</td>\n",
       "      <td>0</td>\n",
       "    </tr>\n",
       "    <tr>\n",
       "      <th>1</th>\n",
       "      <td>0</td>\n",
       "      <td>0</td>\n",
       "      <td>0</td>\n",
       "      <td>0</td>\n",
       "      <td>0</td>\n",
       "      <td>0</td>\n",
       "      <td>0</td>\n",
       "      <td>0</td>\n",
       "      <td>0</td>\n",
       "      <td>0</td>\n",
       "      <td>...</td>\n",
       "      <td>0</td>\n",
       "      <td>0</td>\n",
       "      <td>0</td>\n",
       "      <td>0</td>\n",
       "      <td>0</td>\n",
       "      <td>0</td>\n",
       "      <td>0</td>\n",
       "      <td>0</td>\n",
       "      <td>0</td>\n",
       "      <td>0</td>\n",
       "    </tr>\n",
       "    <tr>\n",
       "      <th>2</th>\n",
       "      <td>0</td>\n",
       "      <td>0</td>\n",
       "      <td>0</td>\n",
       "      <td>0</td>\n",
       "      <td>0</td>\n",
       "      <td>0</td>\n",
       "      <td>0</td>\n",
       "      <td>0</td>\n",
       "      <td>0</td>\n",
       "      <td>0</td>\n",
       "      <td>...</td>\n",
       "      <td>0</td>\n",
       "      <td>0</td>\n",
       "      <td>0</td>\n",
       "      <td>0</td>\n",
       "      <td>0</td>\n",
       "      <td>0</td>\n",
       "      <td>0</td>\n",
       "      <td>0</td>\n",
       "      <td>0</td>\n",
       "      <td>0</td>\n",
       "    </tr>\n",
       "    <tr>\n",
       "      <th>3</th>\n",
       "      <td>0</td>\n",
       "      <td>0</td>\n",
       "      <td>0</td>\n",
       "      <td>0</td>\n",
       "      <td>0</td>\n",
       "      <td>0</td>\n",
       "      <td>0</td>\n",
       "      <td>0</td>\n",
       "      <td>0</td>\n",
       "      <td>0</td>\n",
       "      <td>...</td>\n",
       "      <td>0</td>\n",
       "      <td>0</td>\n",
       "      <td>0</td>\n",
       "      <td>0</td>\n",
       "      <td>0</td>\n",
       "      <td>0</td>\n",
       "      <td>0</td>\n",
       "      <td>0</td>\n",
       "      <td>0</td>\n",
       "      <td>0</td>\n",
       "    </tr>\n",
       "    <tr>\n",
       "      <th>4</th>\n",
       "      <td>0</td>\n",
       "      <td>0</td>\n",
       "      <td>0</td>\n",
       "      <td>0</td>\n",
       "      <td>0</td>\n",
       "      <td>0</td>\n",
       "      <td>0</td>\n",
       "      <td>0</td>\n",
       "      <td>0</td>\n",
       "      <td>0</td>\n",
       "      <td>...</td>\n",
       "      <td>0</td>\n",
       "      <td>0</td>\n",
       "      <td>0</td>\n",
       "      <td>0</td>\n",
       "      <td>0</td>\n",
       "      <td>0</td>\n",
       "      <td>0</td>\n",
       "      <td>0</td>\n",
       "      <td>0</td>\n",
       "      <td>0</td>\n",
       "    </tr>\n",
       "    <tr>\n",
       "      <th>...</th>\n",
       "      <td>...</td>\n",
       "      <td>...</td>\n",
       "      <td>...</td>\n",
       "      <td>...</td>\n",
       "      <td>...</td>\n",
       "      <td>...</td>\n",
       "      <td>...</td>\n",
       "      <td>...</td>\n",
       "      <td>...</td>\n",
       "      <td>...</td>\n",
       "      <td>...</td>\n",
       "      <td>...</td>\n",
       "      <td>...</td>\n",
       "      <td>...</td>\n",
       "      <td>...</td>\n",
       "      <td>...</td>\n",
       "      <td>...</td>\n",
       "      <td>...</td>\n",
       "      <td>...</td>\n",
       "      <td>...</td>\n",
       "      <td>...</td>\n",
       "    </tr>\n",
       "    <tr>\n",
       "      <th>20409</th>\n",
       "      <td>0</td>\n",
       "      <td>0</td>\n",
       "      <td>0</td>\n",
       "      <td>0</td>\n",
       "      <td>0</td>\n",
       "      <td>0</td>\n",
       "      <td>0</td>\n",
       "      <td>0</td>\n",
       "      <td>0</td>\n",
       "      <td>0</td>\n",
       "      <td>...</td>\n",
       "      <td>0</td>\n",
       "      <td>0</td>\n",
       "      <td>0</td>\n",
       "      <td>0</td>\n",
       "      <td>0</td>\n",
       "      <td>0</td>\n",
       "      <td>0</td>\n",
       "      <td>0</td>\n",
       "      <td>0</td>\n",
       "      <td>0</td>\n",
       "    </tr>\n",
       "    <tr>\n",
       "      <th>20410</th>\n",
       "      <td>0</td>\n",
       "      <td>0</td>\n",
       "      <td>0</td>\n",
       "      <td>0</td>\n",
       "      <td>0</td>\n",
       "      <td>0</td>\n",
       "      <td>0</td>\n",
       "      <td>0</td>\n",
       "      <td>0</td>\n",
       "      <td>0</td>\n",
       "      <td>...</td>\n",
       "      <td>0</td>\n",
       "      <td>0</td>\n",
       "      <td>0</td>\n",
       "      <td>0</td>\n",
       "      <td>0</td>\n",
       "      <td>0</td>\n",
       "      <td>0</td>\n",
       "      <td>0</td>\n",
       "      <td>0</td>\n",
       "      <td>0</td>\n",
       "    </tr>\n",
       "    <tr>\n",
       "      <th>20411</th>\n",
       "      <td>0</td>\n",
       "      <td>0</td>\n",
       "      <td>0</td>\n",
       "      <td>0</td>\n",
       "      <td>0</td>\n",
       "      <td>0</td>\n",
       "      <td>0</td>\n",
       "      <td>0</td>\n",
       "      <td>0</td>\n",
       "      <td>0</td>\n",
       "      <td>...</td>\n",
       "      <td>0</td>\n",
       "      <td>0</td>\n",
       "      <td>0</td>\n",
       "      <td>0</td>\n",
       "      <td>0</td>\n",
       "      <td>0</td>\n",
       "      <td>0</td>\n",
       "      <td>0</td>\n",
       "      <td>0</td>\n",
       "      <td>0</td>\n",
       "    </tr>\n",
       "    <tr>\n",
       "      <th>20412</th>\n",
       "      <td>0</td>\n",
       "      <td>0</td>\n",
       "      <td>0</td>\n",
       "      <td>0</td>\n",
       "      <td>0</td>\n",
       "      <td>0</td>\n",
       "      <td>0</td>\n",
       "      <td>0</td>\n",
       "      <td>0</td>\n",
       "      <td>0</td>\n",
       "      <td>...</td>\n",
       "      <td>0</td>\n",
       "      <td>0</td>\n",
       "      <td>0</td>\n",
       "      <td>0</td>\n",
       "      <td>0</td>\n",
       "      <td>0</td>\n",
       "      <td>0</td>\n",
       "      <td>0</td>\n",
       "      <td>0</td>\n",
       "      <td>0</td>\n",
       "    </tr>\n",
       "    <tr>\n",
       "      <th>20413</th>\n",
       "      <td>0</td>\n",
       "      <td>0</td>\n",
       "      <td>0</td>\n",
       "      <td>0</td>\n",
       "      <td>0</td>\n",
       "      <td>0</td>\n",
       "      <td>0</td>\n",
       "      <td>0</td>\n",
       "      <td>0</td>\n",
       "      <td>0</td>\n",
       "      <td>...</td>\n",
       "      <td>0</td>\n",
       "      <td>0</td>\n",
       "      <td>0</td>\n",
       "      <td>0</td>\n",
       "      <td>0</td>\n",
       "      <td>0</td>\n",
       "      <td>0</td>\n",
       "      <td>0</td>\n",
       "      <td>0</td>\n",
       "      <td>0</td>\n",
       "    </tr>\n",
       "  </tbody>\n",
       "</table>\n",
       "<p>20414 rows × 33856 columns</p>\n",
       "</div>"
      ],
      "text/plain": [
       "       aa  aaa  aaaaand  aaaaassssss  aaarghthat  aaddress  aalso  aand  \\\n",
       "0       0    0        0            0           0         0      0     0   \n",
       "1       0    0        0            0           0         0      0     0   \n",
       "2       0    0        0            0           0         0      0     0   \n",
       "3       0    0        0            0           0         0      0     0   \n",
       "4       0    0        0            0           0         0      0     0   \n",
       "...    ..  ...      ...          ...         ...       ...    ...   ...   \n",
       "20409   0    0        0            0           0         0      0     0   \n",
       "20410   0    0        0            0           0         0      0     0   \n",
       "20411   0    0        0            0           0         0      0     0   \n",
       "20412   0    0        0            0           0         0      0     0   \n",
       "20413   0    0        0            0           0         0      0     0   \n",
       "\n",
       "       aaron  aas  ...  记得以前系路口位  试了新品安格斯牛肉汉堡  转角零舍易看到  都算几nice有礼貌  门口系地下一楼  \\\n",
       "0          0    0  ...         0            0        0           0        0   \n",
       "1          0    0  ...         0            0        0           0        0   \n",
       "2          0    0  ...         0            0        0           0        0   \n",
       "3          0    0  ...         0            0        0           0        0   \n",
       "4          0    0  ...         0            0        0           0        0   \n",
       "...      ...  ...  ...       ...          ...      ...         ...      ...   \n",
       "20409      0    0  ...         0            0        0           0        0   \n",
       "20410      0    0  ...         0            0        0           0        0   \n",
       "20411      0    0  ...         0            0        0           0        0   \n",
       "20412      0    0  ...         0            0        0           0        0   \n",
       "20413      0    0  ...         0            0        0           0        0   \n",
       "\n",
       "       门面不大  隔离有超市  靠近学校的原因  顺便系新整好的food  麥當勞門口保安的溝通技巧給我整個完美的旅行帶來的最惡劣的留念  \n",
       "0         0      0        0            0                               0  \n",
       "1         0      0        0            0                               0  \n",
       "2         0      0        0            0                               0  \n",
       "3         0      0        0            0                               0  \n",
       "4         0      0        0            0                               0  \n",
       "...     ...    ...      ...          ...                             ...  \n",
       "20409     0      0        0            0                               0  \n",
       "20410     0      0        0            0                               0  \n",
       "20411     0      0        0            0                               0  \n",
       "20412     0      0        0            0                               0  \n",
       "20413     0      0        0            0                               0  \n",
       "\n",
       "[20414 rows x 33856 columns]"
      ]
     },
     "execution_count": 114,
     "metadata": {},
     "output_type": "execute_result"
    }
   ],
   "source": [
    "# Create document-term matrix using CountVectorizer\n",
    "# Convert to array and label all columns\n",
    "from sklearn.feature_extraction.text import CountVectorizer\n",
    "\n",
    "cv = CountVectorizer(stop_words='english')\n",
    "data_cv = cv.fit_transform(data_clean['text'])\n",
    "# Document-Term Matrix\n",
    "data_dtm = pd.DataFrame(data_cv.toarray(), columns=cv.get_feature_names())\n",
    "data_dtm.index = data_clean.index\n",
    "data_dtm\n",
    "\n"
   ]
  },
  {
   "cell_type": "markdown",
   "metadata": {},
   "source": [
    "### Using the TF-IDF Vectorizer in sklearn"
   ]
  },
  {
   "cell_type": "code",
   "execution_count": 115,
   "metadata": {
    "execution": {
     "iopub.execute_input": "2020-08-27T18:55:29.730857Z",
     "iopub.status.busy": "2020-08-27T18:55:29.729944Z",
     "iopub.status.idle": "2020-08-27T18:55:29.736603Z",
     "shell.execute_reply": "2020-08-27T18:55:29.735071Z",
     "shell.execute_reply.started": "2020-08-27T18:55:29.730806Z"
    }
   },
   "outputs": [],
   "source": [
    "from nltk.corpus import stopwords\n",
    "from sklearn.feature_extraction.text import TfidfVectorizer"
   ]
  },
  {
   "cell_type": "code",
   "execution_count": 116,
   "metadata": {
    "execution": {
     "iopub.execute_input": "2020-08-27T18:55:29.739791Z",
     "iopub.status.busy": "2020-08-27T18:55:29.739576Z",
     "iopub.status.idle": "2020-08-27T18:55:29.743950Z",
     "shell.execute_reply": "2020-08-27T18:55:29.742915Z",
     "shell.execute_reply.started": "2020-08-27T18:55:29.739764Z"
    }
   },
   "outputs": [],
   "source": [
    "corpus = df_final['text']"
   ]
  },
  {
   "cell_type": "code",
   "execution_count": 117,
   "metadata": {
    "execution": {
     "iopub.execute_input": "2020-08-27T18:55:29.745342Z",
     "iopub.status.busy": "2020-08-27T18:55:29.745078Z",
     "iopub.status.idle": "2020-08-27T18:55:31.801813Z",
     "shell.execute_reply": "2020-08-27T18:55:31.800947Z",
     "shell.execute_reply.started": "2020-08-27T18:55:29.745313Z"
    }
   },
   "outputs": [],
   "source": [
    "vectorizer = TfidfVectorizer(max_features=2500, min_df=7, max_df=0.8,stop_words=stopwords.words('english'))\n",
    "X = vectorizer.fit_transform(corpus)"
   ]
  },
  {
   "cell_type": "code",
   "execution_count": 132,
   "metadata": {
    "execution": {
     "iopub.execute_input": "2020-08-27T19:10:21.808166Z",
     "iopub.status.busy": "2020-08-27T19:10:21.807916Z",
     "iopub.status.idle": "2020-08-27T19:10:21.813136Z",
     "shell.execute_reply": "2020-08-27T19:10:21.812100Z",
     "shell.execute_reply.started": "2020-08-27T19:10:21.808138Z"
    }
   },
   "outputs": [
    {
     "data": {
      "text/plain": [
       "(20414, 2500)"
      ]
     },
     "execution_count": 132,
     "metadata": {},
     "output_type": "execute_result"
    }
   ],
   "source": [
    "X.shape"
   ]
  },
  {
   "cell_type": "code",
   "execution_count": 133,
   "metadata": {
    "execution": {
     "iopub.execute_input": "2020-08-27T19:11:15.615573Z",
     "iopub.status.busy": "2020-08-27T19:11:15.615265Z",
     "iopub.status.idle": "2020-08-27T19:11:15.627658Z",
     "shell.execute_reply": "2020-08-27T19:11:15.624180Z",
     "shell.execute_reply.started": "2020-08-27T19:11:15.615543Z"
    }
   },
   "outputs": [
    {
     "data": {
      "text/plain": [
       "array([[0.        , 0.        , 0.        , ..., 0.        , 0.        ,\n",
       "        0.        ],\n",
       "       [0.        , 0.        , 0.        , ..., 0.        , 0.        ,\n",
       "        0.        ],\n",
       "       [0.        , 0.        , 0.        , ..., 0.        , 0.        ,\n",
       "        0.        ],\n",
       "       ...,\n",
       "       [0.        , 0.        , 0.        , ..., 0.        , 0.        ,\n",
       "        0.        ],\n",
       "       [0.        , 0.07852817, 0.        , ..., 0.        , 0.        ,\n",
       "        0.        ],\n",
       "       [0.        , 0.        , 0.        , ..., 0.        , 0.        ,\n",
       "        0.        ]])"
      ]
     },
     "execution_count": 133,
     "metadata": {},
     "output_type": "execute_result"
    }
   ],
   "source": [
    "X"
   ]
  },
  {
   "cell_type": "code",
   "execution_count": 118,
   "metadata": {
    "execution": {
     "iopub.execute_input": "2020-08-27T18:55:31.803890Z",
     "iopub.status.busy": "2020-08-27T18:55:31.802984Z",
     "iopub.status.idle": "2020-08-27T18:55:34.118260Z",
     "shell.execute_reply": "2020-08-27T18:55:34.117537Z",
     "shell.execute_reply.started": "2020-08-27T18:55:31.803840Z"
    }
   },
   "outputs": [],
   "source": [
    "processed_features = vectorizer.fit_transform(corpus).toarray()"
   ]
  },
  {
   "cell_type": "code",
   "execution_count": 119,
   "metadata": {
    "execution": {
     "iopub.execute_input": "2020-08-27T18:55:34.119545Z",
     "iopub.status.busy": "2020-08-27T18:55:34.119314Z",
     "iopub.status.idle": "2020-08-27T18:55:34.131214Z",
     "shell.execute_reply": "2020-08-27T18:55:34.129403Z",
     "shell.execute_reply.started": "2020-08-27T18:55:34.119516Z"
    }
   },
   "outputs": [
    {
     "data": {
      "text/plain": [
       "TfidfVectorizer(max_df=0.8, max_features=2500, min_df=7,\n",
       "                stop_words=['i', 'me', 'my', 'myself', 'we', 'our', 'ours',\n",
       "                            'ourselves', 'you', \"you're\", \"you've\", \"you'll\",\n",
       "                            \"you'd\", 'your', 'yours', 'yourself', 'yourselves',\n",
       "                            'he', 'him', 'his', 'himself', 'she', \"she's\",\n",
       "                            'her', 'hers', 'herself', 'it', \"it's\", 'its',\n",
       "                            'itself', ...])"
      ]
     },
     "execution_count": 119,
     "metadata": {},
     "output_type": "execute_result"
    }
   ],
   "source": [
    "vectorizer"
   ]
  },
  {
   "cell_type": "code",
   "execution_count": 120,
   "metadata": {
    "execution": {
     "iopub.execute_input": "2020-08-27T18:55:34.138417Z",
     "iopub.status.busy": "2020-08-27T18:55:34.137465Z",
     "iopub.status.idle": "2020-08-27T18:55:34.153905Z",
     "shell.execute_reply": "2020-08-27T18:55:34.152092Z",
     "shell.execute_reply.started": "2020-08-27T18:55:34.138366Z"
    }
   },
   "outputs": [
    {
     "data": {
      "text/plain": [
       "sklearn.feature_extraction.text.TfidfVectorizer"
      ]
     },
     "execution_count": 120,
     "metadata": {},
     "output_type": "execute_result"
    }
   ],
   "source": [
    "type(vectorizer)"
   ]
  },
  {
   "cell_type": "code",
   "execution_count": 121,
   "metadata": {
    "execution": {
     "iopub.execute_input": "2020-08-27T18:55:34.156182Z",
     "iopub.status.busy": "2020-08-27T18:55:34.155968Z",
     "iopub.status.idle": "2020-08-27T18:55:34.162653Z",
     "shell.execute_reply": "2020-08-27T18:55:34.161340Z",
     "shell.execute_reply.started": "2020-08-27T18:55:34.156155Z"
    }
   },
   "outputs": [
    {
     "data": {
      "text/plain": [
       "<20414x2500 sparse matrix of type '<class 'numpy.float64'>'\n",
       "\twith 666214 stored elements in Compressed Sparse Row format>"
      ]
     },
     "execution_count": 121,
     "metadata": {},
     "output_type": "execute_result"
    }
   ],
   "source": [
    "X"
   ]
  },
  {
   "cell_type": "code",
   "execution_count": 122,
   "metadata": {
    "execution": {
     "iopub.execute_input": "2020-08-27T18:55:34.165002Z",
     "iopub.status.busy": "2020-08-27T18:55:34.164538Z",
     "iopub.status.idle": "2020-08-27T18:55:34.172427Z",
     "shell.execute_reply": "2020-08-27T18:55:34.169707Z",
     "shell.execute_reply.started": "2020-08-27T18:55:34.164961Z"
    }
   },
   "outputs": [
    {
     "data": {
      "text/plain": [
       "scipy.sparse.csr.csr_matrix"
      ]
     },
     "execution_count": 122,
     "metadata": {},
     "output_type": "execute_result"
    }
   ],
   "source": [
    "type(X)"
   ]
  },
  {
   "cell_type": "code",
   "execution_count": 123,
   "metadata": {
    "execution": {
     "iopub.execute_input": "2020-08-27T18:55:34.175429Z",
     "iopub.status.busy": "2020-08-27T18:55:34.174884Z",
     "iopub.status.idle": "2020-08-27T18:55:34.182760Z",
     "shell.execute_reply": "2020-08-27T18:55:34.181891Z",
     "shell.execute_reply.started": "2020-08-27T18:55:34.175381Z"
    }
   },
   "outputs": [
    {
     "data": {
      "text/plain": [
       "(20414, 2500)"
      ]
     },
     "execution_count": 123,
     "metadata": {},
     "output_type": "execute_result"
    }
   ],
   "source": [
    "processed_features.shape"
   ]
  },
  {
   "cell_type": "code",
   "execution_count": 124,
   "metadata": {
    "execution": {
     "iopub.execute_input": "2020-08-27T18:55:34.185857Z",
     "iopub.status.busy": "2020-08-27T18:55:34.185518Z",
     "iopub.status.idle": "2020-08-27T18:55:34.198226Z",
     "shell.execute_reply": "2020-08-27T18:55:34.196403Z",
     "shell.execute_reply.started": "2020-08-27T18:55:34.185817Z"
    }
   },
   "outputs": [
    {
     "data": {
      "text/plain": [
       "array([[0.        , 0.        , 0.        , ..., 0.        , 0.        ,\n",
       "        0.        ],\n",
       "       [0.        , 0.        , 0.        , ..., 0.        , 0.        ,\n",
       "        0.        ],\n",
       "       [0.        , 0.        , 0.        , ..., 0.        , 0.        ,\n",
       "        0.        ],\n",
       "       ...,\n",
       "       [0.        , 0.        , 0.        , ..., 0.        , 0.        ,\n",
       "        0.        ],\n",
       "       [0.        , 0.07852817, 0.        , ..., 0.        , 0.        ,\n",
       "        0.        ],\n",
       "       [0.        , 0.        , 0.        , ..., 0.        , 0.        ,\n",
       "        0.        ]])"
      ]
     },
     "execution_count": 124,
     "metadata": {},
     "output_type": "execute_result"
    }
   ],
   "source": [
    "processed_features"
   ]
  },
  {
   "cell_type": "code",
   "execution_count": 125,
   "metadata": {
    "execution": {
     "iopub.execute_input": "2020-08-27T18:55:34.200223Z",
     "iopub.status.busy": "2020-08-27T18:55:34.199951Z",
     "iopub.status.idle": "2020-08-27T18:55:34.209728Z",
     "shell.execute_reply": "2020-08-27T18:55:34.208082Z",
     "shell.execute_reply.started": "2020-08-27T18:55:34.200171Z"
    }
   },
   "outputs": [
    {
     "data": {
      "text/plain": [
       "numpy.ndarray"
      ]
     },
     "execution_count": 125,
     "metadata": {},
     "output_type": "execute_result"
    }
   ],
   "source": [
    "type(processed_features)"
   ]
  },
  {
   "cell_type": "markdown",
   "metadata": {},
   "source": [
    "### Dividing Data into Training and Test Sets"
   ]
  },
  {
   "cell_type": "code",
   "execution_count": 126,
   "metadata": {
    "execution": {
     "iopub.execute_input": "2020-08-27T18:55:34.213627Z",
     "iopub.status.busy": "2020-08-27T18:55:34.213250Z",
     "iopub.status.idle": "2020-08-27T18:55:34.220483Z",
     "shell.execute_reply": "2020-08-27T18:55:34.219599Z",
     "shell.execute_reply.started": "2020-08-27T18:55:34.213585Z"
    }
   },
   "outputs": [],
   "source": [
    "import numpy as np\n",
    "from sklearn.model_selection import train_test_split"
   ]
  },
  {
   "cell_type": "code",
   "execution_count": 127,
   "metadata": {
    "execution": {
     "iopub.execute_input": "2020-08-27T18:55:34.221895Z",
     "iopub.status.busy": "2020-08-27T18:55:34.221673Z",
     "iopub.status.idle": "2020-08-27T18:55:34.228547Z",
     "shell.execute_reply": "2020-08-27T18:55:34.227006Z",
     "shell.execute_reply.started": "2020-08-27T18:55:34.221863Z"
    }
   },
   "outputs": [],
   "source": [
    "X = processed_features\n",
    "y = df_final['stars_y']"
   ]
  },
  {
   "cell_type": "code",
   "execution_count": 128,
   "metadata": {
    "execution": {
     "iopub.execute_input": "2020-08-27T18:55:34.233290Z",
     "iopub.status.busy": "2020-08-27T18:55:34.232246Z",
     "iopub.status.idle": "2020-08-27T18:55:34.243072Z",
     "shell.execute_reply": "2020-08-27T18:55:34.241928Z",
     "shell.execute_reply.started": "2020-08-27T18:55:34.233231Z"
    }
   },
   "outputs": [
    {
     "data": {
      "text/plain": [
       "((20414, 2500), (20414,))"
      ]
     },
     "execution_count": 128,
     "metadata": {},
     "output_type": "execute_result"
    }
   ],
   "source": [
    "X.shape, y.shape"
   ]
  },
  {
   "cell_type": "code",
   "execution_count": 55,
   "metadata": {
    "execution": {
     "iopub.execute_input": "2020-08-27T17:08:09.598534Z",
     "iopub.status.busy": "2020-08-27T17:08:09.598283Z",
     "iopub.status.idle": "2020-08-27T17:08:10.346046Z",
     "shell.execute_reply": "2020-08-27T17:08:10.345153Z",
     "shell.execute_reply.started": "2020-08-27T17:08:09.598503Z"
    }
   },
   "outputs": [],
   "source": [
    "X_train, X_test, y_train, y_test = train_test_split(X, y, test_size=0.2, random_state=0)"
   ]
  },
  {
   "cell_type": "code",
   "execution_count": null,
   "metadata": {},
   "outputs": [],
   "source": []
  },
  {
   "cell_type": "markdown",
   "metadata": {},
   "source": [
    "### Training the Model"
   ]
  },
  {
   "cell_type": "code",
   "execution_count": null,
   "metadata": {
    "execution": {
     "iopub.status.busy": "2020-08-27T17:05:01.346844Z",
     "iopub.status.idle": "2020-08-27T17:05:01.347195Z"
    }
   },
   "outputs": [],
   "source": [
    "from sklearn.ensemble import RandomForestClassifier"
   ]
  },
  {
   "cell_type": "code",
   "execution_count": null,
   "metadata": {
    "execution": {
     "iopub.status.busy": "2020-08-27T17:05:01.348897Z",
     "iopub.status.idle": "2020-08-27T17:05:01.349194Z"
    }
   },
   "outputs": [],
   "source": [
    "text_classifier = RandomForestClassifier(n_estimators=200, random_state=0)\n",
    "text_classifier.fit(X_train, y_train)"
   ]
  },
  {
   "cell_type": "code",
   "execution_count": null,
   "metadata": {},
   "outputs": [],
   "source": []
  },
  {
   "cell_type": "code",
   "execution_count": null,
   "metadata": {},
   "outputs": [],
   "source": []
  },
  {
   "cell_type": "code",
   "execution_count": null,
   "metadata": {},
   "outputs": [],
   "source": []
  },
  {
   "cell_type": "markdown",
   "metadata": {},
   "source": [
    "### Making Predictions and Evaluating the Model"
   ]
  },
  {
   "cell_type": "code",
   "execution_count": null,
   "metadata": {
    "execution": {
     "iopub.status.busy": "2020-08-27T17:05:01.350378Z",
     "iopub.status.idle": "2020-08-27T17:05:01.350755Z"
    }
   },
   "outputs": [],
   "source": [
    "predictions = text_classifier.predict(X_test)"
   ]
  },
  {
   "cell_type": "code",
   "execution_count": null,
   "metadata": {
    "execution": {
     "iopub.status.busy": "2020-08-27T17:05:01.352366Z",
     "iopub.status.idle": "2020-08-27T17:05:01.352691Z"
    }
   },
   "outputs": [],
   "source": [
    "from sklearn.metrics import classification_report, confusion_matrix, accuracy_score\n",
    "\n",
    "print(confusion_matrix(y_test,predictions))\n",
    "print(classification_report(y_test,predictions))\n",
    "print(accuracy_score(y_test, predictions))"
   ]
  },
  {
   "cell_type": "code",
   "execution_count": null,
   "metadata": {
    "execution": {
     "iopub.status.busy": "2020-08-27T17:05:01.354267Z",
     "iopub.status.idle": "2020-08-27T17:05:01.354979Z"
    }
   },
   "outputs": [],
   "source": [
    "y"
   ]
  },
  {
   "cell_type": "code",
   "execution_count": null,
   "metadata": {
    "execution": {
     "iopub.status.busy": "2020-08-27T17:05:01.356433Z",
     "iopub.status.idle": "2020-08-27T17:05:01.356756Z"
    }
   },
   "outputs": [],
   "source": [
    "print(vectorizer.get_feature_names())"
   ]
  },
  {
   "cell_type": "code",
   "execution_count": null,
   "metadata": {
    "execution": {
     "iopub.status.busy": "2020-08-27T17:05:01.358205Z",
     "iopub.status.idle": "2020-08-27T17:05:01.358500Z"
    }
   },
   "outputs": [],
   "source": [
    "print(X.shape)"
   ]
  },
  {
   "cell_type": "code",
   "execution_count": null,
   "metadata": {
    "execution": {
     "iopub.status.busy": "2020-08-27T17:05:01.359392Z",
     "iopub.status.idle": "2020-08-27T17:05:01.359665Z"
    }
   },
   "outputs": [],
   "source": [
    "\n",
    ">>> X = vectorizer.fit_transform(corpus)\n",
    ">>> print(vectorizer.get_feature_names())\n",
    "['and', 'document', 'first', 'is', 'one', 'second', 'the', 'third', 'this']\n",
    ">>> print(X.shape)\n",
    "(4, 9)\n",
    "\n",
    "# run text column\n",
    "## Parameters\n",
    "# max_features - \n",
    "# min_df - minimum document frequency\n",
    "# max_df - maximum document frequency"
   ]
  },
  {
   "cell_type": "code",
   "execution_count": null,
   "metadata": {
    "execution": {
     "iopub.status.busy": "2020-08-27T17:05:01.360933Z",
     "iopub.status.idle": "2020-08-27T17:05:01.361236Z"
    }
   },
   "outputs": [],
   "source": [
    "df_final['stars_y'].shape"
   ]
  },
  {
   "cell_type": "code",
   "execution_count": null,
   "metadata": {
    "execution": {
     "iopub.status.busy": "2020-08-27T17:05:01.362287Z",
     "iopub.status.idle": "2020-08-27T17:05:01.362566Z"
    }
   },
   "outputs": [],
   "source": [
    "y = df_final['stars_y']"
   ]
  },
  {
   "cell_type": "code",
   "execution_count": null,
   "metadata": {},
   "outputs": [],
   "source": []
  },
  {
   "cell_type": "code",
   "execution_count": null,
   "metadata": {
    "execution": {
     "iopub.status.busy": "2020-08-27T17:05:01.363490Z",
     "iopub.status.idle": "2020-08-27T17:05:01.363958Z"
    }
   },
   "outputs": [],
   "source": [
    "import numpy as np\n",
    "from sklearn.model_selection import train_test_split"
   ]
  },
  {
   "cell_type": "code",
   "execution_count": 41,
   "metadata": {
    "execution": {
     "iopub.execute_input": "2020-08-27T17:07:13.336465Z",
     "iopub.status.busy": "2020-08-27T17:07:13.336068Z",
     "iopub.status.idle": "2020-08-27T17:07:13.365521Z",
     "shell.execute_reply": "2020-08-27T17:07:13.362755Z",
     "shell.execute_reply.started": "2020-08-27T17:07:13.336419Z"
    }
   },
   "outputs": [
    {
     "ename": "NameError",
     "evalue": "name 'X' is not defined",
     "output_type": "error",
     "traceback": [
      "\u001b[0;31m---------------------------------------------------------------------------\u001b[0m",
      "\u001b[0;31mNameError\u001b[0m                                 Traceback (most recent call last)",
      "\u001b[0;32m<ipython-input-41-dea611e03200>\u001b[0m in \u001b[0;36m<module>\u001b[0;34m\u001b[0m\n\u001b[0;32m----> 1\u001b[0;31m \u001b[0mX_train\u001b[0m\u001b[0;34m,\u001b[0m \u001b[0mX_test\u001b[0m\u001b[0;34m,\u001b[0m \u001b[0my_train\u001b[0m\u001b[0;34m,\u001b[0m \u001b[0my_test\u001b[0m \u001b[0;34m=\u001b[0m \u001b[0mtrain_test_split\u001b[0m\u001b[0;34m(\u001b[0m\u001b[0mX\u001b[0m\u001b[0;34m,\u001b[0m \u001b[0my\u001b[0m\u001b[0;34m,\u001b[0m \u001b[0mtest_size\u001b[0m\u001b[0;34m=\u001b[0m\u001b[0;36m0.33\u001b[0m\u001b[0;34m,\u001b[0m \u001b[0mrandom_state\u001b[0m\u001b[0;34m=\u001b[0m\u001b[0;36m42\u001b[0m\u001b[0;34m)\u001b[0m\u001b[0;34m\u001b[0m\u001b[0;34m\u001b[0m\u001b[0m\n\u001b[0m",
      "\u001b[0;31mNameError\u001b[0m: name 'X' is not defined"
     ]
    }
   ],
   "source": [
    "X_train, X_test, y_train, y_test = train_test_split(X, y, test_size=0.33, random_state=42)"
   ]
  },
  {
   "cell_type": "code",
   "execution_count": null,
   "metadata": {
    "execution": {
     "iopub.status.busy": "2020-08-27T17:05:01.366344Z",
     "iopub.status.idle": "2020-08-27T17:05:01.366755Z"
    }
   },
   "outputs": [],
   "source": [
    "y.describe()"
   ]
  },
  {
   "cell_type": "code",
   "execution_count": null,
   "metadata": {
    "execution": {
     "iopub.status.busy": "2020-08-27T17:05:01.367827Z",
     "iopub.status.idle": "2020-08-27T17:05:01.368109Z"
    }
   },
   "outputs": [],
   "source": [
    "y.value_counts()"
   ]
  },
  {
   "cell_type": "code",
   "execution_count": null,
   "metadata": {
    "execution": {
     "iopub.status.busy": "2020-08-27T17:05:01.369341Z",
     "iopub.status.idle": "2020-08-27T17:05:01.369620Z"
    }
   },
   "outputs": [],
   "source": [
    "plt.figure(figsize=(6,10))\n",
    "y.value_counts().plot(kind='pie', autopct='%1.0f%%')\n",
    "plt.title('Ratings of Reviews by Percentage')\n",
    "plt.savefig('mcdonalds_piechart.png',dpi=100)"
   ]
  },
  {
   "cell_type": "code",
   "execution_count": null,
   "metadata": {
    "execution": {
     "iopub.status.busy": "2020-08-27T17:05:01.370649Z",
     "iopub.status.idle": "2020-08-27T17:05:01.370928Z"
    }
   },
   "outputs": [],
   "source": [
    "from sklearn.feature_extraction.text import CountVectorizer"
   ]
  },
  {
   "cell_type": "code",
   "execution_count": 22,
   "metadata": {
    "execution": {
     "iopub.execute_input": "2020-08-27T17:05:01.475228Z",
     "iopub.status.busy": "2020-08-27T17:05:01.474923Z",
     "iopub.status.idle": "2020-08-27T17:05:01.493377Z",
     "shell.execute_reply": "2020-08-27T17:05:01.492033Z",
     "shell.execute_reply.started": "2020-08-27T17:05:01.475177Z"
    }
   },
   "outputs": [
    {
     "ename": "NameError",
     "evalue": "name 'data_dtm' is not defined",
     "output_type": "error",
     "traceback": [
      "\u001b[0;31m---------------------------------------------------------------------------\u001b[0m",
      "\u001b[0;31mNameError\u001b[0m                                 Traceback (most recent call last)",
      "\u001b[0;32m<ipython-input-22-45eea41ac85d>\u001b[0m in \u001b[0;36m<module>\u001b[0;34m\u001b[0m\n\u001b[0;32m----> 1\u001b[0;31m \u001b[0mdata_dtm\u001b[0m\u001b[0;34m\u001b[0m\u001b[0;34m\u001b[0m\u001b[0m\n\u001b[0m",
      "\u001b[0;31mNameError\u001b[0m: name 'data_dtm' is not defined"
     ]
    }
   ],
   "source": [
    "data_dtm"
   ]
  },
  {
   "cell_type": "code",
   "execution_count": null,
   "metadata": {},
   "outputs": [],
   "source": []
  },
  {
   "cell_type": "markdown",
   "metadata": {
    "execution": {
     "iopub.execute_input": "2020-08-26T23:43:45.326070Z",
     "iopub.status.busy": "2020-08-26T23:43:45.325373Z",
     "iopub.status.idle": "2020-08-26T23:43:45.332976Z",
     "shell.execute_reply": "2020-08-26T23:43:45.330785Z",
     "shell.execute_reply.started": "2020-08-26T23:43:45.326038Z"
    }
   },
   "source": [
    "### Linear Classifier"
   ]
  },
  {
   "cell_type": "code",
   "execution_count": null,
   "metadata": {
    "execution": {
     "iopub.status.busy": "2020-08-27T17:05:01.494259Z",
     "iopub.status.idle": "2020-08-27T17:05:01.494558Z"
    }
   },
   "outputs": [],
   "source": [
    "from sklearn.linear_model import LogisticRegression\n",
    "log_model = LogisticRegression()"
   ]
  },
  {
   "cell_type": "code",
   "execution_count": null,
   "metadata": {},
   "outputs": [],
   "source": []
  },
  {
   "cell_type": "code",
   "execution_count": null,
   "metadata": {},
   "outputs": [],
   "source": []
  },
  {
   "cell_type": "code",
   "execution_count": null,
   "metadata": {
    "execution": {
     "iopub.status.busy": "2020-08-27T17:05:01.495757Z",
     "iopub.status.idle": "2020-08-27T17:05:01.496043Z"
    }
   },
   "outputs": [],
   "source": [
    "# text, data, labels\n",
    "#  build two models"
   ]
  },
  {
   "cell_type": "code",
   "execution_count": null,
   "metadata": {
    "execution": {
     "iopub.status.busy": "2020-08-27T17:05:01.497080Z",
     "iopub.status.idle": "2020-08-27T17:05:01.497373Z"
    }
   },
   "outputs": [],
   "source": [
    "# MVP"
   ]
  },
  {
   "cell_type": "code",
   "execution_count": null,
   "metadata": {
    "execution": {
     "iopub.status.busy": "2020-08-27T17:05:01.498597Z",
     "iopub.status.idle": "2020-08-27T17:05:01.498905Z"
    }
   },
   "outputs": [],
   "source": [
    "## Later\n",
    "# Word2Vec\n",
    "# vector representation of every word\n",
    "# ask neural network to predict nearby words"
   ]
  },
  {
   "cell_type": "code",
   "execution_count": null,
   "metadata": {
    "execution": {
     "iopub.status.busy": "2020-08-27T17:05:01.499668Z",
     "iopub.status.idle": "2020-08-27T17:05:01.500004Z"
    }
   },
   "outputs": [],
   "source": [
    "#tfidf vectorizer\n",
    "# transformed text is training seta\n",
    "# ratings would be y\n",
    "# make regression models"
   ]
  },
  {
   "cell_type": "code",
   "execution_count": null,
   "metadata": {
    "execution": {
     "iopub.status.busy": "2020-08-27T17:05:01.501354Z",
     "iopub.status.idle": "2020-08-27T17:05:01.501949Z"
    }
   },
   "outputs": [],
   "source": [
    "# Use NLTK corpus to remove other languages\n",
    "import nltk\n",
    "words = set(nltk.corpus.words.words())"
   ]
  },
  {
   "cell_type": "code",
   "execution_count": null,
   "metadata": {
    "execution": {
     "iopub.status.busy": "2020-08-27T17:05:01.503038Z",
     "iopub.status.idle": "2020-08-27T17:05:01.503403Z"
    }
   },
   "outputs": [],
   "source": [
    "# Remove other languages, mixed pharases\n",
    "# nltk.corpus.words.words"
   ]
  },
  {
   "cell_type": "code",
   "execution_count": null,
   "metadata": {
    "execution": {
     "iopub.status.busy": "2020-08-27T17:05:01.504604Z",
     "iopub.status.idle": "2020-08-27T17:05:01.505017Z"
    }
   },
   "outputs": [],
   "source": [
    "# TD-IDF vectorizer, reassign dataframe\n",
    "# Adjust columns\n",
    "# pd.set_option()"
   ]
  },
  {
   "cell_type": "code",
   "execution_count": null,
   "metadata": {
    "execution": {
     "iopub.status.busy": "2020-08-27T17:05:01.506040Z",
     "iopub.status.idle": "2020-08-27T17:05:01.506460Z"
    }
   },
   "outputs": [],
   "source": [
    "data_dtm.nunique"
   ]
  },
  {
   "cell_type": "code",
   "execution_count": null,
   "metadata": {
    "execution": {
     "iopub.status.busy": "2020-08-27T17:05:01.507118Z",
     "iopub.status.idle": "2020-08-27T17:05:01.507387Z"
    }
   },
   "outputs": [],
   "source": [
    "# Add column for text length of characters for each review\n",
    "df_final['text_length'] = df_final['Text'].apply(len)\n",
    "df_final.head()"
   ]
  },
  {
   "cell_type": "code",
   "execution_count": null,
   "metadata": {
    "execution": {
     "iopub.status.busy": "2020-08-27T17:05:01.508458Z",
     "iopub.status.idle": "2020-08-27T17:05:01.508935Z"
    }
   },
   "outputs": [],
   "source": [
    "# Show plot of Text Length distribution\n",
    "warnings.filterwarnings(\"ignore\")\n",
    "fig = plt.figure(figsize=(12,8))\n",
    "sns.distplot(final_df['Text Length'], kde=True, bins=50)\n",
    "plt.title(\"Distribution of Text Length of Yelp Reviews on McDonald's\")"
   ]
  },
  {
   "cell_type": "code",
   "execution_count": null,
   "metadata": {
    "execution": {
     "iopub.status.busy": "2020-08-27T17:05:01.510125Z",
     "iopub.status.idle": "2020-08-27T17:05:01.510412Z"
    }
   },
   "outputs": [],
   "source": [
    "df_final.describe()"
   ]
  },
  {
   "cell_type": "code",
   "execution_count": null,
   "metadata": {
    "execution": {
     "iopub.status.busy": "2020-08-27T17:05:01.511395Z",
     "iopub.status.idle": "2020-08-27T17:05:01.511675Z"
    }
   },
   "outputs": [],
   "source": [
    "df_final.info()"
   ]
  },
  {
   "cell_type": "code",
   "execution_count": null,
   "metadata": {
    "execution": {
     "iopub.status.busy": "2020-08-27T17:05:01.513123Z",
     "iopub.status.idle": "2020-08-27T17:05:01.513899Z"
    }
   },
   "outputs": [],
   "source": [
    "warnings.filterwarnings(\"ignore\")\n",
    "\n",
    "fig = plt.figure(figsize=(12,8))\n",
    "axes1 = plt.subplot(2,2,1)\n",
    "axes1 = sns.countplot(x='Stars', data=df_final)\n",
    "axes1.set_title('Stars')\n",
    "axes1.set_ylabel('Count')\n",
    "\n",
    "axes2 = plt.subplot(2,2,2)\n",
    "axes2 = sns.countplot(x='Cool', data=df_final)\n",
    "axes2.set_title('Cool')\n",
    "axes2.set_ylabel('Count')\n",
    "\n",
    "axes3 = plt.subplot(2,2,3)\n",
    "axes3 = sns.countplot(x='Useful', data=df_final)\n",
    "axes3.set_title('Useful')\n",
    "axes3.set_ylabel('Count')\n",
    "\n",
    "axes4 = plt.subplot(2,2,4)\n",
    "axes4 = sns.countplot(x='Funny', data=df_final)\n",
    "axes4.set_title('Funny')\n",
    "axes4.set_ylabel('Count')\n",
    "\n",
    "plt.tight_layout()"
   ]
  },
  {
   "cell_type": "code",
   "execution_count": null,
   "metadata": {
    "execution": {
     "iopub.status.busy": "2020-08-27T17:05:01.515261Z",
     "iopub.status.idle": "2020-08-27T17:05:01.515563Z"
    }
   },
   "outputs": [],
   "source": [
    "mcd_corr = df_final[['Stars', 'Cool', 'Useful', 'Funny', 'Text Length']].corr()\n",
    "\n",
    "fig = plt.figure(figsize=(12,8))\n",
    "axes = sns.heatmap(mcd_corr, cmap='coolwarm', linewidth=1, linecolor='white', annot=True)\n",
    "axes.set_title('Heatmap of Variables', fontsize=30)"
   ]
  },
  {
   "cell_type": "code",
   "execution_count": null,
   "metadata": {
    "execution": {
     "iopub.status.busy": "2020-08-27T17:05:01.516719Z",
     "iopub.status.idle": "2020-08-27T17:05:01.517002Z"
    }
   },
   "outputs": [],
   "source": [
    "# pairplot\n",
    "sns.pairplot(df_final, hue='Stars', palette='coolwarm')"
   ]
  },
  {
   "cell_type": "code",
   "execution_count": null,
   "metadata": {
    "execution": {
     "iopub.status.busy": "2020-08-27T17:05:01.518097Z",
     "iopub.status.idle": "2020-08-27T17:05:01.518393Z"
    }
   },
   "outputs": [],
   "source": [
    "warnings.filterwarnings(\"ignore\")\n",
    "sns.boxplot(x='Stars', y='Text Length', data=df_final, palette='rainbow')"
   ]
  },
  {
   "cell_type": "code",
   "execution_count": null,
   "metadata": {
    "execution": {
     "iopub.status.busy": "2020-08-27T17:05:01.519460Z",
     "iopub.status.idle": "2020-08-27T17:05:01.519855Z"
    }
   },
   "outputs": [],
   "source": [
    "# stars_x is average rating of business (McDonald's)\n",
    "# stars_y is rating of review given by individual user \n",
    "# Join data_clean and \"Stars\" column of df_final\n",
    "df_final['data_clean'] = data_clean\n",
    "df_final2 = df_final[['Stars','data_clean']"
   ]
  },
  {
   "cell_type": "code",
   "execution_count": null,
   "metadata": {
    "execution": {
     "iopub.status.busy": "2020-08-27T17:05:01.520845Z",
     "iopub.status.idle": "2020-08-27T17:05:01.521143Z"
    }
   },
   "outputs": [],
   "source": [
    "df_final2.head()"
   ]
  },
  {
   "cell_type": "code",
   "execution_count": null,
   "metadata": {
    "execution": {
     "iopub.status.busy": "2020-08-27T17:05:01.522238Z",
     "iopub.status.idle": "2020-08-27T17:05:01.522694Z"
    }
   },
   "outputs": [],
   "source": [
    "# Add a column with text in list format\n",
    "def get_word_list(text):\n",
    "    return [word.lower() for word in text.split() if word.lower()]\n"
   ]
  },
  {
   "cell_type": "code",
   "execution_count": null,
   "metadata": {
    "execution": {
     "iopub.status.busy": "2020-08-27T17:05:01.524334Z",
     "iopub.status.idle": "2020-08-27T17:05:01.524712Z"
    }
   },
   "outputs": [],
   "source": [
    "#   return [word.lower() for word in remove_punc.split() if word.lower() not in stopwords.words('english')]"
   ]
  },
  {
   "cell_type": "code",
   "execution_count": null,
   "metadata": {
    "execution": {
     "iopub.status.busy": "2020-08-27T17:05:01.525926Z",
     "iopub.status.idle": "2020-08-27T17:05:01.526241Z"
    }
   },
   "outputs": [],
   "source": [
    "# Plot frequency distribution of words for the reviews\n",
    "words_split = []\n",
    "for i in range(0,9999): \n",
    "    for word in df_final2['data_clean'][i]:\n",
    "        words_split.append(word)\n",
    "FreqDist(words_split).plot(30, cumulative=False)"
   ]
  },
  {
   "cell_type": "code",
   "execution_count": null,
   "metadata": {
    "execution": {
     "iopub.status.busy": "2020-08-27T17:05:01.527536Z",
     "iopub.status.idle": "2020-08-27T17:05:01.528085Z"
    }
   },
   "outputs": [],
   "source": [
    "df_text = df_final2['data_clean'].values\n",
    "\n",
    "wordcloud = WordCloud(\n",
    "    width = 3000,\n",
    "    height = 2000,\n",
    "    background_color = 'black',\n",
    "    stopwords = STOPWORDS).generate(str(df_text))\n",
    "\n",
    "fig = plt.figure(\n",
    "    figsize = (10, 7),\n",
    "    facecolor = 'k',\n",
    "    edgecolor = 'k')\n",
    "plt.imshow(wordcloud, interpolation = 'bilinear')\n",
    "plt.axis('off')\n",
    "plt.tight_layout(pad=0)"
   ]
  },
  {
   "cell_type": "code",
   "execution_count": null,
   "metadata": {
    "execution": {
     "iopub.status.busy": "2020-08-27T17:05:01.529214Z",
     "iopub.status.idle": "2020-08-27T17:05:01.529602Z"
    }
   },
   "outputs": [],
   "source": [
    "# Frequency of words in 1-star rating reviews\n",
    "warnings.filterwarnings(\"ignore\")\n",
    "df_text_star_1 = df_final2[df_final2['Stars']==1]\n",
    "df_text_star_1['Text'] = df_text_star_1['Text'].apply(get_word_list)\n",
    "yelp_text_stars1.count()"
   ]
  },
  {
   "cell_type": "code",
   "execution_count": null,
   "metadata": {
    "execution": {
     "iopub.status.busy": "2020-08-27T17:05:01.530700Z",
     "iopub.status.idle": "2020-08-27T17:05:01.531270Z"
    }
   },
   "outputs": [],
   "source": [
    "df_text_star_1 = df_text_star_1.reset_index(drop=True)\n",
    "words_split = []\n",
    "for i in range(0,749): \n",
    "    for word in df_text_star_1['Text'][i]:\n",
    "        words_split.append(word)\n",
    "FreqDist(words_split).plot(30, cumulative=False)"
   ]
  },
  {
   "cell_type": "code",
   "execution_count": null,
   "metadata": {
    "execution": {
     "iopub.status.busy": "2020-08-27T17:05:01.532726Z",
     "iopub.status.idle": "2020-08-27T17:05:01.533022Z"
    }
   },
   "outputs": [],
   "source": [
    "# Frequency of words in 1-star rating reviews\n",
    "warnings.filterwarnings(\"ignore\")\n",
    "df_text_star_5 = df_final2[df_final2['Stars']==5]\n",
    "df_text_star_5['Text'] = df_text_star_5['Text'].apply(get_word_list)\n",
    "df_text_star_5.count()"
   ]
  },
  {
   "cell_type": "code",
   "execution_count": null,
   "metadata": {
    "execution": {
     "iopub.status.busy": "2020-08-27T17:05:01.534442Z",
     "iopub.status.idle": "2020-08-27T17:05:01.535148Z"
    }
   },
   "outputs": [],
   "source": [
    "df_text_star_5 = df_text_star_5.reset_index(drop=True)\n",
    "words_split = []\n",
    "for i in range(0,3337): \n",
    "    for word in df_text_star_5 ['Text'][i]:\n",
    "        words_split.append(word)\n",
    "FreqDist(words_split).plot(30, cumulative=False)"
   ]
  },
  {
   "cell_type": "code",
   "execution_count": null,
   "metadata": {
    "execution": {
     "iopub.status.busy": "2020-08-27T17:05:01.536340Z",
     "iopub.status.idle": "2020-08-27T17:05:01.536646Z"
    }
   },
   "outputs": [],
   "source": [
    "df_text_star_5 = df_text_star_5 ['Text'].values\n",
    "\n",
    "wordcloud = WordCloud(\n",
    "    width = 3000,\n",
    "    height = 2000,\n",
    "    background_color = 'black',\n",
    "    stopwords = STOPWORDS).generate(str(df_text_star_5))\n",
    "\n",
    "fig = plt.figure(\n",
    "    figsize = (10, 7),\n",
    "    facecolor = 'k',\n",
    "    edgecolor = 'k')\n",
    "plt.imshow(wordcloud, interpolation = 'bilinear')\n",
    "plt.axis('off')\n",
    "plt.tight_layout(pad=0)"
   ]
  },
  {
   "cell_type": "code",
   "execution_count": null,
   "metadata": {
    "execution": {
     "iopub.status.busy": "2020-08-27T17:05:01.537687Z",
     "iopub.status.idle": "2020-08-27T17:05:01.537998Z"
    }
   },
   "outputs": [],
   "source": [
    "df_final2.to_csv('mcdonalds_clean.csv')"
   ]
  },
  {
   "cell_type": "code",
   "execution_count": null,
   "metadata": {
    "execution": {
     "iopub.status.busy": "2020-08-27T17:05:01.539238Z",
     "iopub.status.idle": "2020-08-27T17:05:01.539520Z"
    }
   },
   "outputs": [],
   "source": [
    "df_final['stars_x'].describe()"
   ]
  },
  {
   "cell_type": "code",
   "execution_count": null,
   "metadata": {
    "execution": {
     "iopub.status.busy": "2020-08-27T17:05:01.540659Z",
     "iopub.status.idle": "2020-08-27T17:05:01.540946Z"
    }
   },
   "outputs": [],
   "source": [
    "### Group by Stars for mean values"
   ]
  },
  {
   "cell_type": "code",
   "execution_count": null,
   "metadata": {
    "execution": {
     "iopub.status.busy": "2020-08-27T17:05:01.541967Z",
     "iopub.status.idle": "2020-08-27T17:05:01.542243Z"
    }
   },
   "outputs": [],
   "source": [
    "df_final.columns"
   ]
  },
  {
   "cell_type": "code",
   "execution_count": null,
   "metadata": {
    "execution": {
     "iopub.status.busy": "2020-08-27T17:05:01.543458Z",
     "iopub.status.idle": "2020-08-27T17:05:01.543787Z"
    }
   },
   "outputs": [],
   "source": [
    "star_votes = df_final.groupby('stars_y').mean()"
   ]
  },
  {
   "cell_type": "code",
   "execution_count": null,
   "metadata": {
    "execution": {
     "iopub.status.busy": "2020-08-27T17:05:01.544959Z",
     "iopub.status.idle": "2020-08-27T17:05:01.545754Z"
    }
   },
   "outputs": [],
   "source": [
    "star_votes"
   ]
  },
  {
   "cell_type": "code",
   "execution_count": null,
   "metadata": {
    "execution": {
     "iopub.status.busy": "2020-08-27T17:05:01.547022Z",
     "iopub.status.idle": "2020-08-27T17:05:01.547383Z"
    }
   },
   "outputs": [],
   "source": [
    "graph = sns.FacetGrid(data=data,col='stars')\n",
    "graph.map(plt.hist,'length',bins=50,color='blue')"
   ]
  },
  {
   "cell_type": "code",
   "execution_count": null,
   "metadata": {
    "execution": {
     "iopub.status.busy": "2020-08-27T17:05:01.548306Z",
     "iopub.status.idle": "2020-08-27T17:05:01.548580Z"
    }
   },
   "outputs": [],
   "source": [
    "star_votes[['useful','funny','cool']]"
   ]
  },
  {
   "cell_type": "code",
   "execution_count": null,
   "metadata": {
    "execution": {
     "iopub.status.busy": "2020-08-27T17:05:01.549585Z",
     "iopub.status.idle": "2020-08-27T17:05:01.550037Z"
    }
   },
   "outputs": [],
   "source": [
    "df_final['useful'].unique()"
   ]
  },
  {
   "cell_type": "code",
   "execution_count": null,
   "metadata": {
    "execution": {
     "iopub.status.busy": "2020-08-27T17:05:01.551501Z",
     "iopub.status.idle": "2020-08-27T17:05:01.551787Z"
    }
   },
   "outputs": [],
   "source": [
    "### Multinomial naive Bayes\n",
    "from sklearn.naive_bayes import MultinomialNB\n",
    "mnb = MultinomialNB()"
   ]
  },
  {
   "cell_type": "code",
   "execution_count": null,
   "metadata": {
    "execution": {
     "iopub.status.busy": "2020-08-27T17:05:01.552866Z",
     "iopub.status.idle": "2020-08-27T17:05:01.553300Z"
    }
   },
   "outputs": [],
   "source": [
    "mnb.fit(X_train,y_train)\n",
    "predmnb = mnb.predict(X_test)"
   ]
  },
  {
   "cell_type": "code",
   "execution_count": null,
   "metadata": {
    "execution": {
     "iopub.status.busy": "2020-08-27T17:05:01.554395Z",
     "iopub.status.idle": "2020-08-27T17:05:01.554683Z"
    }
   },
   "outputs": [],
   "source": [
    "print(\"Confusion Matrix for Multinomial Naive Bayes:\")\n",
    "print(confusion_matrix(y_test,predmnb))\n",
    "print(\"Score:\",round(accuracy_score(y_test,predmnb)*100,2))\n",
    "print(\"Classification Report:\",classification_report(y_test,predmnb))"
   ]
  },
  {
   "cell_type": "markdown",
   "metadata": {
    "execution": {
     "iopub.execute_input": "2020-08-27T00:06:23.548147Z",
     "iopub.status.busy": "2020-08-27T00:06:23.547808Z",
     "iopub.status.idle": "2020-08-27T00:06:23.552152Z",
     "shell.execute_reply": "2020-08-27T00:06:23.551264Z",
     "shell.execute_reply.started": "2020-08-27T00:06:23.548115Z"
    }
   },
   "source": [
    "### Decision Tree"
   ]
  },
  {
   "cell_type": "code",
   "execution_count": null,
   "metadata": {
    "execution": {
     "iopub.status.busy": "2020-08-27T17:05:01.555851Z",
     "iopub.status.idle": "2020-08-27T17:05:01.556134Z"
    }
   },
   "outputs": [],
   "source": [
    "from sklearn.tree import DecisionTreeClassifier\n",
    "dt = DecisionTreeClassifier()"
   ]
  },
  {
   "cell_type": "code",
   "execution_count": null,
   "metadata": {
    "execution": {
     "iopub.status.busy": "2020-08-27T17:05:01.557041Z",
     "iopub.status.idle": "2020-08-27T17:05:01.557315Z"
    }
   },
   "outputs": [],
   "source": [
    "dt.fit(X_train,y_train)\n",
    "preddt = dt.predict(X_test)"
   ]
  },
  {
   "cell_type": "code",
   "execution_count": null,
   "metadata": {
    "execution": {
     "iopub.status.busy": "2020-08-27T17:05:01.558709Z",
     "iopub.status.idle": "2020-08-27T17:05:01.558994Z"
    }
   },
   "outputs": [],
   "source": [
    "print(\"Confusion Matrix for Decision Tree:\")\n",
    "print(confusion_matrix(y_test,preddt))\n",
    "print(\"Score:\",round(accuracy_score(y_test,preddt)*100,2))\n",
    "print(\"Classification Report:\",classification_report(y_test,preddt))"
   ]
  },
  {
   "cell_type": "code",
   "execution_count": null,
   "metadata": {},
   "outputs": [],
   "source": []
  },
  {
   "cell_type": "markdown",
   "metadata": {},
   "source": [
    "### Support Vector Machines (SVM)"
   ]
  },
  {
   "cell_type": "code",
   "execution_count": 56,
   "metadata": {
    "execution": {
     "iopub.execute_input": "2020-08-27T17:08:22.268761Z",
     "iopub.status.busy": "2020-08-27T17:08:22.268153Z",
     "iopub.status.idle": "2020-08-27T17:08:22.273484Z",
     "shell.execute_reply": "2020-08-27T17:08:22.272645Z",
     "shell.execute_reply.started": "2020-08-27T17:08:22.268704Z"
    }
   },
   "outputs": [],
   "source": [
    "# Support Vector Machine\n",
    "from sklearn.svm import SVC\n",
    "svm = SVC(random_state=101)"
   ]
  },
  {
   "cell_type": "code",
   "execution_count": 57,
   "metadata": {
    "execution": {
     "iopub.execute_input": "2020-08-27T17:08:23.211527Z",
     "iopub.status.busy": "2020-08-27T17:08:23.211227Z",
     "iopub.status.idle": "2020-08-27T17:24:08.401265Z",
     "shell.execute_reply": "2020-08-27T17:24:08.399941Z",
     "shell.execute_reply.started": "2020-08-27T17:08:23.211472Z"
    }
   },
   "outputs": [
    {
     "data": {
      "text/plain": [
       "SVC(random_state=101)"
      ]
     },
     "execution_count": 57,
     "metadata": {},
     "output_type": "execute_result"
    }
   ],
   "source": [
    "svm.fit(X_train,y_train)"
   ]
  },
  {
   "cell_type": "code",
   "execution_count": 59,
   "metadata": {
    "execution": {
     "iopub.execute_input": "2020-08-27T17:35:49.084930Z",
     "iopub.status.busy": "2020-08-27T17:35:49.084609Z",
     "iopub.status.idle": "2020-08-27T17:38:09.649233Z",
     "shell.execute_reply": "2020-08-27T17:38:09.648102Z",
     "shell.execute_reply.started": "2020-08-27T17:35:49.084895Z"
    }
   },
   "outputs": [],
   "source": [
    "predsvm = svm.predict(X_test)"
   ]
  },
  {
   "cell_type": "code",
   "execution_count": 161,
   "metadata": {
    "execution": {
     "iopub.execute_input": "2020-08-27T22:34:32.598786Z",
     "iopub.status.busy": "2020-08-27T22:34:32.595935Z",
     "iopub.status.idle": "2020-08-27T22:34:32.602538Z",
     "shell.execute_reply": "2020-08-27T22:34:32.601818Z",
     "shell.execute_reply.started": "2020-08-27T22:34:32.598729Z"
    }
   },
   "outputs": [],
   "source": [
    "from sklearn.metrics import confusion_matrix, accuracy_score, plot_confusion_matrix"
   ]
  },
  {
   "cell_type": "code",
   "execution_count": 131,
   "metadata": {
    "execution": {
     "iopub.execute_input": "2020-08-27T19:04:03.580261Z",
     "iopub.status.busy": "2020-08-27T19:04:03.580007Z",
     "iopub.status.idle": "2020-08-27T19:04:03.589784Z",
     "shell.execute_reply": "2020-08-27T19:04:03.588807Z",
     "shell.execute_reply.started": "2020-08-27T19:04:03.580233Z"
    }
   },
   "outputs": [
    {
     "data": {
      "text/plain": [
       "1.0    12847\n",
       "2.0     2299\n",
       "5.0     1900\n",
       "3.0     1836\n",
       "4.0     1532\n",
       "Name: stars_y, dtype: int64"
      ]
     },
     "execution_count": 131,
     "metadata": {},
     "output_type": "execute_result"
    }
   ],
   "source": [
    "df_final['stars_y'].value_counts()"
   ]
  },
  {
   "cell_type": "code",
   "execution_count": 64,
   "metadata": {
    "execution": {
     "iopub.execute_input": "2020-08-27T17:47:20.225901Z",
     "iopub.status.busy": "2020-08-27T17:47:20.225643Z",
     "iopub.status.idle": "2020-08-27T17:47:20.247387Z",
     "shell.execute_reply": "2020-08-27T17:47:20.246373Z",
     "shell.execute_reply.started": "2020-08-27T17:47:20.225873Z"
    }
   },
   "outputs": [
    {
     "name": "stdout",
     "output_type": "stream",
     "text": [
      "Confusion Matrix for Support Vector Machines:\n",
      "[[2520    6    9    1   13]\n",
      " [ 411    6   29    6    5]\n",
      " [ 171   12  105   56   37]\n",
      " [  65   10   66   84   95]\n",
      " [  84    0   23   42  227]]\n",
      "Score: 72.05\n"
     ]
    },
    {
     "ename": "NameError",
     "evalue": "name 'classification_report' is not defined",
     "output_type": "error",
     "traceback": [
      "\u001b[0;31m---------------------------------------------------------------------------\u001b[0m",
      "\u001b[0;31mNameError\u001b[0m                                 Traceback (most recent call last)",
      "\u001b[0;32m<ipython-input-64-f2af53baca96>\u001b[0m in \u001b[0;36m<module>\u001b[0;34m\u001b[0m\n\u001b[1;32m      2\u001b[0m \u001b[0mprint\u001b[0m\u001b[0;34m(\u001b[0m\u001b[0mconfusion_matrix\u001b[0m\u001b[0;34m(\u001b[0m\u001b[0my_test\u001b[0m\u001b[0;34m,\u001b[0m\u001b[0mpredsvm\u001b[0m\u001b[0;34m)\u001b[0m\u001b[0;34m)\u001b[0m\u001b[0;34m\u001b[0m\u001b[0;34m\u001b[0m\u001b[0m\n\u001b[1;32m      3\u001b[0m \u001b[0mprint\u001b[0m\u001b[0;34m(\u001b[0m\u001b[0;34m\"Score:\"\u001b[0m\u001b[0;34m,\u001b[0m\u001b[0mround\u001b[0m\u001b[0;34m(\u001b[0m\u001b[0maccuracy_score\u001b[0m\u001b[0;34m(\u001b[0m\u001b[0my_test\u001b[0m\u001b[0;34m,\u001b[0m\u001b[0mpredsvm\u001b[0m\u001b[0;34m)\u001b[0m\u001b[0;34m*\u001b[0m\u001b[0;36m100\u001b[0m\u001b[0;34m,\u001b[0m\u001b[0;36m2\u001b[0m\u001b[0;34m)\u001b[0m\u001b[0;34m)\u001b[0m\u001b[0;34m\u001b[0m\u001b[0;34m\u001b[0m\u001b[0m\n\u001b[0;32m----> 4\u001b[0;31m \u001b[0mprint\u001b[0m\u001b[0;34m(\u001b[0m\u001b[0;34m\"Classification Report:\"\u001b[0m\u001b[0;34m,\u001b[0m\u001b[0mclassification_report\u001b[0m\u001b[0;34m(\u001b[0m\u001b[0my_test\u001b[0m\u001b[0;34m,\u001b[0m\u001b[0mpredsvm\u001b[0m\u001b[0;34m)\u001b[0m\u001b[0;34m)\u001b[0m\u001b[0;34m\u001b[0m\u001b[0;34m\u001b[0m\u001b[0m\n\u001b[0m",
      "\u001b[0;31mNameError\u001b[0m: name 'classification_report' is not defined"
     ]
    }
   ],
   "source": [
    "print(\"Confusion Matrix for Support Vector Machines:\")\n",
    "print(confusion_matrix(y_test,predsvm))\n",
    "print(\"Score:\",round(accuracy_score(y_test,predsvm)*100,2))\n",
    "print(\"Classification Report:\",classification_report(y_test,predsvm))"
   ]
  },
  {
   "cell_type": "code",
   "execution_count": null,
   "metadata": {},
   "outputs": [],
   "source": [
    "# model coefficients, feature importance"
   ]
  },
  {
   "cell_type": "code",
   "execution_count": 162,
   "metadata": {
    "execution": {
     "iopub.execute_input": "2020-08-27T22:34:53.131134Z",
     "iopub.status.busy": "2020-08-27T22:34:53.130873Z",
     "iopub.status.idle": "2020-08-27T22:34:53.145567Z",
     "shell.execute_reply": "2020-08-27T22:34:53.144684Z",
     "shell.execute_reply.started": "2020-08-27T22:34:53.131106Z"
    }
   },
   "outputs": [
    {
     "ename": "TypeError",
     "evalue": "plot_confusion_matrix() missing 1 required positional argument: 'y_true'",
     "output_type": "error",
     "traceback": [
      "\u001b[0;31m---------------------------------------------------------------------------\u001b[0m",
      "\u001b[0;31mTypeError\u001b[0m                                 Traceback (most recent call last)",
      "\u001b[0;32m<ipython-input-162-41f363943902>\u001b[0m in \u001b[0;36m<module>\u001b[0;34m\u001b[0m\n\u001b[0;32m----> 1\u001b[0;31m \u001b[0mplot_confusion_matrix\u001b[0m\u001b[0;34m(\u001b[0m\u001b[0my_test\u001b[0m\u001b[0;34m,\u001b[0m\u001b[0mpredsvm\u001b[0m\u001b[0;34m)\u001b[0m\u001b[0;34m\u001b[0m\u001b[0;34m\u001b[0m\u001b[0m\n\u001b[0m",
      "\u001b[0;32m/usr/local/lib/python3.8/site-packages/sklearn/utils/validation.py\u001b[0m in \u001b[0;36minner_f\u001b[0;34m(*args, **kwargs)\u001b[0m\n\u001b[1;32m     71\u001b[0m                           FutureWarning)\n\u001b[1;32m     72\u001b[0m         \u001b[0mkwargs\u001b[0m\u001b[0;34m.\u001b[0m\u001b[0mupdate\u001b[0m\u001b[0;34m(\u001b[0m\u001b[0;34m{\u001b[0m\u001b[0mk\u001b[0m\u001b[0;34m:\u001b[0m \u001b[0marg\u001b[0m \u001b[0;32mfor\u001b[0m \u001b[0mk\u001b[0m\u001b[0;34m,\u001b[0m \u001b[0marg\u001b[0m \u001b[0;32min\u001b[0m \u001b[0mzip\u001b[0m\u001b[0;34m(\u001b[0m\u001b[0msig\u001b[0m\u001b[0;34m.\u001b[0m\u001b[0mparameters\u001b[0m\u001b[0;34m,\u001b[0m \u001b[0margs\u001b[0m\u001b[0;34m)\u001b[0m\u001b[0;34m}\u001b[0m\u001b[0;34m)\u001b[0m\u001b[0;34m\u001b[0m\u001b[0;34m\u001b[0m\u001b[0m\n\u001b[0;32m---> 73\u001b[0;31m         \u001b[0;32mreturn\u001b[0m \u001b[0mf\u001b[0m\u001b[0;34m(\u001b[0m\u001b[0;34m**\u001b[0m\u001b[0mkwargs\u001b[0m\u001b[0;34m)\u001b[0m\u001b[0;34m\u001b[0m\u001b[0;34m\u001b[0m\u001b[0m\n\u001b[0m\u001b[1;32m     74\u001b[0m     \u001b[0;32mreturn\u001b[0m \u001b[0minner_f\u001b[0m\u001b[0;34m\u001b[0m\u001b[0;34m\u001b[0m\u001b[0m\n\u001b[1;32m     75\u001b[0m \u001b[0;34m\u001b[0m\u001b[0m\n",
      "\u001b[0;31mTypeError\u001b[0m: plot_confusion_matrix() missing 1 required positional argument: 'y_true'"
     ]
    }
   ],
   "source": [
    "plot_confusion_matrix(y_test,predsvm)"
   ]
  },
  {
   "cell_type": "code",
   "execution_count": 58,
   "metadata": {
    "execution": {
     "iopub.execute_input": "2020-08-27T17:24:08.405992Z",
     "iopub.status.busy": "2020-08-27T17:24:08.405668Z",
     "iopub.status.idle": "2020-08-27T17:24:08.474605Z",
     "shell.execute_reply": "2020-08-27T17:24:08.472940Z",
     "shell.execute_reply.started": "2020-08-27T17:24:08.405952Z"
    }
   },
   "outputs": [
    {
     "ename": "NameError",
     "evalue": "name 'confusion_matrix' is not defined",
     "output_type": "error",
     "traceback": [
      "\u001b[0;31m---------------------------------------------------------------------------\u001b[0m",
      "\u001b[0;31mNameError\u001b[0m                                 Traceback (most recent call last)",
      "\u001b[0;32m<ipython-input-58-2c378d301dff>\u001b[0m in \u001b[0;36m<module>\u001b[0;34m\u001b[0m\n\u001b[1;32m      1\u001b[0m \u001b[0my_true\u001b[0m \u001b[0;34m=\u001b[0m \u001b[0;34m[\u001b[0m\u001b[0;34m\"cat\"\u001b[0m\u001b[0;34m,\u001b[0m \u001b[0;34m\"ant\"\u001b[0m\u001b[0;34m,\u001b[0m \u001b[0;34m\"cat\"\u001b[0m\u001b[0;34m,\u001b[0m \u001b[0;34m\"cat\"\u001b[0m\u001b[0;34m,\u001b[0m \u001b[0;34m\"ant\"\u001b[0m\u001b[0;34m,\u001b[0m \u001b[0;34m\"bird\"\u001b[0m\u001b[0;34m]\u001b[0m\u001b[0;34m\u001b[0m\u001b[0;34m\u001b[0m\u001b[0m\n\u001b[1;32m      2\u001b[0m \u001b[0my_pred\u001b[0m \u001b[0;34m=\u001b[0m \u001b[0;34m[\u001b[0m\u001b[0;34m\"ant\"\u001b[0m\u001b[0;34m,\u001b[0m \u001b[0;34m\"ant\"\u001b[0m\u001b[0;34m,\u001b[0m \u001b[0;34m\"cat\"\u001b[0m\u001b[0;34m,\u001b[0m \u001b[0;34m\"cat\"\u001b[0m\u001b[0;34m,\u001b[0m \u001b[0;34m\"ant\"\u001b[0m\u001b[0;34m,\u001b[0m \u001b[0;34m\"cat\"\u001b[0m\u001b[0;34m]\u001b[0m\u001b[0;34m\u001b[0m\u001b[0;34m\u001b[0m\u001b[0m\n\u001b[0;32m----> 3\u001b[0;31m \u001b[0mconfusion_matrix\u001b[0m\u001b[0;34m(\u001b[0m\u001b[0my_true\u001b[0m\u001b[0;34m,\u001b[0m \u001b[0my_pred\u001b[0m\u001b[0;34m,\u001b[0m \u001b[0mlabels\u001b[0m\u001b[0;34m=\u001b[0m\u001b[0;34m[\u001b[0m\u001b[0;34m\"ant\"\u001b[0m\u001b[0;34m,\u001b[0m \u001b[0;34m\"bird\"\u001b[0m\u001b[0;34m,\u001b[0m \u001b[0;34m\"cat\"\u001b[0m\u001b[0;34m]\u001b[0m\u001b[0;34m)\u001b[0m\u001b[0;34m\u001b[0m\u001b[0;34m\u001b[0m\u001b[0m\n\u001b[0m\u001b[1;32m      4\u001b[0m array([[2, 0, 0],\n\u001b[1;32m      5\u001b[0m        \u001b[0;34m[\u001b[0m\u001b[0;36m0\u001b[0m\u001b[0;34m,\u001b[0m \u001b[0;36m0\u001b[0m\u001b[0;34m,\u001b[0m \u001b[0;36m1\u001b[0m\u001b[0;34m]\u001b[0m\u001b[0;34m,\u001b[0m\u001b[0;34m\u001b[0m\u001b[0;34m\u001b[0m\u001b[0m\n",
      "\u001b[0;31mNameError\u001b[0m: name 'confusion_matrix' is not defined"
     ]
    }
   ],
   "source": [
    ">>> y_true = [\"cat\", \"ant\", \"cat\", \"cat\", \"ant\", \"bird\"]\n",
    ">>> y_pred = [\"ant\", \"ant\", \"cat\", \"cat\", \"ant\", \"cat\"]\n",
    ">>> confusion_matrix(y_true, y_pred, labels=[\"ant\", \"bird\", \"cat\"])\n",
    "array([[2, 0, 0],\n",
    "       [0, 0, 1],\n",
    "       [1, 0, 2]])"
   ]
  },
  {
   "cell_type": "markdown",
   "metadata": {},
   "source": [
    "## Random Forest Regression"
   ]
  },
  {
   "cell_type": "code",
   "execution_count": 139,
   "metadata": {
    "execution": {
     "iopub.execute_input": "2020-08-27T19:22:56.900915Z",
     "iopub.status.busy": "2020-08-27T19:22:56.900405Z",
     "iopub.status.idle": "2020-08-27T19:22:56.905905Z",
     "shell.execute_reply": "2020-08-27T19:22:56.904788Z",
     "shell.execute_reply.started": "2020-08-27T19:22:56.900881Z"
    }
   },
   "outputs": [],
   "source": [
    "from sklearn.ensemble import RandomForestRegressor\n",
    "from sklearn.datasets import make_regression"
   ]
  },
  {
   "cell_type": "code",
   "execution_count": 152,
   "metadata": {
    "execution": {
     "iopub.execute_input": "2020-08-27T20:43:46.922491Z",
     "iopub.status.busy": "2020-08-27T20:43:46.922238Z",
     "iopub.status.idle": "2020-08-27T20:43:46.926059Z",
     "shell.execute_reply": "2020-08-27T20:43:46.925354Z",
     "shell.execute_reply.started": "2020-08-27T20:43:46.922460Z"
    }
   },
   "outputs": [],
   "source": [
    "rf_reg = RandomForestRegressor(verbose=51,n_jobs=-1)"
   ]
  },
  {
   "cell_type": "code",
   "execution_count": 153,
   "metadata": {
    "execution": {
     "iopub.execute_input": "2020-08-27T20:43:47.847538Z",
     "iopub.status.busy": "2020-08-27T20:43:47.847249Z",
     "iopub.status.idle": "2020-08-27T21:08:32.183422Z",
     "shell.execute_reply": "2020-08-27T21:08:32.182178Z",
     "shell.execute_reply.started": "2020-08-27T20:43:47.847499Z"
    }
   },
   "outputs": [
    {
     "name": "stdout",
     "output_type": "stream",
     "text": [
      "[Parallel(n_jobs=-1)]: Using backend ThreadingBackend with 8 concurrent workers.\n",
      "building tree 1 of 100building tree 2 of 100\n",
      "building tree 3 of 100\n",
      "\n",
      "building tree 4 of 100building tree 5 of 100\n",
      "building tree 6 of 100\n",
      "\n",
      "building tree 7 of 100\n",
      "building tree 8 of 100\n",
      "building tree 9 of 100[Parallel(n_jobs=-1)]: Done   1 tasks      | elapsed:  1.9min\n",
      "\n",
      "building tree 10 of 100[Parallel(n_jobs=-1)]: Done   2 tasks      | elapsed:  2.0min\n",
      "\n",
      "building tree 11 of 100[Parallel(n_jobs=-1)]: Done   3 tasks      | elapsed:  2.0min\n",
      "\n",
      "building tree 12 of 100[Parallel(n_jobs=-1)]: Done   4 tasks      | elapsed:  2.0min\n",
      "\n",
      "building tree 13 of 100[Parallel(n_jobs=-1)]: Done   5 tasks      | elapsed:  2.1min\n",
      "\n",
      "building tree 14 of 100[Parallel(n_jobs=-1)]: Done   6 tasks      | elapsed:  2.1min\n",
      "\n",
      "building tree 15 of 100[Parallel(n_jobs=-1)]: Done   7 tasks      | elapsed:  2.2min\n",
      "\n",
      "building tree 16 of 100[Parallel(n_jobs=-1)]: Done   8 tasks      | elapsed:  2.6min\n",
      "\n",
      "building tree 17 of 100[Parallel(n_jobs=-1)]: Done   9 tasks      | elapsed:  3.5min\n",
      "\n",
      "building tree 18 of 100[Parallel(n_jobs=-1)]: Done  10 tasks      | elapsed:  3.7min\n",
      "\n",
      "building tree 19 of 100[Parallel(n_jobs=-1)]: Done  11 tasks      | elapsed:  3.9min\n",
      "\n",
      "building tree 20 of 100[Parallel(n_jobs=-1)]: Done  12 tasks      | elapsed:  4.1min\n",
      "\n",
      "building tree 21 of 100[Parallel(n_jobs=-1)]: Done  13 tasks      | elapsed:  4.1min\n",
      "\n",
      "building tree 22 of 100[Parallel(n_jobs=-1)]: Done  14 tasks      | elapsed:  4.3min\n",
      "\n",
      "building tree 23 of 100[Parallel(n_jobs=-1)]: Done  15 tasks      | elapsed:  4.4min\n",
      "\n",
      "building tree 24 of 100[Parallel(n_jobs=-1)]: Done  16 tasks      | elapsed:  4.5min\n",
      "\n",
      "building tree 25 of 100[Parallel(n_jobs=-1)]: Done  17 tasks      | elapsed:  5.4min\n",
      "\n",
      "building tree 26 of 100[Parallel(n_jobs=-1)]: Done  18 tasks      | elapsed:  5.6min\n",
      "\n",
      "building tree 27 of 100[Parallel(n_jobs=-1)]: Done  19 tasks      | elapsed:  6.0min\n",
      "\n",
      "building tree 28 of 100[Parallel(n_jobs=-1)]: Done  20 tasks      | elapsed:  6.2min\n",
      "\n",
      "building tree 29 of 100[Parallel(n_jobs=-1)]: Done  21 tasks      | elapsed:  6.2min\n",
      "\n",
      "building tree 30 of 100[Parallel(n_jobs=-1)]: Done  22 tasks      | elapsed:  6.3min\n",
      "\n",
      "building tree 31 of 100[Parallel(n_jobs=-1)]: Done  23 tasks      | elapsed:  6.3min\n",
      "\n",
      "building tree 32 of 100[Parallel(n_jobs=-1)]: Done  24 tasks      | elapsed:  6.3min\n",
      "\n",
      "building tree 33 of 100[Parallel(n_jobs=-1)]: Done  25 tasks      | elapsed:  7.4min\n",
      "\n",
      "building tree 34 of 100[Parallel(n_jobs=-1)]: Done  26 tasks      | elapsed:  7.8min\n",
      "\n",
      "building tree 35 of 100[Parallel(n_jobs=-1)]: Done  27 tasks      | elapsed:  7.9min\n",
      "\n",
      "building tree 36 of 100[Parallel(n_jobs=-1)]: Done  28 tasks      | elapsed:  7.9min\n",
      "\n",
      "building tree 37 of 100[Parallel(n_jobs=-1)]: Done  29 tasks      | elapsed:  8.1min\n",
      "\n",
      "building tree 38 of 100[Parallel(n_jobs=-1)]: Done  30 tasks      | elapsed:  8.1min\n",
      "\n",
      "building tree 39 of 100[Parallel(n_jobs=-1)]: Done  31 tasks      | elapsed:  8.3min\n",
      "\n",
      "building tree 40 of 100[Parallel(n_jobs=-1)]: Done  32 tasks      | elapsed:  8.4min\n",
      "\n",
      "building tree 41 of 100[Parallel(n_jobs=-1)]: Done  33 tasks      | elapsed:  9.4min\n",
      "\n",
      "building tree 42 of 100[Parallel(n_jobs=-1)]: Done  34 tasks      | elapsed:  9.6min\n",
      "\n",
      "building tree 43 of 100[Parallel(n_jobs=-1)]: Done  35 tasks      | elapsed:  9.6min\n",
      "\n",
      "building tree 44 of 100[Parallel(n_jobs=-1)]: Done  36 tasks      | elapsed:  9.7min\n",
      "\n",
      "building tree 45 of 100[Parallel(n_jobs=-1)]: Done  37 tasks      | elapsed: 10.0min\n",
      "\n",
      "building tree 46 of 100[Parallel(n_jobs=-1)]: Done  38 tasks      | elapsed: 10.2min\n",
      "\n",
      "building tree 47 of 100[Parallel(n_jobs=-1)]: Done  39 tasks      | elapsed: 10.3min\n",
      "\n",
      "building tree 48 of 100[Parallel(n_jobs=-1)]: Done  40 tasks      | elapsed: 10.3min\n",
      "\n",
      "building tree 49 of 100[Parallel(n_jobs=-1)]: Done  41 tasks      | elapsed: 11.4min\n",
      "\n",
      "building tree 50 of 100[Parallel(n_jobs=-1)]: Done  42 tasks      | elapsed: 11.6min\n",
      "\n",
      "building tree 51 of 100[Parallel(n_jobs=-1)]: Done  43 tasks      | elapsed: 11.6min\n",
      "\n",
      "building tree 52 of 100[Parallel(n_jobs=-1)]: Done  44 tasks      | elapsed: 11.8min\n",
      "\n",
      "building tree 53 of 100[Parallel(n_jobs=-1)]: Done  45 tasks      | elapsed: 12.2min\n",
      "\n",
      "building tree 54 of 100[Parallel(n_jobs=-1)]: Done  46 tasks      | elapsed: 12.2min\n",
      "\n",
      "building tree 55 of 100[Parallel(n_jobs=-1)]: Done  47 tasks      | elapsed: 12.4min\n",
      "\n",
      "building tree 56 of 100[Parallel(n_jobs=-1)]: Done  48 tasks      | elapsed: 12.7min\n",
      "\n",
      "building tree 57 of 100[Parallel(n_jobs=-1)]: Done  49 tasks      | elapsed: 13.1min\n",
      "\n",
      "building tree 58 of 100[Parallel(n_jobs=-1)]: Done  50 tasks      | elapsed: 13.2min\n",
      "\n",
      "building tree 59 of 100[Parallel(n_jobs=-1)]: Done  51 tasks      | elapsed: 13.5min\n",
      "\n",
      "building tree 60 of 100[Parallel(n_jobs=-1)]: Done  52 tasks      | elapsed: 14.0min\n",
      "\n",
      "building tree 61 of 100[Parallel(n_jobs=-1)]: Done  53 tasks      | elapsed: 14.4min\n",
      "\n",
      "building tree 62 of 100[Parallel(n_jobs=-1)]: Done  54 tasks      | elapsed: 14.4min\n",
      "\n",
      "building tree 63 of 100[Parallel(n_jobs=-1)]: Done  55 tasks      | elapsed: 14.6min\n",
      "\n",
      "building tree 64 of 100[Parallel(n_jobs=-1)]: Done  56 tasks      | elapsed: 14.6min\n",
      "\n",
      "building tree 65 of 100[Parallel(n_jobs=-1)]: Done  57 tasks      | elapsed: 15.0min\n",
      "\n",
      "building tree 66 of 100[Parallel(n_jobs=-1)]: Done  58 tasks      | elapsed: 15.0min\n",
      "\n",
      "building tree 67 of 100[Parallel(n_jobs=-1)]: Done  59 tasks      | elapsed: 15.3min\n",
      "\n",
      "building tree 68 of 100[Parallel(n_jobs=-1)]: Done  60 tasks      | elapsed: 15.6min\n",
      "\n",
      "building tree 69 of 100[Parallel(n_jobs=-1)]: Done  61 tasks      | elapsed: 16.4min\n",
      "\n",
      "building tree 70 of 100[Parallel(n_jobs=-1)]: Done  62 tasks      | elapsed: 16.5min\n",
      "\n",
      "building tree 71 of 100[Parallel(n_jobs=-1)]: Done  63 tasks      | elapsed: 16.6min\n",
      "\n",
      "building tree 72 of 100[Parallel(n_jobs=-1)]: Done  64 tasks      | elapsed: 16.7min\n",
      "\n",
      "building tree 73 of 100[Parallel(n_jobs=-1)]: Done  65 tasks      | elapsed: 17.0min\n",
      "\n",
      "building tree 74 of 100[Parallel(n_jobs=-1)]: Done  66 tasks      | elapsed: 17.1min\n",
      "\n",
      "building tree 75 of 100[Parallel(n_jobs=-1)]: Done  67 tasks      | elapsed: 17.2min\n",
      "\n",
      "building tree 76 of 100[Parallel(n_jobs=-1)]: Done  68 tasks      | elapsed: 17.6min\n",
      "\n",
      "building tree 77 of 100[Parallel(n_jobs=-1)]: Done  69 tasks      | elapsed: 18.5min\n",
      "\n",
      "building tree 78 of 100[Parallel(n_jobs=-1)]: Done  70 tasks      | elapsed: 18.5min\n",
      "\n",
      "building tree 79 of 100[Parallel(n_jobs=-1)]: Done  71 tasks      | elapsed: 18.5min\n",
      "\n",
      "building tree 80 of 100[Parallel(n_jobs=-1)]: Done  72 tasks      | elapsed: 18.7min\n",
      "\n",
      "building tree 81 of 100[Parallel(n_jobs=-1)]: Done  73 tasks      | elapsed: 19.2min\n",
      "\n",
      "building tree 82 of 100[Parallel(n_jobs=-1)]: Done  74 tasks      | elapsed: 19.2min\n",
      "\n",
      "building tree 83 of 100[Parallel(n_jobs=-1)]: Done  75 tasks      | elapsed: 19.3min\n",
      "\n",
      "building tree 84 of 100[Parallel(n_jobs=-1)]: Done  76 tasks      | elapsed: 19.3min\n",
      "\n",
      "building tree 85 of 100[Parallel(n_jobs=-1)]: Done  77 tasks      | elapsed: 19.8min\n",
      "\n",
      "building tree 86 of 100[Parallel(n_jobs=-1)]: Done  78 tasks      | elapsed: 20.3min\n",
      "\n",
      "building tree 87 of 100[Parallel(n_jobs=-1)]: Done  79 tasks      | elapsed: 20.4min\n",
      "\n",
      "building tree 88 of 100[Parallel(n_jobs=-1)]: Done  80 tasks      | elapsed: 20.5min\n",
      "\n",
      "building tree 89 of 100[Parallel(n_jobs=-1)]: Done  81 tasks      | elapsed: 20.7min\n",
      "\n",
      "building tree 90 of 100[Parallel(n_jobs=-1)]: Done  82 tasks      | elapsed: 21.3min\n",
      "\n",
      "building tree 91 of 100[Parallel(n_jobs=-1)]: Done  83 tasks      | elapsed: 21.4min\n",
      "\n",
      "building tree 92 of 100[Parallel(n_jobs=-1)]: Done  84 tasks      | elapsed: 21.4min\n",
      "\n",
      "building tree 93 of 100[Parallel(n_jobs=-1)]: Done  85 tasks      | elapsed: 21.9min\n",
      "\n",
      "building tree 94 of 100\n",
      "building tree 95 of 100[Parallel(n_jobs=-1)]: Done  87 out of 100 | elapsed: 22.2min remaining:  3.3min\n",
      "\n",
      "building tree 96 of 100\n",
      "building tree 97 of 100[Parallel(n_jobs=-1)]: Done  89 out of 100 | elapsed: 22.8min remaining:  2.8min\n",
      "\n",
      "building tree 98 of 100\n",
      "building tree 99 of 100[Parallel(n_jobs=-1)]: Done  91 out of 100 | elapsed: 23.2min remaining:  2.3min\n",
      "\n",
      "building tree 100 of 100\n",
      "[Parallel(n_jobs=-1)]: Done  93 out of 100 | elapsed: 23.8min remaining:  1.8min\n",
      "[Parallel(n_jobs=-1)]: Done  95 out of 100 | elapsed: 24.0min remaining:  1.3min\n",
      "[Parallel(n_jobs=-1)]: Done  97 out of 100 | elapsed: 24.3min remaining:   45.2s\n",
      "[Parallel(n_jobs=-1)]: Done 100 out of 100 | elapsed: 24.7min finished\n"
     ]
    },
    {
     "data": {
      "text/plain": [
       "RandomForestRegressor(n_jobs=-1, verbose=51)"
      ]
     },
     "execution_count": 153,
     "metadata": {},
     "output_type": "execute_result"
    }
   ],
   "source": [
    "rf_reg.fit(X_train, y_train)"
   ]
  },
  {
   "cell_type": "code",
   "execution_count": 154,
   "metadata": {
    "execution": {
     "iopub.execute_input": "2020-08-27T21:30:05.870467Z",
     "iopub.status.busy": "2020-08-27T21:30:05.869546Z",
     "iopub.status.idle": "2020-08-27T21:30:06.172030Z",
     "shell.execute_reply": "2020-08-27T21:30:06.171257Z",
     "shell.execute_reply.started": "2020-08-27T21:30:05.870408Z"
    }
   },
   "outputs": [
    {
     "name": "stdout",
     "output_type": "stream",
     "text": [
      "[Parallel(n_jobs=8)]: Using backend ThreadingBackend with 8 concurrent workers.\n",
      "[Parallel(n_jobs=8)]: Done   1 tasks      | elapsed:    0.0s\n",
      "[Parallel(n_jobs=8)]: Done   2 tasks      | elapsed:    0.0s\n",
      "[Parallel(n_jobs=8)]: Done   3 tasks      | elapsed:    0.0s\n",
      "[Parallel(n_jobs=8)]: Done   4 tasks      | elapsed:    0.0s\n",
      "[Parallel(n_jobs=8)]: Done   5 tasks      | elapsed:    0.0s\n",
      "[Parallel(n_jobs=8)]: Done   6 tasks      | elapsed:    0.0s\n",
      "[Parallel(n_jobs=8)]: Done   7 tasks      | elapsed:    0.0s\n",
      "[Parallel(n_jobs=8)]: Done   8 tasks      | elapsed:    0.0s\n",
      "[Parallel(n_jobs=8)]: Done   9 tasks      | elapsed:    0.0s\n",
      "[Parallel(n_jobs=8)]: Done  10 tasks      | elapsed:    0.0s\n",
      "[Parallel(n_jobs=8)]: Done  11 tasks      | elapsed:    0.0s\n",
      "[Parallel(n_jobs=8)]: Done  12 tasks      | elapsed:    0.0s\n",
      "[Parallel(n_jobs=8)]: Done  13 tasks      | elapsed:    0.0s\n",
      "[Parallel(n_jobs=8)]: Done  14 tasks      | elapsed:    0.0s\n",
      "[Parallel(n_jobs=8)]: Done  15 tasks      | elapsed:    0.0s\n",
      "[Parallel(n_jobs=8)]: Done  16 tasks      | elapsed:    0.0s\n",
      "[Parallel(n_jobs=8)]: Done  17 tasks      | elapsed:    0.0s\n",
      "[Parallel(n_jobs=8)]: Done  18 tasks      | elapsed:    0.0s\n",
      "[Parallel(n_jobs=8)]: Done  19 tasks      | elapsed:    0.0s\n",
      "[Parallel(n_jobs=8)]: Done  20 tasks      | elapsed:    0.0s\n",
      "[Parallel(n_jobs=8)]: Done  21 tasks      | elapsed:    0.0s\n",
      "[Parallel(n_jobs=8)]: Done  22 tasks      | elapsed:    0.0s\n",
      "[Parallel(n_jobs=8)]: Done  23 tasks      | elapsed:    0.0s\n",
      "[Parallel(n_jobs=8)]: Done  24 tasks      | elapsed:    0.0s\n",
      "[Parallel(n_jobs=8)]: Done  25 tasks      | elapsed:    0.0s\n",
      "[Parallel(n_jobs=8)]: Done  26 tasks      | elapsed:    0.0s\n",
      "[Parallel(n_jobs=8)]: Done  27 tasks      | elapsed:    0.0s\n",
      "[Parallel(n_jobs=8)]: Done  28 tasks      | elapsed:    0.0s\n",
      "[Parallel(n_jobs=8)]: Done  29 tasks      | elapsed:    0.0s\n",
      "[Parallel(n_jobs=8)]: Done  30 tasks      | elapsed:    0.0s\n",
      "[Parallel(n_jobs=8)]: Done  31 tasks      | elapsed:    0.0s\n",
      "[Parallel(n_jobs=8)]: Done  32 tasks      | elapsed:    0.0s\n",
      "[Parallel(n_jobs=8)]: Done  33 tasks      | elapsed:    0.0s\n",
      "[Parallel(n_jobs=8)]: Done  34 tasks      | elapsed:    0.0s\n",
      "[Parallel(n_jobs=8)]: Done  35 tasks      | elapsed:    0.0s\n",
      "[Parallel(n_jobs=8)]: Done  36 tasks      | elapsed:    0.1s\n",
      "[Parallel(n_jobs=8)]: Done  37 tasks      | elapsed:    0.1s\n",
      "[Parallel(n_jobs=8)]: Done  38 tasks      | elapsed:    0.1s\n",
      "[Parallel(n_jobs=8)]: Done  39 tasks      | elapsed:    0.1s\n",
      "[Parallel(n_jobs=8)]: Done  40 tasks      | elapsed:    0.1s\n",
      "[Parallel(n_jobs=8)]: Done  41 tasks      | elapsed:    0.1s\n",
      "[Parallel(n_jobs=8)]: Done  42 tasks      | elapsed:    0.1s\n",
      "[Parallel(n_jobs=8)]: Done  43 tasks      | elapsed:    0.1s\n",
      "[Parallel(n_jobs=8)]: Done  44 tasks      | elapsed:    0.1s\n",
      "[Parallel(n_jobs=8)]: Done  45 tasks      | elapsed:    0.1s\n",
      "[Parallel(n_jobs=8)]: Done  46 tasks      | elapsed:    0.1s\n",
      "[Parallel(n_jobs=8)]: Done  47 tasks      | elapsed:    0.1s\n",
      "[Parallel(n_jobs=8)]: Done  48 tasks      | elapsed:    0.1s\n",
      "[Parallel(n_jobs=8)]: Done  49 tasks      | elapsed:    0.1s\n",
      "[Parallel(n_jobs=8)]: Done  50 tasks      | elapsed:    0.1s\n",
      "[Parallel(n_jobs=8)]: Done  51 tasks      | elapsed:    0.1s\n",
      "[Parallel(n_jobs=8)]: Done  52 tasks      | elapsed:    0.1s\n",
      "[Parallel(n_jobs=8)]: Done  53 tasks      | elapsed:    0.1s\n",
      "[Parallel(n_jobs=8)]: Done  54 tasks      | elapsed:    0.1s\n",
      "[Parallel(n_jobs=8)]: Done  55 tasks      | elapsed:    0.1s\n",
      "[Parallel(n_jobs=8)]: Done  56 tasks      | elapsed:    0.1s\n",
      "[Parallel(n_jobs=8)]: Done  57 tasks      | elapsed:    0.1s\n",
      "[Parallel(n_jobs=8)]: Done  58 tasks      | elapsed:    0.1s\n",
      "[Parallel(n_jobs=8)]: Done  59 tasks      | elapsed:    0.1s\n",
      "[Parallel(n_jobs=8)]: Done  60 tasks      | elapsed:    0.1s\n",
      "[Parallel(n_jobs=8)]: Done  61 tasks      | elapsed:    0.1s\n",
      "[Parallel(n_jobs=8)]: Done  62 tasks      | elapsed:    0.1s\n",
      "[Parallel(n_jobs=8)]: Done  63 tasks      | elapsed:    0.1s\n",
      "[Parallel(n_jobs=8)]: Done  64 tasks      | elapsed:    0.1s\n",
      "[Parallel(n_jobs=8)]: Done  65 tasks      | elapsed:    0.1s\n",
      "[Parallel(n_jobs=8)]: Done  66 tasks      | elapsed:    0.1s\n",
      "[Parallel(n_jobs=8)]: Done  67 tasks      | elapsed:    0.1s\n",
      "[Parallel(n_jobs=8)]: Done  68 tasks      | elapsed:    0.1s\n",
      "[Parallel(n_jobs=8)]: Done  69 tasks      | elapsed:    0.1s\n",
      "[Parallel(n_jobs=8)]: Done  70 tasks      | elapsed:    0.1s\n",
      "[Parallel(n_jobs=8)]: Done  71 tasks      | elapsed:    0.1s\n",
      "[Parallel(n_jobs=8)]: Done  72 tasks      | elapsed:    0.1s\n",
      "[Parallel(n_jobs=8)]: Done  73 tasks      | elapsed:    0.1s\n",
      "[Parallel(n_jobs=8)]: Done  74 tasks      | elapsed:    0.1s\n",
      "[Parallel(n_jobs=8)]: Done  75 tasks      | elapsed:    0.1s\n",
      "[Parallel(n_jobs=8)]: Done  76 tasks      | elapsed:    0.1s\n",
      "[Parallel(n_jobs=8)]: Done  77 tasks      | elapsed:    0.1s\n",
      "[Parallel(n_jobs=8)]: Done  78 tasks      | elapsed:    0.1s\n",
      "[Parallel(n_jobs=8)]: Done  79 tasks      | elapsed:    0.1s\n",
      "[Parallel(n_jobs=8)]: Done  80 tasks      | elapsed:    0.1s\n",
      "[Parallel(n_jobs=8)]: Done  81 tasks      | elapsed:    0.1s\n",
      "[Parallel(n_jobs=8)]: Done  82 tasks      | elapsed:    0.1s\n",
      "[Parallel(n_jobs=8)]: Done  83 tasks      | elapsed:    0.1s\n",
      "[Parallel(n_jobs=8)]: Done  84 tasks      | elapsed:    0.1s\n",
      "[Parallel(n_jobs=8)]: Done  85 tasks      | elapsed:    0.1s\n",
      "[Parallel(n_jobs=8)]: Done  87 out of 100 | elapsed:    0.1s remaining:    0.0s\n",
      "[Parallel(n_jobs=8)]: Done  89 out of 100 | elapsed:    0.1s remaining:    0.0s\n",
      "[Parallel(n_jobs=8)]: Done  91 out of 100 | elapsed:    0.1s remaining:    0.0s\n",
      "[Parallel(n_jobs=8)]: Done  93 out of 100 | elapsed:    0.1s remaining:    0.0s\n",
      "[Parallel(n_jobs=8)]: Done  95 out of 100 | elapsed:    0.1s remaining:    0.0s\n",
      "[Parallel(n_jobs=8)]: Done  97 out of 100 | elapsed:    0.1s remaining:    0.0s\n",
      "[Parallel(n_jobs=8)]: Done 100 out of 100 | elapsed:    0.1s finished\n"
     ]
    }
   ],
   "source": [
    "y_pred = rf_reg.predict(X_test)"
   ]
  },
  {
   "cell_type": "markdown",
   "metadata": {},
   "source": [
    "## Model Evaluation"
   ]
  },
  {
   "cell_type": "code",
   "execution_count": 155,
   "metadata": {
    "execution": {
     "iopub.execute_input": "2020-08-27T21:30:22.369592Z",
     "iopub.status.busy": "2020-08-27T21:30:22.369304Z",
     "iopub.status.idle": "2020-08-27T21:30:22.374216Z",
     "shell.execute_reply": "2020-08-27T21:30:22.373069Z",
     "shell.execute_reply.started": "2020-08-27T21:30:22.369550Z"
    }
   },
   "outputs": [],
   "source": [
    "from sklearn.metrics import mean_squared_error"
   ]
  },
  {
   "cell_type": "code",
   "execution_count": 156,
   "metadata": {
    "execution": {
     "iopub.execute_input": "2020-08-27T21:30:24.078790Z",
     "iopub.status.busy": "2020-08-27T21:30:24.078446Z",
     "iopub.status.idle": "2020-08-27T21:30:24.102864Z",
     "shell.execute_reply": "2020-08-27T21:30:24.102144Z",
     "shell.execute_reply.started": "2020-08-27T21:30:24.078735Z"
    }
   },
   "outputs": [
    {
     "data": {
      "text/plain": [
       "0.9391882468869793"
      ]
     },
     "execution_count": 156,
     "metadata": {},
     "output_type": "execute_result"
    }
   ],
   "source": [
    "# means square error\n",
    "mse = mean_squared_error(y_test, y_pred)\n",
    "rmse = np.sqrt(mse)\n",
    "rmse"
   ]
  },
  {
   "cell_type": "code",
   "execution_count": 157,
   "metadata": {
    "execution": {
     "iopub.execute_input": "2020-08-27T21:30:31.546490Z",
     "iopub.status.busy": "2020-08-27T21:30:31.546222Z",
     "iopub.status.idle": "2020-08-27T21:30:31.551575Z",
     "shell.execute_reply": "2020-08-27T21:30:31.550618Z",
     "shell.execute_reply.started": "2020-08-27T21:30:31.546458Z"
    }
   },
   "outputs": [
    {
     "data": {
      "text/plain": [
       "0.8820745630906377"
      ]
     },
     "execution_count": 157,
     "metadata": {},
     "output_type": "execute_result"
    }
   ],
   "source": [
    "mse"
   ]
  },
  {
   "cell_type": "code",
   "execution_count": 159,
   "metadata": {
    "execution": {
     "iopub.execute_input": "2020-08-27T22:33:33.575162Z",
     "iopub.status.busy": "2020-08-27T22:33:33.574901Z",
     "iopub.status.idle": "2020-08-27T22:33:33.605969Z",
     "shell.execute_reply": "2020-08-27T22:33:33.605208Z",
     "shell.execute_reply.started": "2020-08-27T22:33:33.575133Z"
    }
   },
   "outputs": [
    {
     "data": {
      "text/plain": [
       "array([2.81926025e-05, 1.21940872e-03, 7.76151764e-05, ...,\n",
       "       6.34742165e-06, 8.88780268e-04, 3.20383687e-05])"
      ]
     },
     "execution_count": 159,
     "metadata": {},
     "output_type": "execute_result"
    }
   ],
   "source": [
    "rf_reg.feature_importances_"
   ]
  },
  {
   "cell_type": "code",
   "execution_count": 163,
   "metadata": {
    "execution": {
     "iopub.execute_input": "2020-08-27T22:35:12.814448Z",
     "iopub.status.busy": "2020-08-27T22:35:12.814175Z",
     "iopub.status.idle": "2020-08-27T22:35:12.826483Z",
     "shell.execute_reply": "2020-08-27T22:35:12.825614Z",
     "shell.execute_reply.started": "2020-08-27T22:35:12.814418Z"
    }
   },
   "outputs": [
    {
     "ename": "TypeError",
     "evalue": "plot_confusion_matrix() missing 1 required positional argument: 'y_true'",
     "output_type": "error",
     "traceback": [
      "\u001b[0;31m---------------------------------------------------------------------------\u001b[0m",
      "\u001b[0;31mTypeError\u001b[0m                                 Traceback (most recent call last)",
      "\u001b[0;32m<ipython-input-163-c4b9dbef94da>\u001b[0m in \u001b[0;36m<module>\u001b[0;34m\u001b[0m\n\u001b[0;32m----> 1\u001b[0;31m \u001b[0mplot_confusion_matrix\u001b[0m\u001b[0;34m(\u001b[0m\u001b[0my_test\u001b[0m\u001b[0;34m,\u001b[0m \u001b[0my_pred\u001b[0m\u001b[0;34m)\u001b[0m\u001b[0;34m\u001b[0m\u001b[0;34m\u001b[0m\u001b[0m\n\u001b[0m",
      "\u001b[0;32m/usr/local/lib/python3.8/site-packages/sklearn/utils/validation.py\u001b[0m in \u001b[0;36minner_f\u001b[0;34m(*args, **kwargs)\u001b[0m\n\u001b[1;32m     71\u001b[0m                           FutureWarning)\n\u001b[1;32m     72\u001b[0m         \u001b[0mkwargs\u001b[0m\u001b[0;34m.\u001b[0m\u001b[0mupdate\u001b[0m\u001b[0;34m(\u001b[0m\u001b[0;34m{\u001b[0m\u001b[0mk\u001b[0m\u001b[0;34m:\u001b[0m \u001b[0marg\u001b[0m \u001b[0;32mfor\u001b[0m \u001b[0mk\u001b[0m\u001b[0;34m,\u001b[0m \u001b[0marg\u001b[0m \u001b[0;32min\u001b[0m \u001b[0mzip\u001b[0m\u001b[0;34m(\u001b[0m\u001b[0msig\u001b[0m\u001b[0;34m.\u001b[0m\u001b[0mparameters\u001b[0m\u001b[0;34m,\u001b[0m \u001b[0margs\u001b[0m\u001b[0;34m)\u001b[0m\u001b[0;34m}\u001b[0m\u001b[0;34m)\u001b[0m\u001b[0;34m\u001b[0m\u001b[0;34m\u001b[0m\u001b[0m\n\u001b[0;32m---> 73\u001b[0;31m         \u001b[0;32mreturn\u001b[0m \u001b[0mf\u001b[0m\u001b[0;34m(\u001b[0m\u001b[0;34m**\u001b[0m\u001b[0mkwargs\u001b[0m\u001b[0;34m)\u001b[0m\u001b[0;34m\u001b[0m\u001b[0;34m\u001b[0m\u001b[0m\n\u001b[0m\u001b[1;32m     74\u001b[0m     \u001b[0;32mreturn\u001b[0m \u001b[0minner_f\u001b[0m\u001b[0;34m\u001b[0m\u001b[0;34m\u001b[0m\u001b[0m\n\u001b[1;32m     75\u001b[0m \u001b[0;34m\u001b[0m\u001b[0m\n",
      "\u001b[0;31mTypeError\u001b[0m: plot_confusion_matrix() missing 1 required positional argument: 'y_true'"
     ]
    }
   ],
   "source": [
    "plot_confusion_matrix(y_test, y_pred)"
   ]
  },
  {
   "cell_type": "code",
   "execution_count": null,
   "metadata": {},
   "outputs": [],
   "source": [
    "rf_reg.model"
   ]
  },
  {
   "cell_type": "markdown",
   "metadata": {},
   "source": [
    "### Gradient Boosting"
   ]
  },
  {
   "cell_type": "code",
   "execution_count": 166,
   "metadata": {
    "execution": {
     "iopub.execute_input": "2020-08-27T22:41:41.414828Z",
     "iopub.status.busy": "2020-08-27T22:41:41.414536Z",
     "iopub.status.idle": "2020-08-27T22:41:41.421731Z",
     "shell.execute_reply": "2020-08-27T22:41:41.420698Z",
     "shell.execute_reply.started": "2020-08-27T22:41:41.414798Z"
    }
   },
   "outputs": [],
   "source": [
    "from sklearn.ensemble import GradientBoostingClassifier, GradientBoostingRegressor"
   ]
  },
  {
   "cell_type": "code",
   "execution_count": 167,
   "metadata": {
    "execution": {
     "iopub.execute_input": "2020-08-27T22:41:42.857888Z",
     "iopub.status.busy": "2020-08-27T22:41:42.857645Z",
     "iopub.status.idle": "2020-08-27T22:41:42.863415Z",
     "shell.execute_reply": "2020-08-27T22:41:42.861191Z",
     "shell.execute_reply.started": "2020-08-27T22:41:42.857859Z"
    }
   },
   "outputs": [],
   "source": [
    "gb_reg = GradientBoostingRegressor(random_state=0)"
   ]
  },
  {
   "cell_type": "code",
   "execution_count": 168,
   "metadata": {
    "execution": {
     "iopub.execute_input": "2020-08-27T22:41:54.843509Z",
     "iopub.status.busy": "2020-08-27T22:41:54.843256Z",
     "iopub.status.idle": "2020-08-27T22:46:35.268145Z",
     "shell.execute_reply": "2020-08-27T22:46:35.267347Z",
     "shell.execute_reply.started": "2020-08-27T22:41:54.843481Z"
    }
   },
   "outputs": [
    {
     "data": {
      "text/plain": [
       "GradientBoostingRegressor(random_state=0)"
      ]
     },
     "execution_count": 168,
     "metadata": {},
     "output_type": "execute_result"
    }
   ],
   "source": [
    "gb_reg.fit(X_train, y_train)"
   ]
  },
  {
   "cell_type": "code",
   "execution_count": 172,
   "metadata": {
    "execution": {
     "iopub.execute_input": "2020-08-27T23:05:28.226834Z",
     "iopub.status.busy": "2020-08-27T23:05:28.226553Z",
     "iopub.status.idle": "2020-08-27T23:05:28.299995Z",
     "shell.execute_reply": "2020-08-27T23:05:28.299316Z",
     "shell.execute_reply.started": "2020-08-27T23:05:28.226805Z"
    }
   },
   "outputs": [],
   "source": [
    "fea_imp = rf_reg.feature_importances_"
   ]
  },
  {
   "cell_type": "code",
   "execution_count": 174,
   "metadata": {
    "execution": {
     "iopub.execute_input": "2020-08-27T23:05:38.685648Z",
     "iopub.status.busy": "2020-08-27T23:05:38.685369Z",
     "iopub.status.idle": "2020-08-27T23:05:38.693188Z",
     "shell.execute_reply": "2020-08-27T23:05:38.692551Z",
     "shell.execute_reply.started": "2020-08-27T23:05:38.685615Z"
    }
   },
   "outputs": [
    {
     "data": {
      "text/plain": [
       "(2500,)"
      ]
     },
     "execution_count": 174,
     "metadata": {},
     "output_type": "execute_result"
    }
   ],
   "source": [
    "fea_imp.shape"
   ]
  },
  {
   "cell_type": "code",
   "execution_count": 170,
   "metadata": {
    "execution": {
     "iopub.execute_input": "2020-08-27T23:01:27.472995Z",
     "iopub.status.busy": "2020-08-27T23:01:27.471434Z",
     "iopub.status.idle": "2020-08-27T23:01:27.584630Z",
     "shell.execute_reply": "2020-08-27T23:01:27.583157Z",
     "shell.execute_reply.started": "2020-08-27T23:01:27.472897Z"
    }
   },
   "outputs": [
    {
     "data": {
      "text/html": [
       "<div>\n",
       "<style scoped>\n",
       "    .dataframe tbody tr th:only-of-type {\n",
       "        vertical-align: middle;\n",
       "    }\n",
       "\n",
       "    .dataframe tbody tr th {\n",
       "        vertical-align: top;\n",
       "    }\n",
       "\n",
       "    .dataframe thead th {\n",
       "        text-align: right;\n",
       "    }\n",
       "</style>\n",
       "<table border=\"1\" class=\"dataframe\">\n",
       "  <thead>\n",
       "    <tr style=\"text-align: right;\">\n",
       "      <th></th>\n",
       "      <th>business_id</th>\n",
       "      <th>city</th>\n",
       "      <th>state</th>\n",
       "      <th>latitude</th>\n",
       "      <th>longitude</th>\n",
       "      <th>stars_x</th>\n",
       "      <th>review_count</th>\n",
       "      <th>is_open</th>\n",
       "      <th>stars_y</th>\n",
       "      <th>useful</th>\n",
       "      <th>funny</th>\n",
       "      <th>cool</th>\n",
       "      <th>text</th>\n",
       "      <th>date</th>\n",
       "      <th>time</th>\n",
       "      <th>year</th>\n",
       "      <th>month</th>\n",
       "      <th>year_month</th>\n",
       "    </tr>\n",
       "  </thead>\n",
       "  <tbody>\n",
       "    <tr>\n",
       "      <th>0</th>\n",
       "      <td>CfwrsG76Wm4iLS22v_wAcg</td>\n",
       "      <td>Parma Heights</td>\n",
       "      <td>OH</td>\n",
       "      <td>41.385949</td>\n",
       "      <td>-81.768113</td>\n",
       "      <td>2.5</td>\n",
       "      <td>15</td>\n",
       "      <td>1</td>\n",
       "      <td>1.0</td>\n",
       "      <td>0</td>\n",
       "      <td>0</td>\n",
       "      <td>0</td>\n",
       "      <td>Try cleaning your play area once in a while. I...</td>\n",
       "      <td>2016-02-13</td>\n",
       "      <td>22:57:36</td>\n",
       "      <td>2016</td>\n",
       "      <td>2</td>\n",
       "      <td>2016-02</td>\n",
       "    </tr>\n",
       "    <tr>\n",
       "      <th>1</th>\n",
       "      <td>CfwrsG76Wm4iLS22v_wAcg</td>\n",
       "      <td>Parma Heights</td>\n",
       "      <td>OH</td>\n",
       "      <td>41.385949</td>\n",
       "      <td>-81.768113</td>\n",
       "      <td>2.5</td>\n",
       "      <td>15</td>\n",
       "      <td>1</td>\n",
       "      <td>3.0</td>\n",
       "      <td>0</td>\n",
       "      <td>0</td>\n",
       "      <td>0</td>\n",
       "      <td>It is what it is, a McDonalds.  You get what y...</td>\n",
       "      <td>2014-08-02</td>\n",
       "      <td>16:19:00</td>\n",
       "      <td>2014</td>\n",
       "      <td>8</td>\n",
       "      <td>2014-08</td>\n",
       "    </tr>\n",
       "    <tr>\n",
       "      <th>2</th>\n",
       "      <td>CfwrsG76Wm4iLS22v_wAcg</td>\n",
       "      <td>Parma Heights</td>\n",
       "      <td>OH</td>\n",
       "      <td>41.385949</td>\n",
       "      <td>-81.768113</td>\n",
       "      <td>2.5</td>\n",
       "      <td>15</td>\n",
       "      <td>1</td>\n",
       "      <td>1.0</td>\n",
       "      <td>2</td>\n",
       "      <td>1</td>\n",
       "      <td>0</td>\n",
       "      <td>Not one of the better McDonald's,  I'm not usu...</td>\n",
       "      <td>2016-02-06</td>\n",
       "      <td>00:55:30</td>\n",
       "      <td>2016</td>\n",
       "      <td>2</td>\n",
       "      <td>2016-02</td>\n",
       "    </tr>\n",
       "    <tr>\n",
       "      <th>3</th>\n",
       "      <td>CfwrsG76Wm4iLS22v_wAcg</td>\n",
       "      <td>Parma Heights</td>\n",
       "      <td>OH</td>\n",
       "      <td>41.385949</td>\n",
       "      <td>-81.768113</td>\n",
       "      <td>2.5</td>\n",
       "      <td>15</td>\n",
       "      <td>1</td>\n",
       "      <td>5.0</td>\n",
       "      <td>0</td>\n",
       "      <td>0</td>\n",
       "      <td>0</td>\n",
       "      <td>We barely waited in the fast food line, and th...</td>\n",
       "      <td>2017-11-29</td>\n",
       "      <td>02:26:24</td>\n",
       "      <td>2017</td>\n",
       "      <td>11</td>\n",
       "      <td>2017-11</td>\n",
       "    </tr>\n",
       "    <tr>\n",
       "      <th>4</th>\n",
       "      <td>CfwrsG76Wm4iLS22v_wAcg</td>\n",
       "      <td>Parma Heights</td>\n",
       "      <td>OH</td>\n",
       "      <td>41.385949</td>\n",
       "      <td>-81.768113</td>\n",
       "      <td>2.5</td>\n",
       "      <td>15</td>\n",
       "      <td>1</td>\n",
       "      <td>3.0</td>\n",
       "      <td>1</td>\n",
       "      <td>0</td>\n",
       "      <td>0</td>\n",
       "      <td>The only reason they get three stars is becaus...</td>\n",
       "      <td>2018-04-22</td>\n",
       "      <td>18:22:53</td>\n",
       "      <td>2018</td>\n",
       "      <td>4</td>\n",
       "      <td>2018-04</td>\n",
       "    </tr>\n",
       "    <tr>\n",
       "      <th>...</th>\n",
       "      <td>...</td>\n",
       "      <td>...</td>\n",
       "      <td>...</td>\n",
       "      <td>...</td>\n",
       "      <td>...</td>\n",
       "      <td>...</td>\n",
       "      <td>...</td>\n",
       "      <td>...</td>\n",
       "      <td>...</td>\n",
       "      <td>...</td>\n",
       "      <td>...</td>\n",
       "      <td>...</td>\n",
       "      <td>...</td>\n",
       "      <td>...</td>\n",
       "      <td>...</td>\n",
       "      <td>...</td>\n",
       "      <td>...</td>\n",
       "      <td>...</td>\n",
       "    </tr>\n",
       "    <tr>\n",
       "      <th>20409</th>\n",
       "      <td>Y-vxPbvPKcaLiYa9ZBXoDg</td>\n",
       "      <td>Pittsburgh</td>\n",
       "      <td>PA</td>\n",
       "      <td>40.440433</td>\n",
       "      <td>-79.998637</td>\n",
       "      <td>1.5</td>\n",
       "      <td>24</td>\n",
       "      <td>0</td>\n",
       "      <td>1.0</td>\n",
       "      <td>1</td>\n",
       "      <td>0</td>\n",
       "      <td>0</td>\n",
       "      <td>This location is actually closed. Was always u...</td>\n",
       "      <td>2019-09-29</td>\n",
       "      <td>17:39:23</td>\n",
       "      <td>2019</td>\n",
       "      <td>9</td>\n",
       "      <td>2019-09</td>\n",
       "    </tr>\n",
       "    <tr>\n",
       "      <th>20410</th>\n",
       "      <td>Y-vxPbvPKcaLiYa9ZBXoDg</td>\n",
       "      <td>Pittsburgh</td>\n",
       "      <td>PA</td>\n",
       "      <td>40.440433</td>\n",
       "      <td>-79.998637</td>\n",
       "      <td>1.5</td>\n",
       "      <td>24</td>\n",
       "      <td>0</td>\n",
       "      <td>2.0</td>\n",
       "      <td>2</td>\n",
       "      <td>1</td>\n",
       "      <td>1</td>\n",
       "      <td>The egg in the egg McGriddle was very dry, but...</td>\n",
       "      <td>2018-04-21</td>\n",
       "      <td>17:41:46</td>\n",
       "      <td>2018</td>\n",
       "      <td>4</td>\n",
       "      <td>2018-04</td>\n",
       "    </tr>\n",
       "    <tr>\n",
       "      <th>20411</th>\n",
       "      <td>Y-vxPbvPKcaLiYa9ZBXoDg</td>\n",
       "      <td>Pittsburgh</td>\n",
       "      <td>PA</td>\n",
       "      <td>40.440433</td>\n",
       "      <td>-79.998637</td>\n",
       "      <td>1.5</td>\n",
       "      <td>24</td>\n",
       "      <td>0</td>\n",
       "      <td>1.0</td>\n",
       "      <td>0</td>\n",
       "      <td>0</td>\n",
       "      <td>0</td>\n",
       "      <td>TRASH! THIS IS THE MOST GHETTO MCDONALDS I HAV...</td>\n",
       "      <td>2019-08-28</td>\n",
       "      <td>19:48:41</td>\n",
       "      <td>2019</td>\n",
       "      <td>8</td>\n",
       "      <td>2019-08</td>\n",
       "    </tr>\n",
       "    <tr>\n",
       "      <th>20412</th>\n",
       "      <td>Y-vxPbvPKcaLiYa9ZBXoDg</td>\n",
       "      <td>Pittsburgh</td>\n",
       "      <td>PA</td>\n",
       "      <td>40.440433</td>\n",
       "      <td>-79.998637</td>\n",
       "      <td>1.5</td>\n",
       "      <td>24</td>\n",
       "      <td>0</td>\n",
       "      <td>2.0</td>\n",
       "      <td>1</td>\n",
       "      <td>0</td>\n",
       "      <td>0</td>\n",
       "      <td>Went to this McDonald's because it was the clo...</td>\n",
       "      <td>2018-09-29</td>\n",
       "      <td>19:58:45</td>\n",
       "      <td>2018</td>\n",
       "      <td>9</td>\n",
       "      <td>2018-09</td>\n",
       "    </tr>\n",
       "    <tr>\n",
       "      <th>20413</th>\n",
       "      <td>Y-vxPbvPKcaLiYa9ZBXoDg</td>\n",
       "      <td>Pittsburgh</td>\n",
       "      <td>PA</td>\n",
       "      <td>40.440433</td>\n",
       "      <td>-79.998637</td>\n",
       "      <td>1.5</td>\n",
       "      <td>24</td>\n",
       "      <td>0</td>\n",
       "      <td>1.0</td>\n",
       "      <td>0</td>\n",
       "      <td>0</td>\n",
       "      <td>0</td>\n",
       "      <td>This place is absolutely filthy and scary.  Al...</td>\n",
       "      <td>2019-07-06</td>\n",
       "      <td>23:01:03</td>\n",
       "      <td>2019</td>\n",
       "      <td>7</td>\n",
       "      <td>2019-07</td>\n",
       "    </tr>\n",
       "  </tbody>\n",
       "</table>\n",
       "<p>20414 rows × 18 columns</p>\n",
       "</div>"
      ],
      "text/plain": [
       "                  business_id           city state   latitude  longitude  \\\n",
       "0      CfwrsG76Wm4iLS22v_wAcg  Parma Heights    OH  41.385949 -81.768113   \n",
       "1      CfwrsG76Wm4iLS22v_wAcg  Parma Heights    OH  41.385949 -81.768113   \n",
       "2      CfwrsG76Wm4iLS22v_wAcg  Parma Heights    OH  41.385949 -81.768113   \n",
       "3      CfwrsG76Wm4iLS22v_wAcg  Parma Heights    OH  41.385949 -81.768113   \n",
       "4      CfwrsG76Wm4iLS22v_wAcg  Parma Heights    OH  41.385949 -81.768113   \n",
       "...                       ...            ...   ...        ...        ...   \n",
       "20409  Y-vxPbvPKcaLiYa9ZBXoDg     Pittsburgh    PA  40.440433 -79.998637   \n",
       "20410  Y-vxPbvPKcaLiYa9ZBXoDg     Pittsburgh    PA  40.440433 -79.998637   \n",
       "20411  Y-vxPbvPKcaLiYa9ZBXoDg     Pittsburgh    PA  40.440433 -79.998637   \n",
       "20412  Y-vxPbvPKcaLiYa9ZBXoDg     Pittsburgh    PA  40.440433 -79.998637   \n",
       "20413  Y-vxPbvPKcaLiYa9ZBXoDg     Pittsburgh    PA  40.440433 -79.998637   \n",
       "\n",
       "       stars_x  review_count  is_open  stars_y  useful  funny  cool  \\\n",
       "0          2.5            15        1      1.0       0      0     0   \n",
       "1          2.5            15        1      3.0       0      0     0   \n",
       "2          2.5            15        1      1.0       2      1     0   \n",
       "3          2.5            15        1      5.0       0      0     0   \n",
       "4          2.5            15        1      3.0       1      0     0   \n",
       "...        ...           ...      ...      ...     ...    ...   ...   \n",
       "20409      1.5            24        0      1.0       1      0     0   \n",
       "20410      1.5            24        0      2.0       2      1     1   \n",
       "20411      1.5            24        0      1.0       0      0     0   \n",
       "20412      1.5            24        0      2.0       1      0     0   \n",
       "20413      1.5            24        0      1.0       0      0     0   \n",
       "\n",
       "                                                    text       date      time  \\\n",
       "0      Try cleaning your play area once in a while. I... 2016-02-13  22:57:36   \n",
       "1      It is what it is, a McDonalds.  You get what y... 2014-08-02  16:19:00   \n",
       "2      Not one of the better McDonald's,  I'm not usu... 2016-02-06  00:55:30   \n",
       "3      We barely waited in the fast food line, and th... 2017-11-29  02:26:24   \n",
       "4      The only reason they get three stars is becaus... 2018-04-22  18:22:53   \n",
       "...                                                  ...        ...       ...   \n",
       "20409  This location is actually closed. Was always u... 2019-09-29  17:39:23   \n",
       "20410  The egg in the egg McGriddle was very dry, but... 2018-04-21  17:41:46   \n",
       "20411  TRASH! THIS IS THE MOST GHETTO MCDONALDS I HAV... 2019-08-28  19:48:41   \n",
       "20412  Went to this McDonald's because it was the clo... 2018-09-29  19:58:45   \n",
       "20413  This place is absolutely filthy and scary.  Al... 2019-07-06  23:01:03   \n",
       "\n",
       "       year  month year_month  \n",
       "0      2016      2    2016-02  \n",
       "1      2014      8    2014-08  \n",
       "2      2016      2    2016-02  \n",
       "3      2017     11    2017-11  \n",
       "4      2018      4    2018-04  \n",
       "...     ...    ...        ...  \n",
       "20409  2019      9    2019-09  \n",
       "20410  2018      4    2018-04  \n",
       "20411  2019      8    2019-08  \n",
       "20412  2018      9    2018-09  \n",
       "20413  2019      7    2019-07  \n",
       "\n",
       "[20414 rows x 18 columns]"
      ]
     },
     "execution_count": 170,
     "metadata": {},
     "output_type": "execute_result"
    }
   ],
   "source": [
    "df_final"
   ]
  },
  {
   "cell_type": "code",
   "execution_count": null,
   "metadata": {},
   "outputs": [],
   "source": []
  }
 ],
 "metadata": {
  "kernelspec": {
   "display_name": "Python 3",
   "language": "python",
   "name": "python3"
  },
  "language_info": {
   "codemirror_mode": {
    "name": "ipython",
    "version": 3
   },
   "file_extension": ".py",
   "mimetype": "text/x-python",
   "name": "python",
   "nbconvert_exporter": "python",
   "pygments_lexer": "ipython3",
   "version": "3.8.5"
  }
 },
 "nbformat": 4,
 "nbformat_minor": 4
}
