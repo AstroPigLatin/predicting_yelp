{
 "cells": [
  {
   "cell_type": "code",
   "execution_count": 6,
   "metadata": {
    "execution": {
     "iopub.execute_input": "2020-08-27T16:01:15.499560Z",
     "iopub.status.busy": "2020-08-27T16:01:15.499296Z",
     "iopub.status.idle": "2020-08-27T16:01:15.503960Z",
     "shell.execute_reply": "2020-08-27T16:01:15.502929Z",
     "shell.execute_reply.started": "2020-08-27T16:01:15.499531Z"
    }
   },
   "outputs": [],
   "source": [
    "import pandas as pd\n",
    "import numpy as np"
   ]
  },
  {
   "cell_type": "code",
   "execution_count": 7,
   "metadata": {
    "execution": {
     "iopub.execute_input": "2020-08-27T16:01:16.265745Z",
     "iopub.status.busy": "2020-08-27T16:01:16.265369Z",
     "iopub.status.idle": "2020-08-27T16:01:16.486346Z",
     "shell.execute_reply": "2020-08-27T16:01:16.485064Z",
     "shell.execute_reply.started": "2020-08-27T16:01:16.265717Z"
    }
   },
   "outputs": [],
   "source": [
    "df_final = pd.read_csv('data/mcdonalds_final.csv')"
   ]
  },
  {
   "cell_type": "code",
   "execution_count": null,
   "metadata": {
    "execution": {
     "iopub.status.busy": "2020-08-27T16:01:04.665484Z",
     "iopub.status.idle": "2020-08-27T16:01:04.666093Z"
    }
   },
   "outputs": [],
   "source": [
    "df_final.head()"
   ]
  },
  {
   "cell_type": "code",
   "execution_count": null,
   "metadata": {
    "execution": {
     "iopub.status.busy": "2020-08-27T16:01:04.667290Z",
     "iopub.status.idle": "2020-08-27T16:01:04.667678Z"
    }
   },
   "outputs": [],
   "source": [
    "df_final.shape"
   ]
  },
  {
   "cell_type": "markdown",
   "metadata": {},
   "source": [
    "## By Food"
   ]
  },
  {
   "cell_type": "code",
   "execution_count": 11,
   "metadata": {
    "execution": {
     "iopub.execute_input": "2020-08-27T16:01:43.698221Z",
     "iopub.status.busy": "2020-08-27T16:01:43.697541Z",
     "iopub.status.idle": "2020-08-27T16:01:43.731297Z",
     "shell.execute_reply": "2020-08-27T16:01:43.730135Z",
     "shell.execute_reply.started": "2020-08-27T16:01:43.698185Z"
    }
   },
   "outputs": [],
   "source": [
    "# Find reviews that contain the string \"nugget\" in the text column\n",
    "nugget = df_final[df_final['text'].str.contains('nugget')]"
   ]
  },
  {
   "cell_type": "code",
   "execution_count": 12,
   "metadata": {
    "execution": {
     "iopub.execute_input": "2020-08-27T16:01:45.117148Z",
     "iopub.status.busy": "2020-08-27T16:01:45.116840Z",
     "iopub.status.idle": "2020-08-27T16:01:45.122995Z",
     "shell.execute_reply": "2020-08-27T16:01:45.121990Z",
     "shell.execute_reply.started": "2020-08-27T16:01:45.117112Z"
    }
   },
   "outputs": [
    {
     "data": {
      "text/plain": [
       "(807, 18)"
      ]
     },
     "execution_count": 12,
     "metadata": {},
     "output_type": "execute_result"
    }
   ],
   "source": [
    "nugget.sha"
   ]
  },
  {
   "cell_type": "code",
   "execution_count": null,
   "metadata": {
    "execution": {
     "iopub.status.busy": "2020-08-27T16:01:04.672904Z",
     "iopub.status.idle": "2020-08-27T16:01:04.673491Z"
    }
   },
   "outputs": [],
   "source": [
    "# Find reviews that contain the string \"mcnugget\" in the text column\n",
    "mcnugget = df_final[df_final['text'].str.contains('mcnugget')]"
   ]
  },
  {
   "cell_type": "code",
   "execution_count": null,
   "metadata": {
    "execution": {
     "iopub.status.busy": "2020-08-27T16:01:04.675502Z",
     "iopub.status.idle": "2020-08-27T16:01:04.675874Z"
    }
   },
   "outputs": [],
   "source": [
    "mcnugget.head()"
   ]
  },
  {
   "cell_type": "code",
   "execution_count": null,
   "metadata": {
    "execution": {
     "iopub.status.busy": "2020-08-27T16:01:04.677413Z",
     "iopub.status.idle": "2020-08-27T16:01:04.677778Z"
    }
   },
   "outputs": [],
   "source": [
    "mcnugget.shape"
   ]
  },
  {
   "cell_type": "code",
   "execution_count": null,
   "metadata": {
    "execution": {
     "iopub.status.busy": "2020-08-27T16:01:04.679189Z",
     "iopub.status.idle": "2020-08-27T16:01:04.679631Z"
    }
   },
   "outputs": [],
   "source": [
    "mcnugget['text'].nunique()"
   ]
  },
  {
   "cell_type": "code",
   "execution_count": null,
   "metadata": {
    "execution": {
     "iopub.status.busy": "2020-08-27T16:01:04.680633Z",
     "iopub.status.idle": "2020-08-27T16:01:04.680952Z"
    }
   },
   "outputs": [],
   "source": [
    "# Find reviews that contain the string \"fries\" in the text column\n",
    "fries = df_final[df_final['text'].str.contains('fries')]"
   ]
  },
  {
   "cell_type": "code",
   "execution_count": null,
   "metadata": {
    "execution": {
     "iopub.status.busy": "2020-08-27T16:01:04.681905Z",
     "iopub.status.idle": "2020-08-27T16:01:04.682259Z"
    }
   },
   "outputs": [],
   "source": [
    "fries.shape"
   ]
  },
  {
   "cell_type": "code",
   "execution_count": null,
   "metadata": {
    "execution": {
     "iopub.status.busy": "2020-08-27T16:01:04.683546Z",
     "iopub.status.idle": "2020-08-27T16:01:04.683944Z"
    }
   },
   "outputs": [],
   "source": [
    "# Find reviews that contain the string \"coke\" in the text column\n",
    "coke = df_final[df_final['text'].str.contains('coke')]"
   ]
  },
  {
   "cell_type": "code",
   "execution_count": null,
   "metadata": {
    "execution": {
     "iopub.status.busy": "2020-08-27T16:01:04.685467Z",
     "iopub.status.idle": "2020-08-27T16:01:04.686058Z"
    }
   },
   "outputs": [],
   "source": [
    "coke.shape"
   ]
  },
  {
   "cell_type": "code",
   "execution_count": null,
   "metadata": {
    "execution": {
     "iopub.status.busy": "2020-08-27T16:01:04.688680Z",
     "iopub.status.idle": "2020-08-27T16:01:04.688994Z"
    }
   },
   "outputs": [],
   "source": [
    "# Find reviews that contain the string \"mcflurry\" in the text column\n",
    "mcflurry = df_final[df_final['text'].str.contains('mcflurry')]"
   ]
  },
  {
   "cell_type": "code",
   "execution_count": null,
   "metadata": {
    "execution": {
     "iopub.status.busy": "2020-08-27T16:01:04.690606Z",
     "iopub.status.idle": "2020-08-27T16:01:04.691077Z"
    }
   },
   "outputs": [],
   "source": [
    "mcflurry.shape"
   ]
  },
  {
   "cell_type": "code",
   "execution_count": null,
   "metadata": {
    "execution": {
     "iopub.status.busy": "2020-08-27T16:01:04.692266Z",
     "iopub.status.idle": "2020-08-27T16:01:04.692650Z"
    }
   },
   "outputs": [],
   "source": [
    "# Find reviews that contain the string \"big mac\" in the text column\n",
    "big_mac = df_final[df_final['text'].str.contains('big mac')]"
   ]
  },
  {
   "cell_type": "code",
   "execution_count": null,
   "metadata": {
    "execution": {
     "iopub.status.busy": "2020-08-27T16:01:04.694064Z",
     "iopub.status.idle": "2020-08-27T16:01:04.694933Z"
    }
   },
   "outputs": [],
   "source": [
    "big_mac.shape"
   ]
  },
  {
   "cell_type": "code",
   "execution_count": null,
   "metadata": {
    "execution": {
     "iopub.status.busy": "2020-08-27T16:01:04.696232Z",
     "iopub.status.idle": "2020-08-27T16:01:04.697416Z"
    }
   },
   "outputs": [],
   "source": [
    "# Find reviews that contain the string \"burger\" in the text column\n",
    "burger = df_final[df_final['text'].str.contains('burger')]"
   ]
  },
  {
   "cell_type": "code",
   "execution_count": null,
   "metadata": {
    "execution": {
     "iopub.status.busy": "2020-08-27T16:01:04.698576Z",
     "iopub.status.idle": "2020-08-27T16:01:04.699355Z"
    }
   },
   "outputs": [],
   "source": [
    "burger.shape"
   ]
  },
  {
   "cell_type": "code",
   "execution_count": null,
   "metadata": {
    "execution": {
     "iopub.status.busy": "2020-08-27T16:01:04.701534Z",
     "iopub.status.idle": "2020-08-27T16:01:04.701947Z"
    }
   },
   "outputs": [],
   "source": [
    "# Find reviews that contain the string \"mcmuffin\" in the text column\n",
    "mcmuffin = df_final[df_final['text'].str.contains('mcmuffin')]\n",
    "mcmuffin.shape"
   ]
  },
  {
   "cell_type": "code",
   "execution_count": null,
   "metadata": {
    "execution": {
     "iopub.status.busy": "2020-08-27T16:00:49.999052Z",
     "iopub.status.idle": "2020-08-27T16:00:49.999612Z"
    }
   },
   "outputs": [],
   "source": [
    "# Find reviews that contain the string \"french fries\" in the text column\n",
    "french_fries = df_final[df_final['text'].str.contains('french fries')]\n",
    "french_fries.shape"
   ]
  },
  {
   "cell_type": "code",
   "execution_count": null,
   "metadata": {
    "execution": {
     "iopub.status.busy": "2020-08-27T16:00:50.001112Z",
     "iopub.status.idle": "2020-08-27T16:00:50.002052Z"
    }
   },
   "outputs": [],
   "source": [
    "# Find reviews that contain the string \"happy meal\" in the text column\n",
    "happy_meal = df_final[df_final['text'].str.contains('happy meal')]\n",
    "happy_meal.shape"
   ]
  },
  {
   "cell_type": "code",
   "execution_count": null,
   "metadata": {
    "execution": {
     "iopub.status.busy": "2020-08-27T16:00:50.003056Z",
     "iopub.status.idle": "2020-08-27T16:00:50.003820Z"
    }
   },
   "outputs": [],
   "source": [
    "# Find reviews that contain the string \"soda\" in the text column\n",
    "soda = df_final[df_final['text'].str.contains('soda')]\n",
    "soda.shape"
   ]
  },
  {
   "cell_type": "code",
   "execution_count": null,
   "metadata": {
    "execution": {
     "iopub.status.busy": "2020-08-27T16:00:50.005152Z",
     "iopub.status.idle": "2020-08-27T16:00:50.005714Z"
    }
   },
   "outputs": [],
   "source": [
    "# Find reviews that contain the string \"sauce\" in the text column\n",
    "sauce = df_final[df_final['text'].str.contains('sauce')]\n",
    "sauce.shape"
   ]
  },
  {
   "cell_type": "code",
   "execution_count": 8,
   "metadata": {
    "execution": {
     "iopub.execute_input": "2020-08-27T16:01:23.591558Z",
     "iopub.status.busy": "2020-08-27T16:01:23.591069Z",
     "iopub.status.idle": "2020-08-27T16:01:23.640440Z",
     "shell.execute_reply": "2020-08-27T16:01:23.638943Z",
     "shell.execute_reply.started": "2020-08-27T16:01:23.591499Z"
    }
   },
   "outputs": [
    {
     "data": {
      "text/plain": [
       "(1, 18)"
      ]
     },
     "execution_count": 8,
     "metadata": {},
     "output_type": "execute_result"
    }
   ],
   "source": [
    "# Find reviews that contain the string \"quarterpound\" in the text column\n",
    "quarterpound = df_final[df_final['text'].str.contains('quarterpound')]\n",
    "quarterpound.shape"
   ]
  },
  {
   "cell_type": "code",
   "execution_count": 15,
   "metadata": {
    "execution": {
     "iopub.execute_input": "2020-08-27T16:02:46.377861Z",
     "iopub.status.busy": "2020-08-27T16:02:46.377594Z",
     "iopub.status.idle": "2020-08-27T16:02:46.407737Z",
     "shell.execute_reply": "2020-08-27T16:02:46.406645Z",
     "shell.execute_reply.started": "2020-08-27T16:02:46.377832Z"
    }
   },
   "outputs": [
    {
     "data": {
      "text/html": [
       "<div>\n",
       "<style scoped>\n",
       "    .dataframe tbody tr th:only-of-type {\n",
       "        vertical-align: middle;\n",
       "    }\n",
       "\n",
       "    .dataframe tbody tr th {\n",
       "        vertical-align: top;\n",
       "    }\n",
       "\n",
       "    .dataframe thead th {\n",
       "        text-align: right;\n",
       "    }\n",
       "</style>\n",
       "<table border=\"1\" class=\"dataframe\">\n",
       "  <thead>\n",
       "    <tr style=\"text-align: right;\">\n",
       "      <th></th>\n",
       "      <th>Unnamed: 0</th>\n",
       "      <th>business_id</th>\n",
       "      <th>name</th>\n",
       "      <th>city</th>\n",
       "      <th>state</th>\n",
       "      <th>latitude</th>\n",
       "      <th>longitude</th>\n",
       "      <th>stars_x</th>\n",
       "      <th>review_count</th>\n",
       "      <th>is_open</th>\n",
       "      <th>review_id</th>\n",
       "      <th>user_id</th>\n",
       "      <th>stars_y</th>\n",
       "      <th>useful</th>\n",
       "      <th>funny</th>\n",
       "      <th>cool</th>\n",
       "      <th>text</th>\n",
       "      <th>date</th>\n",
       "    </tr>\n",
       "  </thead>\n",
       "  <tbody>\n",
       "    <tr>\n",
       "      <th>1841</th>\n",
       "      <td>1841</td>\n",
       "      <td>2ySggR1WGE4A4cD03akTcQ</td>\n",
       "      <td>McDonald's</td>\n",
       "      <td>Medina</td>\n",
       "      <td>OH</td>\n",
       "      <td>41.157471</td>\n",
       "      <td>-81.863051</td>\n",
       "      <td>3.0</td>\n",
       "      <td>12</td>\n",
       "      <td>1</td>\n",
       "      <td>lwr07lp0sOeIvwDjPu4mVQ</td>\n",
       "      <td>4EyzVY39rivig-1o4BsXbA</td>\n",
       "      <td>2.0</td>\n",
       "      <td>0</td>\n",
       "      <td>0</td>\n",
       "      <td>0</td>\n",
       "      <td>I came an ordered a quarterpounder with cheese...</td>\n",
       "      <td>2019-06-20 18:56:04</td>\n",
       "    </tr>\n",
       "  </tbody>\n",
       "</table>\n",
       "</div>"
      ],
      "text/plain": [
       "      Unnamed: 0             business_id        name    city state   latitude  \\\n",
       "1841        1841  2ySggR1WGE4A4cD03akTcQ  McDonald's  Medina    OH  41.157471   \n",
       "\n",
       "      longitude  stars_x  review_count  is_open               review_id  \\\n",
       "1841 -81.863051      3.0            12        1  lwr07lp0sOeIvwDjPu4mVQ   \n",
       "\n",
       "                     user_id  stars_y  useful  funny  cool  \\\n",
       "1841  4EyzVY39rivig-1o4BsXbA      2.0       0      0     0   \n",
       "\n",
       "                                                   text                 date  \n",
       "1841  I came an ordered a quarterpounder with cheese...  2019-06-20 18:56:04  "
      ]
     },
     "execution_count": 15,
     "metadata": {},
     "output_type": "execute_result"
    }
   ],
   "source": [
    "quarterpound"
   ]
  },
  {
   "cell_type": "code",
   "execution_count": 16,
   "metadata": {
    "execution": {
     "iopub.execute_input": "2020-08-27T16:06:13.760738Z",
     "iopub.status.busy": "2020-08-27T16:06:13.760464Z",
     "iopub.status.idle": "2020-08-27T16:06:13.791480Z",
     "shell.execute_reply": "2020-08-27T16:06:13.790487Z",
     "shell.execute_reply.started": "2020-08-27T16:06:13.760706Z"
    }
   },
   "outputs": [
    {
     "data": {
      "text/plain": [
       "(13, 18)"
      ]
     },
     "execution_count": 16,
     "metadata": {},
     "output_type": "execute_result"
    }
   ],
   "source": [
    "# Find reviews that contain the string \"side order\" in the text column\n",
    "side_order = df_final[df_final['text'].str.contains('side order')]\n",
    "side_order.shape"
   ]
  },
  {
   "cell_type": "code",
   "execution_count": 17,
   "metadata": {
    "execution": {
     "iopub.execute_input": "2020-08-27T16:12:26.514565Z",
     "iopub.status.busy": "2020-08-27T16:12:26.514285Z",
     "iopub.status.idle": "2020-08-27T16:12:26.540398Z",
     "shell.execute_reply": "2020-08-27T16:12:26.539617Z",
     "shell.execute_reply.started": "2020-08-27T16:12:26.514534Z"
    }
   },
   "outputs": [
    {
     "data": {
      "text/plain": [
       "(1, 18)"
      ]
     },
     "execution_count": 17,
     "metadata": {},
     "output_type": "execute_result"
    }
   ],
   "source": [
    "# Find reviews that contain the string \"quarterpound\" in the text column\n",
    "quarterpound = df_final[df_final['text'].str.contains('quarterpound')]\n",
    "quarterpound.shape"
   ]
  },
  {
   "cell_type": "code",
   "execution_count": 18,
   "metadata": {
    "execution": {
     "iopub.execute_input": "2020-08-27T16:14:47.932240Z",
     "iopub.status.busy": "2020-08-27T16:14:47.931996Z",
     "iopub.status.idle": "2020-08-27T16:14:47.962657Z",
     "shell.execute_reply": "2020-08-27T16:14:47.961528Z",
     "shell.execute_reply.started": "2020-08-27T16:14:47.932212Z"
    }
   },
   "outputs": [
    {
     "data": {
      "text/plain": [
       "(211, 18)"
      ]
     },
     "execution_count": 18,
     "metadata": {},
     "output_type": "execute_result"
    }
   ],
   "source": [
    "# Find reviews that contain the string \"salad\" in the text column\n",
    "salad = df_final[df_final['text'].str.contains('salad')]\n",
    "salad.shape"
   ]
  },
  {
   "cell_type": "markdown",
   "metadata": {},
   "source": [
    "## By Food"
   ]
  },
  {
   "cell_type": "code",
   "execution_count": 26,
   "metadata": {
    "execution": {
     "iopub.execute_input": "2020-08-27T16:19:36.446100Z",
     "iopub.status.busy": "2020-08-27T16:19:36.445852Z",
     "iopub.status.idle": "2020-08-27T16:19:36.451870Z",
     "shell.execute_reply": "2020-08-27T16:19:36.450832Z",
     "shell.execute_reply.started": "2020-08-27T16:19:36.446072Z"
    }
   },
   "outputs": [
    {
     "data": {
      "text/plain": [
       "25"
      ]
     },
     "execution_count": 26,
     "metadata": {},
     "output_type": "execute_result"
    }
   ],
   "source": [
    "# Find reviews that contain ANY of the list of food words\n",
    "food_list = ['mcnugget', 'nugget', 'coke', 'soda', 'mcflurry', 'fries', 'french fries', 'big mac', 'burger', 'mcmuffin', 'happy meal', 'sauce', 'ketchup', 'quarterpound', 'apple pie', 'salad', 'griddle', 'mcgriddle','coffee', 'snack wrap', 'cheese', 'cheeseburger', 'chicken', 'beef','sandwich'] \n",
    "len(food_list)"
   ]
  },
  {
   "cell_type": "code",
   "execution_count": 14,
   "metadata": {
    "execution": {
     "iopub.execute_input": "2020-08-27T16:02:35.670269Z",
     "iopub.status.busy": "2020-08-27T16:02:35.669799Z",
     "iopub.status.idle": "2020-08-27T16:02:35.675437Z",
     "shell.execute_reply": "2020-08-27T16:02:35.674545Z",
     "shell.execute_reply.started": "2020-08-27T16:02:35.670205Z"
    }
   },
   "outputs": [
    {
     "data": {
      "text/plain": [
       "['mcnugget',\n",
       " 'nugget',\n",
       " 'coke',\n",
       " 'soda',\n",
       " 'mcflurry',\n",
       " 'fries',\n",
       " 'french fries',\n",
       " 'big mac',\n",
       " 'burger',\n",
       " 'mcmuffin',\n",
       " 'happy meal',\n",
       " 'sauce',\n",
       " 'ketchup']"
      ]
     },
     "execution_count": 14,
     "metadata": {},
     "output_type": "execute_result"
    }
   ],
   "source": [
    "food_list"
   ]
  },
  {
   "cell_type": "code",
   "execution_count": 89,
   "metadata": {
    "execution": {
     "iopub.execute_input": "2020-08-26T20:59:23.103202Z",
     "iopub.status.busy": "2020-08-26T20:59:23.102940Z",
     "iopub.status.idle": "2020-08-26T20:59:23.328828Z",
     "shell.execute_reply": "2020-08-26T20:59:23.328043Z",
     "shell.execute_reply.started": "2020-08-26T20:59:23.103171Z"
    }
   },
   "outputs": [],
   "source": [
    "foods = df_final[df_final['text'].str.contains('|'.join(food_list))]"
   ]
  },
  {
   "cell_type": "code",
   "execution_count": 32,
   "metadata": {
    "execution": {
     "iopub.execute_input": "2020-08-27T16:29:40.753311Z",
     "iopub.status.busy": "2020-08-27T16:29:40.752878Z",
     "iopub.status.idle": "2020-08-27T16:29:40.819086Z",
     "shell.execute_reply": "2020-08-27T16:29:40.816071Z",
     "shell.execute_reply.started": "2020-08-27T16:29:40.753266Z"
    }
   },
   "outputs": [
    {
     "data": {
      "text/html": [
       "<div>\n",
       "<style scoped>\n",
       "    .dataframe tbody tr th:only-of-type {\n",
       "        vertical-align: middle;\n",
       "    }\n",
       "\n",
       "    .dataframe tbody tr th {\n",
       "        vertical-align: top;\n",
       "    }\n",
       "\n",
       "    .dataframe thead th {\n",
       "        text-align: right;\n",
       "    }\n",
       "</style>\n",
       "<table border=\"1\" class=\"dataframe\">\n",
       "  <thead>\n",
       "    <tr style=\"text-align: right;\">\n",
       "      <th></th>\n",
       "      <th>Unnamed: 0</th>\n",
       "      <th>business_id</th>\n",
       "      <th>name</th>\n",
       "      <th>city</th>\n",
       "      <th>state</th>\n",
       "      <th>latitude</th>\n",
       "      <th>longitude</th>\n",
       "      <th>stars_x</th>\n",
       "      <th>review_count</th>\n",
       "      <th>is_open</th>\n",
       "      <th>review_id</th>\n",
       "      <th>user_id</th>\n",
       "      <th>stars_y</th>\n",
       "      <th>useful</th>\n",
       "      <th>funny</th>\n",
       "      <th>cool</th>\n",
       "      <th>text</th>\n",
       "      <th>date</th>\n",
       "    </tr>\n",
       "  </thead>\n",
       "  <tbody>\n",
       "    <tr>\n",
       "      <th>0</th>\n",
       "      <td>0</td>\n",
       "      <td>CfwrsG76Wm4iLS22v_wAcg</td>\n",
       "      <td>McDonald's</td>\n",
       "      <td>Parma Heights</td>\n",
       "      <td>OH</td>\n",
       "      <td>41.385949</td>\n",
       "      <td>-81.768113</td>\n",
       "      <td>2.5</td>\n",
       "      <td>15</td>\n",
       "      <td>1</td>\n",
       "      <td>Jop9vLXGgLY5wccfxh08hg</td>\n",
       "      <td>VULFcmvS5-zp1wt-aokPwA</td>\n",
       "      <td>1.0</td>\n",
       "      <td>0</td>\n",
       "      <td>0</td>\n",
       "      <td>0</td>\n",
       "      <td>Try cleaning your play area once in a while. I...</td>\n",
       "      <td>2016-02-13 22:57:36</td>\n",
       "    </tr>\n",
       "    <tr>\n",
       "      <th>1</th>\n",
       "      <td>1</td>\n",
       "      <td>CfwrsG76Wm4iLS22v_wAcg</td>\n",
       "      <td>McDonald's</td>\n",
       "      <td>Parma Heights</td>\n",
       "      <td>OH</td>\n",
       "      <td>41.385949</td>\n",
       "      <td>-81.768113</td>\n",
       "      <td>2.5</td>\n",
       "      <td>15</td>\n",
       "      <td>1</td>\n",
       "      <td>14nFvaihx4rwTAETm9BJEA</td>\n",
       "      <td>83zQAHCvZGYgm8bjQoJ5wg</td>\n",
       "      <td>3.0</td>\n",
       "      <td>0</td>\n",
       "      <td>0</td>\n",
       "      <td>0</td>\n",
       "      <td>It is what it is, a McDonalds.  You get what y...</td>\n",
       "      <td>2014-08-02 16:19:00</td>\n",
       "    </tr>\n",
       "    <tr>\n",
       "      <th>2</th>\n",
       "      <td>2</td>\n",
       "      <td>CfwrsG76Wm4iLS22v_wAcg</td>\n",
       "      <td>McDonald's</td>\n",
       "      <td>Parma Heights</td>\n",
       "      <td>OH</td>\n",
       "      <td>41.385949</td>\n",
       "      <td>-81.768113</td>\n",
       "      <td>2.5</td>\n",
       "      <td>15</td>\n",
       "      <td>1</td>\n",
       "      <td>E8GI0Dkub-QHg1g0_4OiBg</td>\n",
       "      <td>wd02D3NPbIZWr67qfrDldw</td>\n",
       "      <td>1.0</td>\n",
       "      <td>2</td>\n",
       "      <td>1</td>\n",
       "      <td>0</td>\n",
       "      <td>Not one of the better McDonald's,  I'm not usu...</td>\n",
       "      <td>2016-02-06 00:55:30</td>\n",
       "    </tr>\n",
       "    <tr>\n",
       "      <th>3</th>\n",
       "      <td>3</td>\n",
       "      <td>CfwrsG76Wm4iLS22v_wAcg</td>\n",
       "      <td>McDonald's</td>\n",
       "      <td>Parma Heights</td>\n",
       "      <td>OH</td>\n",
       "      <td>41.385949</td>\n",
       "      <td>-81.768113</td>\n",
       "      <td>2.5</td>\n",
       "      <td>15</td>\n",
       "      <td>1</td>\n",
       "      <td>iwXKXdm2Vgi8qT2JKAbkBQ</td>\n",
       "      <td>PJ6LYU0111nU6ybRktbdpQ</td>\n",
       "      <td>5.0</td>\n",
       "      <td>0</td>\n",
       "      <td>0</td>\n",
       "      <td>0</td>\n",
       "      <td>We barely waited in the fast food line, and th...</td>\n",
       "      <td>2017-11-29 02:26:24</td>\n",
       "    </tr>\n",
       "    <tr>\n",
       "      <th>4</th>\n",
       "      <td>4</td>\n",
       "      <td>CfwrsG76Wm4iLS22v_wAcg</td>\n",
       "      <td>McDonald's</td>\n",
       "      <td>Parma Heights</td>\n",
       "      <td>OH</td>\n",
       "      <td>41.385949</td>\n",
       "      <td>-81.768113</td>\n",
       "      <td>2.5</td>\n",
       "      <td>15</td>\n",
       "      <td>1</td>\n",
       "      <td>MSyd64ek4d8K0-4uaxmfFQ</td>\n",
       "      <td>ofsfbDuMRXZm1NPfudAM2Q</td>\n",
       "      <td>3.0</td>\n",
       "      <td>1</td>\n",
       "      <td>0</td>\n",
       "      <td>0</td>\n",
       "      <td>The only reason they get three stars is becaus...</td>\n",
       "      <td>2018-04-22 18:22:53</td>\n",
       "    </tr>\n",
       "    <tr>\n",
       "      <th>...</th>\n",
       "      <td>...</td>\n",
       "      <td>...</td>\n",
       "      <td>...</td>\n",
       "      <td>...</td>\n",
       "      <td>...</td>\n",
       "      <td>...</td>\n",
       "      <td>...</td>\n",
       "      <td>...</td>\n",
       "      <td>...</td>\n",
       "      <td>...</td>\n",
       "      <td>...</td>\n",
       "      <td>...</td>\n",
       "      <td>...</td>\n",
       "      <td>...</td>\n",
       "      <td>...</td>\n",
       "      <td>...</td>\n",
       "      <td>...</td>\n",
       "      <td>...</td>\n",
       "    </tr>\n",
       "    <tr>\n",
       "      <th>20409</th>\n",
       "      <td>20409</td>\n",
       "      <td>Y-vxPbvPKcaLiYa9ZBXoDg</td>\n",
       "      <td>McDonald's</td>\n",
       "      <td>Pittsburgh</td>\n",
       "      <td>PA</td>\n",
       "      <td>40.440433</td>\n",
       "      <td>-79.998637</td>\n",
       "      <td>1.5</td>\n",
       "      <td>24</td>\n",
       "      <td>0</td>\n",
       "      <td>tAWhScy5SG7xGvE9-UUSaQ</td>\n",
       "      <td>pkR7g3ZjJXKyRjCwo8OuLg</td>\n",
       "      <td>1.0</td>\n",
       "      <td>1</td>\n",
       "      <td>0</td>\n",
       "      <td>0</td>\n",
       "      <td>This location is actually closed. Was always u...</td>\n",
       "      <td>2019-09-29 17:39:23</td>\n",
       "    </tr>\n",
       "    <tr>\n",
       "      <th>20410</th>\n",
       "      <td>20410</td>\n",
       "      <td>Y-vxPbvPKcaLiYa9ZBXoDg</td>\n",
       "      <td>McDonald's</td>\n",
       "      <td>Pittsburgh</td>\n",
       "      <td>PA</td>\n",
       "      <td>40.440433</td>\n",
       "      <td>-79.998637</td>\n",
       "      <td>1.5</td>\n",
       "      <td>24</td>\n",
       "      <td>0</td>\n",
       "      <td>5hLs5P-R4kqcIRd7A-XNVg</td>\n",
       "      <td>550PQtrBHqSUjafvzVzEsQ</td>\n",
       "      <td>2.0</td>\n",
       "      <td>2</td>\n",
       "      <td>1</td>\n",
       "      <td>1</td>\n",
       "      <td>The egg in the egg McGriddle was very dry, but...</td>\n",
       "      <td>2018-04-21 17:41:46</td>\n",
       "    </tr>\n",
       "    <tr>\n",
       "      <th>20411</th>\n",
       "      <td>20411</td>\n",
       "      <td>Y-vxPbvPKcaLiYa9ZBXoDg</td>\n",
       "      <td>McDonald's</td>\n",
       "      <td>Pittsburgh</td>\n",
       "      <td>PA</td>\n",
       "      <td>40.440433</td>\n",
       "      <td>-79.998637</td>\n",
       "      <td>1.5</td>\n",
       "      <td>24</td>\n",
       "      <td>0</td>\n",
       "      <td>LzdrF4eXPd2WBsRMiIsq9g</td>\n",
       "      <td>A7RdEBXQors5AHkqB_Pvyg</td>\n",
       "      <td>1.0</td>\n",
       "      <td>0</td>\n",
       "      <td>0</td>\n",
       "      <td>0</td>\n",
       "      <td>TRASH! THIS IS THE MOST GHETTO MCDONALDS I HAV...</td>\n",
       "      <td>2019-08-28 19:48:41</td>\n",
       "    </tr>\n",
       "    <tr>\n",
       "      <th>20412</th>\n",
       "      <td>20412</td>\n",
       "      <td>Y-vxPbvPKcaLiYa9ZBXoDg</td>\n",
       "      <td>McDonald's</td>\n",
       "      <td>Pittsburgh</td>\n",
       "      <td>PA</td>\n",
       "      <td>40.440433</td>\n",
       "      <td>-79.998637</td>\n",
       "      <td>1.5</td>\n",
       "      <td>24</td>\n",
       "      <td>0</td>\n",
       "      <td>ook6VM1plpH2vzcE48ALaQ</td>\n",
       "      <td>ZxoeMWiQL_H0jfgAms7dWw</td>\n",
       "      <td>2.0</td>\n",
       "      <td>1</td>\n",
       "      <td>0</td>\n",
       "      <td>0</td>\n",
       "      <td>Went to this McDonald's because it was the clo...</td>\n",
       "      <td>2018-09-29 19:58:45</td>\n",
       "    </tr>\n",
       "    <tr>\n",
       "      <th>20413</th>\n",
       "      <td>20413</td>\n",
       "      <td>Y-vxPbvPKcaLiYa9ZBXoDg</td>\n",
       "      <td>McDonald's</td>\n",
       "      <td>Pittsburgh</td>\n",
       "      <td>PA</td>\n",
       "      <td>40.440433</td>\n",
       "      <td>-79.998637</td>\n",
       "      <td>1.5</td>\n",
       "      <td>24</td>\n",
       "      <td>0</td>\n",
       "      <td>bolC7trEzSNbMBBKrN2sKA</td>\n",
       "      <td>lE-YFRQoyVEdgKzFCxIkkw</td>\n",
       "      <td>1.0</td>\n",
       "      <td>0</td>\n",
       "      <td>0</td>\n",
       "      <td>0</td>\n",
       "      <td>This place is absolutely filthy and scary.  Al...</td>\n",
       "      <td>2019-07-06 23:01:03</td>\n",
       "    </tr>\n",
       "  </tbody>\n",
       "</table>\n",
       "<p>20414 rows × 18 columns</p>\n",
       "</div>"
      ],
      "text/plain": [
       "       Unnamed: 0             business_id        name           city state  \\\n",
       "0               0  CfwrsG76Wm4iLS22v_wAcg  McDonald's  Parma Heights    OH   \n",
       "1               1  CfwrsG76Wm4iLS22v_wAcg  McDonald's  Parma Heights    OH   \n",
       "2               2  CfwrsG76Wm4iLS22v_wAcg  McDonald's  Parma Heights    OH   \n",
       "3               3  CfwrsG76Wm4iLS22v_wAcg  McDonald's  Parma Heights    OH   \n",
       "4               4  CfwrsG76Wm4iLS22v_wAcg  McDonald's  Parma Heights    OH   \n",
       "...           ...                     ...         ...            ...   ...   \n",
       "20409       20409  Y-vxPbvPKcaLiYa9ZBXoDg  McDonald's     Pittsburgh    PA   \n",
       "20410       20410  Y-vxPbvPKcaLiYa9ZBXoDg  McDonald's     Pittsburgh    PA   \n",
       "20411       20411  Y-vxPbvPKcaLiYa9ZBXoDg  McDonald's     Pittsburgh    PA   \n",
       "20412       20412  Y-vxPbvPKcaLiYa9ZBXoDg  McDonald's     Pittsburgh    PA   \n",
       "20413       20413  Y-vxPbvPKcaLiYa9ZBXoDg  McDonald's     Pittsburgh    PA   \n",
       "\n",
       "        latitude  longitude  stars_x  review_count  is_open  \\\n",
       "0      41.385949 -81.768113      2.5            15        1   \n",
       "1      41.385949 -81.768113      2.5            15        1   \n",
       "2      41.385949 -81.768113      2.5            15        1   \n",
       "3      41.385949 -81.768113      2.5            15        1   \n",
       "4      41.385949 -81.768113      2.5            15        1   \n",
       "...          ...        ...      ...           ...      ...   \n",
       "20409  40.440433 -79.998637      1.5            24        0   \n",
       "20410  40.440433 -79.998637      1.5            24        0   \n",
       "20411  40.440433 -79.998637      1.5            24        0   \n",
       "20412  40.440433 -79.998637      1.5            24        0   \n",
       "20413  40.440433 -79.998637      1.5            24        0   \n",
       "\n",
       "                    review_id                 user_id  stars_y  useful  funny  \\\n",
       "0      Jop9vLXGgLY5wccfxh08hg  VULFcmvS5-zp1wt-aokPwA      1.0       0      0   \n",
       "1      14nFvaihx4rwTAETm9BJEA  83zQAHCvZGYgm8bjQoJ5wg      3.0       0      0   \n",
       "2      E8GI0Dkub-QHg1g0_4OiBg  wd02D3NPbIZWr67qfrDldw      1.0       2      1   \n",
       "3      iwXKXdm2Vgi8qT2JKAbkBQ  PJ6LYU0111nU6ybRktbdpQ      5.0       0      0   \n",
       "4      MSyd64ek4d8K0-4uaxmfFQ  ofsfbDuMRXZm1NPfudAM2Q      3.0       1      0   \n",
       "...                       ...                     ...      ...     ...    ...   \n",
       "20409  tAWhScy5SG7xGvE9-UUSaQ  pkR7g3ZjJXKyRjCwo8OuLg      1.0       1      0   \n",
       "20410  5hLs5P-R4kqcIRd7A-XNVg  550PQtrBHqSUjafvzVzEsQ      2.0       2      1   \n",
       "20411  LzdrF4eXPd2WBsRMiIsq9g  A7RdEBXQors5AHkqB_Pvyg      1.0       0      0   \n",
       "20412  ook6VM1plpH2vzcE48ALaQ  ZxoeMWiQL_H0jfgAms7dWw      2.0       1      0   \n",
       "20413  bolC7trEzSNbMBBKrN2sKA  lE-YFRQoyVEdgKzFCxIkkw      1.0       0      0   \n",
       "\n",
       "       cool                                               text  \\\n",
       "0         0  Try cleaning your play area once in a while. I...   \n",
       "1         0  It is what it is, a McDonalds.  You get what y...   \n",
       "2         0  Not one of the better McDonald's,  I'm not usu...   \n",
       "3         0  We barely waited in the fast food line, and th...   \n",
       "4         0  The only reason they get three stars is becaus...   \n",
       "...     ...                                                ...   \n",
       "20409     0  This location is actually closed. Was always u...   \n",
       "20410     1  The egg in the egg McGriddle was very dry, but...   \n",
       "20411     0  TRASH! THIS IS THE MOST GHETTO MCDONALDS I HAV...   \n",
       "20412     0  Went to this McDonald's because it was the clo...   \n",
       "20413     0  This place is absolutely filthy and scary.  Al...   \n",
       "\n",
       "                      date  \n",
       "0      2016-02-13 22:57:36  \n",
       "1      2014-08-02 16:19:00  \n",
       "2      2016-02-06 00:55:30  \n",
       "3      2017-11-29 02:26:24  \n",
       "4      2018-04-22 18:22:53  \n",
       "...                    ...  \n",
       "20409  2019-09-29 17:39:23  \n",
       "20410  2018-04-21 17:41:46  \n",
       "20411  2019-08-28 19:48:41  \n",
       "20412  2018-09-29 19:58:45  \n",
       "20413  2019-07-06 23:01:03  \n",
       "\n",
       "[20414 rows x 18 columns]"
      ]
     },
     "execution_count": 32,
     "metadata": {},
     "output_type": "execute_result"
    }
   ],
   "source": [
    "df_final"
   ]
  },
  {
   "cell_type": "code",
   "execution_count": null,
   "metadata": {},
   "outputs": [],
   "source": []
  },
  {
   "cell_type": "code",
   "execution_count": 90,
   "metadata": {
    "execution": {
     "iopub.execute_input": "2020-08-26T20:59:24.581209Z",
     "iopub.status.busy": "2020-08-26T20:59:24.580213Z",
     "iopub.status.idle": "2020-08-26T20:59:24.588412Z",
     "shell.execute_reply": "2020-08-26T20:59:24.587214Z",
     "shell.execute_reply.started": "2020-08-26T20:59:24.581151Z"
    }
   },
   "outputs": [
    {
     "data": {
      "text/plain": [
       "(5732, 18)"
      ]
     },
     "execution_count": 90,
     "metadata": {},
     "output_type": "execute_result"
    }
   ],
   "source": [
    "foods.shape"
   ]
  },
  {
   "cell_type": "code",
   "execution_count": 34,
   "metadata": {
    "execution": {
     "iopub.execute_input": "2020-08-27T16:34:56.689292Z",
     "iopub.status.busy": "2020-08-27T16:34:56.689047Z",
     "iopub.status.idle": "2020-08-27T16:34:57.525143Z",
     "shell.execute_reply": "2020-08-27T16:34:57.521656Z",
     "shell.execute_reply.started": "2020-08-27T16:34:56.689264Z"
    }
   },
   "outputs": [
    {
     "name": "stdout",
     "output_type": "stream",
     "text": [
      "The number of rows that contain 'mcnugget' is:  42\n",
      "The number of rows that contain 'nugget' is:  926\n",
      "The number of rows that contain 'coke' is:  249\n",
      "The number of rows that contain 'soda' is:  475\n",
      "The number of rows that contain 'mcflurry' is:  52\n",
      "The number of rows that contain 'fries' is:  2506\n",
      "The number of rows that contain 'french fries' is:  133\n",
      "The number of rows that contain 'big mac' is:  109\n",
      "The number of rows that contain 'burger' is:  2147\n",
      "The number of rows that contain 'mcmuffin' is:  226\n",
      "The number of rows that contain 'happy meal' is:  403\n",
      "The number of rows that contain 'sauce' is:  883\n",
      "The number of rows that contain 'ketchup' is:  520\n",
      "The number of rows that contain 'quarterpound' is:  1\n",
      "The number of rows that contain 'apple pie' is:  193\n",
      "The number of rows that contain 'salad' is:  211\n",
      "The number of rows that contain 'griddle' is:  71\n",
      "The number of rows that contain 'mcgriddle' is:  53\n",
      "The number of rows that contain 'coffee' is:  1609\n",
      "The number of rows that contain 'snack wrap' is:  37\n",
      "The number of rows that contain 'cheese' is:  1297\n",
      "The number of rows that contain 'cheeseburger' is:  515\n",
      "The number of rows that contain 'chicken' is:  1112\n",
      "The number of rows that contain 'beef' is:  115\n",
      "The number of rows that contain 'sandwich' is:  1225\n"
     ]
    }
   ],
   "source": [
    "food_names = []\n",
    "food_counts = []\n",
    "\n",
    "\n",
    "for food in food_list:\n",
    "    food_word = df_final[df_final['text'].str.contains(food)]\n",
    "#     food_rank = []\n",
    "#     food_rank.append(food)\n",
    "    print('The number of rows that contain', \"'\"+food+\"'\", \"is: \", food_word.shape[0])\n",
    "    food_names.append(food)\n",
    "    food_counts.append(food_word.shape[0])"
   ]
  },
  {
   "cell_type": "code",
   "execution_count": 35,
   "metadata": {
    "execution": {
     "iopub.execute_input": "2020-08-27T16:34:58.886655Z",
     "iopub.status.busy": "2020-08-27T16:34:58.886234Z",
     "iopub.status.idle": "2020-08-27T16:34:58.903207Z",
     "shell.execute_reply": "2020-08-27T16:34:58.901919Z",
     "shell.execute_reply.started": "2020-08-27T16:34:58.886605Z"
    }
   },
   "outputs": [],
   "source": [
    "df_food = pd.DataFrame({\"food_names\":food_names, \"food_counts\":food_counts})\n",
    "    "
   ]
  },
  {
   "cell_type": "code",
   "execution_count": 36,
   "metadata": {
    "execution": {
     "iopub.execute_input": "2020-08-27T16:35:02.547671Z",
     "iopub.status.busy": "2020-08-27T16:35:02.547420Z",
     "iopub.status.idle": "2020-08-27T16:35:02.563836Z",
     "shell.execute_reply": "2020-08-27T16:35:02.562609Z",
     "shell.execute_reply.started": "2020-08-27T16:35:02.547643Z"
    }
   },
   "outputs": [
    {
     "data": {
      "text/html": [
       "<div>\n",
       "<style scoped>\n",
       "    .dataframe tbody tr th:only-of-type {\n",
       "        vertical-align: middle;\n",
       "    }\n",
       "\n",
       "    .dataframe tbody tr th {\n",
       "        vertical-align: top;\n",
       "    }\n",
       "\n",
       "    .dataframe thead th {\n",
       "        text-align: right;\n",
       "    }\n",
       "</style>\n",
       "<table border=\"1\" class=\"dataframe\">\n",
       "  <thead>\n",
       "    <tr style=\"text-align: right;\">\n",
       "      <th></th>\n",
       "      <th>food_names</th>\n",
       "      <th>food_counts</th>\n",
       "    </tr>\n",
       "  </thead>\n",
       "  <tbody>\n",
       "    <tr>\n",
       "      <th>0</th>\n",
       "      <td>mcnugget</td>\n",
       "      <td>42</td>\n",
       "    </tr>\n",
       "    <tr>\n",
       "      <th>1</th>\n",
       "      <td>nugget</td>\n",
       "      <td>926</td>\n",
       "    </tr>\n",
       "    <tr>\n",
       "      <th>2</th>\n",
       "      <td>coke</td>\n",
       "      <td>249</td>\n",
       "    </tr>\n",
       "    <tr>\n",
       "      <th>3</th>\n",
       "      <td>soda</td>\n",
       "      <td>475</td>\n",
       "    </tr>\n",
       "    <tr>\n",
       "      <th>4</th>\n",
       "      <td>mcflurry</td>\n",
       "      <td>52</td>\n",
       "    </tr>\n",
       "    <tr>\n",
       "      <th>5</th>\n",
       "      <td>fries</td>\n",
       "      <td>2506</td>\n",
       "    </tr>\n",
       "    <tr>\n",
       "      <th>6</th>\n",
       "      <td>french fries</td>\n",
       "      <td>133</td>\n",
       "    </tr>\n",
       "    <tr>\n",
       "      <th>7</th>\n",
       "      <td>big mac</td>\n",
       "      <td>109</td>\n",
       "    </tr>\n",
       "    <tr>\n",
       "      <th>8</th>\n",
       "      <td>burger</td>\n",
       "      <td>2147</td>\n",
       "    </tr>\n",
       "    <tr>\n",
       "      <th>9</th>\n",
       "      <td>mcmuffin</td>\n",
       "      <td>226</td>\n",
       "    </tr>\n",
       "    <tr>\n",
       "      <th>10</th>\n",
       "      <td>happy meal</td>\n",
       "      <td>403</td>\n",
       "    </tr>\n",
       "    <tr>\n",
       "      <th>11</th>\n",
       "      <td>sauce</td>\n",
       "      <td>883</td>\n",
       "    </tr>\n",
       "    <tr>\n",
       "      <th>12</th>\n",
       "      <td>ketchup</td>\n",
       "      <td>520</td>\n",
       "    </tr>\n",
       "    <tr>\n",
       "      <th>13</th>\n",
       "      <td>quarterpound</td>\n",
       "      <td>1</td>\n",
       "    </tr>\n",
       "    <tr>\n",
       "      <th>14</th>\n",
       "      <td>apple pie</td>\n",
       "      <td>193</td>\n",
       "    </tr>\n",
       "    <tr>\n",
       "      <th>15</th>\n",
       "      <td>salad</td>\n",
       "      <td>211</td>\n",
       "    </tr>\n",
       "    <tr>\n",
       "      <th>16</th>\n",
       "      <td>griddle</td>\n",
       "      <td>71</td>\n",
       "    </tr>\n",
       "    <tr>\n",
       "      <th>17</th>\n",
       "      <td>mcgriddle</td>\n",
       "      <td>53</td>\n",
       "    </tr>\n",
       "    <tr>\n",
       "      <th>18</th>\n",
       "      <td>coffee</td>\n",
       "      <td>1609</td>\n",
       "    </tr>\n",
       "    <tr>\n",
       "      <th>19</th>\n",
       "      <td>snack wrap</td>\n",
       "      <td>37</td>\n",
       "    </tr>\n",
       "    <tr>\n",
       "      <th>20</th>\n",
       "      <td>cheese</td>\n",
       "      <td>1297</td>\n",
       "    </tr>\n",
       "    <tr>\n",
       "      <th>21</th>\n",
       "      <td>cheeseburger</td>\n",
       "      <td>515</td>\n",
       "    </tr>\n",
       "    <tr>\n",
       "      <th>22</th>\n",
       "      <td>chicken</td>\n",
       "      <td>1112</td>\n",
       "    </tr>\n",
       "    <tr>\n",
       "      <th>23</th>\n",
       "      <td>beef</td>\n",
       "      <td>115</td>\n",
       "    </tr>\n",
       "    <tr>\n",
       "      <th>24</th>\n",
       "      <td>sandwich</td>\n",
       "      <td>1225</td>\n",
       "    </tr>\n",
       "  </tbody>\n",
       "</table>\n",
       "</div>"
      ],
      "text/plain": [
       "      food_names  food_counts\n",
       "0       mcnugget           42\n",
       "1         nugget          926\n",
       "2           coke          249\n",
       "3           soda          475\n",
       "4       mcflurry           52\n",
       "5          fries         2506\n",
       "6   french fries          133\n",
       "7        big mac          109\n",
       "8         burger         2147\n",
       "9       mcmuffin          226\n",
       "10    happy meal          403\n",
       "11         sauce          883\n",
       "12       ketchup          520\n",
       "13  quarterpound            1\n",
       "14     apple pie          193\n",
       "15         salad          211\n",
       "16       griddle           71\n",
       "17     mcgriddle           53\n",
       "18        coffee         1609\n",
       "19    snack wrap           37\n",
       "20        cheese         1297\n",
       "21  cheeseburger          515\n",
       "22       chicken         1112\n",
       "23          beef          115\n",
       "24      sandwich         1225"
      ]
     },
     "execution_count": 36,
     "metadata": {},
     "output_type": "execute_result"
    }
   ],
   "source": [
    "df_food"
   ]
  },
  {
   "cell_type": "code",
   "execution_count": null,
   "metadata": {},
   "outputs": [],
   "source": []
  },
  {
   "cell_type": "code",
   "execution_count": null,
   "metadata": {},
   "outputs": [],
   "source": []
  },
  {
   "cell_type": "markdown",
   "metadata": {},
   "source": [
    "## By Time"
   ]
  },
  {
   "cell_type": "code",
   "execution_count": 30,
   "metadata": {
    "execution": {
     "iopub.execute_input": "2020-08-27T16:20:45.301566Z",
     "iopub.status.busy": "2020-08-27T16:20:45.301169Z",
     "iopub.status.idle": "2020-08-27T16:20:45.306851Z",
     "shell.execute_reply": "2020-08-27T16:20:45.305825Z",
     "shell.execute_reply.started": "2020-08-27T16:20:45.301510Z"
    }
   },
   "outputs": [
    {
     "data": {
      "text/plain": [
       "8"
      ]
     },
     "execution_count": 30,
     "metadata": {},
     "output_type": "execute_result"
    }
   ],
   "source": [
    "# Find reviews that contain ANY of the list of time words\n",
    "time_list = ['breakfast', 'lunch', 'dinner', 'brunch', 'evening', 'morning', 'noon', 'afternoon' ]\n",
    "len(time_list)"
   ]
  },
  {
   "cell_type": "code",
   "execution_count": 31,
   "metadata": {
    "execution": {
     "iopub.execute_input": "2020-08-27T16:20:47.198925Z",
     "iopub.status.busy": "2020-08-27T16:20:47.198610Z",
     "iopub.status.idle": "2020-08-27T16:20:47.408317Z",
     "shell.execute_reply": "2020-08-27T16:20:47.407622Z",
     "shell.execute_reply.started": "2020-08-27T16:20:47.198890Z"
    }
   },
   "outputs": [
    {
     "name": "stdout",
     "output_type": "stream",
     "text": [
      "The number of rows that contain 'breakfast' is:  1390\n",
      "The number of rows that contain 'lunch' is:  701\n",
      "The number of rows that contain 'dinner' is:  247\n",
      "The number of rows that contain 'brunch' is:  6\n",
      "The number of rows that contain 'evening' is:  184\n",
      "The number of rows that contain 'morning' is:  1106\n",
      "The number of rows that contain 'noon' is:  198\n",
      "The number of rows that contain 'afternoon' is:  157\n"
     ]
    }
   ],
   "source": [
    "for time in time_list:\n",
    "    time_word = df_final[df_final['text'].str.contains(time)]\n",
    "    print('The number of rows that contain', \"'\"+time+\"'\", \"is: \", time_word.shape[0])\n"
   ]
  },
  {
   "cell_type": "code",
   "execution_count": 91,
   "metadata": {
    "execution": {
     "iopub.execute_input": "2020-08-26T21:00:32.446921Z",
     "iopub.status.busy": "2020-08-26T21:00:32.446632Z",
     "iopub.status.idle": "2020-08-26T21:00:32.452936Z",
     "shell.execute_reply": "2020-08-26T21:00:32.451756Z",
     "shell.execute_reply.started": "2020-08-26T21:00:32.446888Z"
    }
   },
   "outputs": [
    {
     "data": {
      "text/plain": [
       "(20414, 18)"
      ]
     },
     "execution_count": 91,
     "metadata": {},
     "output_type": "execute_result"
    }
   ],
   "source": [
    "df_final.shape"
   ]
  },
  {
   "cell_type": "markdown",
   "metadata": {},
   "source": [
    "## By Emotion"
   ]
  },
  {
   "cell_type": "code",
   "execution_count": null,
   "metadata": {},
   "outputs": [],
   "source": [
    "# Find reviews that contain ANY of the list of emotion words\n",
    "emotion_list = ['happy', 'sad', 'excite', 'love', 'angry', 'disgust', 'fear', 'lonely', 'jealous', 'envy', 'joy', 'surprise', 'hate', 'nice']\n",
    "len(emotion_list)"
   ]
  },
  {
   "cell_type": "code",
   "execution_count": null,
   "metadata": {},
   "outputs": [],
   "source": [
    "for emotion in emotion_list:\n",
    "    time_word = df_final[df_final['text'].str.contains(time)]\n",
    "    print('The number of rows that contain', \"'\"+time+\"'\", \"is: \", time_word.shape[0])\n"
   ]
  },
  {
   "cell_type": "code",
   "execution_count": null,
   "metadata": {},
   "outputs": [],
   "source": []
  },
  {
   "cell_type": "markdown",
   "metadata": {},
   "source": [
    "### By People"
   ]
  },
  {
   "cell_type": "code",
   "execution_count": null,
   "metadata": {},
   "outputs": [],
   "source": [
    "# Find reviews that contain ANY of the list of people words\n",
    "people_list = ['friend'\n",
    "len(people_list)"
   ]
  },
  {
   "cell_type": "code",
   "execution_count": null,
   "metadata": {},
   "outputs": [],
   "source": [
    "for people in people_list:\n",
    "    people_word = df_final[df_final['text'].str.contains(people)]\n",
    "    print('The number of rows that contain', \"'\"+people+\"'\", \"is: \", people_word.shape[0])\n"
   ]
  },
  {
   "cell_type": "code",
   "execution_count": 37,
   "metadata": {
    "execution": {
     "iopub.execute_input": "2020-08-27T21:43:29.902141Z",
     "iopub.status.busy": "2020-08-27T21:43:29.896042Z",
     "iopub.status.idle": "2020-08-27T21:43:29.991217Z",
     "shell.execute_reply": "2020-08-27T21:43:29.990212Z",
     "shell.execute_reply.started": "2020-08-27T21:43:29.902020Z"
    }
   },
   "outputs": [
    {
     "data": {
      "text/html": [
       "<div>\n",
       "<style scoped>\n",
       "    .dataframe tbody tr th:only-of-type {\n",
       "        vertical-align: middle;\n",
       "    }\n",
       "\n",
       "    .dataframe tbody tr th {\n",
       "        vertical-align: top;\n",
       "    }\n",
       "\n",
       "    .dataframe thead th {\n",
       "        text-align: right;\n",
       "    }\n",
       "</style>\n",
       "<table border=\"1\" class=\"dataframe\">\n",
       "  <thead>\n",
       "    <tr style=\"text-align: right;\">\n",
       "      <th></th>\n",
       "      <th>Unnamed: 0</th>\n",
       "      <th>business_id</th>\n",
       "      <th>name</th>\n",
       "      <th>city</th>\n",
       "      <th>state</th>\n",
       "      <th>latitude</th>\n",
       "      <th>longitude</th>\n",
       "      <th>stars_x</th>\n",
       "      <th>review_count</th>\n",
       "      <th>is_open</th>\n",
       "      <th>review_id</th>\n",
       "      <th>user_id</th>\n",
       "      <th>stars_y</th>\n",
       "      <th>useful</th>\n",
       "      <th>funny</th>\n",
       "      <th>cool</th>\n",
       "      <th>text</th>\n",
       "      <th>date</th>\n",
       "    </tr>\n",
       "  </thead>\n",
       "  <tbody>\n",
       "    <tr>\n",
       "      <th>0</th>\n",
       "      <td>0</td>\n",
       "      <td>CfwrsG76Wm4iLS22v_wAcg</td>\n",
       "      <td>McDonald's</td>\n",
       "      <td>Parma Heights</td>\n",
       "      <td>OH</td>\n",
       "      <td>41.385949</td>\n",
       "      <td>-81.768113</td>\n",
       "      <td>2.5</td>\n",
       "      <td>15</td>\n",
       "      <td>1</td>\n",
       "      <td>Jop9vLXGgLY5wccfxh08hg</td>\n",
       "      <td>VULFcmvS5-zp1wt-aokPwA</td>\n",
       "      <td>1.0</td>\n",
       "      <td>0</td>\n",
       "      <td>0</td>\n",
       "      <td>0</td>\n",
       "      <td>Try cleaning your play area once in a while. I...</td>\n",
       "      <td>2016-02-13 22:57:36</td>\n",
       "    </tr>\n",
       "    <tr>\n",
       "      <th>1</th>\n",
       "      <td>1</td>\n",
       "      <td>CfwrsG76Wm4iLS22v_wAcg</td>\n",
       "      <td>McDonald's</td>\n",
       "      <td>Parma Heights</td>\n",
       "      <td>OH</td>\n",
       "      <td>41.385949</td>\n",
       "      <td>-81.768113</td>\n",
       "      <td>2.5</td>\n",
       "      <td>15</td>\n",
       "      <td>1</td>\n",
       "      <td>14nFvaihx4rwTAETm9BJEA</td>\n",
       "      <td>83zQAHCvZGYgm8bjQoJ5wg</td>\n",
       "      <td>3.0</td>\n",
       "      <td>0</td>\n",
       "      <td>0</td>\n",
       "      <td>0</td>\n",
       "      <td>It is what it is, a McDonalds.  You get what y...</td>\n",
       "      <td>2014-08-02 16:19:00</td>\n",
       "    </tr>\n",
       "    <tr>\n",
       "      <th>2</th>\n",
       "      <td>2</td>\n",
       "      <td>CfwrsG76Wm4iLS22v_wAcg</td>\n",
       "      <td>McDonald's</td>\n",
       "      <td>Parma Heights</td>\n",
       "      <td>OH</td>\n",
       "      <td>41.385949</td>\n",
       "      <td>-81.768113</td>\n",
       "      <td>2.5</td>\n",
       "      <td>15</td>\n",
       "      <td>1</td>\n",
       "      <td>E8GI0Dkub-QHg1g0_4OiBg</td>\n",
       "      <td>wd02D3NPbIZWr67qfrDldw</td>\n",
       "      <td>1.0</td>\n",
       "      <td>2</td>\n",
       "      <td>1</td>\n",
       "      <td>0</td>\n",
       "      <td>Not one of the better McDonald's,  I'm not usu...</td>\n",
       "      <td>2016-02-06 00:55:30</td>\n",
       "    </tr>\n",
       "    <tr>\n",
       "      <th>3</th>\n",
       "      <td>3</td>\n",
       "      <td>CfwrsG76Wm4iLS22v_wAcg</td>\n",
       "      <td>McDonald's</td>\n",
       "      <td>Parma Heights</td>\n",
       "      <td>OH</td>\n",
       "      <td>41.385949</td>\n",
       "      <td>-81.768113</td>\n",
       "      <td>2.5</td>\n",
       "      <td>15</td>\n",
       "      <td>1</td>\n",
       "      <td>iwXKXdm2Vgi8qT2JKAbkBQ</td>\n",
       "      <td>PJ6LYU0111nU6ybRktbdpQ</td>\n",
       "      <td>5.0</td>\n",
       "      <td>0</td>\n",
       "      <td>0</td>\n",
       "      <td>0</td>\n",
       "      <td>We barely waited in the fast food line, and th...</td>\n",
       "      <td>2017-11-29 02:26:24</td>\n",
       "    </tr>\n",
       "    <tr>\n",
       "      <th>4</th>\n",
       "      <td>4</td>\n",
       "      <td>CfwrsG76Wm4iLS22v_wAcg</td>\n",
       "      <td>McDonald's</td>\n",
       "      <td>Parma Heights</td>\n",
       "      <td>OH</td>\n",
       "      <td>41.385949</td>\n",
       "      <td>-81.768113</td>\n",
       "      <td>2.5</td>\n",
       "      <td>15</td>\n",
       "      <td>1</td>\n",
       "      <td>MSyd64ek4d8K0-4uaxmfFQ</td>\n",
       "      <td>ofsfbDuMRXZm1NPfudAM2Q</td>\n",
       "      <td>3.0</td>\n",
       "      <td>1</td>\n",
       "      <td>0</td>\n",
       "      <td>0</td>\n",
       "      <td>The only reason they get three stars is becaus...</td>\n",
       "      <td>2018-04-22 18:22:53</td>\n",
       "    </tr>\n",
       "    <tr>\n",
       "      <th>...</th>\n",
       "      <td>...</td>\n",
       "      <td>...</td>\n",
       "      <td>...</td>\n",
       "      <td>...</td>\n",
       "      <td>...</td>\n",
       "      <td>...</td>\n",
       "      <td>...</td>\n",
       "      <td>...</td>\n",
       "      <td>...</td>\n",
       "      <td>...</td>\n",
       "      <td>...</td>\n",
       "      <td>...</td>\n",
       "      <td>...</td>\n",
       "      <td>...</td>\n",
       "      <td>...</td>\n",
       "      <td>...</td>\n",
       "      <td>...</td>\n",
       "      <td>...</td>\n",
       "    </tr>\n",
       "    <tr>\n",
       "      <th>20409</th>\n",
       "      <td>20409</td>\n",
       "      <td>Y-vxPbvPKcaLiYa9ZBXoDg</td>\n",
       "      <td>McDonald's</td>\n",
       "      <td>Pittsburgh</td>\n",
       "      <td>PA</td>\n",
       "      <td>40.440433</td>\n",
       "      <td>-79.998637</td>\n",
       "      <td>1.5</td>\n",
       "      <td>24</td>\n",
       "      <td>0</td>\n",
       "      <td>tAWhScy5SG7xGvE9-UUSaQ</td>\n",
       "      <td>pkR7g3ZjJXKyRjCwo8OuLg</td>\n",
       "      <td>1.0</td>\n",
       "      <td>1</td>\n",
       "      <td>0</td>\n",
       "      <td>0</td>\n",
       "      <td>This location is actually closed. Was always u...</td>\n",
       "      <td>2019-09-29 17:39:23</td>\n",
       "    </tr>\n",
       "    <tr>\n",
       "      <th>20410</th>\n",
       "      <td>20410</td>\n",
       "      <td>Y-vxPbvPKcaLiYa9ZBXoDg</td>\n",
       "      <td>McDonald's</td>\n",
       "      <td>Pittsburgh</td>\n",
       "      <td>PA</td>\n",
       "      <td>40.440433</td>\n",
       "      <td>-79.998637</td>\n",
       "      <td>1.5</td>\n",
       "      <td>24</td>\n",
       "      <td>0</td>\n",
       "      <td>5hLs5P-R4kqcIRd7A-XNVg</td>\n",
       "      <td>550PQtrBHqSUjafvzVzEsQ</td>\n",
       "      <td>2.0</td>\n",
       "      <td>2</td>\n",
       "      <td>1</td>\n",
       "      <td>1</td>\n",
       "      <td>The egg in the egg McGriddle was very dry, but...</td>\n",
       "      <td>2018-04-21 17:41:46</td>\n",
       "    </tr>\n",
       "    <tr>\n",
       "      <th>20411</th>\n",
       "      <td>20411</td>\n",
       "      <td>Y-vxPbvPKcaLiYa9ZBXoDg</td>\n",
       "      <td>McDonald's</td>\n",
       "      <td>Pittsburgh</td>\n",
       "      <td>PA</td>\n",
       "      <td>40.440433</td>\n",
       "      <td>-79.998637</td>\n",
       "      <td>1.5</td>\n",
       "      <td>24</td>\n",
       "      <td>0</td>\n",
       "      <td>LzdrF4eXPd2WBsRMiIsq9g</td>\n",
       "      <td>A7RdEBXQors5AHkqB_Pvyg</td>\n",
       "      <td>1.0</td>\n",
       "      <td>0</td>\n",
       "      <td>0</td>\n",
       "      <td>0</td>\n",
       "      <td>TRASH! THIS IS THE MOST GHETTO MCDONALDS I HAV...</td>\n",
       "      <td>2019-08-28 19:48:41</td>\n",
       "    </tr>\n",
       "    <tr>\n",
       "      <th>20412</th>\n",
       "      <td>20412</td>\n",
       "      <td>Y-vxPbvPKcaLiYa9ZBXoDg</td>\n",
       "      <td>McDonald's</td>\n",
       "      <td>Pittsburgh</td>\n",
       "      <td>PA</td>\n",
       "      <td>40.440433</td>\n",
       "      <td>-79.998637</td>\n",
       "      <td>1.5</td>\n",
       "      <td>24</td>\n",
       "      <td>0</td>\n",
       "      <td>ook6VM1plpH2vzcE48ALaQ</td>\n",
       "      <td>ZxoeMWiQL_H0jfgAms7dWw</td>\n",
       "      <td>2.0</td>\n",
       "      <td>1</td>\n",
       "      <td>0</td>\n",
       "      <td>0</td>\n",
       "      <td>Went to this McDonald's because it was the clo...</td>\n",
       "      <td>2018-09-29 19:58:45</td>\n",
       "    </tr>\n",
       "    <tr>\n",
       "      <th>20413</th>\n",
       "      <td>20413</td>\n",
       "      <td>Y-vxPbvPKcaLiYa9ZBXoDg</td>\n",
       "      <td>McDonald's</td>\n",
       "      <td>Pittsburgh</td>\n",
       "      <td>PA</td>\n",
       "      <td>40.440433</td>\n",
       "      <td>-79.998637</td>\n",
       "      <td>1.5</td>\n",
       "      <td>24</td>\n",
       "      <td>0</td>\n",
       "      <td>bolC7trEzSNbMBBKrN2sKA</td>\n",
       "      <td>lE-YFRQoyVEdgKzFCxIkkw</td>\n",
       "      <td>1.0</td>\n",
       "      <td>0</td>\n",
       "      <td>0</td>\n",
       "      <td>0</td>\n",
       "      <td>This place is absolutely filthy and scary.  Al...</td>\n",
       "      <td>2019-07-06 23:01:03</td>\n",
       "    </tr>\n",
       "  </tbody>\n",
       "</table>\n",
       "<p>20414 rows × 18 columns</p>\n",
       "</div>"
      ],
      "text/plain": [
       "       Unnamed: 0             business_id        name           city state  \\\n",
       "0               0  CfwrsG76Wm4iLS22v_wAcg  McDonald's  Parma Heights    OH   \n",
       "1               1  CfwrsG76Wm4iLS22v_wAcg  McDonald's  Parma Heights    OH   \n",
       "2               2  CfwrsG76Wm4iLS22v_wAcg  McDonald's  Parma Heights    OH   \n",
       "3               3  CfwrsG76Wm4iLS22v_wAcg  McDonald's  Parma Heights    OH   \n",
       "4               4  CfwrsG76Wm4iLS22v_wAcg  McDonald's  Parma Heights    OH   \n",
       "...           ...                     ...         ...            ...   ...   \n",
       "20409       20409  Y-vxPbvPKcaLiYa9ZBXoDg  McDonald's     Pittsburgh    PA   \n",
       "20410       20410  Y-vxPbvPKcaLiYa9ZBXoDg  McDonald's     Pittsburgh    PA   \n",
       "20411       20411  Y-vxPbvPKcaLiYa9ZBXoDg  McDonald's     Pittsburgh    PA   \n",
       "20412       20412  Y-vxPbvPKcaLiYa9ZBXoDg  McDonald's     Pittsburgh    PA   \n",
       "20413       20413  Y-vxPbvPKcaLiYa9ZBXoDg  McDonald's     Pittsburgh    PA   \n",
       "\n",
       "        latitude  longitude  stars_x  review_count  is_open  \\\n",
       "0      41.385949 -81.768113      2.5            15        1   \n",
       "1      41.385949 -81.768113      2.5            15        1   \n",
       "2      41.385949 -81.768113      2.5            15        1   \n",
       "3      41.385949 -81.768113      2.5            15        1   \n",
       "4      41.385949 -81.768113      2.5            15        1   \n",
       "...          ...        ...      ...           ...      ...   \n",
       "20409  40.440433 -79.998637      1.5            24        0   \n",
       "20410  40.440433 -79.998637      1.5            24        0   \n",
       "20411  40.440433 -79.998637      1.5            24        0   \n",
       "20412  40.440433 -79.998637      1.5            24        0   \n",
       "20413  40.440433 -79.998637      1.5            24        0   \n",
       "\n",
       "                    review_id                 user_id  stars_y  useful  funny  \\\n",
       "0      Jop9vLXGgLY5wccfxh08hg  VULFcmvS5-zp1wt-aokPwA      1.0       0      0   \n",
       "1      14nFvaihx4rwTAETm9BJEA  83zQAHCvZGYgm8bjQoJ5wg      3.0       0      0   \n",
       "2      E8GI0Dkub-QHg1g0_4OiBg  wd02D3NPbIZWr67qfrDldw      1.0       2      1   \n",
       "3      iwXKXdm2Vgi8qT2JKAbkBQ  PJ6LYU0111nU6ybRktbdpQ      5.0       0      0   \n",
       "4      MSyd64ek4d8K0-4uaxmfFQ  ofsfbDuMRXZm1NPfudAM2Q      3.0       1      0   \n",
       "...                       ...                     ...      ...     ...    ...   \n",
       "20409  tAWhScy5SG7xGvE9-UUSaQ  pkR7g3ZjJXKyRjCwo8OuLg      1.0       1      0   \n",
       "20410  5hLs5P-R4kqcIRd7A-XNVg  550PQtrBHqSUjafvzVzEsQ      2.0       2      1   \n",
       "20411  LzdrF4eXPd2WBsRMiIsq9g  A7RdEBXQors5AHkqB_Pvyg      1.0       0      0   \n",
       "20412  ook6VM1plpH2vzcE48ALaQ  ZxoeMWiQL_H0jfgAms7dWw      2.0       1      0   \n",
       "20413  bolC7trEzSNbMBBKrN2sKA  lE-YFRQoyVEdgKzFCxIkkw      1.0       0      0   \n",
       "\n",
       "       cool                                               text  \\\n",
       "0         0  Try cleaning your play area once in a while. I...   \n",
       "1         0  It is what it is, a McDonalds.  You get what y...   \n",
       "2         0  Not one of the better McDonald's,  I'm not usu...   \n",
       "3         0  We barely waited in the fast food line, and th...   \n",
       "4         0  The only reason they get three stars is becaus...   \n",
       "...     ...                                                ...   \n",
       "20409     0  This location is actually closed. Was always u...   \n",
       "20410     1  The egg in the egg McGriddle was very dry, but...   \n",
       "20411     0  TRASH! THIS IS THE MOST GHETTO MCDONALDS I HAV...   \n",
       "20412     0  Went to this McDonald's because it was the clo...   \n",
       "20413     0  This place is absolutely filthy and scary.  Al...   \n",
       "\n",
       "                      date  \n",
       "0      2016-02-13 22:57:36  \n",
       "1      2014-08-02 16:19:00  \n",
       "2      2016-02-06 00:55:30  \n",
       "3      2017-11-29 02:26:24  \n",
       "4      2018-04-22 18:22:53  \n",
       "...                    ...  \n",
       "20409  2019-09-29 17:39:23  \n",
       "20410  2018-04-21 17:41:46  \n",
       "20411  2019-08-28 19:48:41  \n",
       "20412  2018-09-29 19:58:45  \n",
       "20413  2019-07-06 23:01:03  \n",
       "\n",
       "[20414 rows x 18 columns]"
      ]
     },
     "execution_count": 37,
     "metadata": {},
     "output_type": "execute_result"
    }
   ],
   "source": [
    "df_final"
   ]
  },
  {
   "cell_type": "markdown",
   "metadata": {
    "execution": {
     "iopub.execute_input": "2020-08-27T21:45:35.553203Z",
     "iopub.status.busy": "2020-08-27T21:45:35.552942Z",
     "iopub.status.idle": "2020-08-27T21:45:35.559088Z",
     "shell.execute_reply": "2020-08-27T21:45:35.558307Z",
     "shell.execute_reply.started": "2020-08-27T21:45:35.553172Z"
    }
   },
   "source": [
    "### Add text length cmolumn"
   ]
  },
  {
   "cell_type": "code",
   "execution_count": 44,
   "metadata": {
    "execution": {
     "iopub.execute_input": "2020-08-27T21:48:11.686333Z",
     "iopub.status.busy": "2020-08-27T21:48:11.686050Z",
     "iopub.status.idle": "2020-08-27T21:48:11.746663Z",
     "shell.execute_reply": "2020-08-27T21:48:11.745966Z",
     "shell.execute_reply.started": "2020-08-27T21:48:11.686303Z"
    }
   },
   "outputs": [],
   "source": [
    "df_final['text_length'] = df_final['text'].apply(len)"
   ]
  },
  {
   "cell_type": "code",
   "execution_count": 45,
   "metadata": {
    "execution": {
     "iopub.execute_input": "2020-08-27T21:48:13.211702Z",
     "iopub.status.busy": "2020-08-27T21:48:13.211452Z",
     "iopub.status.idle": "2020-08-27T21:48:13.247380Z",
     "shell.execute_reply": "2020-08-27T21:48:13.246573Z",
     "shell.execute_reply.started": "2020-08-27T21:48:13.211674Z"
    }
   },
   "outputs": [
    {
     "data": {
      "text/html": [
       "<div>\n",
       "<style scoped>\n",
       "    .dataframe tbody tr th:only-of-type {\n",
       "        vertical-align: middle;\n",
       "    }\n",
       "\n",
       "    .dataframe tbody tr th {\n",
       "        vertical-align: top;\n",
       "    }\n",
       "\n",
       "    .dataframe thead th {\n",
       "        text-align: right;\n",
       "    }\n",
       "</style>\n",
       "<table border=\"1\" class=\"dataframe\">\n",
       "  <thead>\n",
       "    <tr style=\"text-align: right;\">\n",
       "      <th></th>\n",
       "      <th>Unnamed: 0</th>\n",
       "      <th>business_id</th>\n",
       "      <th>name</th>\n",
       "      <th>city</th>\n",
       "      <th>state</th>\n",
       "      <th>latitude</th>\n",
       "      <th>longitude</th>\n",
       "      <th>stars_x</th>\n",
       "      <th>review_count</th>\n",
       "      <th>is_open</th>\n",
       "      <th>review_id</th>\n",
       "      <th>user_id</th>\n",
       "      <th>stars_y</th>\n",
       "      <th>useful</th>\n",
       "      <th>funny</th>\n",
       "      <th>cool</th>\n",
       "      <th>text</th>\n",
       "      <th>date</th>\n",
       "      <th>text_length</th>\n",
       "    </tr>\n",
       "  </thead>\n",
       "  <tbody>\n",
       "    <tr>\n",
       "      <th>0</th>\n",
       "      <td>0</td>\n",
       "      <td>CfwrsG76Wm4iLS22v_wAcg</td>\n",
       "      <td>McDonald's</td>\n",
       "      <td>Parma Heights</td>\n",
       "      <td>OH</td>\n",
       "      <td>41.385949</td>\n",
       "      <td>-81.768113</td>\n",
       "      <td>2.5</td>\n",
       "      <td>15</td>\n",
       "      <td>1</td>\n",
       "      <td>Jop9vLXGgLY5wccfxh08hg</td>\n",
       "      <td>VULFcmvS5-zp1wt-aokPwA</td>\n",
       "      <td>1.0</td>\n",
       "      <td>0</td>\n",
       "      <td>0</td>\n",
       "      <td>0</td>\n",
       "      <td>Try cleaning your play area once in a while. I...</td>\n",
       "      <td>2016-02-13 22:57:36</td>\n",
       "      <td>111</td>\n",
       "    </tr>\n",
       "    <tr>\n",
       "      <th>1</th>\n",
       "      <td>1</td>\n",
       "      <td>CfwrsG76Wm4iLS22v_wAcg</td>\n",
       "      <td>McDonald's</td>\n",
       "      <td>Parma Heights</td>\n",
       "      <td>OH</td>\n",
       "      <td>41.385949</td>\n",
       "      <td>-81.768113</td>\n",
       "      <td>2.5</td>\n",
       "      <td>15</td>\n",
       "      <td>1</td>\n",
       "      <td>14nFvaihx4rwTAETm9BJEA</td>\n",
       "      <td>83zQAHCvZGYgm8bjQoJ5wg</td>\n",
       "      <td>3.0</td>\n",
       "      <td>0</td>\n",
       "      <td>0</td>\n",
       "      <td>0</td>\n",
       "      <td>It is what it is, a McDonalds.  You get what y...</td>\n",
       "      <td>2014-08-02 16:19:00</td>\n",
       "      <td>130</td>\n",
       "    </tr>\n",
       "    <tr>\n",
       "      <th>2</th>\n",
       "      <td>2</td>\n",
       "      <td>CfwrsG76Wm4iLS22v_wAcg</td>\n",
       "      <td>McDonald's</td>\n",
       "      <td>Parma Heights</td>\n",
       "      <td>OH</td>\n",
       "      <td>41.385949</td>\n",
       "      <td>-81.768113</td>\n",
       "      <td>2.5</td>\n",
       "      <td>15</td>\n",
       "      <td>1</td>\n",
       "      <td>E8GI0Dkub-QHg1g0_4OiBg</td>\n",
       "      <td>wd02D3NPbIZWr67qfrDldw</td>\n",
       "      <td>1.0</td>\n",
       "      <td>2</td>\n",
       "      <td>1</td>\n",
       "      <td>0</td>\n",
       "      <td>Not one of the better McDonald's,  I'm not usu...</td>\n",
       "      <td>2016-02-06 00:55:30</td>\n",
       "      <td>428</td>\n",
       "    </tr>\n",
       "    <tr>\n",
       "      <th>3</th>\n",
       "      <td>3</td>\n",
       "      <td>CfwrsG76Wm4iLS22v_wAcg</td>\n",
       "      <td>McDonald's</td>\n",
       "      <td>Parma Heights</td>\n",
       "      <td>OH</td>\n",
       "      <td>41.385949</td>\n",
       "      <td>-81.768113</td>\n",
       "      <td>2.5</td>\n",
       "      <td>15</td>\n",
       "      <td>1</td>\n",
       "      <td>iwXKXdm2Vgi8qT2JKAbkBQ</td>\n",
       "      <td>PJ6LYU0111nU6ybRktbdpQ</td>\n",
       "      <td>5.0</td>\n",
       "      <td>0</td>\n",
       "      <td>0</td>\n",
       "      <td>0</td>\n",
       "      <td>We barely waited in the fast food line, and th...</td>\n",
       "      <td>2017-11-29 02:26:24</td>\n",
       "      <td>143</td>\n",
       "    </tr>\n",
       "    <tr>\n",
       "      <th>4</th>\n",
       "      <td>4</td>\n",
       "      <td>CfwrsG76Wm4iLS22v_wAcg</td>\n",
       "      <td>McDonald's</td>\n",
       "      <td>Parma Heights</td>\n",
       "      <td>OH</td>\n",
       "      <td>41.385949</td>\n",
       "      <td>-81.768113</td>\n",
       "      <td>2.5</td>\n",
       "      <td>15</td>\n",
       "      <td>1</td>\n",
       "      <td>MSyd64ek4d8K0-4uaxmfFQ</td>\n",
       "      <td>ofsfbDuMRXZm1NPfudAM2Q</td>\n",
       "      <td>3.0</td>\n",
       "      <td>1</td>\n",
       "      <td>0</td>\n",
       "      <td>0</td>\n",
       "      <td>The only reason they get three stars is becaus...</td>\n",
       "      <td>2018-04-22 18:22:53</td>\n",
       "      <td>422</td>\n",
       "    </tr>\n",
       "    <tr>\n",
       "      <th>...</th>\n",
       "      <td>...</td>\n",
       "      <td>...</td>\n",
       "      <td>...</td>\n",
       "      <td>...</td>\n",
       "      <td>...</td>\n",
       "      <td>...</td>\n",
       "      <td>...</td>\n",
       "      <td>...</td>\n",
       "      <td>...</td>\n",
       "      <td>...</td>\n",
       "      <td>...</td>\n",
       "      <td>...</td>\n",
       "      <td>...</td>\n",
       "      <td>...</td>\n",
       "      <td>...</td>\n",
       "      <td>...</td>\n",
       "      <td>...</td>\n",
       "      <td>...</td>\n",
       "      <td>...</td>\n",
       "    </tr>\n",
       "    <tr>\n",
       "      <th>20409</th>\n",
       "      <td>20409</td>\n",
       "      <td>Y-vxPbvPKcaLiYa9ZBXoDg</td>\n",
       "      <td>McDonald's</td>\n",
       "      <td>Pittsburgh</td>\n",
       "      <td>PA</td>\n",
       "      <td>40.440433</td>\n",
       "      <td>-79.998637</td>\n",
       "      <td>1.5</td>\n",
       "      <td>24</td>\n",
       "      <td>0</td>\n",
       "      <td>tAWhScy5SG7xGvE9-UUSaQ</td>\n",
       "      <td>pkR7g3ZjJXKyRjCwo8OuLg</td>\n",
       "      <td>1.0</td>\n",
       "      <td>1</td>\n",
       "      <td>0</td>\n",
       "      <td>0</td>\n",
       "      <td>This location is actually closed. Was always u...</td>\n",
       "      <td>2019-09-29 17:39:23</td>\n",
       "      <td>107</td>\n",
       "    </tr>\n",
       "    <tr>\n",
       "      <th>20410</th>\n",
       "      <td>20410</td>\n",
       "      <td>Y-vxPbvPKcaLiYa9ZBXoDg</td>\n",
       "      <td>McDonald's</td>\n",
       "      <td>Pittsburgh</td>\n",
       "      <td>PA</td>\n",
       "      <td>40.440433</td>\n",
       "      <td>-79.998637</td>\n",
       "      <td>1.5</td>\n",
       "      <td>24</td>\n",
       "      <td>0</td>\n",
       "      <td>5hLs5P-R4kqcIRd7A-XNVg</td>\n",
       "      <td>550PQtrBHqSUjafvzVzEsQ</td>\n",
       "      <td>2.0</td>\n",
       "      <td>2</td>\n",
       "      <td>1</td>\n",
       "      <td>1</td>\n",
       "      <td>The egg in the egg McGriddle was very dry, but...</td>\n",
       "      <td>2018-04-21 17:41:46</td>\n",
       "      <td>364</td>\n",
       "    </tr>\n",
       "    <tr>\n",
       "      <th>20411</th>\n",
       "      <td>20411</td>\n",
       "      <td>Y-vxPbvPKcaLiYa9ZBXoDg</td>\n",
       "      <td>McDonald's</td>\n",
       "      <td>Pittsburgh</td>\n",
       "      <td>PA</td>\n",
       "      <td>40.440433</td>\n",
       "      <td>-79.998637</td>\n",
       "      <td>1.5</td>\n",
       "      <td>24</td>\n",
       "      <td>0</td>\n",
       "      <td>LzdrF4eXPd2WBsRMiIsq9g</td>\n",
       "      <td>A7RdEBXQors5AHkqB_Pvyg</td>\n",
       "      <td>1.0</td>\n",
       "      <td>0</td>\n",
       "      <td>0</td>\n",
       "      <td>0</td>\n",
       "      <td>TRASH! THIS IS THE MOST GHETTO MCDONALDS I HAV...</td>\n",
       "      <td>2019-08-28 19:48:41</td>\n",
       "      <td>318</td>\n",
       "    </tr>\n",
       "    <tr>\n",
       "      <th>20412</th>\n",
       "      <td>20412</td>\n",
       "      <td>Y-vxPbvPKcaLiYa9ZBXoDg</td>\n",
       "      <td>McDonald's</td>\n",
       "      <td>Pittsburgh</td>\n",
       "      <td>PA</td>\n",
       "      <td>40.440433</td>\n",
       "      <td>-79.998637</td>\n",
       "      <td>1.5</td>\n",
       "      <td>24</td>\n",
       "      <td>0</td>\n",
       "      <td>ook6VM1plpH2vzcE48ALaQ</td>\n",
       "      <td>ZxoeMWiQL_H0jfgAms7dWw</td>\n",
       "      <td>2.0</td>\n",
       "      <td>1</td>\n",
       "      <td>0</td>\n",
       "      <td>0</td>\n",
       "      <td>Went to this McDonald's because it was the clo...</td>\n",
       "      <td>2018-09-29 19:58:45</td>\n",
       "      <td>868</td>\n",
       "    </tr>\n",
       "    <tr>\n",
       "      <th>20413</th>\n",
       "      <td>20413</td>\n",
       "      <td>Y-vxPbvPKcaLiYa9ZBXoDg</td>\n",
       "      <td>McDonald's</td>\n",
       "      <td>Pittsburgh</td>\n",
       "      <td>PA</td>\n",
       "      <td>40.440433</td>\n",
       "      <td>-79.998637</td>\n",
       "      <td>1.5</td>\n",
       "      <td>24</td>\n",
       "      <td>0</td>\n",
       "      <td>bolC7trEzSNbMBBKrN2sKA</td>\n",
       "      <td>lE-YFRQoyVEdgKzFCxIkkw</td>\n",
       "      <td>1.0</td>\n",
       "      <td>0</td>\n",
       "      <td>0</td>\n",
       "      <td>0</td>\n",
       "      <td>This place is absolutely filthy and scary.  Al...</td>\n",
       "      <td>2019-07-06 23:01:03</td>\n",
       "      <td>562</td>\n",
       "    </tr>\n",
       "  </tbody>\n",
       "</table>\n",
       "<p>20414 rows × 19 columns</p>\n",
       "</div>"
      ],
      "text/plain": [
       "       Unnamed: 0             business_id        name           city state  \\\n",
       "0               0  CfwrsG76Wm4iLS22v_wAcg  McDonald's  Parma Heights    OH   \n",
       "1               1  CfwrsG76Wm4iLS22v_wAcg  McDonald's  Parma Heights    OH   \n",
       "2               2  CfwrsG76Wm4iLS22v_wAcg  McDonald's  Parma Heights    OH   \n",
       "3               3  CfwrsG76Wm4iLS22v_wAcg  McDonald's  Parma Heights    OH   \n",
       "4               4  CfwrsG76Wm4iLS22v_wAcg  McDonald's  Parma Heights    OH   \n",
       "...           ...                     ...         ...            ...   ...   \n",
       "20409       20409  Y-vxPbvPKcaLiYa9ZBXoDg  McDonald's     Pittsburgh    PA   \n",
       "20410       20410  Y-vxPbvPKcaLiYa9ZBXoDg  McDonald's     Pittsburgh    PA   \n",
       "20411       20411  Y-vxPbvPKcaLiYa9ZBXoDg  McDonald's     Pittsburgh    PA   \n",
       "20412       20412  Y-vxPbvPKcaLiYa9ZBXoDg  McDonald's     Pittsburgh    PA   \n",
       "20413       20413  Y-vxPbvPKcaLiYa9ZBXoDg  McDonald's     Pittsburgh    PA   \n",
       "\n",
       "        latitude  longitude  stars_x  review_count  is_open  \\\n",
       "0      41.385949 -81.768113      2.5            15        1   \n",
       "1      41.385949 -81.768113      2.5            15        1   \n",
       "2      41.385949 -81.768113      2.5            15        1   \n",
       "3      41.385949 -81.768113      2.5            15        1   \n",
       "4      41.385949 -81.768113      2.5            15        1   \n",
       "...          ...        ...      ...           ...      ...   \n",
       "20409  40.440433 -79.998637      1.5            24        0   \n",
       "20410  40.440433 -79.998637      1.5            24        0   \n",
       "20411  40.440433 -79.998637      1.5            24        0   \n",
       "20412  40.440433 -79.998637      1.5            24        0   \n",
       "20413  40.440433 -79.998637      1.5            24        0   \n",
       "\n",
       "                    review_id                 user_id  stars_y  useful  funny  \\\n",
       "0      Jop9vLXGgLY5wccfxh08hg  VULFcmvS5-zp1wt-aokPwA      1.0       0      0   \n",
       "1      14nFvaihx4rwTAETm9BJEA  83zQAHCvZGYgm8bjQoJ5wg      3.0       0      0   \n",
       "2      E8GI0Dkub-QHg1g0_4OiBg  wd02D3NPbIZWr67qfrDldw      1.0       2      1   \n",
       "3      iwXKXdm2Vgi8qT2JKAbkBQ  PJ6LYU0111nU6ybRktbdpQ      5.0       0      0   \n",
       "4      MSyd64ek4d8K0-4uaxmfFQ  ofsfbDuMRXZm1NPfudAM2Q      3.0       1      0   \n",
       "...                       ...                     ...      ...     ...    ...   \n",
       "20409  tAWhScy5SG7xGvE9-UUSaQ  pkR7g3ZjJXKyRjCwo8OuLg      1.0       1      0   \n",
       "20410  5hLs5P-R4kqcIRd7A-XNVg  550PQtrBHqSUjafvzVzEsQ      2.0       2      1   \n",
       "20411  LzdrF4eXPd2WBsRMiIsq9g  A7RdEBXQors5AHkqB_Pvyg      1.0       0      0   \n",
       "20412  ook6VM1plpH2vzcE48ALaQ  ZxoeMWiQL_H0jfgAms7dWw      2.0       1      0   \n",
       "20413  bolC7trEzSNbMBBKrN2sKA  lE-YFRQoyVEdgKzFCxIkkw      1.0       0      0   \n",
       "\n",
       "       cool                                               text  \\\n",
       "0         0  Try cleaning your play area once in a while. I...   \n",
       "1         0  It is what it is, a McDonalds.  You get what y...   \n",
       "2         0  Not one of the better McDonald's,  I'm not usu...   \n",
       "3         0  We barely waited in the fast food line, and th...   \n",
       "4         0  The only reason they get three stars is becaus...   \n",
       "...     ...                                                ...   \n",
       "20409     0  This location is actually closed. Was always u...   \n",
       "20410     1  The egg in the egg McGriddle was very dry, but...   \n",
       "20411     0  TRASH! THIS IS THE MOST GHETTO MCDONALDS I HAV...   \n",
       "20412     0  Went to this McDonald's because it was the clo...   \n",
       "20413     0  This place is absolutely filthy and scary.  Al...   \n",
       "\n",
       "                      date  text_length  \n",
       "0      2016-02-13 22:57:36          111  \n",
       "1      2014-08-02 16:19:00          130  \n",
       "2      2016-02-06 00:55:30          428  \n",
       "3      2017-11-29 02:26:24          143  \n",
       "4      2018-04-22 18:22:53          422  \n",
       "...                    ...          ...  \n",
       "20409  2019-09-29 17:39:23          107  \n",
       "20410  2018-04-21 17:41:46          364  \n",
       "20411  2019-08-28 19:48:41          318  \n",
       "20412  2018-09-29 19:58:45          868  \n",
       "20413  2019-07-06 23:01:03          562  \n",
       "\n",
       "[20414 rows x 19 columns]"
      ]
     },
     "execution_count": 45,
     "metadata": {},
     "output_type": "execute_result"
    }
   ],
   "source": [
    "df_final"
   ]
  },
  {
   "cell_type": "code",
   "execution_count": 50,
   "metadata": {
    "execution": {
     "iopub.execute_input": "2020-08-27T21:50:35.337533Z",
     "iopub.status.busy": "2020-08-27T21:50:35.337235Z",
     "iopub.status.idle": "2020-08-27T21:50:35.587791Z",
     "shell.execute_reply": "2020-08-27T21:50:35.586950Z",
     "shell.execute_reply.started": "2020-08-27T21:50:35.337493Z"
    }
   },
   "outputs": [],
   "source": [
    "df_final['word_count'] = df_final['text'].str.split().str.len()"
   ]
  },
  {
   "cell_type": "code",
   "execution_count": 51,
   "metadata": {
    "execution": {
     "iopub.execute_input": "2020-08-27T21:50:36.542635Z",
     "iopub.status.busy": "2020-08-27T21:50:36.542310Z",
     "iopub.status.idle": "2020-08-27T21:50:36.577699Z",
     "shell.execute_reply": "2020-08-27T21:50:36.576685Z",
     "shell.execute_reply.started": "2020-08-27T21:50:36.542603Z"
    }
   },
   "outputs": [
    {
     "data": {
      "text/html": [
       "<div>\n",
       "<style scoped>\n",
       "    .dataframe tbody tr th:only-of-type {\n",
       "        vertical-align: middle;\n",
       "    }\n",
       "\n",
       "    .dataframe tbody tr th {\n",
       "        vertical-align: top;\n",
       "    }\n",
       "\n",
       "    .dataframe thead th {\n",
       "        text-align: right;\n",
       "    }\n",
       "</style>\n",
       "<table border=\"1\" class=\"dataframe\">\n",
       "  <thead>\n",
       "    <tr style=\"text-align: right;\">\n",
       "      <th></th>\n",
       "      <th>Unnamed: 0</th>\n",
       "      <th>business_id</th>\n",
       "      <th>name</th>\n",
       "      <th>city</th>\n",
       "      <th>state</th>\n",
       "      <th>latitude</th>\n",
       "      <th>longitude</th>\n",
       "      <th>stars_x</th>\n",
       "      <th>review_count</th>\n",
       "      <th>is_open</th>\n",
       "      <th>review_id</th>\n",
       "      <th>user_id</th>\n",
       "      <th>stars_y</th>\n",
       "      <th>useful</th>\n",
       "      <th>funny</th>\n",
       "      <th>cool</th>\n",
       "      <th>text</th>\n",
       "      <th>date</th>\n",
       "      <th>text_length</th>\n",
       "      <th>word_count</th>\n",
       "    </tr>\n",
       "  </thead>\n",
       "  <tbody>\n",
       "    <tr>\n",
       "      <th>0</th>\n",
       "      <td>0</td>\n",
       "      <td>CfwrsG76Wm4iLS22v_wAcg</td>\n",
       "      <td>McDonald's</td>\n",
       "      <td>Parma Heights</td>\n",
       "      <td>OH</td>\n",
       "      <td>41.385949</td>\n",
       "      <td>-81.768113</td>\n",
       "      <td>2.5</td>\n",
       "      <td>15</td>\n",
       "      <td>1</td>\n",
       "      <td>Jop9vLXGgLY5wccfxh08hg</td>\n",
       "      <td>VULFcmvS5-zp1wt-aokPwA</td>\n",
       "      <td>1.0</td>\n",
       "      <td>0</td>\n",
       "      <td>0</td>\n",
       "      <td>0</td>\n",
       "      <td>Try cleaning your play area once in a while. I...</td>\n",
       "      <td>2016-02-13 22:57:36</td>\n",
       "      <td>111</td>\n",
       "      <td>22</td>\n",
       "    </tr>\n",
       "    <tr>\n",
       "      <th>1</th>\n",
       "      <td>1</td>\n",
       "      <td>CfwrsG76Wm4iLS22v_wAcg</td>\n",
       "      <td>McDonald's</td>\n",
       "      <td>Parma Heights</td>\n",
       "      <td>OH</td>\n",
       "      <td>41.385949</td>\n",
       "      <td>-81.768113</td>\n",
       "      <td>2.5</td>\n",
       "      <td>15</td>\n",
       "      <td>1</td>\n",
       "      <td>14nFvaihx4rwTAETm9BJEA</td>\n",
       "      <td>83zQAHCvZGYgm8bjQoJ5wg</td>\n",
       "      <td>3.0</td>\n",
       "      <td>0</td>\n",
       "      <td>0</td>\n",
       "      <td>0</td>\n",
       "      <td>It is what it is, a McDonalds.  You get what y...</td>\n",
       "      <td>2014-08-02 16:19:00</td>\n",
       "      <td>130</td>\n",
       "      <td>26</td>\n",
       "    </tr>\n",
       "    <tr>\n",
       "      <th>2</th>\n",
       "      <td>2</td>\n",
       "      <td>CfwrsG76Wm4iLS22v_wAcg</td>\n",
       "      <td>McDonald's</td>\n",
       "      <td>Parma Heights</td>\n",
       "      <td>OH</td>\n",
       "      <td>41.385949</td>\n",
       "      <td>-81.768113</td>\n",
       "      <td>2.5</td>\n",
       "      <td>15</td>\n",
       "      <td>1</td>\n",
       "      <td>E8GI0Dkub-QHg1g0_4OiBg</td>\n",
       "      <td>wd02D3NPbIZWr67qfrDldw</td>\n",
       "      <td>1.0</td>\n",
       "      <td>2</td>\n",
       "      <td>1</td>\n",
       "      <td>0</td>\n",
       "      <td>Not one of the better McDonald's,  I'm not usu...</td>\n",
       "      <td>2016-02-06 00:55:30</td>\n",
       "      <td>428</td>\n",
       "      <td>79</td>\n",
       "    </tr>\n",
       "    <tr>\n",
       "      <th>3</th>\n",
       "      <td>3</td>\n",
       "      <td>CfwrsG76Wm4iLS22v_wAcg</td>\n",
       "      <td>McDonald's</td>\n",
       "      <td>Parma Heights</td>\n",
       "      <td>OH</td>\n",
       "      <td>41.385949</td>\n",
       "      <td>-81.768113</td>\n",
       "      <td>2.5</td>\n",
       "      <td>15</td>\n",
       "      <td>1</td>\n",
       "      <td>iwXKXdm2Vgi8qT2JKAbkBQ</td>\n",
       "      <td>PJ6LYU0111nU6ybRktbdpQ</td>\n",
       "      <td>5.0</td>\n",
       "      <td>0</td>\n",
       "      <td>0</td>\n",
       "      <td>0</td>\n",
       "      <td>We barely waited in the fast food line, and th...</td>\n",
       "      <td>2017-11-29 02:26:24</td>\n",
       "      <td>143</td>\n",
       "      <td>31</td>\n",
       "    </tr>\n",
       "    <tr>\n",
       "      <th>4</th>\n",
       "      <td>4</td>\n",
       "      <td>CfwrsG76Wm4iLS22v_wAcg</td>\n",
       "      <td>McDonald's</td>\n",
       "      <td>Parma Heights</td>\n",
       "      <td>OH</td>\n",
       "      <td>41.385949</td>\n",
       "      <td>-81.768113</td>\n",
       "      <td>2.5</td>\n",
       "      <td>15</td>\n",
       "      <td>1</td>\n",
       "      <td>MSyd64ek4d8K0-4uaxmfFQ</td>\n",
       "      <td>ofsfbDuMRXZm1NPfudAM2Q</td>\n",
       "      <td>3.0</td>\n",
       "      <td>1</td>\n",
       "      <td>0</td>\n",
       "      <td>0</td>\n",
       "      <td>The only reason they get three stars is becaus...</td>\n",
       "      <td>2018-04-22 18:22:53</td>\n",
       "      <td>422</td>\n",
       "      <td>79</td>\n",
       "    </tr>\n",
       "    <tr>\n",
       "      <th>...</th>\n",
       "      <td>...</td>\n",
       "      <td>...</td>\n",
       "      <td>...</td>\n",
       "      <td>...</td>\n",
       "      <td>...</td>\n",
       "      <td>...</td>\n",
       "      <td>...</td>\n",
       "      <td>...</td>\n",
       "      <td>...</td>\n",
       "      <td>...</td>\n",
       "      <td>...</td>\n",
       "      <td>...</td>\n",
       "      <td>...</td>\n",
       "      <td>...</td>\n",
       "      <td>...</td>\n",
       "      <td>...</td>\n",
       "      <td>...</td>\n",
       "      <td>...</td>\n",
       "      <td>...</td>\n",
       "      <td>...</td>\n",
       "    </tr>\n",
       "    <tr>\n",
       "      <th>20409</th>\n",
       "      <td>20409</td>\n",
       "      <td>Y-vxPbvPKcaLiYa9ZBXoDg</td>\n",
       "      <td>McDonald's</td>\n",
       "      <td>Pittsburgh</td>\n",
       "      <td>PA</td>\n",
       "      <td>40.440433</td>\n",
       "      <td>-79.998637</td>\n",
       "      <td>1.5</td>\n",
       "      <td>24</td>\n",
       "      <td>0</td>\n",
       "      <td>tAWhScy5SG7xGvE9-UUSaQ</td>\n",
       "      <td>pkR7g3ZjJXKyRjCwo8OuLg</td>\n",
       "      <td>1.0</td>\n",
       "      <td>1</td>\n",
       "      <td>0</td>\n",
       "      <td>0</td>\n",
       "      <td>This location is actually closed. Was always u...</td>\n",
       "      <td>2019-09-29 17:39:23</td>\n",
       "      <td>107</td>\n",
       "      <td>21</td>\n",
       "    </tr>\n",
       "    <tr>\n",
       "      <th>20410</th>\n",
       "      <td>20410</td>\n",
       "      <td>Y-vxPbvPKcaLiYa9ZBXoDg</td>\n",
       "      <td>McDonald's</td>\n",
       "      <td>Pittsburgh</td>\n",
       "      <td>PA</td>\n",
       "      <td>40.440433</td>\n",
       "      <td>-79.998637</td>\n",
       "      <td>1.5</td>\n",
       "      <td>24</td>\n",
       "      <td>0</td>\n",
       "      <td>5hLs5P-R4kqcIRd7A-XNVg</td>\n",
       "      <td>550PQtrBHqSUjafvzVzEsQ</td>\n",
       "      <td>2.0</td>\n",
       "      <td>2</td>\n",
       "      <td>1</td>\n",
       "      <td>1</td>\n",
       "      <td>The egg in the egg McGriddle was very dry, but...</td>\n",
       "      <td>2018-04-21 17:41:46</td>\n",
       "      <td>364</td>\n",
       "      <td>70</td>\n",
       "    </tr>\n",
       "    <tr>\n",
       "      <th>20411</th>\n",
       "      <td>20411</td>\n",
       "      <td>Y-vxPbvPKcaLiYa9ZBXoDg</td>\n",
       "      <td>McDonald's</td>\n",
       "      <td>Pittsburgh</td>\n",
       "      <td>PA</td>\n",
       "      <td>40.440433</td>\n",
       "      <td>-79.998637</td>\n",
       "      <td>1.5</td>\n",
       "      <td>24</td>\n",
       "      <td>0</td>\n",
       "      <td>LzdrF4eXPd2WBsRMiIsq9g</td>\n",
       "      <td>A7RdEBXQors5AHkqB_Pvyg</td>\n",
       "      <td>1.0</td>\n",
       "      <td>0</td>\n",
       "      <td>0</td>\n",
       "      <td>0</td>\n",
       "      <td>TRASH! THIS IS THE MOST GHETTO MCDONALDS I HAV...</td>\n",
       "      <td>2019-08-28 19:48:41</td>\n",
       "      <td>318</td>\n",
       "      <td>64</td>\n",
       "    </tr>\n",
       "    <tr>\n",
       "      <th>20412</th>\n",
       "      <td>20412</td>\n",
       "      <td>Y-vxPbvPKcaLiYa9ZBXoDg</td>\n",
       "      <td>McDonald's</td>\n",
       "      <td>Pittsburgh</td>\n",
       "      <td>PA</td>\n",
       "      <td>40.440433</td>\n",
       "      <td>-79.998637</td>\n",
       "      <td>1.5</td>\n",
       "      <td>24</td>\n",
       "      <td>0</td>\n",
       "      <td>ook6VM1plpH2vzcE48ALaQ</td>\n",
       "      <td>ZxoeMWiQL_H0jfgAms7dWw</td>\n",
       "      <td>2.0</td>\n",
       "      <td>1</td>\n",
       "      <td>0</td>\n",
       "      <td>0</td>\n",
       "      <td>Went to this McDonald's because it was the clo...</td>\n",
       "      <td>2018-09-29 19:58:45</td>\n",
       "      <td>868</td>\n",
       "      <td>162</td>\n",
       "    </tr>\n",
       "    <tr>\n",
       "      <th>20413</th>\n",
       "      <td>20413</td>\n",
       "      <td>Y-vxPbvPKcaLiYa9ZBXoDg</td>\n",
       "      <td>McDonald's</td>\n",
       "      <td>Pittsburgh</td>\n",
       "      <td>PA</td>\n",
       "      <td>40.440433</td>\n",
       "      <td>-79.998637</td>\n",
       "      <td>1.5</td>\n",
       "      <td>24</td>\n",
       "      <td>0</td>\n",
       "      <td>bolC7trEzSNbMBBKrN2sKA</td>\n",
       "      <td>lE-YFRQoyVEdgKzFCxIkkw</td>\n",
       "      <td>1.0</td>\n",
       "      <td>0</td>\n",
       "      <td>0</td>\n",
       "      <td>0</td>\n",
       "      <td>This place is absolutely filthy and scary.  Al...</td>\n",
       "      <td>2019-07-06 23:01:03</td>\n",
       "      <td>562</td>\n",
       "      <td>100</td>\n",
       "    </tr>\n",
       "  </tbody>\n",
       "</table>\n",
       "<p>20414 rows × 20 columns</p>\n",
       "</div>"
      ],
      "text/plain": [
       "       Unnamed: 0             business_id        name           city state  \\\n",
       "0               0  CfwrsG76Wm4iLS22v_wAcg  McDonald's  Parma Heights    OH   \n",
       "1               1  CfwrsG76Wm4iLS22v_wAcg  McDonald's  Parma Heights    OH   \n",
       "2               2  CfwrsG76Wm4iLS22v_wAcg  McDonald's  Parma Heights    OH   \n",
       "3               3  CfwrsG76Wm4iLS22v_wAcg  McDonald's  Parma Heights    OH   \n",
       "4               4  CfwrsG76Wm4iLS22v_wAcg  McDonald's  Parma Heights    OH   \n",
       "...           ...                     ...         ...            ...   ...   \n",
       "20409       20409  Y-vxPbvPKcaLiYa9ZBXoDg  McDonald's     Pittsburgh    PA   \n",
       "20410       20410  Y-vxPbvPKcaLiYa9ZBXoDg  McDonald's     Pittsburgh    PA   \n",
       "20411       20411  Y-vxPbvPKcaLiYa9ZBXoDg  McDonald's     Pittsburgh    PA   \n",
       "20412       20412  Y-vxPbvPKcaLiYa9ZBXoDg  McDonald's     Pittsburgh    PA   \n",
       "20413       20413  Y-vxPbvPKcaLiYa9ZBXoDg  McDonald's     Pittsburgh    PA   \n",
       "\n",
       "        latitude  longitude  stars_x  review_count  is_open  \\\n",
       "0      41.385949 -81.768113      2.5            15        1   \n",
       "1      41.385949 -81.768113      2.5            15        1   \n",
       "2      41.385949 -81.768113      2.5            15        1   \n",
       "3      41.385949 -81.768113      2.5            15        1   \n",
       "4      41.385949 -81.768113      2.5            15        1   \n",
       "...          ...        ...      ...           ...      ...   \n",
       "20409  40.440433 -79.998637      1.5            24        0   \n",
       "20410  40.440433 -79.998637      1.5            24        0   \n",
       "20411  40.440433 -79.998637      1.5            24        0   \n",
       "20412  40.440433 -79.998637      1.5            24        0   \n",
       "20413  40.440433 -79.998637      1.5            24        0   \n",
       "\n",
       "                    review_id                 user_id  stars_y  useful  funny  \\\n",
       "0      Jop9vLXGgLY5wccfxh08hg  VULFcmvS5-zp1wt-aokPwA      1.0       0      0   \n",
       "1      14nFvaihx4rwTAETm9BJEA  83zQAHCvZGYgm8bjQoJ5wg      3.0       0      0   \n",
       "2      E8GI0Dkub-QHg1g0_4OiBg  wd02D3NPbIZWr67qfrDldw      1.0       2      1   \n",
       "3      iwXKXdm2Vgi8qT2JKAbkBQ  PJ6LYU0111nU6ybRktbdpQ      5.0       0      0   \n",
       "4      MSyd64ek4d8K0-4uaxmfFQ  ofsfbDuMRXZm1NPfudAM2Q      3.0       1      0   \n",
       "...                       ...                     ...      ...     ...    ...   \n",
       "20409  tAWhScy5SG7xGvE9-UUSaQ  pkR7g3ZjJXKyRjCwo8OuLg      1.0       1      0   \n",
       "20410  5hLs5P-R4kqcIRd7A-XNVg  550PQtrBHqSUjafvzVzEsQ      2.0       2      1   \n",
       "20411  LzdrF4eXPd2WBsRMiIsq9g  A7RdEBXQors5AHkqB_Pvyg      1.0       0      0   \n",
       "20412  ook6VM1plpH2vzcE48ALaQ  ZxoeMWiQL_H0jfgAms7dWw      2.0       1      0   \n",
       "20413  bolC7trEzSNbMBBKrN2sKA  lE-YFRQoyVEdgKzFCxIkkw      1.0       0      0   \n",
       "\n",
       "       cool                                               text  \\\n",
       "0         0  Try cleaning your play area once in a while. I...   \n",
       "1         0  It is what it is, a McDonalds.  You get what y...   \n",
       "2         0  Not one of the better McDonald's,  I'm not usu...   \n",
       "3         0  We barely waited in the fast food line, and th...   \n",
       "4         0  The only reason they get three stars is becaus...   \n",
       "...     ...                                                ...   \n",
       "20409     0  This location is actually closed. Was always u...   \n",
       "20410     1  The egg in the egg McGriddle was very dry, but...   \n",
       "20411     0  TRASH! THIS IS THE MOST GHETTO MCDONALDS I HAV...   \n",
       "20412     0  Went to this McDonald's because it was the clo...   \n",
       "20413     0  This place is absolutely filthy and scary.  Al...   \n",
       "\n",
       "                      date  text_length  word_count  \n",
       "0      2016-02-13 22:57:36          111          22  \n",
       "1      2014-08-02 16:19:00          130          26  \n",
       "2      2016-02-06 00:55:30          428          79  \n",
       "3      2017-11-29 02:26:24          143          31  \n",
       "4      2018-04-22 18:22:53          422          79  \n",
       "...                    ...          ...         ...  \n",
       "20409  2019-09-29 17:39:23          107          21  \n",
       "20410  2018-04-21 17:41:46          364          70  \n",
       "20411  2019-08-28 19:48:41          318          64  \n",
       "20412  2018-09-29 19:58:45          868         162  \n",
       "20413  2019-07-06 23:01:03          562         100  \n",
       "\n",
       "[20414 rows x 20 columns]"
      ]
     },
     "execution_count": 51,
     "metadata": {},
     "output_type": "execute_result"
    }
   ],
   "source": [
    "df_final"
   ]
  },
  {
   "cell_type": "code",
   "execution_count": 55,
   "metadata": {
    "execution": {
     "iopub.execute_input": "2020-08-27T21:51:21.283524Z",
     "iopub.status.busy": "2020-08-27T21:51:21.283197Z",
     "iopub.status.idle": "2020-08-27T21:51:21.293186Z",
     "shell.execute_reply": "2020-08-27T21:51:21.292416Z",
     "shell.execute_reply.started": "2020-08-27T21:51:21.283459Z"
    }
   },
   "outputs": [
    {
     "data": {
      "text/plain": [
       "count    20414.000000\n",
       "mean        87.198344\n",
       "std         78.778958\n",
       "min          1.000000\n",
       "25%         37.000000\n",
       "50%         63.000000\n",
       "75%        109.000000\n",
       "max        997.000000\n",
       "Name: word_count, dtype: float64"
      ]
     },
     "execution_count": 55,
     "metadata": {},
     "output_type": "execute_result"
    }
   ],
   "source": [
    "df_final['word_count'].describe()"
   ]
  },
  {
   "cell_type": "code",
   "execution_count": 89,
   "metadata": {
    "execution": {
     "iopub.execute_input": "2020-08-27T22:23:46.508973Z",
     "iopub.status.busy": "2020-08-27T22:23:46.508637Z",
     "iopub.status.idle": "2020-08-27T22:23:46.512669Z",
     "shell.execute_reply": "2020-08-27T22:23:46.511915Z",
     "shell.execute_reply.started": "2020-08-27T22:23:46.508931Z"
    }
   },
   "outputs": [],
   "source": [
    "import matplotlib.pyplot as plt"
   ]
  },
  {
   "cell_type": "code",
   "execution_count": 92,
   "metadata": {
    "execution": {
     "iopub.execute_input": "2020-08-27T22:25:40.285962Z",
     "iopub.status.busy": "2020-08-27T22:25:40.285661Z",
     "iopub.status.idle": "2020-08-27T22:25:40.782659Z",
     "shell.execute_reply": "2020-08-27T22:25:40.781964Z",
     "shell.execute_reply.started": "2020-08-27T22:25:40.285923Z"
    }
   },
   "outputs": [
    {
     "data": {
      "image/png": "[encoded data removed]",
      "text/plain": [
       "<Figure size 720x576 with 1 Axes>"
      ]
     },
     "metadata": {
      "needs_background": "light"
     },
     "output_type": "display_data"
    }
   ],
   "source": [
    "plt.figure(figsize=(10, 8))\n",
    "sns.boxplot(x=\"stars_y\", \n",
    "            y=\"word_count\", \n",
    "            data=df_final)\n",
    "plt.ylabel(\"Number of Words\", size=14)\n",
    "plt.xlabel(\"Rating (1 to 5 Stars), size=14\")\n",
    "plt.title(\"Distribution of Word Count by Ratings (1 to 5)\", size=18)\n",
    "plt.savefig(\"word_count_boxplot.png\")"
   ]
  },
  {
   "cell_type": "code",
   "execution_count": 56,
   "metadata": {
    "execution": {
     "iopub.execute_input": "2020-08-27T21:51:32.394273Z",
     "iopub.status.busy": "2020-08-27T21:51:32.393987Z",
     "iopub.status.idle": "2020-08-27T21:51:32.403877Z",
     "shell.execute_reply": "2020-08-27T21:51:32.403122Z",
     "shell.execute_reply.started": "2020-08-27T21:51:32.394239Z"
    }
   },
   "outputs": [
    {
     "data": {
      "text/plain": [
       "count    20414.000000\n",
       "mean       464.655971\n",
       "std        416.272056\n",
       "min          1.000000\n",
       "25%        199.000000\n",
       "50%        338.000000\n",
       "75%        577.000000\n",
       "max       4989.000000\n",
       "Name: text_length, dtype: float64"
      ]
     },
     "execution_count": 56,
     "metadata": {},
     "output_type": "execute_result"
    }
   ],
   "source": [
    "df_final['text_length'].describe()"
   ]
  },
  {
   "cell_type": "code",
   "execution_count": 58,
   "metadata": {
    "execution": {
     "iopub.execute_input": "2020-08-27T22:07:00.551698Z",
     "iopub.status.busy": "2020-08-27T22:07:00.551407Z",
     "iopub.status.idle": "2020-08-27T22:07:01.317759Z",
     "shell.execute_reply": "2020-08-27T22:07:01.316754Z",
     "shell.execute_reply.started": "2020-08-27T22:07:00.551663Z"
    }
   },
   "outputs": [],
   "source": [
    "import seaborn as sns"
   ]
  },
  {
   "cell_type": "code",
   "execution_count": 85,
   "metadata": {
    "execution": {
     "iopub.execute_input": "2020-08-27T22:15:51.963087Z",
     "iopub.status.busy": "2020-08-27T22:15:51.962840Z",
     "iopub.status.idle": "2020-08-27T22:15:54.697895Z",
     "shell.execute_reply": "2020-08-27T22:15:54.697159Z",
     "shell.execute_reply.started": "2020-08-27T22:15:51.963059Z"
    }
   },
   "outputs": [
    {
     "data": {
      "image/png": "[encoded data removed]",
      "text/plain": [
       "<Figure size 1152x230.4 with 5 Axes>"
      ]
     },
     "metadata": {
      "needs_background": "light"
     },
     "output_type": "display_data"
    }
   ],
   "source": [
    "# Create plot with distribution of text length of reviews according to number of stars in the rating\n",
    "a = sns.FacetGrid(data=df_final, col='stars_y', hue='stars_y', height=3.2, aspect=1)\n",
    "a.map(sns.distplot, \"text_length\")\n",
    "a.savefig('text_length_by_stars.png')"
   ]
  },
  {
   "cell_type": "code",
   "execution_count": 75,
   "metadata": {
    "execution": {
     "iopub.execute_input": "2020-08-27T22:14:36.944807Z",
     "iopub.status.busy": "2020-08-27T22:14:36.944556Z",
     "iopub.status.idle": "2020-08-27T22:14:37.888920Z",
     "shell.execute_reply": "2020-08-27T22:14:37.888130Z",
     "shell.execute_reply.started": "2020-08-27T22:14:36.944779Z"
    }
   },
   "outputs": [
    {
     "data": {
      "image/png": "[encoded data removed]",
      "text/plain": [
       "<Figure size 1080x216 with 5 Axes>"
      ]
     },
     "metadata": {
      "needs_background": "light"
     },
     "output_type": "display_data"
    }
   ],
   "source": [
    "# Create plot with distribution of text length of reviews according to number of stars in the rating\n",
    "\n",
    "a = sns.FacetGrid(data=df_final, col='stars_y', hue='stars_y', height=3)\n",
    "# fig, (ax1, ax2, ax3) = a.subplots(1, 3)\n",
    "# a.subplots_adjust(top=0.9)\n",
    "a.set_titles('Text Length by Rating')\n",
    "a.savefig('text_length_by_stars.png')"
   ]
  },
  {
   "cell_type": "code",
   "execution_count": null,
   "metadata": {},
   "outputs": [],
   "source": [
    "# Search for vocabulary: friendly, service, smile"
   ]
  },
  {
   "cell_type": "code",
   "execution_count": null,
   "metadata": {},
   "outputs": [],
   "source": [
    "\n",
    "# from gensim.utils import simple_preprocess\n",
    "# # Tokenize the text column to get the new column 'tokenized_text'\n",
    "# top_data_df_small['tokenized_text'] = [simple_preprocess(line, deacc=True) for line in top_data_df_small['text']] \n",
    "# print(top_data_df_small['tokenized_text'].head(10))"
   ]
  },
  {
   "cell_type": "code",
   "execution_count": null,
   "metadata": {},
   "outputs": [],
   "source": [
    "\n",
    "# from gensim.parsing.porter import PorterStemmer\n",
    "# porter_stemmer = PorterStemmer()\n",
    "# # Get the stemmed_tokens\n",
    "# top_data_df_small['stemmed_tokens'] = [[porter_stemmer.stem(word) for word in tokens] for tokens in top_data_df_small['tokenized_text'] ]\n",
    "# top_data_df_small['stemmed_tokens'].head(10)"
   ]
  },
  {
   "cell_type": "code",
   "execution_count": 93,
   "metadata": {
    "execution": {
     "iopub.execute_input": "2020-08-27T22:30:56.780654Z",
     "iopub.status.busy": "2020-08-27T22:30:56.780345Z",
     "iopub.status.idle": "2020-08-27T22:30:56.793041Z",
     "shell.execute_reply": "2020-08-27T22:30:56.792329Z",
     "shell.execute_reply.started": "2020-08-27T22:30:56.780620Z"
    }
   },
   "outputs": [
    {
     "data": {
      "text/plain": [
       "count    20414.000000\n",
       "mean         1.889928\n",
       "std          1.358338\n",
       "min          1.000000\n",
       "25%          1.000000\n",
       "50%          1.000000\n",
       "75%          3.000000\n",
       "max          5.000000\n",
       "Name: stars_y, dtype: float64"
      ]
     },
     "execution_count": 93,
     "metadata": {},
     "output_type": "execute_result"
    }
   ],
   "source": [
    "df_final['stars_y'].describe()"
   ]
  },
  {
   "cell_type": "code",
   "execution_count": 94,
   "metadata": {
    "execution": {
     "iopub.execute_input": "2020-08-27T22:36:11.041274Z",
     "iopub.status.busy": "2020-08-27T22:36:11.040955Z",
     "iopub.status.idle": "2020-08-27T22:36:11.077267Z",
     "shell.execute_reply": "2020-08-27T22:36:11.076552Z",
     "shell.execute_reply.started": "2020-08-27T22:36:11.041233Z"
    }
   },
   "outputs": [
    {
     "data": {
      "text/html": [
       "<div>\n",
       "<style scoped>\n",
       "    .dataframe tbody tr th:only-of-type {\n",
       "        vertical-align: middle;\n",
       "    }\n",
       "\n",
       "    .dataframe tbody tr th {\n",
       "        vertical-align: top;\n",
       "    }\n",
       "\n",
       "    .dataframe thead th {\n",
       "        text-align: right;\n",
       "    }\n",
       "</style>\n",
       "<table border=\"1\" class=\"dataframe\">\n",
       "  <thead>\n",
       "    <tr style=\"text-align: right;\">\n",
       "      <th></th>\n",
       "      <th>Unnamed: 0</th>\n",
       "      <th>business_id</th>\n",
       "      <th>name</th>\n",
       "      <th>city</th>\n",
       "      <th>state</th>\n",
       "      <th>latitude</th>\n",
       "      <th>longitude</th>\n",
       "      <th>stars_x</th>\n",
       "      <th>review_count</th>\n",
       "      <th>is_open</th>\n",
       "      <th>review_id</th>\n",
       "      <th>user_id</th>\n",
       "      <th>stars_y</th>\n",
       "      <th>useful</th>\n",
       "      <th>funny</th>\n",
       "      <th>cool</th>\n",
       "      <th>text</th>\n",
       "      <th>date</th>\n",
       "      <th>text_length</th>\n",
       "      <th>word_count</th>\n",
       "    </tr>\n",
       "  </thead>\n",
       "  <tbody>\n",
       "    <tr>\n",
       "      <th>0</th>\n",
       "      <td>0</td>\n",
       "      <td>CfwrsG76Wm4iLS22v_wAcg</td>\n",
       "      <td>McDonald's</td>\n",
       "      <td>Parma Heights</td>\n",
       "      <td>OH</td>\n",
       "      <td>41.385949</td>\n",
       "      <td>-81.768113</td>\n",
       "      <td>2.5</td>\n",
       "      <td>15</td>\n",
       "      <td>1</td>\n",
       "      <td>Jop9vLXGgLY5wccfxh08hg</td>\n",
       "      <td>VULFcmvS5-zp1wt-aokPwA</td>\n",
       "      <td>1.0</td>\n",
       "      <td>0</td>\n",
       "      <td>0</td>\n",
       "      <td>0</td>\n",
       "      <td>Try cleaning your play area once in a while. I...</td>\n",
       "      <td>2016-02-13 22:57:36</td>\n",
       "      <td>111</td>\n",
       "      <td>22</td>\n",
       "    </tr>\n",
       "    <tr>\n",
       "      <th>1</th>\n",
       "      <td>1</td>\n",
       "      <td>CfwrsG76Wm4iLS22v_wAcg</td>\n",
       "      <td>McDonald's</td>\n",
       "      <td>Parma Heights</td>\n",
       "      <td>OH</td>\n",
       "      <td>41.385949</td>\n",
       "      <td>-81.768113</td>\n",
       "      <td>2.5</td>\n",
       "      <td>15</td>\n",
       "      <td>1</td>\n",
       "      <td>14nFvaihx4rwTAETm9BJEA</td>\n",
       "      <td>83zQAHCvZGYgm8bjQoJ5wg</td>\n",
       "      <td>3.0</td>\n",
       "      <td>0</td>\n",
       "      <td>0</td>\n",
       "      <td>0</td>\n",
       "      <td>It is what it is, a McDonalds.  You get what y...</td>\n",
       "      <td>2014-08-02 16:19:00</td>\n",
       "      <td>130</td>\n",
       "      <td>26</td>\n",
       "    </tr>\n",
       "    <tr>\n",
       "      <th>2</th>\n",
       "      <td>2</td>\n",
       "      <td>CfwrsG76Wm4iLS22v_wAcg</td>\n",
       "      <td>McDonald's</td>\n",
       "      <td>Parma Heights</td>\n",
       "      <td>OH</td>\n",
       "      <td>41.385949</td>\n",
       "      <td>-81.768113</td>\n",
       "      <td>2.5</td>\n",
       "      <td>15</td>\n",
       "      <td>1</td>\n",
       "      <td>E8GI0Dkub-QHg1g0_4OiBg</td>\n",
       "      <td>wd02D3NPbIZWr67qfrDldw</td>\n",
       "      <td>1.0</td>\n",
       "      <td>2</td>\n",
       "      <td>1</td>\n",
       "      <td>0</td>\n",
       "      <td>Not one of the better McDonald's,  I'm not usu...</td>\n",
       "      <td>2016-02-06 00:55:30</td>\n",
       "      <td>428</td>\n",
       "      <td>79</td>\n",
       "    </tr>\n",
       "    <tr>\n",
       "      <th>3</th>\n",
       "      <td>3</td>\n",
       "      <td>CfwrsG76Wm4iLS22v_wAcg</td>\n",
       "      <td>McDonald's</td>\n",
       "      <td>Parma Heights</td>\n",
       "      <td>OH</td>\n",
       "      <td>41.385949</td>\n",
       "      <td>-81.768113</td>\n",
       "      <td>2.5</td>\n",
       "      <td>15</td>\n",
       "      <td>1</td>\n",
       "      <td>iwXKXdm2Vgi8qT2JKAbkBQ</td>\n",
       "      <td>PJ6LYU0111nU6ybRktbdpQ</td>\n",
       "      <td>5.0</td>\n",
       "      <td>0</td>\n",
       "      <td>0</td>\n",
       "      <td>0</td>\n",
       "      <td>We barely waited in the fast food line, and th...</td>\n",
       "      <td>2017-11-29 02:26:24</td>\n",
       "      <td>143</td>\n",
       "      <td>31</td>\n",
       "    </tr>\n",
       "    <tr>\n",
       "      <th>4</th>\n",
       "      <td>4</td>\n",
       "      <td>CfwrsG76Wm4iLS22v_wAcg</td>\n",
       "      <td>McDonald's</td>\n",
       "      <td>Parma Heights</td>\n",
       "      <td>OH</td>\n",
       "      <td>41.385949</td>\n",
       "      <td>-81.768113</td>\n",
       "      <td>2.5</td>\n",
       "      <td>15</td>\n",
       "      <td>1</td>\n",
       "      <td>MSyd64ek4d8K0-4uaxmfFQ</td>\n",
       "      <td>ofsfbDuMRXZm1NPfudAM2Q</td>\n",
       "      <td>3.0</td>\n",
       "      <td>1</td>\n",
       "      <td>0</td>\n",
       "      <td>0</td>\n",
       "      <td>The only reason they get three stars is becaus...</td>\n",
       "      <td>2018-04-22 18:22:53</td>\n",
       "      <td>422</td>\n",
       "      <td>79</td>\n",
       "    </tr>\n",
       "    <tr>\n",
       "      <th>...</th>\n",
       "      <td>...</td>\n",
       "      <td>...</td>\n",
       "      <td>...</td>\n",
       "      <td>...</td>\n",
       "      <td>...</td>\n",
       "      <td>...</td>\n",
       "      <td>...</td>\n",
       "      <td>...</td>\n",
       "      <td>...</td>\n",
       "      <td>...</td>\n",
       "      <td>...</td>\n",
       "      <td>...</td>\n",
       "      <td>...</td>\n",
       "      <td>...</td>\n",
       "      <td>...</td>\n",
       "      <td>...</td>\n",
       "      <td>...</td>\n",
       "      <td>...</td>\n",
       "      <td>...</td>\n",
       "      <td>...</td>\n",
       "    </tr>\n",
       "    <tr>\n",
       "      <th>20409</th>\n",
       "      <td>20409</td>\n",
       "      <td>Y-vxPbvPKcaLiYa9ZBXoDg</td>\n",
       "      <td>McDonald's</td>\n",
       "      <td>Pittsburgh</td>\n",
       "      <td>PA</td>\n",
       "      <td>40.440433</td>\n",
       "      <td>-79.998637</td>\n",
       "      <td>1.5</td>\n",
       "      <td>24</td>\n",
       "      <td>0</td>\n",
       "      <td>tAWhScy5SG7xGvE9-UUSaQ</td>\n",
       "      <td>pkR7g3ZjJXKyRjCwo8OuLg</td>\n",
       "      <td>1.0</td>\n",
       "      <td>1</td>\n",
       "      <td>0</td>\n",
       "      <td>0</td>\n",
       "      <td>This location is actually closed. Was always u...</td>\n",
       "      <td>2019-09-29 17:39:23</td>\n",
       "      <td>107</td>\n",
       "      <td>21</td>\n",
       "    </tr>\n",
       "    <tr>\n",
       "      <th>20410</th>\n",
       "      <td>20410</td>\n",
       "      <td>Y-vxPbvPKcaLiYa9ZBXoDg</td>\n",
       "      <td>McDonald's</td>\n",
       "      <td>Pittsburgh</td>\n",
       "      <td>PA</td>\n",
       "      <td>40.440433</td>\n",
       "      <td>-79.998637</td>\n",
       "      <td>1.5</td>\n",
       "      <td>24</td>\n",
       "      <td>0</td>\n",
       "      <td>5hLs5P-R4kqcIRd7A-XNVg</td>\n",
       "      <td>550PQtrBHqSUjafvzVzEsQ</td>\n",
       "      <td>2.0</td>\n",
       "      <td>2</td>\n",
       "      <td>1</td>\n",
       "      <td>1</td>\n",
       "      <td>The egg in the egg McGriddle was very dry, but...</td>\n",
       "      <td>2018-04-21 17:41:46</td>\n",
       "      <td>364</td>\n",
       "      <td>70</td>\n",
       "    </tr>\n",
       "    <tr>\n",
       "      <th>20411</th>\n",
       "      <td>20411</td>\n",
       "      <td>Y-vxPbvPKcaLiYa9ZBXoDg</td>\n",
       "      <td>McDonald's</td>\n",
       "      <td>Pittsburgh</td>\n",
       "      <td>PA</td>\n",
       "      <td>40.440433</td>\n",
       "      <td>-79.998637</td>\n",
       "      <td>1.5</td>\n",
       "      <td>24</td>\n",
       "      <td>0</td>\n",
       "      <td>LzdrF4eXPd2WBsRMiIsq9g</td>\n",
       "      <td>A7RdEBXQors5AHkqB_Pvyg</td>\n",
       "      <td>1.0</td>\n",
       "      <td>0</td>\n",
       "      <td>0</td>\n",
       "      <td>0</td>\n",
       "      <td>TRASH! THIS IS THE MOST GHETTO MCDONALDS I HAV...</td>\n",
       "      <td>2019-08-28 19:48:41</td>\n",
       "      <td>318</td>\n",
       "      <td>64</td>\n",
       "    </tr>\n",
       "    <tr>\n",
       "      <th>20412</th>\n",
       "      <td>20412</td>\n",
       "      <td>Y-vxPbvPKcaLiYa9ZBXoDg</td>\n",
       "      <td>McDonald's</td>\n",
       "      <td>Pittsburgh</td>\n",
       "      <td>PA</td>\n",
       "      <td>40.440433</td>\n",
       "      <td>-79.998637</td>\n",
       "      <td>1.5</td>\n",
       "      <td>24</td>\n",
       "      <td>0</td>\n",
       "      <td>ook6VM1plpH2vzcE48ALaQ</td>\n",
       "      <td>ZxoeMWiQL_H0jfgAms7dWw</td>\n",
       "      <td>2.0</td>\n",
       "      <td>1</td>\n",
       "      <td>0</td>\n",
       "      <td>0</td>\n",
       "      <td>Went to this McDonald's because it was the clo...</td>\n",
       "      <td>2018-09-29 19:58:45</td>\n",
       "      <td>868</td>\n",
       "      <td>162</td>\n",
       "    </tr>\n",
       "    <tr>\n",
       "      <th>20413</th>\n",
       "      <td>20413</td>\n",
       "      <td>Y-vxPbvPKcaLiYa9ZBXoDg</td>\n",
       "      <td>McDonald's</td>\n",
       "      <td>Pittsburgh</td>\n",
       "      <td>PA</td>\n",
       "      <td>40.440433</td>\n",
       "      <td>-79.998637</td>\n",
       "      <td>1.5</td>\n",
       "      <td>24</td>\n",
       "      <td>0</td>\n",
       "      <td>bolC7trEzSNbMBBKrN2sKA</td>\n",
       "      <td>lE-YFRQoyVEdgKzFCxIkkw</td>\n",
       "      <td>1.0</td>\n",
       "      <td>0</td>\n",
       "      <td>0</td>\n",
       "      <td>0</td>\n",
       "      <td>This place is absolutely filthy and scary.  Al...</td>\n",
       "      <td>2019-07-06 23:01:03</td>\n",
       "      <td>562</td>\n",
       "      <td>100</td>\n",
       "    </tr>\n",
       "  </tbody>\n",
       "</table>\n",
       "<p>20414 rows × 20 columns</p>\n",
       "</div>"
      ],
      "text/plain": [
       "       Unnamed: 0             business_id        name           city state  \\\n",
       "0               0  CfwrsG76Wm4iLS22v_wAcg  McDonald's  Parma Heights    OH   \n",
       "1               1  CfwrsG76Wm4iLS22v_wAcg  McDonald's  Parma Heights    OH   \n",
       "2               2  CfwrsG76Wm4iLS22v_wAcg  McDonald's  Parma Heights    OH   \n",
       "3               3  CfwrsG76Wm4iLS22v_wAcg  McDonald's  Parma Heights    OH   \n",
       "4               4  CfwrsG76Wm4iLS22v_wAcg  McDonald's  Parma Heights    OH   \n",
       "...           ...                     ...         ...            ...   ...   \n",
       "20409       20409  Y-vxPbvPKcaLiYa9ZBXoDg  McDonald's     Pittsburgh    PA   \n",
       "20410       20410  Y-vxPbvPKcaLiYa9ZBXoDg  McDonald's     Pittsburgh    PA   \n",
       "20411       20411  Y-vxPbvPKcaLiYa9ZBXoDg  McDonald's     Pittsburgh    PA   \n",
       "20412       20412  Y-vxPbvPKcaLiYa9ZBXoDg  McDonald's     Pittsburgh    PA   \n",
       "20413       20413  Y-vxPbvPKcaLiYa9ZBXoDg  McDonald's     Pittsburgh    PA   \n",
       "\n",
       "        latitude  longitude  stars_x  review_count  is_open  \\\n",
       "0      41.385949 -81.768113      2.5            15        1   \n",
       "1      41.385949 -81.768113      2.5            15        1   \n",
       "2      41.385949 -81.768113      2.5            15        1   \n",
       "3      41.385949 -81.768113      2.5            15        1   \n",
       "4      41.385949 -81.768113      2.5            15        1   \n",
       "...          ...        ...      ...           ...      ...   \n",
       "20409  40.440433 -79.998637      1.5            24        0   \n",
       "20410  40.440433 -79.998637      1.5            24        0   \n",
       "20411  40.440433 -79.998637      1.5            24        0   \n",
       "20412  40.440433 -79.998637      1.5            24        0   \n",
       "20413  40.440433 -79.998637      1.5            24        0   \n",
       "\n",
       "                    review_id                 user_id  stars_y  useful  funny  \\\n",
       "0      Jop9vLXGgLY5wccfxh08hg  VULFcmvS5-zp1wt-aokPwA      1.0       0      0   \n",
       "1      14nFvaihx4rwTAETm9BJEA  83zQAHCvZGYgm8bjQoJ5wg      3.0       0      0   \n",
       "2      E8GI0Dkub-QHg1g0_4OiBg  wd02D3NPbIZWr67qfrDldw      1.0       2      1   \n",
       "3      iwXKXdm2Vgi8qT2JKAbkBQ  PJ6LYU0111nU6ybRktbdpQ      5.0       0      0   \n",
       "4      MSyd64ek4d8K0-4uaxmfFQ  ofsfbDuMRXZm1NPfudAM2Q      3.0       1      0   \n",
       "...                       ...                     ...      ...     ...    ...   \n",
       "20409  tAWhScy5SG7xGvE9-UUSaQ  pkR7g3ZjJXKyRjCwo8OuLg      1.0       1      0   \n",
       "20410  5hLs5P-R4kqcIRd7A-XNVg  550PQtrBHqSUjafvzVzEsQ      2.0       2      1   \n",
       "20411  LzdrF4eXPd2WBsRMiIsq9g  A7RdEBXQors5AHkqB_Pvyg      1.0       0      0   \n",
       "20412  ook6VM1plpH2vzcE48ALaQ  ZxoeMWiQL_H0jfgAms7dWw      2.0       1      0   \n",
       "20413  bolC7trEzSNbMBBKrN2sKA  lE-YFRQoyVEdgKzFCxIkkw      1.0       0      0   \n",
       "\n",
       "       cool                                               text  \\\n",
       "0         0  Try cleaning your play area once in a while. I...   \n",
       "1         0  It is what it is, a McDonalds.  You get what y...   \n",
       "2         0  Not one of the better McDonald's,  I'm not usu...   \n",
       "3         0  We barely waited in the fast food line, and th...   \n",
       "4         0  The only reason they get three stars is becaus...   \n",
       "...     ...                                                ...   \n",
       "20409     0  This location is actually closed. Was always u...   \n",
       "20410     1  The egg in the egg McGriddle was very dry, but...   \n",
       "20411     0  TRASH! THIS IS THE MOST GHETTO MCDONALDS I HAV...   \n",
       "20412     0  Went to this McDonald's because it was the clo...   \n",
       "20413     0  This place is absolutely filthy and scary.  Al...   \n",
       "\n",
       "                      date  text_length  word_count  \n",
       "0      2016-02-13 22:57:36          111          22  \n",
       "1      2014-08-02 16:19:00          130          26  \n",
       "2      2016-02-06 00:55:30          428          79  \n",
       "3      2017-11-29 02:26:24          143          31  \n",
       "4      2018-04-22 18:22:53          422          79  \n",
       "...                    ...          ...         ...  \n",
       "20409  2019-09-29 17:39:23          107          21  \n",
       "20410  2018-04-21 17:41:46          364          70  \n",
       "20411  2019-08-28 19:48:41          318          64  \n",
       "20412  2018-09-29 19:58:45          868         162  \n",
       "20413  2019-07-06 23:01:03          562         100  \n",
       "\n",
       "[20414 rows x 20 columns]"
      ]
     },
     "execution_count": 94,
     "metadata": {},
     "output_type": "execute_result"
    }
   ],
   "source": [
    "df_final"
   ]
  },
  {
   "cell_type": "code",
   "execution_count": 95,
   "metadata": {
    "execution": {
     "iopub.execute_input": "2020-08-27T22:36:54.199035Z",
     "iopub.status.busy": "2020-08-27T22:36:54.198766Z",
     "iopub.status.idle": "2020-08-27T22:36:54.204656Z",
     "shell.execute_reply": "2020-08-27T22:36:54.203948Z",
     "shell.execute_reply.started": "2020-08-27T22:36:54.198995Z"
    }
   },
   "outputs": [
    {
     "data": {
      "text/plain": [
       "Index(['Unnamed: 0', 'business_id', 'name', 'city', 'state', 'latitude',\n",
       "       'longitude', 'stars_x', 'review_count', 'is_open', 'review_id',\n",
       "       'user_id', 'stars_y', 'useful', 'funny', 'cool', 'text', 'date',\n",
       "       'text_length', 'word_count'],\n",
       "      dtype='object')"
      ]
     },
     "execution_count": 95,
     "metadata": {},
     "output_type": "execute_result"
    }
   ],
   "source": [
    "df_final.columns"
   ]
  },
  {
   "cell_type": "code",
   "execution_count": 100,
   "metadata": {
    "execution": {
     "iopub.execute_input": "2020-08-27T22:49:56.889470Z",
     "iopub.status.busy": "2020-08-27T22:49:56.889062Z",
     "iopub.status.idle": "2020-08-27T22:49:56.910600Z",
     "shell.execute_reply": "2020-08-27T22:49:56.909830Z",
     "shell.execute_reply.started": "2020-08-27T22:49:56.889427Z"
    }
   },
   "outputs": [],
   "source": [
    "# correlation\n",
    "df_corr = df_final[['stars_y', 'cool', 'useful', 'funny' ,'text_length', 'word_count']].corr()"
   ]
  },
  {
   "cell_type": "code",
   "execution_count": 103,
   "metadata": {
    "execution": {
     "iopub.execute_input": "2020-08-27T22:53:06.172515Z",
     "iopub.status.busy": "2020-08-27T22:53:06.172275Z",
     "iopub.status.idle": "2020-08-27T22:53:06.880129Z",
     "shell.execute_reply": "2020-08-27T22:53:06.879430Z",
     "shell.execute_reply.started": "2020-08-27T22:53:06.172486Z"
    }
   },
   "outputs": [
    {
     "data": {
      "text/plain": [
       "Text(0.5, 1.0, 'Heatmap of Variables')"
      ]
     },
     "execution_count": 103,
     "metadata": {},
     "output_type": "execute_result"
    },
    {
     "data": {
      "image/png": "[encoded data removed]",
      "text/plain": [
       "<Figure size 864x576 with 2 Axes>"
      ]
     },
     "metadata": {
      "needs_background": "light"
     },
     "output_type": "display_data"
    }
   ],
   "source": [
    "fig = plt.figure(figsize=(12,8))\n",
    "axes = sns.heatmap(df_corr, cmap='coolwarm', linewidth=1, linecolor='white', annot=True)\n",
    "plt.savefig('heatmap.png')\n",
    "axes.set_title('Heatmap of Variables', fontsize=30)"
   ]
  },
  {
   "cell_type": "code",
   "execution_count": 102,
   "metadata": {
    "execution": {
     "iopub.execute_input": "2020-08-27T22:52:49.436715Z",
     "iopub.status.busy": "2020-08-27T22:52:49.436371Z",
     "iopub.status.idle": "2020-08-27T22:52:49.458582Z",
     "shell.execute_reply": "2020-08-27T22:52:49.457808Z",
     "shell.execute_reply.started": "2020-08-27T22:52:49.436670Z"
    }
   },
   "outputs": [
    {
     "data": {
      "text/plain": [
       "<Figure size 432x288 with 0 Axes>"
      ]
     },
     "metadata": {},
     "output_type": "display_data"
    }
   ],
   "source": []
  },
  {
   "cell_type": "code",
   "execution_count": null,
   "metadata": {},
   "outputs": [],
   "source": [
    "from sklearn.ensemble import GradientBoostingClassifier"
   ]
  },
  {
   "cell_type": "code",
   "execution_count": null,
   "metadata": {},
   "outputs": [],
   "source": []
  },
  {
   "cell_type": "code",
   "execution_count": null,
   "metadata": {},
   "outputs": [],
   "source": []
  },
  {
   "cell_type": "code",
   "execution_count": null,
   "metadata": {},
   "outputs": [],
   "source": []
  },
  {
   "cell_type": "code",
   "execution_count": null,
   "metadata": {},
   "outputs": [],
   "source": []
  }
 ],
 "metadata": {
  "kernelspec": {
   "display_name": "Python 3",
   "language": "python",
   "name": "python3"
  },
  "language_info": {
   "codemirror_mode": {
    "name": "ipython",
    "version": 3
   },
   "file_extension": ".py",
   "mimetype": "text/x-python",
   "name": "python",
   "nbconvert_exporter": "python",
   "pygments_lexer": "ipython3",
   "version": "3.8.5"
  }
 },
 "nbformat": 4,
 "nbformat_minor": 4
}
