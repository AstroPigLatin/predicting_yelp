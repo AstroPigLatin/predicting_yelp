{
 "cells": [
  {
   "cell_type": "code",
   "execution_count": 3,
   "metadata": {
    "execution": {
     "iopub.execute_input": "2020-08-26T20:24:21.799575Z",
     "iopub.status.busy": "2020-08-26T20:24:21.799072Z",
     "iopub.status.idle": "2020-08-26T20:24:21.805800Z",
     "shell.execute_reply": "2020-08-26T20:24:21.804386Z",
     "shell.execute_reply.started": "2020-08-26T20:24:21.799523Z"
    }
   },
   "outputs": [],
   "source": [
    "import pandas as pd\n",
    "import numpy as np"
   ]
  },
  {
   "cell_type": "code",
   "execution_count": 7,
   "metadata": {
    "execution": {
     "iopub.execute_input": "2020-08-26T20:24:35.159898Z",
     "iopub.status.busy": "2020-08-26T20:24:35.159629Z",
     "iopub.status.idle": "2020-08-26T20:24:35.371483Z",
     "shell.execute_reply": "2020-08-26T20:24:35.370463Z",
     "shell.execute_reply.started": "2020-08-26T20:24:35.159866Z"
    }
   },
   "outputs": [],
   "source": [
    "df_final = pd.read_csv('data/mcdonalds_final.csv')"
   ]
  },
  {
   "cell_type": "code",
   "execution_count": 19,
   "metadata": {
    "execution": {
     "iopub.execute_input": "2020-08-26T20:27:54.439497Z",
     "iopub.status.busy": "2020-08-26T20:27:54.439067Z",
     "iopub.status.idle": "2020-08-26T20:27:54.463831Z",
     "shell.execute_reply": "2020-08-26T20:27:54.462807Z",
     "shell.execute_reply.started": "2020-08-26T20:27:54.439460Z"
    }
   },
   "outputs": [
    {
     "data": {
      "text/html": [
       "<div>\n",
       "<style scoped>\n",
       "    .dataframe tbody tr th:only-of-type {\n",
       "        vertical-align: middle;\n",
       "    }\n",
       "\n",
       "    .dataframe tbody tr th {\n",
       "        vertical-align: top;\n",
       "    }\n",
       "\n",
       "    .dataframe thead th {\n",
       "        text-align: right;\n",
       "    }\n",
       "</style>\n",
       "<table border=\"1\" class=\"dataframe\">\n",
       "  <thead>\n",
       "    <tr style=\"text-align: right;\">\n",
       "      <th></th>\n",
       "      <th>Unnamed: 0</th>\n",
       "      <th>business_id</th>\n",
       "      <th>name</th>\n",
       "      <th>city</th>\n",
       "      <th>state</th>\n",
       "      <th>latitude</th>\n",
       "      <th>longitude</th>\n",
       "      <th>stars_x</th>\n",
       "      <th>review_count</th>\n",
       "      <th>is_open</th>\n",
       "      <th>review_id</th>\n",
       "      <th>user_id</th>\n",
       "      <th>stars_y</th>\n",
       "      <th>useful</th>\n",
       "      <th>funny</th>\n",
       "      <th>cool</th>\n",
       "      <th>text</th>\n",
       "      <th>date</th>\n",
       "    </tr>\n",
       "  </thead>\n",
       "  <tbody>\n",
       "    <tr>\n",
       "      <th>0</th>\n",
       "      <td>0</td>\n",
       "      <td>CfwrsG76Wm4iLS22v_wAcg</td>\n",
       "      <td>McDonald's</td>\n",
       "      <td>Parma Heights</td>\n",
       "      <td>OH</td>\n",
       "      <td>41.385949</td>\n",
       "      <td>-81.768113</td>\n",
       "      <td>2.5</td>\n",
       "      <td>15</td>\n",
       "      <td>1</td>\n",
       "      <td>Jop9vLXGgLY5wccfxh08hg</td>\n",
       "      <td>VULFcmvS5-zp1wt-aokPwA</td>\n",
       "      <td>1.0</td>\n",
       "      <td>0</td>\n",
       "      <td>0</td>\n",
       "      <td>0</td>\n",
       "      <td>Try cleaning your play area once in a while. I...</td>\n",
       "      <td>2016-02-13 22:57:36</td>\n",
       "    </tr>\n",
       "    <tr>\n",
       "      <th>1</th>\n",
       "      <td>1</td>\n",
       "      <td>CfwrsG76Wm4iLS22v_wAcg</td>\n",
       "      <td>McDonald's</td>\n",
       "      <td>Parma Heights</td>\n",
       "      <td>OH</td>\n",
       "      <td>41.385949</td>\n",
       "      <td>-81.768113</td>\n",
       "      <td>2.5</td>\n",
       "      <td>15</td>\n",
       "      <td>1</td>\n",
       "      <td>14nFvaihx4rwTAETm9BJEA</td>\n",
       "      <td>83zQAHCvZGYgm8bjQoJ5wg</td>\n",
       "      <td>3.0</td>\n",
       "      <td>0</td>\n",
       "      <td>0</td>\n",
       "      <td>0</td>\n",
       "      <td>It is what it is, a McDonalds.  You get what y...</td>\n",
       "      <td>2014-08-02 16:19:00</td>\n",
       "    </tr>\n",
       "    <tr>\n",
       "      <th>2</th>\n",
       "      <td>2</td>\n",
       "      <td>CfwrsG76Wm4iLS22v_wAcg</td>\n",
       "      <td>McDonald's</td>\n",
       "      <td>Parma Heights</td>\n",
       "      <td>OH</td>\n",
       "      <td>41.385949</td>\n",
       "      <td>-81.768113</td>\n",
       "      <td>2.5</td>\n",
       "      <td>15</td>\n",
       "      <td>1</td>\n",
       "      <td>E8GI0Dkub-QHg1g0_4OiBg</td>\n",
       "      <td>wd02D3NPbIZWr67qfrDldw</td>\n",
       "      <td>1.0</td>\n",
       "      <td>2</td>\n",
       "      <td>1</td>\n",
       "      <td>0</td>\n",
       "      <td>Not one of the better McDonald's,  I'm not usu...</td>\n",
       "      <td>2016-02-06 00:55:30</td>\n",
       "    </tr>\n",
       "    <tr>\n",
       "      <th>3</th>\n",
       "      <td>3</td>\n",
       "      <td>CfwrsG76Wm4iLS22v_wAcg</td>\n",
       "      <td>McDonald's</td>\n",
       "      <td>Parma Heights</td>\n",
       "      <td>OH</td>\n",
       "      <td>41.385949</td>\n",
       "      <td>-81.768113</td>\n",
       "      <td>2.5</td>\n",
       "      <td>15</td>\n",
       "      <td>1</td>\n",
       "      <td>iwXKXdm2Vgi8qT2JKAbkBQ</td>\n",
       "      <td>PJ6LYU0111nU6ybRktbdpQ</td>\n",
       "      <td>5.0</td>\n",
       "      <td>0</td>\n",
       "      <td>0</td>\n",
       "      <td>0</td>\n",
       "      <td>We barely waited in the fast food line, and th...</td>\n",
       "      <td>2017-11-29 02:26:24</td>\n",
       "    </tr>\n",
       "    <tr>\n",
       "      <th>4</th>\n",
       "      <td>4</td>\n",
       "      <td>CfwrsG76Wm4iLS22v_wAcg</td>\n",
       "      <td>McDonald's</td>\n",
       "      <td>Parma Heights</td>\n",
       "      <td>OH</td>\n",
       "      <td>41.385949</td>\n",
       "      <td>-81.768113</td>\n",
       "      <td>2.5</td>\n",
       "      <td>15</td>\n",
       "      <td>1</td>\n",
       "      <td>MSyd64ek4d8K0-4uaxmfFQ</td>\n",
       "      <td>ofsfbDuMRXZm1NPfudAM2Q</td>\n",
       "      <td>3.0</td>\n",
       "      <td>1</td>\n",
       "      <td>0</td>\n",
       "      <td>0</td>\n",
       "      <td>The only reason they get three stars is becaus...</td>\n",
       "      <td>2018-04-22 18:22:53</td>\n",
       "    </tr>\n",
       "  </tbody>\n",
       "</table>\n",
       "</div>"
      ],
      "text/plain": [
       "   Unnamed: 0             business_id        name           city state  \\\n",
       "0           0  CfwrsG76Wm4iLS22v_wAcg  McDonald's  Parma Heights    OH   \n",
       "1           1  CfwrsG76Wm4iLS22v_wAcg  McDonald's  Parma Heights    OH   \n",
       "2           2  CfwrsG76Wm4iLS22v_wAcg  McDonald's  Parma Heights    OH   \n",
       "3           3  CfwrsG76Wm4iLS22v_wAcg  McDonald's  Parma Heights    OH   \n",
       "4           4  CfwrsG76Wm4iLS22v_wAcg  McDonald's  Parma Heights    OH   \n",
       "\n",
       "    latitude  longitude  stars_x  review_count  is_open  \\\n",
       "0  41.385949 -81.768113      2.5            15        1   \n",
       "1  41.385949 -81.768113      2.5            15        1   \n",
       "2  41.385949 -81.768113      2.5            15        1   \n",
       "3  41.385949 -81.768113      2.5            15        1   \n",
       "4  41.385949 -81.768113      2.5            15        1   \n",
       "\n",
       "                review_id                 user_id  stars_y  useful  funny  \\\n",
       "0  Jop9vLXGgLY5wccfxh08hg  VULFcmvS5-zp1wt-aokPwA      1.0       0      0   \n",
       "1  14nFvaihx4rwTAETm9BJEA  83zQAHCvZGYgm8bjQoJ5wg      3.0       0      0   \n",
       "2  E8GI0Dkub-QHg1g0_4OiBg  wd02D3NPbIZWr67qfrDldw      1.0       2      1   \n",
       "3  iwXKXdm2Vgi8qT2JKAbkBQ  PJ6LYU0111nU6ybRktbdpQ      5.0       0      0   \n",
       "4  MSyd64ek4d8K0-4uaxmfFQ  ofsfbDuMRXZm1NPfudAM2Q      3.0       1      0   \n",
       "\n",
       "   cool                                               text  \\\n",
       "0     0  Try cleaning your play area once in a while. I...   \n",
       "1     0  It is what it is, a McDonalds.  You get what y...   \n",
       "2     0  Not one of the better McDonald's,  I'm not usu...   \n",
       "3     0  We barely waited in the fast food line, and th...   \n",
       "4     0  The only reason they get three stars is becaus...   \n",
       "\n",
       "                  date  \n",
       "0  2016-02-13 22:57:36  \n",
       "1  2014-08-02 16:19:00  \n",
       "2  2016-02-06 00:55:30  \n",
       "3  2017-11-29 02:26:24  \n",
       "4  2018-04-22 18:22:53  "
      ]
     },
     "execution_count": 19,
     "metadata": {},
     "output_type": "execute_result"
    }
   ],
   "source": [
    "df_final.head()"
   ]
  },
  {
   "cell_type": "code",
   "execution_count": 20,
   "metadata": {
    "execution": {
     "iopub.execute_input": "2020-08-26T20:28:00.114942Z",
     "iopub.status.busy": "2020-08-26T20:28:00.114675Z",
     "iopub.status.idle": "2020-08-26T20:28:00.120805Z",
     "shell.execute_reply": "2020-08-26T20:28:00.119719Z",
     "shell.execute_reply.started": "2020-08-26T20:28:00.114913Z"
    }
   },
   "outputs": [
    {
     "data": {
      "text/plain": [
       "(20414, 18)"
      ]
     },
     "execution_count": 20,
     "metadata": {},
     "output_type": "execute_result"
    }
   ],
   "source": [
    "df_final.shape"
   ]
  },
  {
   "cell_type": "markdown",
   "metadata": {},
   "source": [
    "## By Food"
   ]
  },
  {
   "cell_type": "code",
   "execution_count": 83,
   "metadata": {
    "execution": {
     "iopub.execute_input": "2020-08-26T20:53:43.136990Z",
     "iopub.status.busy": "2020-08-26T20:53:43.136713Z",
     "iopub.status.idle": "2020-08-26T20:53:43.166876Z",
     "shell.execute_reply": "2020-08-26T20:53:43.166136Z",
     "shell.execute_reply.started": "2020-08-26T20:53:43.136954Z"
    }
   },
   "outputs": [],
   "source": [
    "# Find reviews that contain the string \"nugget\" in the text column\n",
    "nugget = df_final[df_final['text'].str.contains('nugget')]"
   ]
  },
  {
   "cell_type": "code",
   "execution_count": 84,
   "metadata": {
    "execution": {
     "iopub.execute_input": "2020-08-26T20:53:43.845787Z",
     "iopub.status.busy": "2020-08-26T20:53:43.845521Z",
     "iopub.status.idle": "2020-08-26T20:53:43.850864Z",
     "shell.execute_reply": "2020-08-26T20:53:43.849796Z",
     "shell.execute_reply.started": "2020-08-26T20:53:43.845756Z"
    }
   },
   "outputs": [
    {
     "data": {
      "text/plain": [
       "(926, 18)"
      ]
     },
     "execution_count": 84,
     "metadata": {},
     "output_type": "execute_result"
    }
   ],
   "source": [
    "nugget.shape"
   ]
  },
  {
   "cell_type": "code",
   "execution_count": 22,
   "metadata": {
    "execution": {
     "iopub.execute_input": "2020-08-26T20:28:33.780474Z",
     "iopub.status.busy": "2020-08-26T20:28:33.780008Z",
     "iopub.status.idle": "2020-08-26T20:28:33.808889Z",
     "shell.execute_reply": "2020-08-26T20:28:33.807591Z",
     "shell.execute_reply.started": "2020-08-26T20:28:33.780419Z"
    }
   },
   "outputs": [],
   "source": [
    "# Find reviews that contain the string \"mcnugget\" in the text column\n",
    "mcnugget = df_final[df_final['text'].str.contains('mcnugget')]"
   ]
  },
  {
   "cell_type": "code",
   "execution_count": 23,
   "metadata": {
    "execution": {
     "iopub.execute_input": "2020-08-26T20:28:34.478523Z",
     "iopub.status.busy": "2020-08-26T20:28:34.478191Z",
     "iopub.status.idle": "2020-08-26T20:28:34.503742Z",
     "shell.execute_reply": "2020-08-26T20:28:34.502706Z",
     "shell.execute_reply.started": "2020-08-26T20:28:34.478475Z"
    }
   },
   "outputs": [
    {
     "data": {
      "text/html": [
       "<div>\n",
       "<style scoped>\n",
       "    .dataframe tbody tr th:only-of-type {\n",
       "        vertical-align: middle;\n",
       "    }\n",
       "\n",
       "    .dataframe tbody tr th {\n",
       "        vertical-align: top;\n",
       "    }\n",
       "\n",
       "    .dataframe thead th {\n",
       "        text-align: right;\n",
       "    }\n",
       "</style>\n",
       "<table border=\"1\" class=\"dataframe\">\n",
       "  <thead>\n",
       "    <tr style=\"text-align: right;\">\n",
       "      <th></th>\n",
       "      <th>Unnamed: 0</th>\n",
       "      <th>business_id</th>\n",
       "      <th>name</th>\n",
       "      <th>city</th>\n",
       "      <th>state</th>\n",
       "      <th>latitude</th>\n",
       "      <th>longitude</th>\n",
       "      <th>stars_x</th>\n",
       "      <th>review_count</th>\n",
       "      <th>is_open</th>\n",
       "      <th>review_id</th>\n",
       "      <th>user_id</th>\n",
       "      <th>stars_y</th>\n",
       "      <th>useful</th>\n",
       "      <th>funny</th>\n",
       "      <th>cool</th>\n",
       "      <th>text</th>\n",
       "      <th>date</th>\n",
       "    </tr>\n",
       "  </thead>\n",
       "  <tbody>\n",
       "    <tr>\n",
       "      <th>213</th>\n",
       "      <td>213</td>\n",
       "      <td>iMW1yiWfUnDUo1ZFnJQh2w</td>\n",
       "      <td>McDonald's</td>\n",
       "      <td>Goodyear</td>\n",
       "      <td>AZ</td>\n",
       "      <td>33.455987</td>\n",
       "      <td>-112.341664</td>\n",
       "      <td>1.5</td>\n",
       "      <td>40</td>\n",
       "      <td>1</td>\n",
       "      <td>_sc0j6d7NkEga4QpNd4l6Q</td>\n",
       "      <td>iDlkZO2iILS8Jwfdy7DP9A</td>\n",
       "      <td>3.0</td>\n",
       "      <td>1</td>\n",
       "      <td>0</td>\n",
       "      <td>0</td>\n",
       "      <td>I felt like chicken mcnuggets one day after sh...</td>\n",
       "      <td>2011-01-12 01:26:50</td>\n",
       "    </tr>\n",
       "    <tr>\n",
       "      <th>1011</th>\n",
       "      <td>1011</td>\n",
       "      <td>ncEJaX_79zZGSS1NQNzu4A</td>\n",
       "      <td>McDonald's</td>\n",
       "      <td>Las Vegas</td>\n",
       "      <td>NV</td>\n",
       "      <td>35.997242</td>\n",
       "      <td>-115.206961</td>\n",
       "      <td>1.5</td>\n",
       "      <td>126</td>\n",
       "      <td>1</td>\n",
       "      <td>F8PECC2-oasyDzN6X3K3rQ</td>\n",
       "      <td>EbVs2GLI55mLHqf2Lfbv9Q</td>\n",
       "      <td>1.0</td>\n",
       "      <td>1</td>\n",
       "      <td>0</td>\n",
       "      <td>0</td>\n",
       "      <td>The drive-thru cashier with glasses who worked...</td>\n",
       "      <td>2017-10-18 08:13:11</td>\n",
       "    </tr>\n",
       "    <tr>\n",
       "      <th>1374</th>\n",
       "      <td>1374</td>\n",
       "      <td>QhMhM3Mhokv6V-H0MRuYTg</td>\n",
       "      <td>McDonald's</td>\n",
       "      <td>Las Vegas</td>\n",
       "      <td>NV</td>\n",
       "      <td>36.089964</td>\n",
       "      <td>-115.172212</td>\n",
       "      <td>2.0</td>\n",
       "      <td>53</td>\n",
       "      <td>1</td>\n",
       "      <td>D5YZ-GDmLUAiy3OpDvnvCQ</td>\n",
       "      <td>KckkEb-lZ--a5dPwpfHUUg</td>\n",
       "      <td>4.0</td>\n",
       "      <td>0</td>\n",
       "      <td>0</td>\n",
       "      <td>0</td>\n",
       "      <td>The cashier wearing the name tag Michaelangelo...</td>\n",
       "      <td>2014-04-11 18:55:50</td>\n",
       "    </tr>\n",
       "    <tr>\n",
       "      <th>3214</th>\n",
       "      <td>3214</td>\n",
       "      <td>0WOyGLDrh8wwiHCLVTw0zg</td>\n",
       "      <td>McDonald's</td>\n",
       "      <td>Charlotte</td>\n",
       "      <td>NC</td>\n",
       "      <td>35.148681</td>\n",
       "      <td>-80.833001</td>\n",
       "      <td>2.0</td>\n",
       "      <td>57</td>\n",
       "      <td>1</td>\n",
       "      <td>6ed53Vg2lNQxtV7D2nVZzQ</td>\n",
       "      <td>Ry1O_KXZHGRI8g5zBR3IcQ</td>\n",
       "      <td>4.0</td>\n",
       "      <td>0</td>\n",
       "      <td>1</td>\n",
       "      <td>0</td>\n",
       "      <td>This is a McDonald's that makes me want to put...</td>\n",
       "      <td>2012-05-21 12:04:04</td>\n",
       "    </tr>\n",
       "    <tr>\n",
       "      <th>4465</th>\n",
       "      <td>4465</td>\n",
       "      <td>AI7mHr8pHvCQKjI5jQ9MTA</td>\n",
       "      <td>McDonald's</td>\n",
       "      <td>Peoria</td>\n",
       "      <td>AZ</td>\n",
       "      <td>33.652140</td>\n",
       "      <td>-112.255467</td>\n",
       "      <td>2.0</td>\n",
       "      <td>17</td>\n",
       "      <td>1</td>\n",
       "      <td>49vCxXcbqG3pC0k3oc0xsA</td>\n",
       "      <td>0STrllEoMylKM5ObvUTRIQ</td>\n",
       "      <td>1.0</td>\n",
       "      <td>1</td>\n",
       "      <td>0</td>\n",
       "      <td>0</td>\n",
       "      <td>This is probably the worst mcdonalds ever. Two...</td>\n",
       "      <td>2016-06-16 14:20:40</td>\n",
       "    </tr>\n",
       "  </tbody>\n",
       "</table>\n",
       "</div>"
      ],
      "text/plain": [
       "      Unnamed: 0             business_id        name       city state  \\\n",
       "213          213  iMW1yiWfUnDUo1ZFnJQh2w  McDonald's   Goodyear    AZ   \n",
       "1011        1011  ncEJaX_79zZGSS1NQNzu4A  McDonald's  Las Vegas    NV   \n",
       "1374        1374  QhMhM3Mhokv6V-H0MRuYTg  McDonald's  Las Vegas    NV   \n",
       "3214        3214  0WOyGLDrh8wwiHCLVTw0zg  McDonald's  Charlotte    NC   \n",
       "4465        4465  AI7mHr8pHvCQKjI5jQ9MTA  McDonald's     Peoria    AZ   \n",
       "\n",
       "       latitude   longitude  stars_x  review_count  is_open  \\\n",
       "213   33.455987 -112.341664      1.5            40        1   \n",
       "1011  35.997242 -115.206961      1.5           126        1   \n",
       "1374  36.089964 -115.172212      2.0            53        1   \n",
       "3214  35.148681  -80.833001      2.0            57        1   \n",
       "4465  33.652140 -112.255467      2.0            17        1   \n",
       "\n",
       "                   review_id                 user_id  stars_y  useful  funny  \\\n",
       "213   _sc0j6d7NkEga4QpNd4l6Q  iDlkZO2iILS8Jwfdy7DP9A      3.0       1      0   \n",
       "1011  F8PECC2-oasyDzN6X3K3rQ  EbVs2GLI55mLHqf2Lfbv9Q      1.0       1      0   \n",
       "1374  D5YZ-GDmLUAiy3OpDvnvCQ  KckkEb-lZ--a5dPwpfHUUg      4.0       0      0   \n",
       "3214  6ed53Vg2lNQxtV7D2nVZzQ  Ry1O_KXZHGRI8g5zBR3IcQ      4.0       0      1   \n",
       "4465  49vCxXcbqG3pC0k3oc0xsA  0STrllEoMylKM5ObvUTRIQ      1.0       1      0   \n",
       "\n",
       "      cool                                               text  \\\n",
       "213      0  I felt like chicken mcnuggets one day after sh...   \n",
       "1011     0  The drive-thru cashier with glasses who worked...   \n",
       "1374     0  The cashier wearing the name tag Michaelangelo...   \n",
       "3214     0  This is a McDonald's that makes me want to put...   \n",
       "4465     0  This is probably the worst mcdonalds ever. Two...   \n",
       "\n",
       "                     date  \n",
       "213   2011-01-12 01:26:50  \n",
       "1011  2017-10-18 08:13:11  \n",
       "1374  2014-04-11 18:55:50  \n",
       "3214  2012-05-21 12:04:04  \n",
       "4465  2016-06-16 14:20:40  "
      ]
     },
     "execution_count": 23,
     "metadata": {},
     "output_type": "execute_result"
    }
   ],
   "source": [
    "mcnugget.head()"
   ]
  },
  {
   "cell_type": "code",
   "execution_count": 24,
   "metadata": {
    "execution": {
     "iopub.execute_input": "2020-08-26T20:28:36.443622Z",
     "iopub.status.busy": "2020-08-26T20:28:36.443244Z",
     "iopub.status.idle": "2020-08-26T20:28:36.449130Z",
     "shell.execute_reply": "2020-08-26T20:28:36.448088Z",
     "shell.execute_reply.started": "2020-08-26T20:28:36.443495Z"
    }
   },
   "outputs": [
    {
     "data": {
      "text/plain": [
       "(42, 18)"
      ]
     },
     "execution_count": 24,
     "metadata": {},
     "output_type": "execute_result"
    }
   ],
   "source": [
    "mcnugget.shape"
   ]
  },
  {
   "cell_type": "code",
   "execution_count": 25,
   "metadata": {
    "execution": {
     "iopub.execute_input": "2020-08-26T20:28:37.523958Z",
     "iopub.status.busy": "2020-08-26T20:28:37.523695Z",
     "iopub.status.idle": "2020-08-26T20:28:37.530349Z",
     "shell.execute_reply": "2020-08-26T20:28:37.529238Z",
     "shell.execute_reply.started": "2020-08-26T20:28:37.523927Z"
    }
   },
   "outputs": [
    {
     "data": {
      "text/plain": [
       "42"
      ]
     },
     "execution_count": 25,
     "metadata": {},
     "output_type": "execute_result"
    }
   ],
   "source": [
    "mcnugget['text'].nunique()"
   ]
  },
  {
   "cell_type": "code",
   "execution_count": 26,
   "metadata": {
    "execution": {
     "iopub.execute_input": "2020-08-26T20:28:38.839537Z",
     "iopub.status.busy": "2020-08-26T20:28:38.839221Z",
     "iopub.status.idle": "2020-08-26T20:28:38.878777Z",
     "shell.execute_reply": "2020-08-26T20:28:38.877872Z",
     "shell.execute_reply.started": "2020-08-26T20:28:38.839489Z"
    }
   },
   "outputs": [],
   "source": [
    "# Find reviews that contain the string \"fries\" in the text column\n",
    "fries = df_final[df_final['text'].str.contains('fries')]"
   ]
  },
  {
   "cell_type": "code",
   "execution_count": 27,
   "metadata": {
    "execution": {
     "iopub.execute_input": "2020-08-26T20:28:44.418085Z",
     "iopub.status.busy": "2020-08-26T20:28:44.417825Z",
     "iopub.status.idle": "2020-08-26T20:28:44.424642Z",
     "shell.execute_reply": "2020-08-26T20:28:44.423685Z",
     "shell.execute_reply.started": "2020-08-26T20:28:44.418055Z"
    }
   },
   "outputs": [
    {
     "data": {
      "text/plain": [
       "(2506, 18)"
      ]
     },
     "execution_count": 27,
     "metadata": {},
     "output_type": "execute_result"
    }
   ],
   "source": [
    "fries.shape"
   ]
  },
  {
   "cell_type": "code",
   "execution_count": 28,
   "metadata": {
    "execution": {
     "iopub.execute_input": "2020-08-26T20:29:01.720598Z",
     "iopub.status.busy": "2020-08-26T20:29:01.720288Z",
     "iopub.status.idle": "2020-08-26T20:29:01.750287Z",
     "shell.execute_reply": "2020-08-26T20:29:01.749443Z",
     "shell.execute_reply.started": "2020-08-26T20:29:01.720559Z"
    }
   },
   "outputs": [],
   "source": [
    "# Find reviews that contain the string \"coke\" in the text column\n",
    "coke = df_final[df_final['text'].str.contains('coke')]"
   ]
  },
  {
   "cell_type": "code",
   "execution_count": 29,
   "metadata": {
    "execution": {
     "iopub.execute_input": "2020-08-26T20:29:04.274177Z",
     "iopub.status.busy": "2020-08-26T20:29:04.273924Z",
     "iopub.status.idle": "2020-08-26T20:29:04.279621Z",
     "shell.execute_reply": "2020-08-26T20:29:04.278606Z",
     "shell.execute_reply.started": "2020-08-26T20:29:04.274149Z"
    }
   },
   "outputs": [
    {
     "data": {
      "text/plain": [
       "(249, 18)"
      ]
     },
     "execution_count": 29,
     "metadata": {},
     "output_type": "execute_result"
    }
   ],
   "source": [
    "coke.shape"
   ]
  },
  {
   "cell_type": "code",
   "execution_count": 30,
   "metadata": {
    "execution": {
     "iopub.execute_input": "2020-08-26T20:29:25.447346Z",
     "iopub.status.busy": "2020-08-26T20:29:25.447049Z",
     "iopub.status.idle": "2020-08-26T20:29:25.476024Z",
     "shell.execute_reply": "2020-08-26T20:29:25.474692Z",
     "shell.execute_reply.started": "2020-08-26T20:29:25.447316Z"
    }
   },
   "outputs": [],
   "source": [
    "# Find reviews that contain the string \"mcflurry\" in the text column\n",
    "mcflurry = df_final[df_final['text'].str.contains('mcflurry')]"
   ]
  },
  {
   "cell_type": "code",
   "execution_count": 31,
   "metadata": {
    "execution": {
     "iopub.execute_input": "2020-08-26T20:29:28.743715Z",
     "iopub.status.busy": "2020-08-26T20:29:28.743372Z",
     "iopub.status.idle": "2020-08-26T20:29:28.754101Z",
     "shell.execute_reply": "2020-08-26T20:29:28.750295Z",
     "shell.execute_reply.started": "2020-08-26T20:29:28.743662Z"
    }
   },
   "outputs": [
    {
     "data": {
      "text/plain": [
       "(52, 18)"
      ]
     },
     "execution_count": 31,
     "metadata": {},
     "output_type": "execute_result"
    }
   ],
   "source": [
    "mcflurry.shape"
   ]
  },
  {
   "cell_type": "code",
   "execution_count": 32,
   "metadata": {
    "execution": {
     "iopub.execute_input": "2020-08-26T20:29:44.943040Z",
     "iopub.status.busy": "2020-08-26T20:29:44.942793Z",
     "iopub.status.idle": "2020-08-26T20:29:44.967832Z",
     "shell.execute_reply": "2020-08-26T20:29:44.966738Z",
     "shell.execute_reply.started": "2020-08-26T20:29:44.943011Z"
    }
   },
   "outputs": [],
   "source": [
    "# Find reviews that contain the string \"big mac\" in the text column\n",
    "big_mac = df_final[df_final['text'].str.contains('big mac')]"
   ]
  },
  {
   "cell_type": "code",
   "execution_count": 33,
   "metadata": {
    "execution": {
     "iopub.execute_input": "2020-08-26T20:29:49.680270Z",
     "iopub.status.busy": "2020-08-26T20:29:49.679795Z",
     "iopub.status.idle": "2020-08-26T20:29:49.685627Z",
     "shell.execute_reply": "2020-08-26T20:29:49.684452Z",
     "shell.execute_reply.started": "2020-08-26T20:29:49.680235Z"
    }
   },
   "outputs": [
    {
     "data": {
      "text/plain": [
       "(109, 18)"
      ]
     },
     "execution_count": 33,
     "metadata": {},
     "output_type": "execute_result"
    }
   ],
   "source": [
    "big_mac.shape"
   ]
  },
  {
   "cell_type": "code",
   "execution_count": 35,
   "metadata": {
    "execution": {
     "iopub.execute_input": "2020-08-26T20:30:27.360160Z",
     "iopub.status.busy": "2020-08-26T20:30:27.359783Z",
     "iopub.status.idle": "2020-08-26T20:30:27.389053Z",
     "shell.execute_reply": "2020-08-26T20:30:27.388084Z",
     "shell.execute_reply.started": "2020-08-26T20:30:27.360124Z"
    }
   },
   "outputs": [],
   "source": [
    "# Find reviews that contain the string \"burger\" in the text column\n",
    "burger = df_final[df_final['text'].str.contains('burger')]"
   ]
  },
  {
   "cell_type": "code",
   "execution_count": 36,
   "metadata": {
    "execution": {
     "iopub.execute_input": "2020-08-26T20:30:31.384115Z",
     "iopub.status.busy": "2020-08-26T20:30:31.383573Z",
     "iopub.status.idle": "2020-08-26T20:30:31.390455Z",
     "shell.execute_reply": "2020-08-26T20:30:31.389524Z",
     "shell.execute_reply.started": "2020-08-26T20:30:31.384075Z"
    }
   },
   "outputs": [
    {
     "data": {
      "text/plain": [
       "(2147, 18)"
      ]
     },
     "execution_count": 36,
     "metadata": {},
     "output_type": "execute_result"
    }
   ],
   "source": [
    "burger.shape"
   ]
  },
  {
   "cell_type": "code",
   "execution_count": 37,
   "metadata": {
    "execution": {
     "iopub.execute_input": "2020-08-26T20:31:05.022396Z",
     "iopub.status.busy": "2020-08-26T20:31:05.022014Z",
     "iopub.status.idle": "2020-08-26T20:31:05.054712Z",
     "shell.execute_reply": "2020-08-26T20:31:05.053631Z",
     "shell.execute_reply.started": "2020-08-26T20:31:05.022364Z"
    }
   },
   "outputs": [
    {
     "data": {
      "text/plain": [
       "(226, 18)"
      ]
     },
     "execution_count": 37,
     "metadata": {},
     "output_type": "execute_result"
    }
   ],
   "source": [
    "# Find reviews that contain the string \"mcmuffin\" in the text column\n",
    "mcmuffin = df_final[df_final['text'].str.contains('mcmuffin')]\n",
    "mcmuffin.shape"
   ]
  },
  {
   "cell_type": "code",
   "execution_count": 38,
   "metadata": {
    "execution": {
     "iopub.execute_input": "2020-08-26T20:31:27.298380Z",
     "iopub.status.busy": "2020-08-26T20:31:27.298076Z",
     "iopub.status.idle": "2020-08-26T20:31:27.326527Z",
     "shell.execute_reply": "2020-08-26T20:31:27.324693Z",
     "shell.execute_reply.started": "2020-08-26T20:31:27.298333Z"
    }
   },
   "outputs": [
    {
     "data": {
      "text/plain": [
       "(133, 18)"
      ]
     },
     "execution_count": 38,
     "metadata": {},
     "output_type": "execute_result"
    }
   ],
   "source": [
    "# Find reviews that contain the string \"french fries\" in the text column\n",
    "french_fries = df_final[df_final['text'].str.contains('french fries')]\n",
    "french_fries.shape"
   ]
  },
  {
   "cell_type": "code",
   "execution_count": 39,
   "metadata": {
    "execution": {
     "iopub.execute_input": "2020-08-26T20:32:22.975368Z",
     "iopub.status.busy": "2020-08-26T20:32:22.974994Z",
     "iopub.status.idle": "2020-08-26T20:32:23.012613Z",
     "shell.execute_reply": "2020-08-26T20:32:23.010107Z",
     "shell.execute_reply.started": "2020-08-26T20:32:22.975328Z"
    }
   },
   "outputs": [
    {
     "data": {
      "text/plain": [
       "(403, 18)"
      ]
     },
     "execution_count": 39,
     "metadata": {},
     "output_type": "execute_result"
    }
   ],
   "source": [
    "# Find reviews that contain the string \"happy meal\" in the text column\n",
    "happy_meal = df_final[df_final['text'].str.contains('happy meal')]\n",
    "happy_meal.shape"
   ]
  },
  {
   "cell_type": "code",
   "execution_count": 41,
   "metadata": {
    "execution": {
     "iopub.execute_input": "2020-08-26T20:34:25.368264Z",
     "iopub.status.busy": "2020-08-26T20:34:25.368004Z",
     "iopub.status.idle": "2020-08-26T20:34:25.402607Z",
     "shell.execute_reply": "2020-08-26T20:34:25.401371Z",
     "shell.execute_reply.started": "2020-08-26T20:34:25.368234Z"
    }
   },
   "outputs": [
    {
     "data": {
      "text/plain": [
       "(475, 18)"
      ]
     },
     "execution_count": 41,
     "metadata": {},
     "output_type": "execute_result"
    }
   ],
   "source": [
    "# Find reviews that contain the string \"soda\" in the text column\n",
    "soda = df_final[df_final['text'].str.contains('soda')]\n",
    "soda.shape"
   ]
  },
  {
   "cell_type": "code",
   "execution_count": 86,
   "metadata": {
    "execution": {
     "iopub.execute_input": "2020-08-26T20:59:11.049937Z",
     "iopub.status.busy": "2020-08-26T20:59:11.049526Z",
     "iopub.status.idle": "2020-08-26T20:59:11.086894Z",
     "shell.execute_reply": "2020-08-26T20:59:11.085871Z",
     "shell.execute_reply.started": "2020-08-26T20:59:11.049889Z"
    }
   },
   "outputs": [
    {
     "data": {
      "text/plain": [
       "(883, 18)"
      ]
     },
     "execution_count": 86,
     "metadata": {},
     "output_type": "execute_result"
    }
   ],
   "source": [
    "# Find reviews that contain the string \"sauce\" in the text column\n",
    "sauce = df_final[df_final['text'].str.contains('sauce')]\n",
    "sauce.shape"
   ]
  },
  {
   "cell_type": "code",
   "execution_count": 87,
   "metadata": {
    "execution": {
     "iopub.execute_input": "2020-08-26T20:59:18.820641Z",
     "iopub.status.busy": "2020-08-26T20:59:18.820372Z",
     "iopub.status.idle": "2020-08-26T20:59:18.827562Z",
     "shell.execute_reply": "2020-08-26T20:59:18.826359Z",
     "shell.execute_reply.started": "2020-08-26T20:59:18.820608Z"
    }
   },
   "outputs": [
    {
     "data": {
      "text/plain": [
       "12"
      ]
     },
     "execution_count": 87,
     "metadata": {},
     "output_type": "execute_result"
    }
   ],
   "source": [
    "# Find reviews that contain ANY of the list of food words\n",
    "food_list = ['mcnugget', 'nugget', 'coke', 'soda', 'mcflurry', 'fries', 'french fries', 'big mac', 'burger', 'mcmuffin', 'happy meal', 'sauce'] \n",
    "len(food_list)"
   ]
  },
  {
   "cell_type": "code",
   "execution_count": 88,
   "metadata": {
    "execution": {
     "iopub.execute_input": "2020-08-26T20:59:20.820428Z",
     "iopub.status.busy": "2020-08-26T20:59:20.820078Z",
     "iopub.status.idle": "2020-08-26T20:59:20.826511Z",
     "shell.execute_reply": "2020-08-26T20:59:20.825381Z",
     "shell.execute_reply.started": "2020-08-26T20:59:20.820358Z"
    }
   },
   "outputs": [
    {
     "data": {
      "text/plain": [
       "['mcnugget',\n",
       " 'nugget',\n",
       " 'coke',\n",
       " 'soda',\n",
       " 'mcflurry',\n",
       " 'fries',\n",
       " 'french fries',\n",
       " 'big mac',\n",
       " 'burger',\n",
       " 'mcmuffin',\n",
       " 'happy meal',\n",
       " 'sauce']"
      ]
     },
     "execution_count": 88,
     "metadata": {},
     "output_type": "execute_result"
    }
   ],
   "source": [
    "food_list"
   ]
  },
  {
   "cell_type": "code",
   "execution_count": 89,
   "metadata": {
    "execution": {
     "iopub.execute_input": "2020-08-26T20:59:23.103202Z",
     "iopub.status.busy": "2020-08-26T20:59:23.102940Z",
     "iopub.status.idle": "2020-08-26T20:59:23.328828Z",
     "shell.execute_reply": "2020-08-26T20:59:23.328043Z",
     "shell.execute_reply.started": "2020-08-26T20:59:23.103171Z"
    }
   },
   "outputs": [],
   "source": [
    "foods = df_final[df_final['text'].str.contains('|'.join(food_list))]"
   ]
  },
  {
   "cell_type": "code",
   "execution_count": 90,
   "metadata": {
    "execution": {
     "iopub.execute_input": "2020-08-26T20:59:24.581209Z",
     "iopub.status.busy": "2020-08-26T20:59:24.580213Z",
     "iopub.status.idle": "2020-08-26T20:59:24.588412Z",
     "shell.execute_reply": "2020-08-26T20:59:24.587214Z",
     "shell.execute_reply.started": "2020-08-26T20:59:24.581151Z"
    }
   },
   "outputs": [
    {
     "data": {
      "text/plain": [
       "(5732, 18)"
      ]
     },
     "execution_count": 90,
     "metadata": {},
     "output_type": "execute_result"
    }
   ],
   "source": [
    "foods.shape"
   ]
  },
  {
   "cell_type": "code",
   "execution_count": 60,
   "metadata": {
    "execution": {
     "iopub.execute_input": "2020-08-26T20:48:14.062724Z",
     "iopub.status.busy": "2020-08-26T20:48:14.062472Z",
     "iopub.status.idle": "2020-08-26T20:48:14.070024Z",
     "shell.execute_reply": "2020-08-26T20:48:14.067331Z",
     "shell.execute_reply.started": "2020-08-26T20:48:14.062694Z"
    }
   },
   "outputs": [
    {
     "data": {
      "text/plain": [
       "(2, 18)"
      ]
     },
     "execution_count": 60,
     "metadata": {},
     "output_type": "execute_result"
    }
   ],
   "source": [
    "foods.shape"
   ]
  },
  {
   "cell_type": "code",
   "execution_count": 85,
   "metadata": {
    "execution": {
     "iopub.execute_input": "2020-08-26T20:55:32.049697Z",
     "iopub.status.busy": "2020-08-26T20:55:32.049437Z",
     "iopub.status.idle": "2020-08-26T20:55:32.286988Z",
     "shell.execute_reply": "2020-08-26T20:55:32.286193Z",
     "shell.execute_reply.started": "2020-08-26T20:55:32.049668Z"
    }
   },
   "outputs": [
    {
     "name": "stdout",
     "output_type": "stream",
     "text": [
      "The number of rows that contain 'mcnugget' is:  42\n",
      "The number of rows that contain 'nugget' is:  926\n",
      "The number of rows that contain 'coke' is:  249\n",
      "The number of rows that contain 'soda' is:  475\n",
      "The number of rows that contain 'mcflurry' is:  52\n",
      "The number of rows that contain 'fries' is:  2506\n",
      "The number of rows that contain 'french fries' is:  133\n",
      "The number of rows that contain 'big mac' is:  109\n",
      "The number of rows that contain 'burger' is:  2147\n",
      "The number of rows that contain 'mcmuffin' is:  226\n",
      "The number of rows that contain 'happy meal' is:  403\n"
     ]
    }
   ],
   "source": [
    "# Search for \n",
    "for food in food_list:\n",
    "    food_word = df_final[df_final['text'].str.contains(food)]\n",
    "    print('The number of rows that contain', \"'\"+food+\"'\", \"is: \", food_word.shape[0])\n"
   ]
  },
  {
   "cell_type": "markdown",
   "metadata": {},
   "source": [
    "## By Time"
   ]
  },
  {
   "cell_type": "code",
   "execution_count": 44,
   "metadata": {
    "execution": {
     "iopub.execute_input": "2020-08-26T20:39:59.234561Z",
     "iopub.status.busy": "2020-08-26T20:39:59.234272Z",
     "iopub.status.idle": "2020-08-26T20:39:59.242633Z",
     "shell.execute_reply": "2020-08-26T20:39:59.241861Z",
     "shell.execute_reply.started": "2020-08-26T20:39:59.234523Z"
    }
   },
   "outputs": [
    {
     "data": {
      "text/plain": [
       "4"
      ]
     },
     "execution_count": 44,
     "metadata": {},
     "output_type": "execute_result"
    }
   ],
   "source": [
    "# Find reviews that contain ANY of the list of time words\n",
    "time_list = ['breakfast', 'lunch', 'dinner', 'brunch' ]\n",
    "len(time_list)"
   ]
  },
  {
   "cell_type": "code",
   "execution_count": 52,
   "metadata": {
    "execution": {
     "iopub.execute_input": "2020-08-26T20:42:36.964792Z",
     "iopub.status.busy": "2020-08-26T20:42:36.964539Z",
     "iopub.status.idle": "2020-08-26T20:42:37.064286Z",
     "shell.execute_reply": "2020-08-26T20:42:37.063030Z",
     "shell.execute_reply.started": "2020-08-26T20:42:36.964762Z"
    }
   },
   "outputs": [
    {
     "name": "stdout",
     "output_type": "stream",
     "text": [
      "The number of rows that contain 'breakfast' is:  1390\n",
      "The number of rows that contain 'lunch' is:  701\n",
      "The number of rows that contain 'dinner' is:  247\n",
      "The number of rows that contain 'brunch' is:  6\n"
     ]
    }
   ],
   "source": [
    "# Search for \n",
    "for time in time_list:\n",
    "    time_word = df_final[df_final['text'].str.contains(time)]\n",
    "    print('The number of rows that contain', \"'\"+time+\"'\", \"is: \", time_word.shape[0])\n"
   ]
  },
  {
   "cell_type": "code",
   "execution_count": 91,
   "metadata": {
    "execution": {
     "iopub.execute_input": "2020-08-26T21:00:32.446921Z",
     "iopub.status.busy": "2020-08-26T21:00:32.446632Z",
     "iopub.status.idle": "2020-08-26T21:00:32.452936Z",
     "shell.execute_reply": "2020-08-26T21:00:32.451756Z",
     "shell.execute_reply.started": "2020-08-26T21:00:32.446888Z"
    }
   },
   "outputs": [
    {
     "data": {
      "text/plain": [
       "(20414, 18)"
      ]
     },
     "execution_count": 91,
     "metadata": {},
     "output_type": "execute_result"
    }
   ],
   "source": [
    "df_final.shape"
   ]
  },
  {
   "cell_type": "markdown",
   "metadata": {},
   "source": [
    "## By Emotion"
   ]
  },
  {
   "cell_type": "code",
   "execution_count": null,
   "metadata": {},
   "outputs": [],
   "source": []
  },
  {
   "cell_type": "code",
   "execution_count": null,
   "metadata": {},
   "outputs": [],
   "source": []
  },
  {
   "cell_type": "code",
   "execution_count": null,
   "metadata": {},
   "outputs": [],
   "source": [
    "# Search for menu items: fries, burger, happy meal, mcflurry, quarter pounder, big mac, mcmuffin, apple pie, mcnuggets, ketchup"
   ]
  },
  {
   "cell_type": "code",
   "execution_count": null,
   "metadata": {},
   "outputs": [],
   "source": []
  },
  {
   "cell_type": "code",
   "execution_count": null,
   "metadata": {},
   "outputs": [],
   "source": [
    "# Search for vocabulary: friendly, service, smile"
   ]
  },
  {
   "cell_type": "code",
   "execution_count": null,
   "metadata": {},
   "outputs": [],
   "source": [
    "\n",
    "# from gensim.utils import simple_preprocess\n",
    "# # Tokenize the text column to get the new column 'tokenized_text'\n",
    "# top_data_df_small['tokenized_text'] = [simple_preprocess(line, deacc=True) for line in top_data_df_small['text']] \n",
    "# print(top_data_df_small['tokenized_text'].head(10))"
   ]
  },
  {
   "cell_type": "code",
   "execution_count": null,
   "metadata": {},
   "outputs": [],
   "source": [
    "\n",
    "# from gensim.parsing.porter import PorterStemmer\n",
    "# porter_stemmer = PorterStemmer()\n",
    "# # Get the stemmed_tokens\n",
    "# top_data_df_small['stemmed_tokens'] = [[porter_stemmer.stem(word) for word in tokens] for tokens in top_data_df_small['tokenized_text'] ]\n",
    "# top_data_df_small['stemmed_tokens'].head(10)"
   ]
  }
 ],
 "metadata": {
  "kernelspec": {
   "display_name": "Python 3",
   "language": "python",
   "name": "python3"
  },
  "language_info": {
   "codemirror_mode": {
    "name": "ipython",
    "version": 3
   },
   "file_extension": ".py",
   "mimetype": "text/x-python",
   "name": "python",
   "nbconvert_exporter": "python",
   "pygments_lexer": "ipython3",
   "version": "3.8.5"
  }
 },
 "nbformat": 4,
 "nbformat_minor": 4
}
