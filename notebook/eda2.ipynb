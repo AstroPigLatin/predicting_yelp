{
 "cells": [
  {
   "cell_type": "code",
   "execution_count": 2,
   "metadata": {
    "execution": {
     "iopub.execute_input": "2020-08-27T21:41:56.499915Z",
     "iopub.status.busy": "2020-08-27T21:41:56.499670Z",
     "iopub.status.idle": "2020-08-27T21:41:56.954029Z",
     "shell.execute_reply": "2020-08-27T21:41:56.952925Z",
     "shell.execute_reply.started": "2020-08-27T21:41:56.499888Z"
    }
   },
   "outputs": [],
   "source": [
    "import json\n",
    "import pandas as pd\n",
    "import numpy as np\n",
    "import re\n",
    "from pandas import *"
   ]
  },
  {
   "cell_type": "code",
   "execution_count": 3,
   "metadata": {
    "execution": {
     "iopub.execute_input": "2020-08-27T21:41:56.955518Z",
     "iopub.status.busy": "2020-08-27T21:41:56.955328Z",
     "iopub.status.idle": "2020-08-27T21:41:57.164560Z",
     "shell.execute_reply": "2020-08-27T21:41:57.163778Z",
     "shell.execute_reply.started": "2020-08-27T21:41:56.955492Z"
    }
   },
   "outputs": [],
   "source": [
    "#word clouds\n",
    "import heapq\n",
    "from wordcloud import WordCloud, STOPWORDS\n",
    "from PIL import Image\n",
    "import collections\n",
    "import matplotlib.cm as cm\n",
    "from matplotlib import rcParams\n",
    "from tqdm import tqdm"
   ]
  },
  {
   "cell_type": "code",
   "execution_count": 4,
   "metadata": {
    "execution": {
     "iopub.execute_input": "2020-08-27T21:41:57.166687Z",
     "iopub.status.busy": "2020-08-27T21:41:57.166198Z",
     "iopub.status.idle": "2020-08-27T21:42:03.459786Z",
     "shell.execute_reply": "2020-08-27T21:42:03.458958Z",
     "shell.execute_reply.started": "2020-08-27T21:41:57.166641Z"
    }
   },
   "outputs": [
    {
     "name": "stderr",
     "output_type": "stream",
     "text": [
      "[nltk_data] Downloading package stopwords to\n",
      "[nltk_data]     /Users/globemain/nltk_data...\n",
      "[nltk_data]   Package stopwords is already up-to-date!\n",
      "[nltk_data] Downloading package wordnet to\n",
      "[nltk_data]     /Users/globemain/nltk_data...\n",
      "[nltk_data]   Package wordnet is already up-to-date!\n"
     ]
    },
    {
     "data": {
      "text/plain": [
       "True"
      ]
     },
     "execution_count": 4,
     "metadata": {},
     "output_type": "execute_result"
    }
   ],
   "source": [
    "#sentiment analysis\n",
    "from textblob import TextBlob\n",
    "\n",
    "#text preprocessing\n",
    "from nltk.corpus import stopwords\n",
    "import nltk\n",
    "from nltk.stem import WordNetLemmatizer \n",
    "nltk.download('stopwords')\n",
    "nltk.download('wordnet')"
   ]
  },
  {
   "cell_type": "code",
   "execution_count": 5,
   "metadata": {
    "execution": {
     "iopub.execute_input": "2020-08-27T21:42:03.461315Z",
     "iopub.status.busy": "2020-08-27T21:42:03.461104Z",
     "iopub.status.idle": "2020-08-27T21:42:05.241869Z",
     "shell.execute_reply": "2020-08-27T21:42:05.240693Z",
     "shell.execute_reply.started": "2020-08-27T21:42:03.461289Z"
    }
   },
   "outputs": [
    {
     "name": "stdout",
     "output_type": "stream",
     "text": [
      "Requirement already satisfied: textblob in /usr/local/lib/python3.8/site-packages (0.15.3)\n",
      "Requirement already satisfied: nltk>=3.1 in /usr/local/lib/python3.8/site-packages (from textblob) (3.5)\n",
      "Requirement already satisfied: click in /usr/local/lib/python3.8/site-packages (from nltk>=3.1->textblob) (7.1.2)\n",
      "Requirement already satisfied: tqdm in /usr/local/lib/python3.8/site-packages (from nltk>=3.1->textblob) (4.48.2)\n",
      "Requirement already satisfied: joblib in /usr/local/lib/python3.8/site-packages (from nltk>=3.1->textblob) (0.16.0)\n",
      "Requirement already satisfied: regex in /usr/local/lib/python3.8/site-packages (from nltk>=3.1->textblob) (2020.7.14)\n",
      "Note: you may need to restart the kernel to use updated packages.\n"
     ]
    }
   ],
   "source": [
    "pip install textblob"
   ]
  },
  {
   "cell_type": "code",
   "execution_count": 6,
   "metadata": {
    "execution": {
     "iopub.execute_input": "2020-08-27T21:42:05.244887Z",
     "iopub.status.busy": "2020-08-27T21:42:05.244071Z",
     "iopub.status.idle": "2020-08-27T21:42:05.692775Z",
     "shell.execute_reply": "2020-08-27T21:42:05.691804Z",
     "shell.execute_reply.started": "2020-08-27T21:42:05.244845Z"
    }
   },
   "outputs": [],
   "source": [
    "#hide warning\n",
    "import warnings\n",
    "warnings.filterwarnings(\"ignore\",category=DeprecationWarning)\n",
    "\n",
    "#plotting\n",
    "import matplotlib.pyplot as plt\n",
    "import seaborn as sns\n",
    "import plotly.express as px"
   ]
  },
  {
   "cell_type": "code",
   "execution_count": 7,
   "metadata": {
    "execution": {
     "iopub.execute_input": "2020-08-27T21:42:05.694125Z",
     "iopub.status.busy": "2020-08-27T21:42:05.693923Z",
     "iopub.status.idle": "2020-08-27T21:42:07.442104Z",
     "shell.execute_reply": "2020-08-27T21:42:07.441085Z",
     "shell.execute_reply.started": "2020-08-27T21:42:05.694098Z"
    }
   },
   "outputs": [
    {
     "name": "stdout",
     "output_type": "stream",
     "text": [
      "Requirement already satisfied: plotly in /usr/local/lib/python3.8/site-packages (4.9.0)\n",
      "Requirement already satisfied: retrying>=1.3.3 in /usr/local/lib/python3.8/site-packages (from plotly) (1.3.3)\n",
      "Requirement already satisfied: six in /Users/globemain/Library/Python/3.8/lib/python/site-packages (from plotly) (1.15.0)\n",
      "Note: you may need to restart the kernel to use updated packages.\n"
     ]
    }
   ],
   "source": [
    "pip install plotly"
   ]
  },
  {
   "cell_type": "code",
   "execution_count": 8,
   "metadata": {
    "execution": {
     "iopub.execute_input": "2020-08-27T21:42:07.444331Z",
     "iopub.status.busy": "2020-08-27T21:42:07.444046Z",
     "iopub.status.idle": "2020-08-27T21:42:07.467625Z",
     "shell.execute_reply": "2020-08-27T21:42:07.466542Z",
     "shell.execute_reply.started": "2020-08-27T21:42:07.444289Z"
    }
   },
   "outputs": [
    {
     "data": {
      "text/plain": [
       "''"
      ]
     },
     "execution_count": 8,
     "metadata": {},
     "output_type": "execute_result"
    }
   ],
   "source": [
    "sc"
   ]
  },
  {
   "cell_type": "code",
   "execution_count": 9,
   "metadata": {
    "execution": {
     "iopub.execute_input": "2020-08-27T21:42:07.469793Z",
     "iopub.status.busy": "2020-08-27T21:42:07.469471Z",
     "iopub.status.idle": "2020-08-27T21:42:07.607095Z",
     "shell.execute_reply": "2020-08-27T21:42:07.605257Z",
     "shell.execute_reply.started": "2020-08-27T21:42:07.469755Z"
    }
   },
   "outputs": [
    {
     "name": "stdout",
     "output_type": "stream",
     "text": [
      "deep_learning.ipynb   models.ipynb          sentiment.ipynb\n",
      "eda.ipynb             photos.ipynb          specific_word.ipynb\n",
      "eda2.ipynb            ratings.ipynb         topic_modeling.ipynb\n"
     ]
    }
   ],
   "source": [
    "ls"
   ]
  },
  {
   "cell_type": "code",
   "execution_count": 10,
   "metadata": {
    "execution": {
     "iopub.execute_input": "2020-08-27T21:42:07.613044Z",
     "iopub.status.busy": "2020-08-27T21:42:07.612660Z",
     "iopub.status.idle": "2020-08-27T21:42:07.747705Z",
     "shell.execute_reply": "2020-08-27T21:42:07.745121Z",
     "shell.execute_reply.started": "2020-08-27T21:42:07.613007Z"
    }
   },
   "outputs": [
    {
     "ename": "FileNotFoundError",
     "evalue": "[Errno 2] No such file or directory: 'data/review.json'",
     "output_type": "error",
     "traceback": [
      "\u001b[0;31m---------------------------------------------------------------------------\u001b[0m",
      "\u001b[0;31mFileNotFoundError\u001b[0m                         Traceback (most recent call last)",
      "\u001b[0;32m<ipython-input-10-1f96f03c246e>\u001b[0m in \u001b[0;36m<module>\u001b[0;34m\u001b[0m\n\u001b[1;32m      1\u001b[0m \u001b[0;31m# Convert json file into list\u001b[0m\u001b[0;34m\u001b[0m\u001b[0;34m\u001b[0m\u001b[0;34m\u001b[0m\u001b[0m\n\u001b[1;32m      2\u001b[0m \u001b[0mreview\u001b[0m \u001b[0;34m=\u001b[0m \u001b[0;34m[\u001b[0m\u001b[0;34m]\u001b[0m\u001b[0;34m\u001b[0m\u001b[0;34m\u001b[0m\u001b[0m\n\u001b[0;32m----> 3\u001b[0;31m \u001b[0;32mfor\u001b[0m \u001b[0mline\u001b[0m \u001b[0;32min\u001b[0m \u001b[0mopen\u001b[0m\u001b[0;34m(\u001b[0m\u001b[0;34m'data/review.json'\u001b[0m\u001b[0;34m,\u001b[0m \u001b[0;34m'r'\u001b[0m\u001b[0;34m)\u001b[0m\u001b[0;34m:\u001b[0m\u001b[0;34m\u001b[0m\u001b[0;34m\u001b[0m\u001b[0m\n\u001b[0m\u001b[1;32m      4\u001b[0m     \u001b[0mreview\u001b[0m\u001b[0;34m.\u001b[0m\u001b[0mappend\u001b[0m\u001b[0;34m(\u001b[0m\u001b[0mjson\u001b[0m\u001b[0;34m.\u001b[0m\u001b[0mloads\u001b[0m\u001b[0;34m(\u001b[0m\u001b[0mline\u001b[0m\u001b[0;34m)\u001b[0m\u001b[0;34m)\u001b[0m\u001b[0;34m\u001b[0m\u001b[0;34m\u001b[0m\u001b[0m\n",
      "\u001b[0;31mFileNotFoundError\u001b[0m: [Errno 2] No such file or directory: 'data/review.json'"
     ]
    }
   ],
   "source": [
    "# Convert json file into list\n",
    "review = []\n",
    "for line in open('data/review.json', 'r'):\n",
    "    review.append(json.loads(line))"
   ]
  },
  {
   "cell_type": "code",
   "execution_count": null,
   "metadata": {
    "execution": {
     "iopub.status.busy": "2020-08-27T21:42:07.750190Z",
     "iopub.status.idle": "2020-08-27T21:42:07.750711Z"
    }
   },
   "outputs": [],
   "source": [
    "print('The length is: ',len(review))"
   ]
  },
  {
   "cell_type": "code",
   "execution_count": null,
   "metadata": {
    "execution": {
     "iopub.status.busy": "2020-08-27T21:42:07.752359Z",
     "iopub.status.idle": "2020-08-27T21:42:07.752782Z"
    }
   },
   "outputs": [],
   "source": [
    "# Convert list into dataframe\n",
    "df_review = pd.DataFrame(review)"
   ]
  },
  {
   "cell_type": "code",
   "execution_count": null,
   "metadata": {
    "execution": {
     "iopub.status.busy": "2020-08-27T21:42:07.754024Z",
     "iopub.status.idle": "2020-08-27T21:42:07.754463Z"
    }
   },
   "outputs": [],
   "source": [
    "# Convert dataframe into csv file\n",
    "df_review.to_csv('yelp_final.csv')"
   ]
  },
  {
   "cell_type": "code",
   "execution_count": null,
   "metadata": {
    "execution": {
     "iopub.status.busy": "2020-08-27T21:42:07.756489Z",
     "iopub.status.idle": "2020-08-27T21:42:07.757272Z"
    }
   },
   "outputs": [],
   "source": [
    "sc"
   ]
  },
  {
   "cell_type": "code",
   "execution_count": null,
   "metadata": {
    "execution": {
     "iopub.status.busy": "2020-08-27T21:42:07.759003Z",
     "iopub.status.idle": "2020-08-27T21:42:07.759642Z"
    }
   },
   "outputs": [],
   "source": [
    "df_review.shape"
   ]
  },
  {
   "cell_type": "code",
   "execution_count": null,
   "metadata": {
    "execution": {
     "iopub.status.busy": "2020-08-27T21:42:07.761379Z",
     "iopub.status.idle": "2020-08-27T21:42:07.761892Z"
    }
   },
   "outputs": [],
   "source": [
    "df_review"
   ]
  },
  {
   "cell_type": "code",
   "execution_count": null,
   "metadata": {
    "execution": {
     "iopub.status.busy": "2020-08-27T21:42:07.763554Z",
     "iopub.status.idle": "2020-08-27T21:42:07.764027Z"
    }
   },
   "outputs": [],
   "source": [
    "df_review.describe()"
   ]
  },
  {
   "cell_type": "code",
   "execution_count": null,
   "metadata": {
    "execution": {
     "iopub.status.busy": "2020-08-27T21:42:07.765450Z",
     "iopub.status.idle": "2020-08-27T21:42:07.766008Z"
    }
   },
   "outputs": [],
   "source": [
    "df_review.info()"
   ]
  },
  {
   "cell_type": "code",
   "execution_count": null,
   "metadata": {
    "execution": {
     "iopub.status.busy": "2020-08-27T21:42:07.767551Z",
     "iopub.status.idle": "2020-08-27T21:42:07.768068Z"
    }
   },
   "outputs": [],
   "source": [
    "df_business = pd.read_json('data/business.json',lines=True)"
   ]
  },
  {
   "cell_type": "code",
   "execution_count": null,
   "metadata": {
    "execution": {
     "iopub.status.busy": "2020-08-27T21:42:07.769137Z",
     "iopub.status.idle": "2020-08-27T21:42:07.769725Z"
    }
   },
   "outputs": [],
   "source": [
    "ls"
   ]
  },
  {
   "cell_type": "code",
   "execution_count": null,
   "metadata": {
    "execution": {
     "iopub.status.busy": "2020-08-27T21:42:07.771757Z",
     "iopub.status.idle": "2020-08-27T21:42:07.772314Z"
    }
   },
   "outputs": [],
   "source": [
    "df_business.shape"
   ]
  },
  {
   "cell_type": "code",
   "execution_count": null,
   "metadata": {
    "execution": {
     "iopub.status.busy": "2020-08-27T21:42:07.773809Z",
     "iopub.status.idle": "2020-08-27T21:42:07.774894Z"
    }
   },
   "outputs": [],
   "source": [
    "df_business.columns"
   ]
  },
  {
   "cell_type": "code",
   "execution_count": null,
   "metadata": {
    "execution": {
     "iopub.status.busy": "2020-08-27T21:42:07.776114Z",
     "iopub.status.idle": "2020-08-27T21:42:07.776420Z"
    }
   },
   "outputs": [],
   "source": [
    "# Drop unnecessary columns in business dataset\n",
    "drop_biz_cols = ['address','postal_code', 'attributes', 'hours','categories']"
   ]
  },
  {
   "cell_type": "code",
   "execution_count": null,
   "metadata": {
    "execution": {
     "iopub.status.busy": "2020-08-27T21:42:07.777690Z",
     "iopub.status.idle": "2020-08-27T21:42:07.778187Z"
    }
   },
   "outputs": [],
   "source": [
    "df_business.drop(drop_biz_cols, axis=1, inplace=True)"
   ]
  },
  {
   "cell_type": "code",
   "execution_count": null,
   "metadata": {
    "execution": {
     "iopub.status.busy": "2020-08-27T21:42:07.779773Z",
     "iopub.status.idle": "2020-08-27T21:42:07.780157Z"
    }
   },
   "outputs": [],
   "source": [
    "df_business"
   ]
  },
  {
   "cell_type": "code",
   "execution_count": null,
   "metadata": {
    "execution": {
     "iopub.status.busy": "2020-08-27T21:42:07.781204Z",
     "iopub.status.idle": "2020-08-27T21:42:07.781952Z"
    }
   },
   "outputs": [],
   "source": [
    "df_business['state'].nunique()"
   ]
  },
  {
   "cell_type": "code",
   "execution_count": null,
   "metadata": {
    "execution": {
     "iopub.status.busy": "2020-08-27T21:42:07.783166Z",
     "iopub.status.idle": "2020-08-27T21:42:07.783589Z"
    }
   },
   "outputs": [],
   "source": [
    "# Find rows where the name colum has the strong \"McDonald's\"\n",
    "df_mcdonalds = df_business[df_business['name'].str.contains(\"McDonald's\")]"
   ]
  },
  {
   "cell_type": "code",
   "execution_count": null,
   "metadata": {
    "execution": {
     "iopub.status.busy": "2020-08-27T21:42:07.785129Z",
     "iopub.status.idle": "2020-08-27T21:42:07.785514Z"
    }
   },
   "outputs": [],
   "source": [
    "df_mcdonalds"
   ]
  },
  {
   "cell_type": "code",
   "execution_count": null,
   "metadata": {
    "execution": {
     "iopub.status.busy": "2020-08-27T21:42:07.786854Z",
     "iopub.status.idle": "2020-08-27T21:42:07.787405Z"
    }
   },
   "outputs": [],
   "source": [
    "df_mcdonalds.shape"
   ]
  },
  {
   "cell_type": "code",
   "execution_count": null,
   "metadata": {
    "execution": {
     "iopub.status.busy": "2020-08-27T21:42:07.789145Z",
     "iopub.status.idle": "2020-08-27T21:42:07.789664Z"
    }
   },
   "outputs": [],
   "source": [
    "df_mcdonalds['name'].nunique()"
   ]
  },
  {
   "cell_type": "code",
   "execution_count": null,
   "metadata": {
    "execution": {
     "iopub.status.busy": "2020-08-27T21:42:07.791196Z",
     "iopub.status.idle": "2020-08-27T21:42:07.791641Z"
    }
   },
   "outputs": [],
   "source": [
    "df_mcdonalds['name'].unique()"
   ]
  },
  {
   "cell_type": "code",
   "execution_count": null,
   "metadata": {
    "execution": {
     "iopub.status.busy": "2020-08-27T21:42:07.792962Z",
     "iopub.status.idle": "2020-08-27T21:42:07.793551Z"
    }
   },
   "outputs": [],
   "source": [
    "df_mcdonalds2 = df_business[df_business['name'].str.contains(\"McDonalds\")]"
   ]
  },
  {
   "cell_type": "code",
   "execution_count": null,
   "metadata": {
    "execution": {
     "iopub.status.busy": "2020-08-27T21:42:07.795260Z",
     "iopub.status.idle": "2020-08-27T21:42:07.795795Z"
    }
   },
   "outputs": [],
   "source": [
    "df_mcdonalds2"
   ]
  },
  {
   "cell_type": "code",
   "execution_count": null,
   "metadata": {
    "execution": {
     "iopub.status.busy": "2020-08-27T21:42:07.797324Z",
     "iopub.status.idle": "2020-08-27T21:42:07.797655Z"
    }
   },
   "outputs": [],
   "source": [
    "df_mcdonalds2.shape"
   ]
  },
  {
   "cell_type": "code",
   "execution_count": null,
   "metadata": {
    "execution": {
     "iopub.status.busy": "2020-08-27T21:42:07.799339Z",
     "iopub.status.idle": "2020-08-27T21:42:07.799761Z"
    }
   },
   "outputs": [],
   "source": [
    "# Concatenate the two McDonald's dataframes\n",
    "df_mcdonalds_final = pd.concat([df_mcdonalds, df_mcdonalds2])"
   ]
  },
  {
   "cell_type": "code",
   "execution_count": null,
   "metadata": {
    "execution": {
     "iopub.status.busy": "2020-08-27T21:42:07.800936Z",
     "iopub.status.idle": "2020-08-27T21:42:07.801419Z"
    }
   },
   "outputs": [],
   "source": [
    "df_mcdonalds_final"
   ]
  },
  {
   "cell_type": "code",
   "execution_count": null,
   "metadata": {
    "execution": {
     "iopub.status.busy": "2020-08-27T21:42:07.802776Z",
     "iopub.status.idle": "2020-08-27T21:42:07.803218Z"
    }
   },
   "outputs": [],
   "source": [
    "# test a business id for McDonald's in Parma Heights, OH\n",
    "# https://www.yelp.com/biz/mcdonalds-parma-heights\n",
    "test_biz_id = df_review[df_review['business_id']=='CfwrsG76Wm4iLS22v_wAcg']"
   ]
  },
  {
   "cell_type": "code",
   "execution_count": null,
   "metadata": {
    "execution": {
     "iopub.status.busy": "2020-08-27T21:42:07.805119Z",
     "iopub.status.idle": "2020-08-27T21:42:07.805700Z"
    }
   },
   "outputs": [],
   "source": [
    "test_biz_id.shape"
   ]
  },
  {
   "cell_type": "code",
   "execution_count": null,
   "metadata": {
    "execution": {
     "iopub.status.busy": "2020-08-27T21:42:07.807139Z",
     "iopub.status.idle": "2020-08-27T21:42:07.807793Z"
    }
   },
   "outputs": [],
   "source": [
    "test_biz_id"
   ]
  },
  {
   "cell_type": "code",
   "execution_count": null,
   "metadata": {
    "execution": {
     "iopub.status.busy": "2020-08-27T21:42:07.809198Z",
     "iopub.status.idle": "2020-08-27T21:42:07.809866Z"
    }
   },
   "outputs": [],
   "source": [
    "df_mcdonalds_final.to_csv('mcdonalds_biz.csv')"
   ]
  },
  {
   "cell_type": "code",
   "execution_count": null,
   "metadata": {
    "execution": {
     "iopub.status.busy": "2020-08-27T21:42:07.811279Z",
     "iopub.status.idle": "2020-08-27T21:42:07.811776Z"
    }
   },
   "outputs": [],
   "source": [
    "# Merge the business and review datasets\n",
    "df_final = pd.merge(df_mcdonalds,df_review, on=\"business_id\")"
   ]
  },
  {
   "cell_type": "code",
   "execution_count": null,
   "metadata": {
    "execution": {
     "iopub.status.busy": "2020-08-27T21:42:07.814173Z",
     "iopub.status.idle": "2020-08-27T21:42:07.814558Z"
    }
   },
   "outputs": [],
   "source": [
    "df_final.nunique()"
   ]
  },
  {
   "cell_type": "code",
   "execution_count": null,
   "metadata": {
    "execution": {
     "iopub.status.busy": "2020-08-27T21:42:07.816045Z",
     "iopub.status.idle": "2020-08-27T21:42:07.816661Z"
    }
   },
   "outputs": [],
   "source": [
    "# Export final dtaframe to csv \n",
    "df_final.to_csv('mcdonalds_final.csv')"
   ]
  },
  {
   "cell_type": "code",
   "execution_count": null,
   "metadata": {
    "execution": {
     "iopub.status.busy": "2020-08-27T21:42:07.817964Z",
     "iopub.status.idle": "2020-08-27T21:42:07.818478Z"
    }
   },
   "outputs": [],
   "source": [
    "df_final.isna().any()"
   ]
  },
  {
   "cell_type": "code",
   "execution_count": null,
   "metadata": {
    "execution": {
     "iopub.status.busy": "2020-08-27T21:42:07.819915Z",
     "iopub.status.idle": "2020-08-27T21:42:07.820518Z"
    }
   },
   "outputs": [],
   "source": [
    "df_final.isnull().any()"
   ]
  },
  {
   "cell_type": "code",
   "execution_count": null,
   "metadata": {
    "execution": {
     "iopub.status.busy": "2020-08-27T21:42:07.822388Z",
     "iopub.status.idle": "2020-08-27T21:42:07.823046Z"
    }
   },
   "outputs": [],
   "source": [
    "df_final"
   ]
  },
  {
   "cell_type": "code",
   "execution_count": null,
   "metadata": {},
   "outputs": [],
   "source": []
  }
 ],
 "metadata": {
  "kernelspec": {
   "display_name": "Python 3",
   "language": "python",
   "name": "python3"
  },
  "language_info": {
   "codemirror_mode": {
    "name": "ipython",
    "version": 3
   },
   "file_extension": ".py",
   "mimetype": "text/x-python",
   "name": "python",
   "nbconvert_exporter": "python",
   "pygments_lexer": "ipython3",
   "version": "3.8.5"
  }
 },
 "nbformat": 4,
 "nbformat_minor": 4
}
