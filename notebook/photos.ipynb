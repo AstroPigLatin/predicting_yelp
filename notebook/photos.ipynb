{
 "cells": [
  {
   "cell_type": "code",
   "execution_count": 1,
   "metadata": {
    "execution": {
     "iopub.execute_input": "2020-08-26T21:28:48.213993Z",
     "iopub.status.busy": "2020-08-26T21:28:48.213731Z",
     "iopub.status.idle": "2020-08-26T21:28:48.764606Z",
     "shell.execute_reply": "2020-08-26T21:28:48.763863Z",
     "shell.execute_reply.started": "2020-08-26T21:28:48.213960Z"
    }
   },
   "outputs": [],
   "source": [
    "import pandas as pd\n",
    "import numpy as np"
   ]
  },
  {
   "cell_type": "code",
   "execution_count": 21,
   "metadata": {
    "execution": {
     "iopub.execute_input": "2020-08-26T21:35:48.906848Z",
     "iopub.status.busy": "2020-08-26T21:35:48.906442Z",
     "iopub.status.idle": "2020-08-26T21:35:48.920863Z",
     "shell.execute_reply": "2020-08-26T21:35:48.919800Z",
     "shell.execute_reply.started": "2020-08-26T21:35:48.906810Z"
    }
   },
   "outputs": [],
   "source": [
    "df_mcd = pd.read_csv('dataset/mcdonalds_biz.csv')"
   ]
  },
  {
   "cell_type": "code",
   "execution_count": 22,
   "metadata": {
    "execution": {
     "iopub.execute_input": "2020-08-26T21:35:54.542816Z",
     "iopub.status.busy": "2020-08-26T21:35:54.542553Z",
     "iopub.status.idle": "2020-08-26T21:35:54.549190Z",
     "shell.execute_reply": "2020-08-26T21:35:54.548040Z",
     "shell.execute_reply.started": "2020-08-26T21:35:54.542788Z"
    }
   },
   "outputs": [
    {
     "data": {
      "text/plain": [
       "(865, 10)"
      ]
     },
     "execution_count": 22,
     "metadata": {},
     "output_type": "execute_result"
    }
   ],
   "source": [
    "df_mcd.shape"
   ]
  },
  {
   "cell_type": "code",
   "execution_count": 23,
   "metadata": {
    "execution": {
     "iopub.execute_input": "2020-08-26T21:36:00.205827Z",
     "iopub.status.busy": "2020-08-26T21:36:00.205350Z",
     "iopub.status.idle": "2020-08-26T21:36:00.223975Z",
     "shell.execute_reply": "2020-08-26T21:36:00.222900Z",
     "shell.execute_reply.started": "2020-08-26T21:36:00.205786Z"
    }
   },
   "outputs": [
    {
     "data": {
      "text/html": [
       "<div>\n",
       "<style scoped>\n",
       "    .dataframe tbody tr th:only-of-type {\n",
       "        vertical-align: middle;\n",
       "    }\n",
       "\n",
       "    .dataframe tbody tr th {\n",
       "        vertical-align: top;\n",
       "    }\n",
       "\n",
       "    .dataframe thead th {\n",
       "        text-align: right;\n",
       "    }\n",
       "</style>\n",
       "<table border=\"1\" class=\"dataframe\">\n",
       "  <thead>\n",
       "    <tr style=\"text-align: right;\">\n",
       "      <th></th>\n",
       "      <th>Unnamed: 0</th>\n",
       "      <th>business_id</th>\n",
       "      <th>name</th>\n",
       "      <th>city</th>\n",
       "      <th>state</th>\n",
       "      <th>latitude</th>\n",
       "      <th>longitude</th>\n",
       "      <th>stars</th>\n",
       "      <th>review_count</th>\n",
       "      <th>is_open</th>\n",
       "    </tr>\n",
       "  </thead>\n",
       "  <tbody>\n",
       "    <tr>\n",
       "      <th>0</th>\n",
       "      <td>280</td>\n",
       "      <td>CfwrsG76Wm4iLS22v_wAcg</td>\n",
       "      <td>McDonald's</td>\n",
       "      <td>Parma Heights</td>\n",
       "      <td>OH</td>\n",
       "      <td>41.385949</td>\n",
       "      <td>-81.768113</td>\n",
       "      <td>2.5</td>\n",
       "      <td>15</td>\n",
       "      <td>1</td>\n",
       "    </tr>\n",
       "    <tr>\n",
       "      <th>1</th>\n",
       "      <td>741</td>\n",
       "      <td>v3kXkK9ga8jfgetr0Hb5Eg</td>\n",
       "      <td>McDonald's</td>\n",
       "      <td>Willowick</td>\n",
       "      <td>OH</td>\n",
       "      <td>41.642921</td>\n",
       "      <td>-81.469927</td>\n",
       "      <td>2.0</td>\n",
       "      <td>8</td>\n",
       "      <td>1</td>\n",
       "    </tr>\n",
       "    <tr>\n",
       "      <th>2</th>\n",
       "      <td>886</td>\n",
       "      <td>dgV3b_HRCGcrR1-OzkwHNA</td>\n",
       "      <td>McDonald's</td>\n",
       "      <td>Bradford</td>\n",
       "      <td>ON</td>\n",
       "      <td>44.108393</td>\n",
       "      <td>-79.589562</td>\n",
       "      <td>2.5</td>\n",
       "      <td>4</td>\n",
       "      <td>1</td>\n",
       "    </tr>\n",
       "    <tr>\n",
       "      <th>3</th>\n",
       "      <td>1274</td>\n",
       "      <td>2SedpQ674XBqyw3Wq4kyxQ</td>\n",
       "      <td>McDonald's</td>\n",
       "      <td>Mesa</td>\n",
       "      <td>AZ</td>\n",
       "      <td>33.390766</td>\n",
       "      <td>-111.685350</td>\n",
       "      <td>1.5</td>\n",
       "      <td>29</td>\n",
       "      <td>1</td>\n",
       "    </tr>\n",
       "    <tr>\n",
       "      <th>4</th>\n",
       "      <td>1402</td>\n",
       "      <td>2vuAlukfUZf3vbHsexEeDw</td>\n",
       "      <td>McDonald's</td>\n",
       "      <td>Toronto</td>\n",
       "      <td>ON</td>\n",
       "      <td>43.672212</td>\n",
       "      <td>-79.467928</td>\n",
       "      <td>1.0</td>\n",
       "      <td>20</td>\n",
       "      <td>1</td>\n",
       "    </tr>\n",
       "  </tbody>\n",
       "</table>\n",
       "</div>"
      ],
      "text/plain": [
       "   Unnamed: 0             business_id        name           city state  \\\n",
       "0         280  CfwrsG76Wm4iLS22v_wAcg  McDonald's  Parma Heights    OH   \n",
       "1         741  v3kXkK9ga8jfgetr0Hb5Eg  McDonald's      Willowick    OH   \n",
       "2         886  dgV3b_HRCGcrR1-OzkwHNA  McDonald's       Bradford    ON   \n",
       "3        1274  2SedpQ674XBqyw3Wq4kyxQ  McDonald's           Mesa    AZ   \n",
       "4        1402  2vuAlukfUZf3vbHsexEeDw  McDonald's        Toronto    ON   \n",
       "\n",
       "    latitude   longitude  stars  review_count  is_open  \n",
       "0  41.385949  -81.768113    2.5            15        1  \n",
       "1  41.642921  -81.469927    2.0             8        1  \n",
       "2  44.108393  -79.589562    2.5             4        1  \n",
       "3  33.390766 -111.685350    1.5            29        1  \n",
       "4  43.672212  -79.467928    1.0            20        1  "
      ]
     },
     "execution_count": 23,
     "metadata": {},
     "output_type": "execute_result"
    }
   ],
   "source": [
    "df_mcd.head()"
   ]
  },
  {
   "cell_type": "code",
   "execution_count": 9,
   "metadata": {
    "execution": {
     "iopub.execute_input": "2020-08-26T21:30:09.465821Z",
     "iopub.status.busy": "2020-08-26T21:30:09.465451Z",
     "iopub.status.idle": "2020-08-26T21:30:10.356098Z",
     "shell.execute_reply": "2020-08-26T21:30:10.355265Z",
     "shell.execute_reply.started": "2020-08-26T21:30:09.465772Z"
    }
   },
   "outputs": [],
   "source": [
    "df_photo = pd.read_json('dataset/photos.json',lines=True)"
   ]
  },
  {
   "cell_type": "code",
   "execution_count": 10,
   "metadata": {
    "execution": {
     "iopub.execute_input": "2020-08-26T21:30:13.582681Z",
     "iopub.status.busy": "2020-08-26T21:30:13.582436Z",
     "iopub.status.idle": "2020-08-26T21:30:13.587382Z",
     "shell.execute_reply": "2020-08-26T21:30:13.586682Z",
     "shell.execute_reply.started": "2020-08-26T21:30:13.582653Z"
    }
   },
   "outputs": [
    {
     "data": {
      "text/plain": [
       "(200000, 4)"
      ]
     },
     "execution_count": 10,
     "metadata": {},
     "output_type": "execute_result"
    }
   ],
   "source": [
    "df_photo.shape"
   ]
  },
  {
   "cell_type": "code",
   "execution_count": 12,
   "metadata": {
    "execution": {
     "iopub.execute_input": "2020-08-26T21:30:20.223324Z",
     "iopub.status.busy": "2020-08-26T21:30:20.223032Z",
     "iopub.status.idle": "2020-08-26T21:30:20.238883Z",
     "shell.execute_reply": "2020-08-26T21:30:20.237689Z",
     "shell.execute_reply.started": "2020-08-26T21:30:20.223287Z"
    }
   },
   "outputs": [
    {
     "data": {
      "text/html": [
       "<div>\n",
       "<style scoped>\n",
       "    .dataframe tbody tr th:only-of-type {\n",
       "        vertical-align: middle;\n",
       "    }\n",
       "\n",
       "    .dataframe tbody tr th {\n",
       "        vertical-align: top;\n",
       "    }\n",
       "\n",
       "    .dataframe thead th {\n",
       "        text-align: right;\n",
       "    }\n",
       "</style>\n",
       "<table border=\"1\" class=\"dataframe\">\n",
       "  <thead>\n",
       "    <tr style=\"text-align: right;\">\n",
       "      <th></th>\n",
       "      <th>photo_id</th>\n",
       "      <th>business_id</th>\n",
       "      <th>caption</th>\n",
       "      <th>label</th>\n",
       "    </tr>\n",
       "  </thead>\n",
       "  <tbody>\n",
       "    <tr>\n",
       "      <th>0</th>\n",
       "      <td>001kKc6P_rmgaXThAHxEkw</td>\n",
       "      <td>zKZc8GwCaKbACaV0HZAmpg</td>\n",
       "      <td>Clean and simple interior</td>\n",
       "      <td>inside</td>\n",
       "    </tr>\n",
       "    <tr>\n",
       "      <th>1</th>\n",
       "      <td>002gqWfVal1D2DT6oA-bVQ</td>\n",
       "      <td>qnZzSC4TKen19Gz9nyKCvw</td>\n",
       "      <td>12oz. Boneless Ribeye | Grilled to perfection ...</td>\n",
       "      <td>food</td>\n",
       "    </tr>\n",
       "    <tr>\n",
       "      <th>2</th>\n",
       "      <td>002GtTSYyQ4swIZyEnfF5A</td>\n",
       "      <td>9km51KaQujxsSgdaG9gYSw</td>\n",
       "      <td>The Most Yummy Tarts: Chantilly, Guava, Salted...</td>\n",
       "      <td>food</td>\n",
       "    </tr>\n",
       "    <tr>\n",
       "      <th>3</th>\n",
       "      <td>0036yehPJxVwNZDRDYH2jQ</td>\n",
       "      <td>Qg9L37JCd-PkcWMj9VAWmw</td>\n",
       "      <td>Dynamic Duo!  Great dance music!</td>\n",
       "      <td>inside</td>\n",
       "    </tr>\n",
       "    <tr>\n",
       "      <th>4</th>\n",
       "      <td>003Isvt6NCJ567PdAEwrfA</td>\n",
       "      <td>zgQHtqX0gqMw1nlBZl2VnQ</td>\n",
       "      <td></td>\n",
       "      <td>food</td>\n",
       "    </tr>\n",
       "  </tbody>\n",
       "</table>\n",
       "</div>"
      ],
      "text/plain": [
       "                 photo_id             business_id  \\\n",
       "0  001kKc6P_rmgaXThAHxEkw  zKZc8GwCaKbACaV0HZAmpg   \n",
       "1  002gqWfVal1D2DT6oA-bVQ  qnZzSC4TKen19Gz9nyKCvw   \n",
       "2  002GtTSYyQ4swIZyEnfF5A  9km51KaQujxsSgdaG9gYSw   \n",
       "3  0036yehPJxVwNZDRDYH2jQ  Qg9L37JCd-PkcWMj9VAWmw   \n",
       "4  003Isvt6NCJ567PdAEwrfA  zgQHtqX0gqMw1nlBZl2VnQ   \n",
       "\n",
       "                                             caption   label  \n",
       "0                          Clean and simple interior  inside  \n",
       "1  12oz. Boneless Ribeye | Grilled to perfection ...    food  \n",
       "2  The Most Yummy Tarts: Chantilly, Guava, Salted...    food  \n",
       "3                   Dynamic Duo!  Great dance music!  inside  \n",
       "4                                                       food  "
      ]
     },
     "execution_count": 12,
     "metadata": {},
     "output_type": "execute_result"
    }
   ],
   "source": [
    "df_photo.head()"
   ]
  },
  {
   "cell_type": "code",
   "execution_count": 24,
   "metadata": {
    "execution": {
     "iopub.execute_input": "2020-08-26T21:36:18.899014Z",
     "iopub.status.busy": "2020-08-26T21:36:18.898741Z",
     "iopub.status.idle": "2020-08-26T21:36:19.001426Z",
     "shell.execute_reply": "2020-08-26T21:36:18.999603Z",
     "shell.execute_reply.started": "2020-08-26T21:36:18.898985Z"
    }
   },
   "outputs": [],
   "source": [
    "photos = df_photo.merge(df_mcd, on='business_id')"
   ]
  },
  {
   "cell_type": "code",
   "execution_count": 25,
   "metadata": {
    "execution": {
     "iopub.execute_input": "2020-08-26T21:36:20.218076Z",
     "iopub.status.busy": "2020-08-26T21:36:20.217838Z",
     "iopub.status.idle": "2020-08-26T21:36:20.223853Z",
     "shell.execute_reply": "2020-08-26T21:36:20.222494Z",
     "shell.execute_reply.started": "2020-08-26T21:36:20.218048Z"
    }
   },
   "outputs": [
    {
     "data": {
      "text/plain": [
       "(7011, 13)"
      ]
     },
     "execution_count": 25,
     "metadata": {},
     "output_type": "execute_result"
    }
   ],
   "source": [
    "photos.shape"
   ]
  },
  {
   "cell_type": "code",
   "execution_count": 26,
   "metadata": {
    "execution": {
     "iopub.execute_input": "2020-08-26T21:36:21.760644Z",
     "iopub.status.busy": "2020-08-26T21:36:21.760196Z",
     "iopub.status.idle": "2020-08-26T21:36:21.784518Z",
     "shell.execute_reply": "2020-08-26T21:36:21.782446Z",
     "shell.execute_reply.started": "2020-08-26T21:36:21.760593Z"
    }
   },
   "outputs": [
    {
     "data": {
      "text/html": [
       "<div>\n",
       "<style scoped>\n",
       "    .dataframe tbody tr th:only-of-type {\n",
       "        vertical-align: middle;\n",
       "    }\n",
       "\n",
       "    .dataframe tbody tr th {\n",
       "        vertical-align: top;\n",
       "    }\n",
       "\n",
       "    .dataframe thead th {\n",
       "        text-align: right;\n",
       "    }\n",
       "</style>\n",
       "<table border=\"1\" class=\"dataframe\">\n",
       "  <thead>\n",
       "    <tr style=\"text-align: right;\">\n",
       "      <th></th>\n",
       "      <th>photo_id</th>\n",
       "      <th>business_id</th>\n",
       "      <th>caption</th>\n",
       "      <th>label</th>\n",
       "      <th>Unnamed: 0</th>\n",
       "      <th>name</th>\n",
       "      <th>city</th>\n",
       "      <th>state</th>\n",
       "      <th>latitude</th>\n",
       "      <th>longitude</th>\n",
       "      <th>stars</th>\n",
       "      <th>review_count</th>\n",
       "      <th>is_open</th>\n",
       "    </tr>\n",
       "  </thead>\n",
       "  <tbody>\n",
       "    <tr>\n",
       "      <th>0</th>\n",
       "      <td>00Hi8Oh671yCCPykwXe07Q</td>\n",
       "      <td>IO3kl2cSL188ozomiknqmQ</td>\n",
       "      <td></td>\n",
       "      <td>food</td>\n",
       "      <td>159853</td>\n",
       "      <td>McDonald's</td>\n",
       "      <td>Mint Hill</td>\n",
       "      <td>NC</td>\n",
       "      <td>35.186893</td>\n",
       "      <td>-80.689753</td>\n",
       "      <td>1.5</td>\n",
       "      <td>26</td>\n",
       "      <td>1</td>\n",
       "    </tr>\n",
       "    <tr>\n",
       "      <th>1</th>\n",
       "      <td>0V7L77cTdpKfzFqo20EqbQ</td>\n",
       "      <td>IO3kl2cSL188ozomiknqmQ</td>\n",
       "      <td></td>\n",
       "      <td>food</td>\n",
       "      <td>159853</td>\n",
       "      <td>McDonald's</td>\n",
       "      <td>Mint Hill</td>\n",
       "      <td>NC</td>\n",
       "      <td>35.186893</td>\n",
       "      <td>-80.689753</td>\n",
       "      <td>1.5</td>\n",
       "      <td>26</td>\n",
       "      <td>1</td>\n",
       "    </tr>\n",
       "    <tr>\n",
       "      <th>2</th>\n",
       "      <td>5BAJQx9tbVgCSY1rI3z4vA</td>\n",
       "      <td>IO3kl2cSL188ozomiknqmQ</td>\n",
       "      <td></td>\n",
       "      <td>food</td>\n",
       "      <td>159853</td>\n",
       "      <td>McDonald's</td>\n",
       "      <td>Mint Hill</td>\n",
       "      <td>NC</td>\n",
       "      <td>35.186893</td>\n",
       "      <td>-80.689753</td>\n",
       "      <td>1.5</td>\n",
       "      <td>26</td>\n",
       "      <td>1</td>\n",
       "    </tr>\n",
       "    <tr>\n",
       "      <th>3</th>\n",
       "      <td>7h4dmUTu2Tbx_LmaYUYIjA</td>\n",
       "      <td>IO3kl2cSL188ozomiknqmQ</td>\n",
       "      <td></td>\n",
       "      <td>food</td>\n",
       "      <td>159853</td>\n",
       "      <td>McDonald's</td>\n",
       "      <td>Mint Hill</td>\n",
       "      <td>NC</td>\n",
       "      <td>35.186893</td>\n",
       "      <td>-80.689753</td>\n",
       "      <td>1.5</td>\n",
       "      <td>26</td>\n",
       "      <td>1</td>\n",
       "    </tr>\n",
       "    <tr>\n",
       "      <th>4</th>\n",
       "      <td>cZL6mCtrpmQWCm22nb2pKw</td>\n",
       "      <td>IO3kl2cSL188ozomiknqmQ</td>\n",
       "      <td>McDonald's Big Breakfast: biscuit, scrambled e...</td>\n",
       "      <td>food</td>\n",
       "      <td>159853</td>\n",
       "      <td>McDonald's</td>\n",
       "      <td>Mint Hill</td>\n",
       "      <td>NC</td>\n",
       "      <td>35.186893</td>\n",
       "      <td>-80.689753</td>\n",
       "      <td>1.5</td>\n",
       "      <td>26</td>\n",
       "      <td>1</td>\n",
       "    </tr>\n",
       "  </tbody>\n",
       "</table>\n",
       "</div>"
      ],
      "text/plain": [
       "                 photo_id             business_id  \\\n",
       "0  00Hi8Oh671yCCPykwXe07Q  IO3kl2cSL188ozomiknqmQ   \n",
       "1  0V7L77cTdpKfzFqo20EqbQ  IO3kl2cSL188ozomiknqmQ   \n",
       "2  5BAJQx9tbVgCSY1rI3z4vA  IO3kl2cSL188ozomiknqmQ   \n",
       "3  7h4dmUTu2Tbx_LmaYUYIjA  IO3kl2cSL188ozomiknqmQ   \n",
       "4  cZL6mCtrpmQWCm22nb2pKw  IO3kl2cSL188ozomiknqmQ   \n",
       "\n",
       "                                             caption label  Unnamed: 0  \\\n",
       "0                                                     food      159853   \n",
       "1                                                     food      159853   \n",
       "2                                                     food      159853   \n",
       "3                                                     food      159853   \n",
       "4  McDonald's Big Breakfast: biscuit, scrambled e...  food      159853   \n",
       "\n",
       "         name       city state   latitude  longitude  stars  review_count  \\\n",
       "0  McDonald's  Mint Hill    NC  35.186893 -80.689753    1.5            26   \n",
       "1  McDonald's  Mint Hill    NC  35.186893 -80.689753    1.5            26   \n",
       "2  McDonald's  Mint Hill    NC  35.186893 -80.689753    1.5            26   \n",
       "3  McDonald's  Mint Hill    NC  35.186893 -80.689753    1.5            26   \n",
       "4  McDonald's  Mint Hill    NC  35.186893 -80.689753    1.5            26   \n",
       "\n",
       "   is_open  \n",
       "0        1  \n",
       "1        1  \n",
       "2        1  \n",
       "3        1  \n",
       "4        1  "
      ]
     },
     "execution_count": 26,
     "metadata": {},
     "output_type": "execute_result"
    }
   ],
   "source": [
    "photos.head()"
   ]
  },
  {
   "cell_type": "code",
   "execution_count": 28,
   "metadata": {
    "execution": {
     "iopub.execute_input": "2020-08-26T21:37:08.673401Z",
     "iopub.status.busy": "2020-08-26T21:37:08.672973Z",
     "iopub.status.idle": "2020-08-26T21:37:08.785299Z",
     "shell.execute_reply": "2020-08-26T21:37:08.784545Z",
     "shell.execute_reply.started": "2020-08-26T21:37:08.673366Z"
    }
   },
   "outputs": [],
   "source": [
    "photos.to_csv('mcdonalds_photos.csv')"
   ]
  },
  {
   "cell_type": "code",
   "execution_count": 31,
   "metadata": {
    "execution": {
     "iopub.execute_input": "2020-08-26T21:38:40.285358Z",
     "iopub.status.busy": "2020-08-26T21:38:40.285103Z",
     "iopub.status.idle": "2020-08-26T21:38:40.292569Z",
     "shell.execute_reply": "2020-08-26T21:38:40.291826Z",
     "shell.execute_reply.started": "2020-08-26T21:38:40.285329Z"
    }
   },
   "outputs": [
    {
     "data": {
      "text/plain": [
       "5"
      ]
     },
     "execution_count": 31,
     "metadata": {},
     "output_type": "execute_result"
    }
   ],
   "source": [
    "photos['label'].nunique()"
   ]
  },
  {
   "cell_type": "code",
   "execution_count": 32,
   "metadata": {
    "execution": {
     "iopub.execute_input": "2020-08-26T21:38:43.738587Z",
     "iopub.status.busy": "2020-08-26T21:38:43.738298Z",
     "iopub.status.idle": "2020-08-26T21:38:43.745731Z",
     "shell.execute_reply": "2020-08-26T21:38:43.744873Z",
     "shell.execute_reply.started": "2020-08-26T21:38:43.738558Z"
    }
   },
   "outputs": [
    {
     "data": {
      "text/plain": [
       "array(['food', 'drink', 'inside', 'outside', 'menu'], dtype=object)"
      ]
     },
     "execution_count": 32,
     "metadata": {},
     "output_type": "execute_result"
    }
   ],
   "source": [
    "photos['label'].unique()"
   ]
  },
  {
   "cell_type": "code",
   "execution_count": 34,
   "metadata": {
    "execution": {
     "iopub.execute_input": "2020-08-26T21:39:16.426695Z",
     "iopub.status.busy": "2020-08-26T21:39:16.426440Z",
     "iopub.status.idle": "2020-08-26T21:39:16.435455Z",
     "shell.execute_reply": "2020-08-26T21:39:16.434303Z",
     "shell.execute_reply.started": "2020-08-26T21:39:16.426666Z"
    }
   },
   "outputs": [
    {
     "data": {
      "text/plain": [
       "False"
      ]
     },
     "execution_count": 34,
     "metadata": {},
     "output_type": "execute_result"
    }
   ],
   "source": [
    "photos['label'].isna().any()"
   ]
  },
  {
   "cell_type": "code",
   "execution_count": 35,
   "metadata": {
    "execution": {
     "iopub.execute_input": "2020-08-26T21:39:26.167607Z",
     "iopub.status.busy": "2020-08-26T21:39:26.167161Z",
     "iopub.status.idle": "2020-08-26T21:39:26.179738Z",
     "shell.execute_reply": "2020-08-26T21:39:26.178844Z",
     "shell.execute_reply.started": "2020-08-26T21:39:26.167557Z"
    }
   },
   "outputs": [
    {
     "data": {
      "text/plain": [
       "False"
      ]
     },
     "execution_count": 35,
     "metadata": {},
     "output_type": "execute_result"
    }
   ],
   "source": [
    "photos['photo_id'].isna().any()"
   ]
  },
  {
   "cell_type": "code",
   "execution_count": 36,
   "metadata": {
    "execution": {
     "iopub.execute_input": "2020-08-26T21:39:38.446212Z",
     "iopub.status.busy": "2020-08-26T21:39:38.445957Z",
     "iopub.status.idle": "2020-08-26T21:39:38.459313Z",
     "shell.execute_reply": "2020-08-26T21:39:38.458285Z",
     "shell.execute_reply.started": "2020-08-26T21:39:38.446177Z"
    }
   },
   "outputs": [
    {
     "data": {
      "text/plain": [
       "7011"
      ]
     },
     "execution_count": 36,
     "metadata": {},
     "output_type": "execute_result"
    }
   ],
   "source": [
    "photos['photo_id'].nunique()"
   ]
  },
  {
   "cell_type": "code",
   "execution_count": 49,
   "metadata": {
    "execution": {
     "iopub.execute_input": "2020-08-26T21:43:55.240538Z",
     "iopub.status.busy": "2020-08-26T21:43:55.240199Z",
     "iopub.status.idle": "2020-08-26T21:43:56.312003Z",
     "shell.execute_reply": "2020-08-26T21:43:56.311201Z",
     "shell.execute_reply.started": "2020-08-26T21:43:55.240487Z"
    }
   },
   "outputs": [],
   "source": [
    "photos_label = photos.groupby(['photo_id']).agg({'label':sum})"
   ]
  },
  {
   "cell_type": "code",
   "execution_count": 50,
   "metadata": {
    "execution": {
     "iopub.execute_input": "2020-08-26T21:43:56.672799Z",
     "iopub.status.busy": "2020-08-26T21:43:56.672385Z",
     "iopub.status.idle": "2020-08-26T21:43:56.684415Z",
     "shell.execute_reply": "2020-08-26T21:43:56.683735Z",
     "shell.execute_reply.started": "2020-08-26T21:43:56.672758Z"
    }
   },
   "outputs": [
    {
     "data": {
      "text/html": [
       "<div>\n",
       "<style scoped>\n",
       "    .dataframe tbody tr th:only-of-type {\n",
       "        vertical-align: middle;\n",
       "    }\n",
       "\n",
       "    .dataframe tbody tr th {\n",
       "        vertical-align: top;\n",
       "    }\n",
       "\n",
       "    .dataframe thead th {\n",
       "        text-align: right;\n",
       "    }\n",
       "</style>\n",
       "<table border=\"1\" class=\"dataframe\">\n",
       "  <thead>\n",
       "    <tr style=\"text-align: right;\">\n",
       "      <th></th>\n",
       "      <th>label</th>\n",
       "    </tr>\n",
       "    <tr>\n",
       "      <th>photo_id</th>\n",
       "      <th></th>\n",
       "    </tr>\n",
       "  </thead>\n",
       "  <tbody>\n",
       "    <tr>\n",
       "      <th>-0OYKR7JEpBzMZZlF18P2A</th>\n",
       "      <td>food</td>\n",
       "    </tr>\n",
       "    <tr>\n",
       "      <th>-0uvM40x1izx9-oe9qVJMg</th>\n",
       "      <td>food</td>\n",
       "    </tr>\n",
       "    <tr>\n",
       "      <th>-1LHZQjiA-8Cu-l52qkqwA</th>\n",
       "      <td>food</td>\n",
       "    </tr>\n",
       "    <tr>\n",
       "      <th>-1TBXMZQklXd8aSllEuO5w</th>\n",
       "      <td>food</td>\n",
       "    </tr>\n",
       "    <tr>\n",
       "      <th>-1cF5aaiTJp7nnTKIv96Iw</th>\n",
       "      <td>food</td>\n",
       "    </tr>\n",
       "    <tr>\n",
       "      <th>...</th>\n",
       "      <td>...</td>\n",
       "    </tr>\n",
       "    <tr>\n",
       "      <th>zxP2NLDydjnTWFqLeotzkQ</th>\n",
       "      <td>food</td>\n",
       "    </tr>\n",
       "    <tr>\n",
       "      <th>zxeDTVpMjt5iWGO8wL5Udg</th>\n",
       "      <td>food</td>\n",
       "    </tr>\n",
       "    <tr>\n",
       "      <th>zyXr3Z6UKh89YqoKpnK2pQ</th>\n",
       "      <td>food</td>\n",
       "    </tr>\n",
       "    <tr>\n",
       "      <th>zzk5Ohw5Pw0qzzdDQJ02Lw</th>\n",
       "      <td>food</td>\n",
       "    </tr>\n",
       "    <tr>\n",
       "      <th>zzpddzz8RyNhZsruXgoaiA</th>\n",
       "      <td>food</td>\n",
       "    </tr>\n",
       "  </tbody>\n",
       "</table>\n",
       "<p>7011 rows × 1 columns</p>\n",
       "</div>"
      ],
      "text/plain": [
       "                       label\n",
       "photo_id                    \n",
       "-0OYKR7JEpBzMZZlF18P2A  food\n",
       "-0uvM40x1izx9-oe9qVJMg  food\n",
       "-1LHZQjiA-8Cu-l52qkqwA  food\n",
       "-1TBXMZQklXd8aSllEuO5w  food\n",
       "-1cF5aaiTJp7nnTKIv96Iw  food\n",
       "...                      ...\n",
       "zxP2NLDydjnTWFqLeotzkQ  food\n",
       "zxeDTVpMjt5iWGO8wL5Udg  food\n",
       "zyXr3Z6UKh89YqoKpnK2pQ  food\n",
       "zzk5Ohw5Pw0qzzdDQJ02Lw  food\n",
       "zzpddzz8RyNhZsruXgoaiA  food\n",
       "\n",
       "[7011 rows x 1 columns]"
      ]
     },
     "execution_count": 50,
     "metadata": {},
     "output_type": "execute_result"
    }
   ],
   "source": [
    "photos_label"
   ]
  },
  {
   "cell_type": "code",
   "execution_count": 51,
   "metadata": {
    "execution": {
     "iopub.execute_input": "2020-08-26T21:44:24.134026Z",
     "iopub.status.busy": "2020-08-26T21:44:24.133663Z",
     "iopub.status.idle": "2020-08-26T21:44:24.141728Z",
     "shell.execute_reply": "2020-08-26T21:44:24.139682Z",
     "shell.execute_reply.started": "2020-08-26T21:44:24.133986Z"
    }
   },
   "outputs": [
    {
     "data": {
      "text/plain": [
       "(7011, 1)"
      ]
     },
     "execution_count": 51,
     "metadata": {},
     "output_type": "execute_result"
    }
   ],
   "source": [
    "photos_label.shape"
   ]
  },
  {
   "cell_type": "code",
   "execution_count": 53,
   "metadata": {
    "execution": {
     "iopub.execute_input": "2020-08-26T21:46:08.570956Z",
     "iopub.status.busy": "2020-08-26T21:46:08.570693Z",
     "iopub.status.idle": "2020-08-26T21:46:08.578443Z",
     "shell.execute_reply": "2020-08-26T21:46:08.577080Z",
     "shell.execute_reply.started": "2020-08-26T21:46:08.570925Z"
    }
   },
   "outputs": [
    {
     "data": {
      "text/plain": [
       "array(['food', 'drink', 'inside', 'outside', 'menu'], dtype=object)"
      ]
     },
     "execution_count": 53,
     "metadata": {},
     "output_type": "execute_result"
    }
   ],
   "source": [
    "photos_label.label.unique()"
   ]
  },
  {
   "cell_type": "code",
   "execution_count": 69,
   "metadata": {
    "execution": {
     "iopub.execute_input": "2020-08-26T21:50:24.530852Z",
     "iopub.status.busy": "2020-08-26T21:50:24.530465Z",
     "iopub.status.idle": "2020-08-26T21:50:24.547215Z",
     "shell.execute_reply": "2020-08-26T21:50:24.545957Z",
     "shell.execute_reply.started": "2020-08-26T21:50:24.530806Z"
    }
   },
   "outputs": [
    {
     "data": {
      "text/plain": [
       "label  \n",
       "food       6131\n",
       "drink       735\n",
       "inside       86\n",
       "outside      58\n",
       "menu          1\n",
       "dtype: int64"
      ]
     },
     "execution_count": 69,
     "metadata": {},
     "output_type": "execute_result"
    }
   ],
   "source": [
    "photos_label.value_counts()"
   ]
  },
  {
   "cell_type": "code",
   "execution_count": 54,
   "metadata": {
    "execution": {
     "iopub.execute_input": "2020-08-26T21:47:04.652820Z",
     "iopub.status.busy": "2020-08-26T21:47:04.652545Z",
     "iopub.status.idle": "2020-08-26T21:47:04.658698Z",
     "shell.execute_reply": "2020-08-26T21:47:04.657148Z",
     "shell.execute_reply.started": "2020-08-26T21:47:04.652791Z"
    }
   },
   "outputs": [],
   "source": [
    "labels = ['food', 'drink', 'inside', 'outside', 'menu']"
   ]
  },
  {
   "cell_type": "code",
   "execution_count": 57,
   "metadata": {
    "execution": {
     "iopub.execute_input": "2020-08-26T21:48:36.650962Z",
     "iopub.status.busy": "2020-08-26T21:48:36.650581Z",
     "iopub.status.idle": "2020-08-26T21:48:36.661626Z",
     "shell.execute_reply": "2020-08-26T21:48:36.660908Z",
     "shell.execute_reply.started": "2020-08-26T21:48:36.650927Z"
    }
   },
   "outputs": [],
   "source": [
    "y = pd.get_dummies(photos_label['label'],prefix='Label')"
   ]
  },
  {
   "cell_type": "code",
   "execution_count": 58,
   "metadata": {
    "execution": {
     "iopub.execute_input": "2020-08-26T21:48:40.843728Z",
     "iopub.status.busy": "2020-08-26T21:48:40.843470Z",
     "iopub.status.idle": "2020-08-26T21:48:40.862351Z",
     "shell.execute_reply": "2020-08-26T21:48:40.860978Z",
     "shell.execute_reply.started": "2020-08-26T21:48:40.843690Z"
    }
   },
   "outputs": [
    {
     "data": {
      "text/html": [
       "<div>\n",
       "<style scoped>\n",
       "    .dataframe tbody tr th:only-of-type {\n",
       "        vertical-align: middle;\n",
       "    }\n",
       "\n",
       "    .dataframe tbody tr th {\n",
       "        vertical-align: top;\n",
       "    }\n",
       "\n",
       "    .dataframe thead th {\n",
       "        text-align: right;\n",
       "    }\n",
       "</style>\n",
       "<table border=\"1\" class=\"dataframe\">\n",
       "  <thead>\n",
       "    <tr style=\"text-align: right;\">\n",
       "      <th></th>\n",
       "      <th>Label_drink</th>\n",
       "      <th>Label_food</th>\n",
       "      <th>Label_inside</th>\n",
       "      <th>Label_menu</th>\n",
       "      <th>Label_outside</th>\n",
       "    </tr>\n",
       "    <tr>\n",
       "      <th>photo_id</th>\n",
       "      <th></th>\n",
       "      <th></th>\n",
       "      <th></th>\n",
       "      <th></th>\n",
       "      <th></th>\n",
       "    </tr>\n",
       "  </thead>\n",
       "  <tbody>\n",
       "    <tr>\n",
       "      <th>-0OYKR7JEpBzMZZlF18P2A</th>\n",
       "      <td>0</td>\n",
       "      <td>1</td>\n",
       "      <td>0</td>\n",
       "      <td>0</td>\n",
       "      <td>0</td>\n",
       "    </tr>\n",
       "    <tr>\n",
       "      <th>-0uvM40x1izx9-oe9qVJMg</th>\n",
       "      <td>0</td>\n",
       "      <td>1</td>\n",
       "      <td>0</td>\n",
       "      <td>0</td>\n",
       "      <td>0</td>\n",
       "    </tr>\n",
       "    <tr>\n",
       "      <th>-1LHZQjiA-8Cu-l52qkqwA</th>\n",
       "      <td>0</td>\n",
       "      <td>1</td>\n",
       "      <td>0</td>\n",
       "      <td>0</td>\n",
       "      <td>0</td>\n",
       "    </tr>\n",
       "    <tr>\n",
       "      <th>-1TBXMZQklXd8aSllEuO5w</th>\n",
       "      <td>0</td>\n",
       "      <td>1</td>\n",
       "      <td>0</td>\n",
       "      <td>0</td>\n",
       "      <td>0</td>\n",
       "    </tr>\n",
       "    <tr>\n",
       "      <th>-1cF5aaiTJp7nnTKIv96Iw</th>\n",
       "      <td>0</td>\n",
       "      <td>1</td>\n",
       "      <td>0</td>\n",
       "      <td>0</td>\n",
       "      <td>0</td>\n",
       "    </tr>\n",
       "    <tr>\n",
       "      <th>...</th>\n",
       "      <td>...</td>\n",
       "      <td>...</td>\n",
       "      <td>...</td>\n",
       "      <td>...</td>\n",
       "      <td>...</td>\n",
       "    </tr>\n",
       "    <tr>\n",
       "      <th>zxP2NLDydjnTWFqLeotzkQ</th>\n",
       "      <td>0</td>\n",
       "      <td>1</td>\n",
       "      <td>0</td>\n",
       "      <td>0</td>\n",
       "      <td>0</td>\n",
       "    </tr>\n",
       "    <tr>\n",
       "      <th>zxeDTVpMjt5iWGO8wL5Udg</th>\n",
       "      <td>0</td>\n",
       "      <td>1</td>\n",
       "      <td>0</td>\n",
       "      <td>0</td>\n",
       "      <td>0</td>\n",
       "    </tr>\n",
       "    <tr>\n",
       "      <th>zyXr3Z6UKh89YqoKpnK2pQ</th>\n",
       "      <td>0</td>\n",
       "      <td>1</td>\n",
       "      <td>0</td>\n",
       "      <td>0</td>\n",
       "      <td>0</td>\n",
       "    </tr>\n",
       "    <tr>\n",
       "      <th>zzk5Ohw5Pw0qzzdDQJ02Lw</th>\n",
       "      <td>0</td>\n",
       "      <td>1</td>\n",
       "      <td>0</td>\n",
       "      <td>0</td>\n",
       "      <td>0</td>\n",
       "    </tr>\n",
       "    <tr>\n",
       "      <th>zzpddzz8RyNhZsruXgoaiA</th>\n",
       "      <td>0</td>\n",
       "      <td>1</td>\n",
       "      <td>0</td>\n",
       "      <td>0</td>\n",
       "      <td>0</td>\n",
       "    </tr>\n",
       "  </tbody>\n",
       "</table>\n",
       "<p>7011 rows × 5 columns</p>\n",
       "</div>"
      ],
      "text/plain": [
       "                        Label_drink  Label_food  Label_inside  Label_menu  \\\n",
       "photo_id                                                                    \n",
       "-0OYKR7JEpBzMZZlF18P2A            0           1             0           0   \n",
       "-0uvM40x1izx9-oe9qVJMg            0           1             0           0   \n",
       "-1LHZQjiA-8Cu-l52qkqwA            0           1             0           0   \n",
       "-1TBXMZQklXd8aSllEuO5w            0           1             0           0   \n",
       "-1cF5aaiTJp7nnTKIv96Iw            0           1             0           0   \n",
       "...                             ...         ...           ...         ...   \n",
       "zxP2NLDydjnTWFqLeotzkQ            0           1             0           0   \n",
       "zxeDTVpMjt5iWGO8wL5Udg            0           1             0           0   \n",
       "zyXr3Z6UKh89YqoKpnK2pQ            0           1             0           0   \n",
       "zzk5Ohw5Pw0qzzdDQJ02Lw            0           1             0           0   \n",
       "zzpddzz8RyNhZsruXgoaiA            0           1             0           0   \n",
       "\n",
       "                        Label_outside  \n",
       "photo_id                               \n",
       "-0OYKR7JEpBzMZZlF18P2A              0  \n",
       "-0uvM40x1izx9-oe9qVJMg              0  \n",
       "-1LHZQjiA-8Cu-l52qkqwA              0  \n",
       "-1TBXMZQklXd8aSllEuO5w              0  \n",
       "-1cF5aaiTJp7nnTKIv96Iw              0  \n",
       "...                               ...  \n",
       "zxP2NLDydjnTWFqLeotzkQ              0  \n",
       "zxeDTVpMjt5iWGO8wL5Udg              0  \n",
       "zyXr3Z6UKh89YqoKpnK2pQ              0  \n",
       "zzk5Ohw5Pw0qzzdDQJ02Lw              0  \n",
       "zzpddzz8RyNhZsruXgoaiA              0  \n",
       "\n",
       "[7011 rows x 5 columns]"
      ]
     },
     "execution_count": 58,
     "metadata": {},
     "output_type": "execute_result"
    }
   ],
   "source": [
    "y"
   ]
  },
  {
   "cell_type": "code",
   "execution_count": 66,
   "metadata": {
    "execution": {
     "iopub.execute_input": "2020-08-26T21:50:00.889716Z",
     "iopub.status.busy": "2020-08-26T21:50:00.889341Z",
     "iopub.status.idle": "2020-08-26T21:50:00.903730Z",
     "shell.execute_reply": "2020-08-26T21:50:00.902599Z",
     "shell.execute_reply.started": "2020-08-26T21:50:00.889673Z"
    }
   },
   "outputs": [
    {
     "data": {
      "text/plain": [
       "0    6925\n",
       "1      86\n",
       "Name: Label_inside, dtype: int64"
      ]
     },
     "execution_count": 66,
     "metadata": {},
     "output_type": "execute_result"
    }
   ],
   "source": [
    "y['Label_inside'].value_counts()"
   ]
  },
  {
   "cell_type": "code",
   "execution_count": null,
   "metadata": {},
   "outputs": [],
   "source": [
    "# bash script to separate folders"
   ]
  },
  {
   "cell_type": "code",
   "execution_count": null,
   "metadata": {},
   "outputs": [],
   "source": [
    "# http://tensorflow.org/tutorials\n",
    "# image classification examples\n",
    "# dimensions between different layers\n",
    "# generators to load images\n",
    "\n",
    "# activation, softmax\n",
    "# neurons in a layer\n",
    "# types of layers\n",
    "# convolutional, dropout, max cooling"
   ]
  },
  {
   "cell_type": "code",
   "execution_count": null,
   "metadata": {},
   "outputs": [],
   "source": [
    "# photo pre-process to crop same size"
   ]
  },
  {
   "cell_type": "code",
   "execution_count": null,
   "metadata": {},
   "outputs": [],
   "source": [
    "## trouble\n",
    "# class imbalance"
   ]
  },
  {
   "cell_type": "code",
   "execution_count": null,
   "metadata": {},
   "outputs": [],
   "source": [
    "# bash script to move photos\n",
    "cur_dir = 'classifiy/'\n",
    "for photo in y['photo_id']:\n",
    "    print(photo)"
   ]
  },
  {
   "cell_type": "code",
   "execution_count": 78,
   "metadata": {
    "execution": {
     "iopub.execute_input": "2020-08-26T22:17:15.281311Z",
     "iopub.status.busy": "2020-08-26T22:17:15.281060Z",
     "iopub.status.idle": "2020-08-26T22:17:15.286039Z",
     "shell.execute_reply": "2020-08-26T22:17:15.285334Z",
     "shell.execute_reply.started": "2020-08-26T22:17:15.281283Z"
    }
   },
   "outputs": [
    {
     "data": {
      "text/plain": [
       "7011"
      ]
     },
     "execution_count": 78,
     "metadata": {},
     "output_type": "execute_result"
    }
   ],
   "source": [
    "len(y.index)"
   ]
  },
  {
   "cell_type": "code",
   "execution_count": 81,
   "metadata": {
    "execution": {
     "iopub.execute_input": "2020-08-26T22:17:28.001426Z",
     "iopub.status.busy": "2020-08-26T22:17:28.001103Z",
     "iopub.status.idle": "2020-08-26T22:17:28.012796Z",
     "shell.execute_reply": "2020-08-26T22:17:28.011192Z",
     "shell.execute_reply.started": "2020-08-26T22:17:28.001381Z"
    }
   },
   "outputs": [
    {
     "ename": "TypeError",
     "evalue": "'Index' object is not callable",
     "output_type": "error",
     "traceback": [
      "\u001b[0;31m---------------------------------------------------------------------------\u001b[0m",
      "\u001b[0;31mTypeError\u001b[0m                                 Traceback (most recent call last)",
      "\u001b[0;32m<ipython-input-81-9c88ad3439e5>\u001b[0m in \u001b[0;36m<module>\u001b[0;34m\u001b[0m\n\u001b[0;32m----> 1\u001b[0;31m \u001b[0my\u001b[0m\u001b[0;34m.\u001b[0m\u001b[0mindex\u001b[0m\u001b[0;34m(\u001b[0m\u001b[0;36m3\u001b[0m\u001b[0;34m)\u001b[0m\u001b[0;34m\u001b[0m\u001b[0;34m\u001b[0m\u001b[0m\n\u001b[0m",
      "\u001b[0;31mTypeError\u001b[0m: 'Index' object is not callable"
     ]
    }
   ],
   "source": [
    "y.index(3)"
   ]
  },
  {
   "cell_type": "code",
   "execution_count": 82,
   "metadata": {
    "execution": {
     "iopub.execute_input": "2020-08-26T22:17:53.890868Z",
     "iopub.status.busy": "2020-08-26T22:17:53.890507Z",
     "iopub.status.idle": "2020-08-26T22:17:53.896410Z",
     "shell.execute_reply": "2020-08-26T22:17:53.895570Z",
     "shell.execute_reply.started": "2020-08-26T22:17:53.890822Z"
    }
   },
   "outputs": [
    {
     "data": {
      "text/plain": [
       "Index(['-0OYKR7JEpBzMZZlF18P2A', '-0uvM40x1izx9-oe9qVJMg',\n",
       "       '-1LHZQjiA-8Cu-l52qkqwA', '-1TBXMZQklXd8aSllEuO5w',\n",
       "       '-1cF5aaiTJp7nnTKIv96Iw', '-2q9op6vN7LVBU4ix9SRzg',\n",
       "       '-32WyF881jL8xoLktOvyiQ', '-3ELkESFIe5ndZQDqLrLZA',\n",
       "       '-3aISS7LOp307V2_6CX_Vw', '-3fpKB1LQM-kGQUF-xtYvw',\n",
       "       ...\n",
       "       'zuYZFDdpfvbx83zXvC-jag', 'zvYcOGEO8S3rAMDfj6WqhA',\n",
       "       'zwDQkZP4WJWdMB-Vb2PpVQ', 'zwgZuC-awwIdDi9Z5HCWqQ',\n",
       "       'zxB2MDBag-xGhZ5f3TiFdg', 'zxP2NLDydjnTWFqLeotzkQ',\n",
       "       'zxeDTVpMjt5iWGO8wL5Udg', 'zyXr3Z6UKh89YqoKpnK2pQ',\n",
       "       'zzk5Ohw5Pw0qzzdDQJ02Lw', 'zzpddzz8RyNhZsruXgoaiA'],\n",
       "      dtype='object', name='photo_id', length=7011)"
      ]
     },
     "execution_count": 82,
     "metadata": {},
     "output_type": "execute_result"
    }
   ],
   "source": [
    "y.index"
   ]
  },
  {
   "cell_type": "code",
   "execution_count": 83,
   "metadata": {
    "execution": {
     "iopub.execute_input": "2020-08-26T22:18:00.448251Z",
     "iopub.status.busy": "2020-08-26T22:18:00.448000Z",
     "iopub.status.idle": "2020-08-26T22:18:00.454834Z",
     "shell.execute_reply": "2020-08-26T22:18:00.453885Z",
     "shell.execute_reply.started": "2020-08-26T22:18:00.448221Z"
    }
   },
   "outputs": [],
   "source": [
    "y.reset_index(level=0, inplace=True)"
   ]
  },
  {
   "cell_type": "code",
   "execution_count": 84,
   "metadata": {
    "execution": {
     "iopub.execute_input": "2020-08-26T22:18:01.932745Z",
     "iopub.status.busy": "2020-08-26T22:18:01.932479Z",
     "iopub.status.idle": "2020-08-26T22:18:01.949349Z",
     "shell.execute_reply": "2020-08-26T22:18:01.948591Z",
     "shell.execute_reply.started": "2020-08-26T22:18:01.932717Z"
    }
   },
   "outputs": [
    {
     "data": {
      "text/html": [
       "<div>\n",
       "<style scoped>\n",
       "    .dataframe tbody tr th:only-of-type {\n",
       "        vertical-align: middle;\n",
       "    }\n",
       "\n",
       "    .dataframe tbody tr th {\n",
       "        vertical-align: top;\n",
       "    }\n",
       "\n",
       "    .dataframe thead th {\n",
       "        text-align: right;\n",
       "    }\n",
       "</style>\n",
       "<table border=\"1\" class=\"dataframe\">\n",
       "  <thead>\n",
       "    <tr style=\"text-align: right;\">\n",
       "      <th></th>\n",
       "      <th>photo_id</th>\n",
       "      <th>Label_drink</th>\n",
       "      <th>Label_food</th>\n",
       "      <th>Label_inside</th>\n",
       "      <th>Label_menu</th>\n",
       "      <th>Label_outside</th>\n",
       "    </tr>\n",
       "  </thead>\n",
       "  <tbody>\n",
       "    <tr>\n",
       "      <th>0</th>\n",
       "      <td>-0OYKR7JEpBzMZZlF18P2A</td>\n",
       "      <td>0</td>\n",
       "      <td>1</td>\n",
       "      <td>0</td>\n",
       "      <td>0</td>\n",
       "      <td>0</td>\n",
       "    </tr>\n",
       "    <tr>\n",
       "      <th>1</th>\n",
       "      <td>-0uvM40x1izx9-oe9qVJMg</td>\n",
       "      <td>0</td>\n",
       "      <td>1</td>\n",
       "      <td>0</td>\n",
       "      <td>0</td>\n",
       "      <td>0</td>\n",
       "    </tr>\n",
       "    <tr>\n",
       "      <th>2</th>\n",
       "      <td>-1LHZQjiA-8Cu-l52qkqwA</td>\n",
       "      <td>0</td>\n",
       "      <td>1</td>\n",
       "      <td>0</td>\n",
       "      <td>0</td>\n",
       "      <td>0</td>\n",
       "    </tr>\n",
       "    <tr>\n",
       "      <th>3</th>\n",
       "      <td>-1TBXMZQklXd8aSllEuO5w</td>\n",
       "      <td>0</td>\n",
       "      <td>1</td>\n",
       "      <td>0</td>\n",
       "      <td>0</td>\n",
       "      <td>0</td>\n",
       "    </tr>\n",
       "    <tr>\n",
       "      <th>4</th>\n",
       "      <td>-1cF5aaiTJp7nnTKIv96Iw</td>\n",
       "      <td>0</td>\n",
       "      <td>1</td>\n",
       "      <td>0</td>\n",
       "      <td>0</td>\n",
       "      <td>0</td>\n",
       "    </tr>\n",
       "    <tr>\n",
       "      <th>...</th>\n",
       "      <td>...</td>\n",
       "      <td>...</td>\n",
       "      <td>...</td>\n",
       "      <td>...</td>\n",
       "      <td>...</td>\n",
       "      <td>...</td>\n",
       "    </tr>\n",
       "    <tr>\n",
       "      <th>7006</th>\n",
       "      <td>zxP2NLDydjnTWFqLeotzkQ</td>\n",
       "      <td>0</td>\n",
       "      <td>1</td>\n",
       "      <td>0</td>\n",
       "      <td>0</td>\n",
       "      <td>0</td>\n",
       "    </tr>\n",
       "    <tr>\n",
       "      <th>7007</th>\n",
       "      <td>zxeDTVpMjt5iWGO8wL5Udg</td>\n",
       "      <td>0</td>\n",
       "      <td>1</td>\n",
       "      <td>0</td>\n",
       "      <td>0</td>\n",
       "      <td>0</td>\n",
       "    </tr>\n",
       "    <tr>\n",
       "      <th>7008</th>\n",
       "      <td>zyXr3Z6UKh89YqoKpnK2pQ</td>\n",
       "      <td>0</td>\n",
       "      <td>1</td>\n",
       "      <td>0</td>\n",
       "      <td>0</td>\n",
       "      <td>0</td>\n",
       "    </tr>\n",
       "    <tr>\n",
       "      <th>7009</th>\n",
       "      <td>zzk5Ohw5Pw0qzzdDQJ02Lw</td>\n",
       "      <td>0</td>\n",
       "      <td>1</td>\n",
       "      <td>0</td>\n",
       "      <td>0</td>\n",
       "      <td>0</td>\n",
       "    </tr>\n",
       "    <tr>\n",
       "      <th>7010</th>\n",
       "      <td>zzpddzz8RyNhZsruXgoaiA</td>\n",
       "      <td>0</td>\n",
       "      <td>1</td>\n",
       "      <td>0</td>\n",
       "      <td>0</td>\n",
       "      <td>0</td>\n",
       "    </tr>\n",
       "  </tbody>\n",
       "</table>\n",
       "<p>7011 rows × 6 columns</p>\n",
       "</div>"
      ],
      "text/plain": [
       "                    photo_id  Label_drink  Label_food  Label_inside  \\\n",
       "0     -0OYKR7JEpBzMZZlF18P2A            0           1             0   \n",
       "1     -0uvM40x1izx9-oe9qVJMg            0           1             0   \n",
       "2     -1LHZQjiA-8Cu-l52qkqwA            0           1             0   \n",
       "3     -1TBXMZQklXd8aSllEuO5w            0           1             0   \n",
       "4     -1cF5aaiTJp7nnTKIv96Iw            0           1             0   \n",
       "...                      ...          ...         ...           ...   \n",
       "7006  zxP2NLDydjnTWFqLeotzkQ            0           1             0   \n",
       "7007  zxeDTVpMjt5iWGO8wL5Udg            0           1             0   \n",
       "7008  zyXr3Z6UKh89YqoKpnK2pQ            0           1             0   \n",
       "7009  zzk5Ohw5Pw0qzzdDQJ02Lw            0           1             0   \n",
       "7010  zzpddzz8RyNhZsruXgoaiA            0           1             0   \n",
       "\n",
       "      Label_menu  Label_outside  \n",
       "0              0              0  \n",
       "1              0              0  \n",
       "2              0              0  \n",
       "3              0              0  \n",
       "4              0              0  \n",
       "...          ...            ...  \n",
       "7006           0              0  \n",
       "7007           0              0  \n",
       "7008           0              0  \n",
       "7009           0              0  \n",
       "7010           0              0  \n",
       "\n",
       "[7011 rows x 6 columns]"
      ]
     },
     "execution_count": 84,
     "metadata": {},
     "output_type": "execute_result"
    }
   ],
   "source": [
    "y"
   ]
  },
  {
   "cell_type": "code",
   "execution_count": 85,
   "metadata": {
    "execution": {
     "iopub.execute_input": "2020-08-26T22:18:20.347936Z",
     "iopub.status.busy": "2020-08-26T22:18:20.347679Z",
     "iopub.status.idle": "2020-08-26T22:18:20.380881Z",
     "shell.execute_reply": "2020-08-26T22:18:20.380227Z",
     "shell.execute_reply.started": "2020-08-26T22:18:20.347908Z"
    }
   },
   "outputs": [],
   "source": [
    "y.to_csv('photo_id_labels.csv')"
   ]
  },
  {
   "cell_type": "code",
   "execution_count": 90,
   "metadata": {
    "execution": {
     "iopub.execute_input": "2020-08-26T22:21:05.219761Z",
     "iopub.status.busy": "2020-08-26T22:21:05.219508Z",
     "iopub.status.idle": "2020-08-26T22:21:05.231751Z",
     "shell.execute_reply": "2020-08-26T22:21:05.231087Z",
     "shell.execute_reply.started": "2020-08-26T22:21:05.219732Z"
    }
   },
   "outputs": [],
   "source": [
    "df_drink = y[y['Label_drink']==1]"
   ]
  },
  {
   "cell_type": "code",
   "execution_count": 91,
   "metadata": {
    "execution": {
     "iopub.execute_input": "2020-08-26T22:21:10.195639Z",
     "iopub.status.busy": "2020-08-26T22:21:10.195395Z",
     "iopub.status.idle": "2020-08-26T22:21:10.200531Z",
     "shell.execute_reply": "2020-08-26T22:21:10.199352Z",
     "shell.execute_reply.started": "2020-08-26T22:21:10.195610Z"
    }
   },
   "outputs": [
    {
     "data": {
      "text/plain": [
       "(735, 6)"
      ]
     },
     "execution_count": 91,
     "metadata": {},
     "output_type": "execute_result"
    }
   ],
   "source": [
    "df_drink.shape"
   ]
  },
  {
   "cell_type": "code",
   "execution_count": 97,
   "metadata": {
    "execution": {
     "iopub.execute_input": "2020-08-26T22:23:28.347225Z",
     "iopub.status.busy": "2020-08-26T22:23:28.346986Z",
     "iopub.status.idle": "2020-08-26T22:23:28.357157Z",
     "shell.execute_reply": "2020-08-26T22:23:28.355932Z",
     "shell.execute_reply.started": "2020-08-26T22:23:28.347197Z"
    }
   },
   "outputs": [
    {
     "data": {
      "text/html": [
       "<div>\n",
       "<style scoped>\n",
       "    .dataframe tbody tr th:only-of-type {\n",
       "        vertical-align: middle;\n",
       "    }\n",
       "\n",
       "    .dataframe tbody tr th {\n",
       "        vertical-align: top;\n",
       "    }\n",
       "\n",
       "    .dataframe thead th {\n",
       "        text-align: right;\n",
       "    }\n",
       "</style>\n",
       "<table border=\"1\" class=\"dataframe\">\n",
       "  <thead>\n",
       "    <tr style=\"text-align: right;\">\n",
       "      <th></th>\n",
       "      <th>photo_id</th>\n",
       "      <th>Label_drink</th>\n",
       "      <th>Label_food</th>\n",
       "      <th>Label_inside</th>\n",
       "      <th>Label_menu</th>\n",
       "      <th>Label_outside</th>\n",
       "    </tr>\n",
       "  </thead>\n",
       "  <tbody>\n",
       "    <tr>\n",
       "      <th>5</th>\n",
       "      <td>-2q9op6vN7LVBU4ix9SRzg</td>\n",
       "      <td>1</td>\n",
       "      <td>0</td>\n",
       "      <td>0</td>\n",
       "      <td>0</td>\n",
       "      <td>0</td>\n",
       "    </tr>\n",
       "    <tr>\n",
       "      <th>11</th>\n",
       "      <td>-45AtgGKmLNljL1QjzAskQ</td>\n",
       "      <td>1</td>\n",
       "      <td>0</td>\n",
       "      <td>0</td>\n",
       "      <td>0</td>\n",
       "      <td>0</td>\n",
       "    </tr>\n",
       "    <tr>\n",
       "      <th>32</th>\n",
       "      <td>-BM59ynquITpEQbttxMU9g</td>\n",
       "      <td>1</td>\n",
       "      <td>0</td>\n",
       "      <td>0</td>\n",
       "      <td>0</td>\n",
       "      <td>0</td>\n",
       "    </tr>\n",
       "    <tr>\n",
       "      <th>80</th>\n",
       "      <td>-csmXhkJE306DZktBcBGYw</td>\n",
       "      <td>1</td>\n",
       "      <td>0</td>\n",
       "      <td>0</td>\n",
       "      <td>0</td>\n",
       "      <td>0</td>\n",
       "    </tr>\n",
       "    <tr>\n",
       "      <th>81</th>\n",
       "      <td>-dA5g2-32pzeg6KvRgKLFA</td>\n",
       "      <td>1</td>\n",
       "      <td>0</td>\n",
       "      <td>0</td>\n",
       "      <td>0</td>\n",
       "      <td>0</td>\n",
       "    </tr>\n",
       "  </tbody>\n",
       "</table>\n",
       "</div>"
      ],
      "text/plain": [
       "                  photo_id  Label_drink  Label_food  Label_inside  Label_menu  \\\n",
       "5   -2q9op6vN7LVBU4ix9SRzg            1           0             0           0   \n",
       "11  -45AtgGKmLNljL1QjzAskQ            1           0             0           0   \n",
       "32  -BM59ynquITpEQbttxMU9g            1           0             0           0   \n",
       "80  -csmXhkJE306DZktBcBGYw            1           0             0           0   \n",
       "81  -dA5g2-32pzeg6KvRgKLFA            1           0             0           0   \n",
       "\n",
       "    Label_outside  \n",
       "5               0  \n",
       "11              0  \n",
       "32              0  \n",
       "80              0  \n",
       "81              0  "
      ]
     },
     "execution_count": 97,
     "metadata": {},
     "output_type": "execute_result"
    }
   ],
   "source": [
    "df_drink.head()"
   ]
  },
  {
   "cell_type": "code",
   "execution_count": 93,
   "metadata": {
    "execution": {
     "iopub.execute_input": "2020-08-26T22:23:03.304858Z",
     "iopub.status.busy": "2020-08-26T22:23:03.304492Z",
     "iopub.status.idle": "2020-08-26T22:23:03.349254Z",
     "shell.execute_reply": "2020-08-26T22:23:03.347896Z",
     "shell.execute_reply.started": "2020-08-26T22:23:03.304819Z"
    }
   },
   "outputs": [
    {
     "data": {
      "text/plain": [
       "label  \n",
       "food       6131\n",
       "drink       735\n",
       "inside       86\n",
       "outside      58\n",
       "menu          1\n",
       "dtype: int64"
      ]
     },
     "execution_count": 93,
     "metadata": {},
     "output_type": "execute_result"
    }
   ],
   "source": [
    "photos_label.value_counts()"
   ]
  },
  {
   "cell_type": "code",
   "execution_count": 94,
   "metadata": {
    "execution": {
     "iopub.execute_input": "2020-08-26T22:23:13.508697Z",
     "iopub.status.busy": "2020-08-26T22:23:13.508440Z",
     "iopub.status.idle": "2020-08-26T22:23:13.513885Z",
     "shell.execute_reply": "2020-08-26T22:23:13.512881Z",
     "shell.execute_reply.started": "2020-08-26T22:23:13.508668Z"
    }
   },
   "outputs": [],
   "source": [
    "df_food = y[y['Label_food']==1]"
   ]
  },
  {
   "cell_type": "code",
   "execution_count": 95,
   "metadata": {
    "execution": {
     "iopub.execute_input": "2020-08-26T22:23:16.095641Z",
     "iopub.status.busy": "2020-08-26T22:23:16.095391Z",
     "iopub.status.idle": "2020-08-26T22:23:16.100752Z",
     "shell.execute_reply": "2020-08-26T22:23:16.099750Z",
     "shell.execute_reply.started": "2020-08-26T22:23:16.095612Z"
    }
   },
   "outputs": [
    {
     "data": {
      "text/plain": [
       "(6131, 6)"
      ]
     },
     "execution_count": 95,
     "metadata": {},
     "output_type": "execute_result"
    }
   ],
   "source": [
    "df_food.shape"
   ]
  },
  {
   "cell_type": "code",
   "execution_count": 96,
   "metadata": {
    "execution": {
     "iopub.execute_input": "2020-08-26T22:23:20.101891Z",
     "iopub.status.busy": "2020-08-26T22:23:20.101618Z",
     "iopub.status.idle": "2020-08-26T22:23:20.114133Z",
     "shell.execute_reply": "2020-08-26T22:23:20.113373Z",
     "shell.execute_reply.started": "2020-08-26T22:23:20.101859Z"
    }
   },
   "outputs": [
    {
     "data": {
      "text/html": [
       "<div>\n",
       "<style scoped>\n",
       "    .dataframe tbody tr th:only-of-type {\n",
       "        vertical-align: middle;\n",
       "    }\n",
       "\n",
       "    .dataframe tbody tr th {\n",
       "        vertical-align: top;\n",
       "    }\n",
       "\n",
       "    .dataframe thead th {\n",
       "        text-align: right;\n",
       "    }\n",
       "</style>\n",
       "<table border=\"1\" class=\"dataframe\">\n",
       "  <thead>\n",
       "    <tr style=\"text-align: right;\">\n",
       "      <th></th>\n",
       "      <th>photo_id</th>\n",
       "      <th>Label_drink</th>\n",
       "      <th>Label_food</th>\n",
       "      <th>Label_inside</th>\n",
       "      <th>Label_menu</th>\n",
       "      <th>Label_outside</th>\n",
       "    </tr>\n",
       "  </thead>\n",
       "  <tbody>\n",
       "    <tr>\n",
       "      <th>0</th>\n",
       "      <td>-0OYKR7JEpBzMZZlF18P2A</td>\n",
       "      <td>0</td>\n",
       "      <td>1</td>\n",
       "      <td>0</td>\n",
       "      <td>0</td>\n",
       "      <td>0</td>\n",
       "    </tr>\n",
       "    <tr>\n",
       "      <th>1</th>\n",
       "      <td>-0uvM40x1izx9-oe9qVJMg</td>\n",
       "      <td>0</td>\n",
       "      <td>1</td>\n",
       "      <td>0</td>\n",
       "      <td>0</td>\n",
       "      <td>0</td>\n",
       "    </tr>\n",
       "    <tr>\n",
       "      <th>2</th>\n",
       "      <td>-1LHZQjiA-8Cu-l52qkqwA</td>\n",
       "      <td>0</td>\n",
       "      <td>1</td>\n",
       "      <td>0</td>\n",
       "      <td>0</td>\n",
       "      <td>0</td>\n",
       "    </tr>\n",
       "    <tr>\n",
       "      <th>3</th>\n",
       "      <td>-1TBXMZQklXd8aSllEuO5w</td>\n",
       "      <td>0</td>\n",
       "      <td>1</td>\n",
       "      <td>0</td>\n",
       "      <td>0</td>\n",
       "      <td>0</td>\n",
       "    </tr>\n",
       "    <tr>\n",
       "      <th>4</th>\n",
       "      <td>-1cF5aaiTJp7nnTKIv96Iw</td>\n",
       "      <td>0</td>\n",
       "      <td>1</td>\n",
       "      <td>0</td>\n",
       "      <td>0</td>\n",
       "      <td>0</td>\n",
       "    </tr>\n",
       "  </tbody>\n",
       "</table>\n",
       "</div>"
      ],
      "text/plain": [
       "                 photo_id  Label_drink  Label_food  Label_inside  Label_menu  \\\n",
       "0  -0OYKR7JEpBzMZZlF18P2A            0           1             0           0   \n",
       "1  -0uvM40x1izx9-oe9qVJMg            0           1             0           0   \n",
       "2  -1LHZQjiA-8Cu-l52qkqwA            0           1             0           0   \n",
       "3  -1TBXMZQklXd8aSllEuO5w            0           1             0           0   \n",
       "4  -1cF5aaiTJp7nnTKIv96Iw            0           1             0           0   \n",
       "\n",
       "   Label_outside  \n",
       "0              0  \n",
       "1              0  \n",
       "2              0  \n",
       "3              0  \n",
       "4              0  "
      ]
     },
     "execution_count": 96,
     "metadata": {},
     "output_type": "execute_result"
    }
   ],
   "source": [
    "df_food.head()"
   ]
  },
  {
   "cell_type": "code",
   "execution_count": 98,
   "metadata": {
    "execution": {
     "iopub.execute_input": "2020-08-26T22:24:04.519186Z",
     "iopub.status.busy": "2020-08-26T22:24:04.518945Z",
     "iopub.status.idle": "2020-08-26T22:24:04.525031Z",
     "shell.execute_reply": "2020-08-26T22:24:04.523781Z",
     "shell.execute_reply.started": "2020-08-26T22:24:04.519159Z"
    }
   },
   "outputs": [
    {
     "data": {
      "text/plain": [
       "(86, 6)"
      ]
     },
     "execution_count": 98,
     "metadata": {},
     "output_type": "execute_result"
    }
   ],
   "source": [
    "df_inside = y[y['Label_inside']==1]\n",
    "df_inside.shape"
   ]
  },
  {
   "cell_type": "code",
   "execution_count": 99,
   "metadata": {
    "execution": {
     "iopub.execute_input": "2020-08-26T22:24:21.698263Z",
     "iopub.status.busy": "2020-08-26T22:24:21.698005Z",
     "iopub.status.idle": "2020-08-26T22:24:21.704611Z",
     "shell.execute_reply": "2020-08-26T22:24:21.703645Z",
     "shell.execute_reply.started": "2020-08-26T22:24:21.698232Z"
    }
   },
   "outputs": [
    {
     "data": {
      "text/plain": [
       "(1, 6)"
      ]
     },
     "execution_count": 99,
     "metadata": {},
     "output_type": "execute_result"
    }
   ],
   "source": [
    "df_menu = y[y['Label_menu']==1]\n",
    "df_menu.shape"
   ]
  },
  {
   "cell_type": "code",
   "execution_count": null,
   "metadata": {},
   "outputs": [],
   "source": [
    "df_outside = y[y['Label_inside']==1]\n",
    "df_inside.shape"
   ]
  }
 ],
 "metadata": {
  "kernelspec": {
   "display_name": "Python 3",
   "language": "python",
   "name": "python3"
  },
  "language_info": {
   "codemirror_mode": {
    "name": "ipython",
    "version": 3
   },
   "file_extension": ".py",
   "mimetype": "text/x-python",
   "name": "python",
   "nbconvert_exporter": "python",
   "pygments_lexer": "ipython3",
   "version": "3.8.5"
  }
 },
 "nbformat": 4,
 "nbformat_minor": 4
}
